{
  "cells": [
    {
      "cell_type": "code",
      "execution_count": 1,
      "metadata": {
        "colab": {
          "base_uri": "https://localhost:8080/"
        },
        "id": "VAWwfobK6B5N",
        "outputId": "8dac1a3a-682a-422c-9787-7cb6318bc103"
      },
      "outputs": [
        {
          "output_type": "stream",
          "name": "stdout",
          "text": [
            "Collecting mnist\n",
            "  Downloading mnist-0.2.2-py2.py3-none-any.whl (3.5 kB)\n",
            "Requirement already satisfied: numpy in /usr/local/lib/python3.7/dist-packages (from mnist) (1.19.5)\n",
            "Installing collected packages: mnist\n",
            "Successfully installed mnist-0.2.2\n"
          ]
        }
      ],
      "source": [
        "!pip install mnist"
      ]
    },
    {
      "cell_type": "code",
      "execution_count": 2,
      "metadata": {
        "id": "WTcGx0QQ55hK"
      },
      "outputs": [],
      "source": [
        "import numpy as np\n",
        "import pandas as pd\n",
        "from scipy.optimize import linprog \n",
        "from sklearn.metrics import accuracy_score\n",
        "import random\n",
        "import sys\n",
        "import matplotlib.pyplot as plt\n",
        "from scipy.io import loadmat\n",
        "from sklearn.model_selection import train_test_split\n",
        "from pprint import pprint\n",
        "from sklearn.svm import SVC\n",
        "import math\n",
        "from sklearn.preprocessing import StandardScaler\n",
        "import cvxpy as cp\n",
        "import sys\n",
        "from random import seed\n",
        "np.random.seed(1)\n",
        "seed(1)\n",
        "import time\n",
        "import numpy as np\n",
        "import scipy as sp\n",
        "import matplotlib.pyplot as plt\n",
        "from scipy.optimize import linprog\n",
        "from sklearn import svm\n",
        "import math\n",
        "import cvxopt\n",
        "import mnist\n",
        "from matplotlib import pyplot as plt\n",
        "\n",
        "import cv2\n",
        "import numpy as np\n",
        "from PIL import Image"
      ]
    },
    {
      "cell_type": "code",
      "source": [
        "import numpy as np\n",
        "import pandas as pd\n",
        "from scipy.optimize import linprog \n",
        "from sklearn.metrics import accuracy_score\n",
        "import random\n",
        "import sys\n",
        "import matplotlib.pyplot as plt\n",
        "from scipy.io import loadmat\n",
        "from sklearn.model_selection import train_test_split\n",
        "from pprint import pprint\n",
        "from sklearn.svm import SVC\n",
        "import math\n",
        "from sklearn.preprocessing import StandardScaler\n",
        "import cvxpy as cp\n",
        "import sys\n",
        "from random import seed\n",
        "np.random.seed(1)\n",
        "seed(1)\n",
        "import time\n",
        "import numpy as np\n",
        "import scipy as sp\n",
        "import matplotlib.pyplot as plt\n",
        "from scipy.optimize import linprog\n",
        "from sklearn import svm\n",
        "import math\n",
        "import cvxopt\n",
        "import mnist\n",
        "from matplotlib import pyplot as plt\n",
        "import cv2\n",
        "\n",
        "import torch\n",
        "import torch.nn as nn\n",
        "import torch.optim as optim\n",
        "from torch.optim import lr_scheduler\n",
        "import numpy as np\n",
        "import torchvision\n",
        "from torchvision import datasets, models, transforms\n",
        "import matplotlib.pyplot as plt\n",
        "import time\n",
        "import os\n",
        "import torch.nn.functional as F\n",
        "import copy\n",
        "from sklearn.utils import shuffle\n",
        "from torch.utils.data import random_split\n",
        "import pandas as pd\n",
        "from torch.utils.data import Dataset\n",
        "from torch.utils.data import DataLoader"
      ],
      "metadata": {
        "id": "8_hvL5kbmibX"
      },
      "execution_count": 3,
      "outputs": []
    },
    {
      "cell_type": "code",
      "source": [
        "import numpy as np\n",
        "import pandas as pd\n",
        "from scipy.optimize import linprog \n",
        "from sklearn.metrics import accuracy_score\n",
        "import random\n",
        "import sys\n",
        "import matplotlib.pyplot as plt\n",
        "from scipy.io import loadmat\n",
        "from sklearn.model_selection import train_test_split\n",
        "from pprint import pprint\n",
        "from sklearn.svm import SVC\n",
        "import math\n",
        "from sklearn.preprocessing import StandardScaler\n",
        "import cvxpy as cp\n",
        "import sys\n",
        "from random import seed\n",
        "np.random.seed(1)\n",
        "seed(1)\n",
        "import time\n",
        "import numpy as np\n",
        "import scipy as sp\n",
        "import matplotlib.pyplot as plt\n",
        "from scipy.optimize import linprog\n",
        "from sklearn import svm\n",
        "import math\n",
        "import cvxopt\n",
        "import mnist\n",
        "from matplotlib import pyplot as plt\n",
        "#import tensorly as tl\n",
        "#import tensorly.decomposition as decomp\n",
        "import cv2\n",
        "\n",
        "import torch\n",
        "import torch.nn as nn\n",
        "import torch.optim as optim\n",
        "from torch.optim import lr_scheduler\n",
        "import numpy as np\n",
        "import torchvision\n",
        "from torchvision import datasets, models, transforms\n",
        "import matplotlib.pyplot as plt\n",
        "import time\n",
        "import os\n",
        "import torch.nn.functional as F\n",
        "import copy\n",
        "from sklearn.utils import shuffle\n",
        "from torch.utils.data import random_split\n",
        "import pandas as pd\n",
        "from torch.utils.data import Dataset\n",
        "from torch.utils.data import DataLoader\n",
        "from keras import models"
      ],
      "metadata": {
        "id": "WksV5MiLRySf"
      },
      "execution_count": 4,
      "outputs": []
    },
    {
      "cell_type": "code",
      "execution_count": 240,
      "metadata": {
        "id": "AifyiYln5663"
      },
      "outputs": [],
      "source": [
        "def centroid(points):\n",
        "    c = np.zeros(points.shape[1:])\n",
        "    for i in range(points.shape[0]):\n",
        "        c = c + points[i]\n",
        "    return c/points.shape[0]\n",
        "\n",
        "\n",
        "def visualise(w,shape):\n",
        "    \n",
        "    wsq=w.copy()\n",
        "    wsq = scaler.inverse_transform(np.reshape(wsq,(1,128)))\n",
        "    wsq = np.reshape(wsq,(1,4,4,8,))\n",
        "    wsq = decoder.predict(wsq)\n",
        "    wsq=np.reshape(wsq,(28,28))\n",
        "    #print(wsq)\n",
        "    plt.imshow(wsq, interpolation='nearest',cmap='gray')\n",
        "    plt.show()\n",
        "\n",
        "\n",
        "def visualise_pos(w,shape):\n",
        "    return \n",
        "    wsq=w.copy()\n",
        "    wsq=np.maximum(wsq, 0)\n",
        "    wsq = (wsq - np.min(wsq)) / (np.max(wsq) - np.min(wsq))\n",
        "    wsq=np.reshape(wsq,shape)\n",
        "    plt.imshow(wsq, interpolation='nearest',cmap='gray')\n",
        "    plt.show()\n",
        "\n",
        "def visualise_neg(w,shape):\n",
        "    return\n",
        "    wsq=w.copy()\n",
        "    wsq=np.minimum(wsq, 0)\n",
        "    wsq = (wsq - np.min(wsq)) / (np.max(wsq) - np.min(wsq))\n",
        "    wsq=np.reshape(wsq,shape)\n",
        "    plt.imshow(wsq, interpolation='nearest',cmap='gray')\n",
        "    plt.show()\n",
        "    \n",
        "\n",
        "def redoer(image, shape = (20,20), interpolation = cv2.INTER_CUBIC):\n",
        "    assert(len(shape)==2)\n",
        "    new_shape = (shape[1],shape[0])\n",
        "    shape=new_shape\n",
        "    reimage = cv2.resize(image, shape, interpolation=interpolation)\n",
        "    if len(reimage.shape)==3:\n",
        "        reimage = reimage.reshape((reimage.shape[0],reimage.shape[1]*reimage.shape[2]))\n",
        "    return reimage"
      ]
    },
    {
      "cell_type": "code",
      "source": [
        "a=np.zeros((1,4,4,8))"
      ],
      "metadata": {
        "id": "IuTXOXRDgdCq"
      },
      "execution_count": 82,
      "outputs": []
    },
    {
      "cell_type": "code",
      "source": [
        "print(np.reshape(decoder.predict(a),(28,28)).shape)"
      ],
      "metadata": {
        "colab": {
          "base_uri": "https://localhost:8080/"
        },
        "id": "LsTGdK1FgfQr",
        "outputId": "63abdd45-4d7e-485e-c157-4186c3ef61e3"
      },
      "execution_count": 85,
      "outputs": [
        {
          "output_type": "stream",
          "name": "stdout",
          "text": [
            "(28, 28)\n"
          ]
        }
      ]
    },
    {
      "cell_type": "code",
      "execution_count": 6,
      "metadata": {
        "id": "T1JtRfPm6H_U"
      },
      "outputs": [],
      "source": [
        "def predict(X, w, b):\n",
        "  return np.sign(inner_prod(w, X)+b).reshape(-1,1)\n",
        "def accuracy(a,b):\n",
        "  n=0\n",
        "  for i in range(len(a)):\n",
        "    if(a[i]==b[i]):\n",
        "      n=n+1\n",
        "  return n/len(a)\n",
        "def getHyperPlaneFromTwoPoints(x1, x2):\n",
        "  assert(x1.shape[0]==x2.shape[0])\n",
        "  d = x1.shape[0]\n",
        "  w = (2) * (x2 - x1) / (np.linalg.norm(x1 - x2) ** 2)\n",
        "  #b = - np.dot(w , (0.5 * (x1 + x2)))\n",
        "  b = -1 * inner_prod(w,(0.5 * (x1 + x2)))  \n",
        "  return -w, -b"
      ]
    },
    {
      "cell_type": "code",
      "source": [
        "import numpy as np\n",
        "import tensorly as tl\n",
        "from tensorly.decomposition import parafac\n",
        "from random import seed\n",
        "np.random.seed(1)\n",
        "seed(1)\n",
        "\n",
        "def rank_R_decomp(X, rank = 3):\n",
        "    X_t = tl.tensor(X)\n",
        "    _, factors = parafac(X_t, int(rank))\n",
        "    fact_np = [tl.to_numpy(f) for f in factors]\n",
        "    return fact_np\n",
        "\n",
        "\n",
        "def inner_prod_decomp(Ai, Aj):\n",
        "    s = 0.0\n",
        "    R = Ai[0].shape[1]\n",
        "    for p in range(R):\n",
        "        for q in range(R):\n",
        "            prod = 1.0\n",
        "            for ai, aj in zip(Ai, Aj):  \n",
        "                prod *= np.dot(ai[:, p], aj[:, q])\n",
        "            s += prod\n",
        "    return s\n",
        "\n",
        "def make_kernel(data_decomp):\n",
        "    K = np.zeros((len(data_decomp), len(data_decomp)))\n",
        "    for i in range(len(data_decomp)):\n",
        "        for j in range(i+1):\n",
        "            K[i, j] = inner_prod_decomp(data_decomp[i], data_decomp[j])\n",
        "            K[j, i] = K[i, j]\n",
        "    return K\n",
        "\n",
        "def construct_W_from_mat(data_decomp, l, eps=1e-100):\n",
        "    R = data_decomp[0][1].shape[1]\n",
        "    W = tl.zeros([data_decomp[0][i].shape[0] for i in range(len(data_decomp[0]))])\n",
        "    for i, flag in enumerate((np.abs(l) > eps)):\n",
        "        if flag:\n",
        "            W += l[i]*tl.cp_to_tensor((np.ones(R), data_decomp[i]))\n",
        "    return tl.to_numpy(W)"
      ],
      "metadata": {
        "id": "U7Q0ow5HHHtU"
      },
      "execution_count": 513,
      "outputs": []
    },
    {
      "cell_type": "code",
      "source": [
        "import numpy as np\n",
        "import cvxpy as cp\n",
        "from random import seed\n",
        "np.random.seed(1)\n",
        "seed(1)\n",
        "\n",
        "def construct_W_from_vec(W, shape):\n",
        "    W = W.reshape(shape)\n",
        "    return W\n",
        "    \n",
        "\n",
        "def inner_prod(A, B):\n",
        "    if A.shape == B.shape:\n",
        "        return np.sum(A*B)\n",
        "    if A.shape == B.shape[1:]:\n",
        "        ans = []\n",
        "        for b in B:\n",
        "            ans.append(np.sum(A*b))\n",
        "        return ans\n",
        "    \n",
        "def inner_prod_cp(A, B):\n",
        "    if A.shape == B.shape:\n",
        "        return cp.sum(cp.multiply(A,B))\n",
        "    if A.shape == B.shape[1:]:\n",
        "        ans = []\n",
        "        for b in B:\n",
        "            ans.append(cp.sum(cp.multiply(A,B)))\n",
        "        return ans"
      ],
      "metadata": {
        "id": "cKkrfpIRHQKJ"
      },
      "execution_count": 514,
      "outputs": []
    },
    {
      "cell_type": "code",
      "source": [
        "!pip install tensorly"
      ],
      "metadata": {
        "colab": {
          "base_uri": "https://localhost:8080/"
        },
        "id": "-8-rSudPHK0e",
        "outputId": "e11a5a80-8e78-4328-f427-fdb1400cae43"
      },
      "execution_count": 512,
      "outputs": [
        {
          "output_type": "stream",
          "name": "stdout",
          "text": [
            "Collecting tensorly\n",
            "  Downloading tensorly-0.7.0-py3-none-any.whl (198 kB)\n",
            "\u001b[K     |████████████████████████████████| 198 kB 5.7 MB/s \n",
            "\u001b[?25hCollecting nose\n",
            "  Downloading nose-1.3.7-py3-none-any.whl (154 kB)\n",
            "\u001b[K     |████████████████████████████████| 154 kB 27.4 MB/s \n",
            "\u001b[?25hRequirement already satisfied: scipy in /usr/local/lib/python3.7/dist-packages (from tensorly) (1.4.1)\n",
            "Requirement already satisfied: numpy in /usr/local/lib/python3.7/dist-packages (from tensorly) (1.19.5)\n",
            "Installing collected packages: nose, tensorly\n",
            "Successfully installed nose-1.3.7 tensorly-0.7.0\n"
          ]
        }
      ]
    },
    {
      "cell_type": "code",
      "execution_count": 516,
      "metadata": {
        "id": "JCCfPOtt6JU6"
      },
      "outputs": [],
      "source": [
        "def inner_mat(A, B, M = None):\n",
        "    assert(A.shape==B.shape)\n",
        "    M = A.shape[0] if M is None else M\n",
        "    M = min(M, A.shape[0])\n",
        "    mat = np.ones((M,M))\n",
        "    for i in range(M):\n",
        "        for j in range(M):\n",
        "            xi = A[i]\n",
        "            xj = B[j]\n",
        "            mat[i,j] = np.sum(xi*xj)\n",
        "    return mat\n",
        "def inner_prod_cp(w,x):\n",
        "    return cp.sum(cp.multiply(w,x))\n",
        "def inner_prod(A, B):\n",
        "    if A.shape == B.shape:\n",
        "        return np.sum(A*B)\n",
        "    if A.shape == B.shape[1:]:\n",
        "        ans = []\n",
        "        for b in B:\n",
        "            ans.append(np.sum(A*b))\n",
        "        return ans\n",
        "def solver(X, y, C = 1, method='MCM_STM', r = None, flag = True, xa = None, xb = None, methodw = 'L2', methodq = 'L1'):\n",
        "    method = 'MCM_STM'\n",
        "    y = y.reshape(-1,1)\n",
        "    assert(X.shape[0]==y.shape[0])\n",
        "    if flag==False or len(X.shape)==2:\n",
        "        if method == 'STM' or method == 'SHTM' or method == 'MCM_STM':\n",
        "            w = np.ones(X.shape[1:])\n",
        "            b = np.ones(y.shape[1:])\n",
        "            M = X.shape[0]\n",
        "            if method == 'STM':\n",
        "                H = np.dot(y,y.T)*inner_mat(X,X)*1.0\n",
        "            elif method == 'SHTM':\n",
        "                r = r if r is not None else 1\n",
        "                H = np.dot(y,y.T)*inner_mat(X, X, r, method='SHTM')*1.0\n",
        "            P_ = cvxopt.matrix(H)\n",
        "            q_ = cvxopt.matrix(-np.ones((M,1)))\n",
        "            G_ = cvxopt.matrix(np.vstack((np.eye(M)*-1,np.eye(M))))\n",
        "            h_ = cvxopt.matrix(np.hstack((np.zeros(M), np.ones(M)*C)))\n",
        "            A_ = cvxopt.matrix(y.reshape(1,-1).astype('float'))\n",
        "            b_ = cvxopt.matrix(np.zeros(1)) \n",
        "            sol = cvxopt.solvers.qp(P_, q_, G_, h_, A_, b_, options={'show_progress': False})\n",
        "            alphas = np.array(sol['x'])\n",
        "            w = np.tensordot((y*alphas).T, X, axes = ((1),(0))).reshape(X.shape[1:]) \n",
        "            b = -0.5*(max(inner_prod(w, X[(y==-1).reshape(-1)])) + min(inner_prod(w, X[(y==1).reshape(-1)])))\n",
        "            return w, b\n",
        "    else:\n",
        "        #only works for greyscale right now\n",
        "        xa = xa if xa is not None else np.zeros(X.shape[0])\n",
        "        xb = xb if xb is not None else np.zeros(X.shape[0])\n",
        "        assert(xa is not None)\n",
        "        assert(xb is not None)\n",
        "        assert(len(X.shape)<=3)\n",
        "        if len(X.shape)==3:\n",
        "            if method == 'MCM_STM':\n",
        "                w = cp.Variable(X.shape[1:])\n",
        "                b = cp.Variable((1,1))\n",
        "                wa = cp.Variable((1,1))\n",
        "                wb = cp.Variable((1,1))\n",
        "                qi = cp.Variable(y.shape)\n",
        "                h = cp.Variable((1,1))\n",
        "                if methodq == 'L1':\n",
        "                    term2 = cp.sum(qi)*C\n",
        "                elif methodq == 'L0':\n",
        "                    term2 = 0\n",
        "                    for i in range(y.shape[0]):\n",
        "                        term2 += cp.maximum(0,cp.sign(qi[i]))*C\n",
        "                objfun = cp.Minimize(h + term2)\n",
        "                constraints = []\n",
        "                maxes = np.max(X, axis=0)\n",
        "                mines = np.min(X, axis= 0)\n",
        "                #for i in range(X.shape[1]):\n",
        "                    #for j in range(X.shape[2]):\n",
        "                        #mines[i][j] = -1 * maxes[i][j]\n",
        "                #print(mines)\n",
        "                for i in range(X.shape[1]):\n",
        "                    for j in range(X.shape[2]):\n",
        "                        constraints+=[w[i][j]<=maxes[i][j], mines[i][j]<=w[i][j]]\n",
        "                for i in range(X.shape[0]):\n",
        "                    constraints+=[cp.multiply(y[i],(inner_prod_cp(w,X[i]) + b + cp.multiply(wa,xa[i]) + cp.multiply(wb,xb[i])))+qi[i] >= 1.0, \\\n",
        "                        cp.multiply(y[i],(inner_prod_cp(w,X[i]) + b + cp.multiply(wa,xa[i]) + cp.multiply(wb,xb[i])))+qi[i] <= h, qi[i]>=0]\n",
        "                problem = cp.Problem(objfun,constraints)\n",
        "                problem.solve(verbose=False)\n",
        "                #print(w.value)\n",
        "                return w.value, b.value, wa.value, wb.value\n",
        "                #MCTM(X, y, C = C, rank = 3, xa = xa, xb = xb, constrain = 'lax', wnorm = 'L1')\n",
        "            if method == 'STM' or method == 'SHTM':\n",
        "                w = cp.Variable(X.shape[1:])\n",
        "                b = cp.Variable((1,1))\n",
        "                wa = cp.Variable((1,1))\n",
        "                wb = cp.Variable((1,1))\n",
        "                qi = cp.Variable(y.shape)\n",
        "                if methodq == 'L1':\n",
        "                    term2 = cp.sum(qi)*C\n",
        "                elif methodq == 'L0':\n",
        "                    term2 = 0\n",
        "                    for i in range(y.shape[0]):\n",
        "                        term2 += cp.maximum(0,cp.sign(qi[i]))*C\n",
        "                if methodw == 'L2':\n",
        "                    term1 = 1/2*cp.norm2(w)\n",
        "                    term3 = 1/2*(cp.square(wa)+cp.square(wb))\n",
        "                elif methodw == 'L1':\n",
        "                    term1 = cp.norm1(w)\n",
        "                    term3 = cp.abs(wa)+cp.abs(wb)\n",
        "                elif methodw == 'L0':\n",
        "                    term1 = 0\n",
        "                    for i in range(X.shape[1]):\n",
        "                        for j in range(X.shape[2]):\n",
        "                            term1 += cp.maximum(0,cp.sign(w[i][j]))\n",
        "                    term3 = cp.maximum(0,cp.sign(wa))+cp.maximum(0,cp.sign(wb))\n",
        "                objfun = cp.Minimize(term1+term2+term3)\n",
        "                constraints = []\n",
        "                #constraints = y*(inner_prod_cp(w,X) + b + wa*xa + wb*xb) + qi >= 1\n",
        "                #constraints += qi>=0\n",
        "                maxes = np.max(X, axis=0)\n",
        "                mines = np.min(X, axis= 0)\n",
        "                #for i in range(X.shape[1]):\n",
        "                    #for j in range(X.shape[2]):\n",
        "                        #mines[i][j] = 0\n",
        "                for i in range(X.shape[1]):\n",
        "                    for j in range(X.shape[2]):\n",
        "                        constraints+=[w[i][j]<=maxes[i][j], mines[i][j]<=w[i][j]]\n",
        "                for i in range(X.shape[0]):\n",
        "                    constraints+=[cp.multiply(y[i],(inner_prod_cp(w,X[i]) + b + cp.multiply(wa,xa[i]) + cp.multiply(wb,xb[i])))+qi[i]>=1, qi[i]>=0]\n",
        "                problem = cp.Problem(objfun,constraints)\n",
        "                problem.solve()\n",
        "                return w.value, b.value, wa.value, wb.value\n",
        "            if method == 'neural':\n",
        "                y_train = (y+1)/2\n",
        "                model = Sequential()\n",
        "                model.add(Dense(1, activation='tanh', kernel_initializer='he_uniform',input_shape = (784,)))\n",
        "                opt = keras.optimizers.Adam(learning_rate=0.01)\n",
        "                model.compile(optimizer=opt, loss=tf.keras.losses.binary_crossentropy, metrics=['accuracy'])\n",
        "                model.fit(X, to_categorical(y), epochs=30, validation_split=0.1, batch_size=128)\n",
        "                \n",
        "                w = cp.Variable(X.shape[1:])\n",
        "                b = cp.Variable((1,1))\n",
        "                wa = cp.Variable((1,1))\n",
        "                wb = cp.Variable((1,1))\n",
        "                qi = cp.Variable(y.shape)\n",
        "                if methodq == 'L1':\n",
        "                    term2 = cp.sum(qi)*C\n",
        "                elif methodq == 'L0':\n",
        "                    term2 = 0\n",
        "                    for i in range(y.shape[0]):\n",
        "                        term2 += cp.maximum(0,cp.sign(qi[i]))*C\n",
        "                if methodw == 'L2':\n",
        "                    term1 = 1/2*cp.norm2(w)\n",
        "                    term3 = 1/2*(cp.square(wa)+cp.square(wb))\n",
        "                elif methodw == 'L1':\n",
        "                    term1 = cp.norm1(w)\n",
        "                    term3 = cp.abs(wa)+cp.abs(wb)\n",
        "                elif methodw == 'L0':\n",
        "                    term1 = 0\n",
        "                    for i in range(X.shape[1]):\n",
        "                        for j in range(X.shape[2]):\n",
        "                            term1 += cp.maximum(0,cp.sign(w[i][j]))\n",
        "                    term3 = cp.maximum(0,cp.sign(wa))+cp.maximum(0,cp.sign(wb))\n",
        "                objfun = cp.Minimize(term1+term2+term3)\n",
        "                constraints = []\n",
        "                #constraints = y*(inner_prod_cp(w,X) + b + wa*xa + wb*xb) + qi >= 1\n",
        "                #constraints += qi>=0\n",
        "                maxes = np.max(X, axis=0)\n",
        "                mines = np.min(X, axis= 0)\n",
        "                #for i in range(X.shape[1]):\n",
        "                    #for j in range(X.shape[2]):\n",
        "                        #mines[i][j] = 0\n",
        "                for i in range(X.shape[1]):\n",
        "                    for j in range(X.shape[2]):\n",
        "                        constraints+=[w[i][j]<=maxes[i][j], mines[i][j]<=w[i][j]]\n",
        "                for i in range(X.shape[0]):\n",
        "                    constraints+=[cp.multiply(y[i],(inner_prod_cp(w,X[i]) + b + cp.multiply(wa,xa[i]) + cp.multiply(wb,xb[i])))+qi[i]>=1, qi[i]>=0]\n",
        "                problem = cp.Problem(objfun,constraints)\n",
        "                problem.solve()\n",
        "                return w.value, b.value, wa.value, wb.value\n",
        "\n",
        "def MCTM(X, y, C = 1.0, rank = 3, xa = None, xb = None, constrain = 'lax', wnorm = 'L1'):\n",
        "    '''\n",
        "    If solver doesn't work, then hyperparameters chosen are faulty.\n",
        "    '''\n",
        "    M = len(X)\n",
        "    \n",
        "    wconst = 'minmax'\n",
        "    xa = xa if xa is not None else np.zeros(M)\n",
        "    xb = xb if xb is not None else np.zeros(M)\n",
        "    rank = 3 if rank is None else rank\n",
        "    constrain = M if constrain == 'lax' else 1\n",
        "    constrain =1\n",
        "    data_fact = [rank_R_decomp(x, rank) for x in X]\n",
        "    K = make_kernel(data_fact)\n",
        "\n",
        "    h = cp.Variable()\n",
        "    b = cp.Variable()\n",
        "    q = cp.Variable(M)\n",
        "    l = cp.Variable(M)\n",
        "    wa = cp.Variable()\n",
        "    wb = cp.Variable()\n",
        "\n",
        "    obj = h + C*cp.sum(q)/M\n",
        "\n",
        "    constraints = []\n",
        "    for i in range(M):\n",
        "        constraints.append(h >= y[i]*(cp.sum(cp.multiply(l,K[:, i])) + b + cp.multiply(wa,xa[i]) + cp.multiply(wb,xb[i])) + q[i])\n",
        "        constraints.append(y[i]*(cp.sum(cp.multiply(l,K[:, i])) + b + cp.multiply(wa,xa[i]) + cp.multiply(wb,xb[i])) + q[i] >= 1)\n",
        "    constraints.append(q >= 0)\n",
        "    if wconst == 'maxmax':\n",
        "        constraints.append(l >= -1/M*constrain)\n",
        "        constraints.append(l <= 1/M*constrain)\n",
        "    elif wconst == 'minmax':\n",
        "        constraints.append(l >= 0)\n",
        "        constraints.append(l <= 1/M*constrain)\n",
        "\n",
        "    prob = cp.Problem(cp.Minimize(obj), constraints)\n",
        "    prob.solve()\n",
        "    W = construct_W_from_mat(data_fact, l.value, 1e-9)\n",
        "    if verbose_solver:\n",
        "        tots = q.value\n",
        "        tots[tots<1e-9] = 0\n",
        "        print(f\"MCTM done, q = {np.sum(np.sign(tots))}\")\n",
        "    return W, b.value, wa.value, wb.value\n",
        "\n",
        "            \n"
      ]
    },
    {
      "cell_type": "code",
      "execution_count": 500,
      "metadata": {
        "id": "POrftBPQ6KQJ"
      },
      "outputs": [],
      "source": [
        "class Node:\n",
        "  def __init__(self,inp_dimensions):\n",
        "    self.weight = np.zeros(inp_dimensions)\n",
        "    self.bias = 0\n",
        "    self.A = None\n",
        "    self.B = None\n",
        "    self.wA = 0\n",
        "    self.wB = 0\n",
        "    self.dim = inp_dimensions\n",
        "    self.C1=[]\n",
        "    self.C2=[]\n",
        "    self.C3=[]\n",
        "    self.C4=[]\n",
        "    self.labels = []\n",
        "    self.X = []\n",
        "    self.height = 0\n",
        "  def insert(self,neuron_type, weight=0, bias=0, w=0):     \n",
        "    if neuron_type == 'A':\n",
        "      self.A = Node(self.dim)\n",
        "      self.A.weight = weight\n",
        "      self.A.bias = bias\n",
        "      self.A.height = self.height+1\n",
        "      return self.A\n",
        "    else:\n",
        "      self.B = Node(self.dim)\n",
        "      self.B.weight = weight\n",
        "      self.B.bias = bias\n",
        "      self.B.height = self.height+1\n",
        "      return self.B\n",
        "  def update_weights_and_bias(self,weight, bias, wA = 0, wB = 0):  \n",
        "    self.weight = weight\n",
        "    self.bias = bias\n",
        "    self.wA = wA\n",
        "    self.wB = wB\n",
        "  def update_classes(self,ypred,ytrue):\n",
        "    ypred=ypred.copy()\n",
        "    ypred=np.reshape(ypred,(ypred.shape[0],1))    \n",
        "    yf  = np.add(2*ypred, ytrue)\n",
        "    self.C1 = np.argwhere(yf>2)[:,0] #1,1              #In order: predicted, true\n",
        "    self.C2 = np.argwhere(yf<-2)[:,0] #-1,-1\n",
        "    self.C3 = np.where((yf<2) & (yf>0))[0]   #1,-1\n",
        "    self.C4 = np.where((yf<0) & (yf>-2))[0] #-1,1\n",
        "  def forward(self, X): \n",
        "    \n",
        "    y=[]\n",
        "    X=X.copy()\n",
        "    w = self.weight \n",
        "    b = self.bias\n",
        "    wA = np.asarray([self.wA]).copy()\n",
        "    wB=np.asarray([self.wB]).copy()\n",
        "\n",
        "    if(self==None):\n",
        "      return [] \n",
        "    if(self.A==None and self.B==None):\n",
        "\n",
        "      y = np.sign(np.array(inner_prod(w, X))+np.array(b)).reshape(-1,1)\n",
        "    if(self.A==None):\n",
        "      xA = np.zeros((X.shape[0],1))\n",
        "    else:\n",
        "      xA = self.A.forward(X)\n",
        "      xA=np.reshape(xA,(xA.shape[0],1))\n",
        "    if(self.B==None):\n",
        "      xB = np.zeros((X.shape[0],1)) \n",
        "    else:\n",
        "      xB = self.B.forward(X)\n",
        "      xB=np.reshape(xB,(xB.shape[0],1))\n",
        "    if(self.A!=None and self.B!=None):\n",
        "\n",
        "      wA = np.asarray([np.asscalar(wA)])\n",
        "      wB = np.asarray([np.asscalar(wB)])\n",
        "\n",
        "      y = np.sign(np.asarray(inner_prod(w, X))+np.asarray(inner_prod(wA, xA))+np.asarray(inner_prod(wB, xB))+np.asarray(b)).reshape(-1,1)\n",
        "    if(self.A!=None and self.B==None):\n",
        "\n",
        "      wA = np.asarray([np.asscalar(wA)])\n",
        "      y = np.sign(np.asarray(inner_prod(w, X))+np.asarray(inner_prod(wA, xA))+np.asarray(b)).reshape(-1,1)\n",
        "    if(self.A==None and self.B!=None):\n",
        "\n",
        "      wB = np.asarray([np.asscalar(wB)])\n",
        "      y = np.sign(np.asarray(inner_prod(w, X))+np.asarray(inner_prod(wB, xB))+np.asarray(b)).reshape(-1,1)\n",
        "\n",
        "    return y\n",
        "    \n",
        "  def fine_tune_weights(self,C, methodw, methodq):\n",
        "    l=self.labels.copy()\n",
        "    X = self.X.copy()\n",
        "    xA = np.zeros((X.shape[0],1))\n",
        "    xB = np.zeros((X.shape[0],1))\n",
        "    if(self==None):\n",
        "      return   \n",
        "    if(self.A!=None):\n",
        "      self.A.fine_tune_weights(C, methodw=methodw, methodq=methodq)  \n",
        "      xA = self.A.forward(X)\n",
        "      xA=np.reshape(xA,(xA.shape[0],1))\n",
        "\n",
        "    if(self.B!=None):\n",
        "      self.B.fine_tune_weights(C, methodw=methodw, methodq=methodq) \n",
        "      xB = self.B.forward(X)\n",
        "      xB=np.reshape(xB,(xB.shape[0],1))\n",
        "    weight, bias, wA, wB = solver(X,l,C,'STM',None,True,xA,xB, methodw=methodw, methodq=methodq)\n",
        "    print(self.height)\n",
        "    #print(weight)\n",
        "    visualise(weight,(X.shape[1],X.shape[2]))\n",
        "    #visualise_pos(weight,(X.shape[1],X.shape[2]))\n",
        "    #visualise_neg(weight,(X.shape[1],X.shape[2]))##THis is hard coded assuming Grayscale Images\n",
        "\n",
        "    self.update_weights_and_bias(weight, bias,wA,wB)\n",
        "\n",
        "\n",
        "  def recursive(self, X,labels, h,C, methodw, methodq):\n",
        "    \n",
        "    self.X = X\n",
        "    self.labels = labels\n",
        "    labels=labels.copy()\n",
        "    count_pos = np.count_nonzero(labels == 1)\n",
        "    count_neg = np.count_nonzero(labels == -1)\n",
        "    print(\"Imbalance at height \"+str(self.height))\n",
        "    print(count_pos)\n",
        "    print(count_neg)\n",
        "    X=X.copy()\n",
        "    weight, bias, _, _1_ = solver(X,labels,C, methodw=methodw, methodq=methodq)\n",
        "    self.update_weights_and_bias(weight, bias)\n",
        "    ypred=self.forward(X)\n",
        "    self.update_classes(ypred,labels)\n",
        "    C1=self.C1\n",
        "    C2=self.C2\n",
        "    C3=self.C3\n",
        "    C4=self.C4\n",
        "    if(len(C3)==0 and len(C4)==0):\n",
        "      return\n",
        "    if(self.height>h-1):\n",
        "      return\n",
        "    if(len(C1)==0 or len(C2)==0):\n",
        "      if(len(C1)!=0):\n",
        "        X_positive=np.take(X,np.hstack((C1,C4)),axis=0) \n",
        "        X_negative=np.take(X,np.hstack((C3)),axis=0)\n",
        "        #x1=X[C1[0]]\n",
        "        #x2=X[C3[0]]\n",
        "      elif(len(C2)!=0):\n",
        "        X_positive=np.take(X,np.hstack((C4)),axis=0)  \n",
        "        X_negative=np.take(X,np.hstack((C2,C3)),axis=0)\n",
        "        #x1=X[C2[0]]\n",
        "        #x2=X[C4[0]]\n",
        "      else:\n",
        "        #x1=X[C3[0]]\n",
        "        #x2=X[C4[0]]\n",
        "        X_positive=np.take(X,np.hstack((C4)),axis=0)  \n",
        "        X_negative=np.take(X,np.hstack((C3)),axis=0)\n",
        "      x1 = centroid(X_positive)\n",
        "      x2 = centroid(X_negative)\n",
        "      weight, bias = getHyperPlaneFromTwoPoints(x1, x2)\n",
        "      self.update_weights_and_bias(weight, bias)\n",
        "      ypred = self.forward(X)\n",
        "      self.update_classes(ypred,labels)\n",
        "      C1=self.C1\n",
        "      C2=self.C2\n",
        "      C3=self.C3\n",
        "      C4=self.C4\n",
        "    print(\"lengths\")\n",
        "    print(len(C1))\n",
        "    print(len(C2))\n",
        "\n",
        "    if(len(C3)!=0):\n",
        "      X_new=np.take(X,np.hstack((C1,C3,C4)),axis=0)\n",
        "      labels[C1]=-1\n",
        "      labels[C3]=1\n",
        "      labels[C4]=-1\n",
        "      y_new=np.take(labels,np.hstack((C1,C3,C4)),axis=0)\n",
        "      print(y_new.shape)\n",
        "      NodeA = self.insert('A')\n",
        "      NodeA.recursive(X_new,y_new,h,C, methodw=methodw, methodq=methodq)\n",
        "    if(len(C4)!=0):\n",
        "      X_new=np.take(X,np.hstack((C2,C3,C4)),axis=0)\n",
        "      labels[C2]=-1\n",
        "      labels[C3]=-1\n",
        "      labels[C4]=1\n",
        "      y_new=np.take(labels,np.hstack((C2,C3,C4)),axis=0)\n",
        "      NodeB = self.insert('B')\n",
        "      NodeB.recursive(X_new,y_new,h,C, methodw=methodw, methodq=methodq)\n"
      ]
    },
    {
      "cell_type": "code",
      "execution_count": 501,
      "metadata": {
        "id": "ML8ln7mQ6Lm3"
      },
      "outputs": [],
      "source": [
        "def train(X,y,height = 1000,C=1000000, methodw = 'L2', methodq = 'L1'):\n",
        "  print(\"Start\")\n",
        "  Tree = Node(X.shape[1:])\n",
        "\n",
        "  Tree.recursive(X,y,height,C, methodw=methodw, methodq=methodq)\n",
        "  print(\"Recursion Done\")\n",
        "\n",
        "  Tree.fine_tune_weights(C, methodw=methodw, methodq=methodq)\n",
        "  print(\"End\")\n",
        "\n",
        "  ypred=Tree.forward(X)\n",
        "  print(\"Train accuracy:\")\n",
        "  print(accuracy(y,ypred))\n",
        "  return Tree"
      ]
    },
    {
      "cell_type": "code",
      "source": [
        "from keras.datasets import mnist\n",
        "\n",
        "(x_train, y_train), (x_test, _) = mnist.load_data()\n",
        "\n",
        "x_train = x_train.astype('float32') / 255.\n",
        "x_test = x_test.astype('float32') / 255.\n",
        "x_train = np.reshape(x_train, (len(x_train), 28, 28, 1))\n",
        "x_test = np.reshape(x_test, (len(x_test), 28, 28, 1))\n"
      ],
      "metadata": {
        "id": "e5HakfFqQJX1"
      },
      "execution_count": 502,
      "outputs": []
    },
    {
      "cell_type": "code",
      "source": [
        "import numpy as np\n",
        "import tensorflow as tf\n",
        "import matplotlib.pyplot as plt\n",
        "import keras\n",
        "from tensorflow.keras import layers\n",
        "from tensorflow.keras.datasets import mnist\n",
        "from tensorflow.keras.models import Model\n",
        "from keras import models"
      ],
      "metadata": {
        "id": "OnF1RhYkSSuX"
      },
      "execution_count": 11,
      "outputs": []
    },
    {
      "cell_type": "code",
      "source": [
        "input_img = keras.Input(shape=(28, 28, 1))\n",
        "input_enc = keras.Input(shape=(4, 4, 8))\n",
        "\n",
        "x = layers.Conv2D(16, (3, 3), activation='relu', padding='same')(input_img)\n",
        "x = layers.MaxPooling2D((2, 2), padding='same')(x)\n",
        "x = layers.Conv2D(8, (3, 3), activation='relu', padding='same')(x)\n",
        "x = layers.MaxPooling2D((2, 2), padding='same')(x)\n",
        "x = layers.Conv2D(8, (3, 3), activation='relu', padding='same')(x)\n",
        "encoded = layers.MaxPooling2D((2, 2), padding='same')(x)\n",
        "\n",
        "encoder = keras.Model(input_img, encoded)\n",
        "# at this point the representation is (4, 4, 8) i.e. 128-dimensional\n",
        "\n",
        "x = layers.Conv2D(8, (3, 3), activation='relu', padding='same')(input_enc)\n",
        "x = layers.UpSampling2D((2, 2))(x)\n",
        "x = layers.Conv2D(8, (3, 3), activation='relu', padding='same')(x)\n",
        "x = layers.UpSampling2D((2, 2))(x)\n",
        "x = layers.Conv2D(16, (3, 3), activation='relu')(x)\n",
        "x = layers.UpSampling2D((2, 2))(x)\n",
        "decoded = layers.Conv2D(1, (3, 3), activation='sigmoid', padding='same')(x)\n",
        "decoder = keras.Model(input_enc, decoded)\n",
        "\n",
        "enc = encoder(input_img)\n",
        "dec = decoder(enc)\n",
        "\n",
        "\n",
        "autoencoder = keras.Model(input_img, dec)\n",
        "autoencoder.compile(optimizer='adam', loss='binary_crossentropy')"
      ],
      "metadata": {
        "id": "QDzKXOUBQ12-"
      },
      "execution_count": 12,
      "outputs": []
    },
    {
      "cell_type": "code",
      "source": [
        "autoencoder.summary()"
      ],
      "metadata": {
        "colab": {
          "base_uri": "https://localhost:8080/"
        },
        "id": "GOvDC4xsQ6WU",
        "outputId": "954dcdba-7de2-48dc-bba2-9a3e5da97d6d"
      },
      "execution_count": 13,
      "outputs": [
        {
          "output_type": "stream",
          "name": "stdout",
          "text": [
            "Model: \"model_2\"\n",
            "_________________________________________________________________\n",
            " Layer (type)                Output Shape              Param #   \n",
            "=================================================================\n",
            " input_1 (InputLayer)        [(None, 28, 28, 1)]       0         \n",
            "                                                                 \n",
            " model (Functional)          (None, 4, 4, 8)           1904      \n",
            "                                                                 \n",
            " model_1 (Functional)        (None, 28, 28, 1)         2481      \n",
            "                                                                 \n",
            "=================================================================\n",
            "Total params: 4,385\n",
            "Trainable params: 4,385\n",
            "Non-trainable params: 0\n",
            "_________________________________________________________________\n"
          ]
        }
      ]
    },
    {
      "cell_type": "code",
      "source": [
        "\n",
        "\n",
        "autoencoder.fit(x_train, x_train,\n",
        "                epochs=50,\n",
        "                batch_size=128,\n",
        "                shuffle=True,\n",
        "                validation_data=(x_test, x_test))\n"
      ],
      "metadata": {
        "colab": {
          "base_uri": "https://localhost:8080/"
        },
        "id": "kz6rAa5oQ8XF",
        "outputId": "d2511c2d-f915-4245-999c-bfb9720c1671"
      },
      "execution_count": 14,
      "outputs": [
        {
          "output_type": "stream",
          "name": "stdout",
          "text": [
            "Epoch 1/50\n",
            "469/469 [==============================] - 38s 15ms/step - loss: 0.2024 - val_loss: 0.1436\n",
            "Epoch 2/50\n",
            "469/469 [==============================] - 6s 12ms/step - loss: 0.1327 - val_loss: 0.1248\n",
            "Epoch 3/50\n",
            "469/469 [==============================] - 6s 12ms/step - loss: 0.1206 - val_loss: 0.1156\n",
            "Epoch 4/50\n",
            "469/469 [==============================] - 6s 12ms/step - loss: 0.1146 - val_loss: 0.1111\n",
            "Epoch 5/50\n",
            "469/469 [==============================] - 6s 12ms/step - loss: 0.1107 - val_loss: 0.1079\n",
            "Epoch 6/50\n",
            "469/469 [==============================] - 6s 12ms/step - loss: 0.1079 - val_loss: 0.1054\n",
            "Epoch 7/50\n",
            "469/469 [==============================] - 6s 12ms/step - loss: 0.1059 - val_loss: 0.1037\n",
            "Epoch 8/50\n",
            "469/469 [==============================] - 9s 19ms/step - loss: 0.1043 - val_loss: 0.1023\n",
            "Epoch 9/50\n",
            "469/469 [==============================] - 10s 22ms/step - loss: 0.1030 - val_loss: 0.1012\n",
            "Epoch 10/50\n",
            "469/469 [==============================] - 10s 22ms/step - loss: 0.1019 - val_loss: 0.1003\n",
            "Epoch 11/50\n",
            "469/469 [==============================] - 9s 19ms/step - loss: 0.1011 - val_loss: 0.0995\n",
            "Epoch 12/50\n",
            "469/469 [==============================] - 9s 18ms/step - loss: 0.1004 - val_loss: 0.0988\n",
            "Epoch 13/50\n",
            "469/469 [==============================] - 8s 18ms/step - loss: 0.0997 - val_loss: 0.0984\n",
            "Epoch 14/50\n",
            "469/469 [==============================] - 9s 18ms/step - loss: 0.0991 - val_loss: 0.0980\n",
            "Epoch 15/50\n",
            "469/469 [==============================] - 8s 18ms/step - loss: 0.0986 - val_loss: 0.0973\n",
            "Epoch 16/50\n",
            "469/469 [==============================] - 9s 19ms/step - loss: 0.0982 - val_loss: 0.0967\n",
            "Epoch 17/50\n",
            "469/469 [==============================] - 10s 21ms/step - loss: 0.0977 - val_loss: 0.0962\n",
            "Epoch 18/50\n",
            "469/469 [==============================] - 9s 20ms/step - loss: 0.0973 - val_loss: 0.0962\n",
            "Epoch 19/50\n",
            "469/469 [==============================] - 6s 13ms/step - loss: 0.0969 - val_loss: 0.0956\n",
            "Epoch 20/50\n",
            "469/469 [==============================] - 6s 13ms/step - loss: 0.0966 - val_loss: 0.0962\n",
            "Epoch 21/50\n",
            "469/469 [==============================] - 6s 13ms/step - loss: 0.0962 - val_loss: 0.0949\n",
            "Epoch 22/50\n",
            "469/469 [==============================] - 6s 13ms/step - loss: 0.0959 - val_loss: 0.0946\n",
            "Epoch 23/50\n",
            "469/469 [==============================] - 6s 13ms/step - loss: 0.0956 - val_loss: 0.0953\n",
            "Epoch 24/50\n",
            "469/469 [==============================] - 6s 14ms/step - loss: 0.0954 - val_loss: 0.0939\n",
            "Epoch 25/50\n",
            "469/469 [==============================] - 6s 13ms/step - loss: 0.0950 - val_loss: 0.0939\n",
            "Epoch 26/50\n",
            "469/469 [==============================] - 6s 13ms/step - loss: 0.0947 - val_loss: 0.0937\n",
            "Epoch 27/50\n",
            "469/469 [==============================] - 6s 13ms/step - loss: 0.0945 - val_loss: 0.0934\n",
            "Epoch 28/50\n",
            "469/469 [==============================] - 6s 13ms/step - loss: 0.0943 - val_loss: 0.0931\n",
            "Epoch 29/50\n",
            "469/469 [==============================] - 6s 13ms/step - loss: 0.0940 - val_loss: 0.0926\n",
            "Epoch 30/50\n",
            "469/469 [==============================] - 6s 13ms/step - loss: 0.0938 - val_loss: 0.0926\n",
            "Epoch 31/50\n",
            "469/469 [==============================] - 6s 13ms/step - loss: 0.0936 - val_loss: 0.0922\n",
            "Epoch 32/50\n",
            "469/469 [==============================] - 6s 13ms/step - loss: 0.0934 - val_loss: 0.0924\n",
            "Epoch 33/50\n",
            "469/469 [==============================] - 6s 13ms/step - loss: 0.0933 - val_loss: 0.0919\n",
            "Epoch 34/50\n",
            "469/469 [==============================] - 6s 13ms/step - loss: 0.0931 - val_loss: 0.0917\n",
            "Epoch 35/50\n",
            "469/469 [==============================] - 6s 13ms/step - loss: 0.0929 - val_loss: 0.0915\n",
            "Epoch 36/50\n",
            "469/469 [==============================] - 6s 13ms/step - loss: 0.0928 - val_loss: 0.0918\n",
            "Epoch 37/50\n",
            "469/469 [==============================] - 6s 12ms/step - loss: 0.0926 - val_loss: 0.0912\n",
            "Epoch 38/50\n",
            "469/469 [==============================] - 6s 13ms/step - loss: 0.0925 - val_loss: 0.0911\n",
            "Epoch 39/50\n",
            "469/469 [==============================] - 6s 13ms/step - loss: 0.0924 - val_loss: 0.0911\n",
            "Epoch 40/50\n",
            "469/469 [==============================] - 6s 13ms/step - loss: 0.0922 - val_loss: 0.0912\n",
            "Epoch 41/50\n",
            "469/469 [==============================] - 6s 13ms/step - loss: 0.0921 - val_loss: 0.0913\n",
            "Epoch 42/50\n",
            "469/469 [==============================] - 6s 14ms/step - loss: 0.0920 - val_loss: 0.0907\n",
            "Epoch 43/50\n",
            "469/469 [==============================] - 6s 13ms/step - loss: 0.0918 - val_loss: 0.0907\n",
            "Epoch 44/50\n",
            "469/469 [==============================] - 6s 13ms/step - loss: 0.0918 - val_loss: 0.0904\n",
            "Epoch 45/50\n",
            "469/469 [==============================] - 6s 13ms/step - loss: 0.0917 - val_loss: 0.0904\n",
            "Epoch 46/50\n",
            "469/469 [==============================] - 6s 13ms/step - loss: 0.0916 - val_loss: 0.0904\n",
            "Epoch 47/50\n",
            "469/469 [==============================] - 6s 13ms/step - loss: 0.0915 - val_loss: 0.0902\n",
            "Epoch 48/50\n",
            "469/469 [==============================] - 6s 13ms/step - loss: 0.0914 - val_loss: 0.0900\n",
            "Epoch 49/50\n",
            "469/469 [==============================] - 6s 12ms/step - loss: 0.0913 - val_loss: 0.0901\n",
            "Epoch 50/50\n",
            "469/469 [==============================] - 6s 13ms/step - loss: 0.0912 - val_loss: 0.0900\n"
          ]
        },
        {
          "output_type": "execute_result",
          "data": {
            "text/plain": [
              "<keras.callbacks.History at 0x7f955069cc10>"
            ]
          },
          "metadata": {},
          "execution_count": 14
        }
      ]
    },
    {
      "cell_type": "code",
      "execution_count": 521,
      "metadata": {
        "id": "o-Y5rxfw6Nt4"
      },
      "outputs": [],
      "source": [
        "XALL = x_train[:20000]\n",
        "yALL = y_train.reshape(-1,1)[:20000].astype(np.int8)\n",
        "y0 = (yALL == 4)\n",
        "y2 = (yALL == 9)\n",
        "ytot = y0 + y2\n",
        "Xtrain = XALL[ytot.reshape(-1)]\n",
        "ytrain = (yALL[ytot.reshape(-1)] -6.5)/2.5"
      ]
    },
    {
      "cell_type": "code",
      "execution_count": 522,
      "metadata": {
        "id": "tMgktrzM6Oq-"
      },
      "outputs": [],
      "source": [
        "Xtrain  = encoder.predict(Xtrain)"
      ]
    },
    {
      "cell_type": "code",
      "source": [
        "print(Xtrain.shape)"
      ],
      "metadata": {
        "colab": {
          "base_uri": "https://localhost:8080/"
        },
        "id": "zJXRYEbSbkA-",
        "outputId": "b838840b-2d8f-48a0-9cda-ba7b0c32d725"
      },
      "execution_count": 523,
      "outputs": [
        {
          "output_type": "stream",
          "name": "stdout",
          "text": [
            "(3959, 4, 4, 8)\n"
          ]
        }
      ]
    },
    {
      "cell_type": "code",
      "source": [
        "scaler = StandardScaler()\n",
        "Xtrain = scaler.fit_transform(Xtrain.reshape(Xtrain.shape[0],Xtrain.shape[1]*Xtrain.shape[2]*Xtrain.shape[3])).reshape(Xtrain.shape)\n"
      ],
      "metadata": {
        "id": "Nvvb0NMbcWXD"
      },
      "execution_count": 524,
      "outputs": []
    },
    {
      "cell_type": "code",
      "execution_count": 525,
      "metadata": {
        "colab": {
          "base_uri": "https://localhost:8080/"
        },
        "id": "5zhFOr0Z6P7W",
        "outputId": "3f6e1213-a910-4848-e9d0-08717f433c01"
      },
      "outputs": [
        {
          "output_type": "stream",
          "name": "stdout",
          "text": [
            "(3959, 4, 4, 8)\n"
          ]
        }
      ],
      "source": [
        "print(Xtrain.shape)"
      ]
    },
    {
      "cell_type": "code",
      "source": [
        "Xtrain=Xtrain.reshape(Xtrain.shape[0],Xtrain.shape[1]*Xtrain.shape[2]*Xtrain.shape[3],1)"
      ],
      "metadata": {
        "id": "w9Ddg1Syc1Qd"
      },
      "execution_count": 526,
      "outputs": []
    },
    {
      "cell_type": "code",
      "source": [
        "print(Xtrain.shape)"
      ],
      "metadata": {
        "colab": {
          "base_uri": "https://localhost:8080/"
        },
        "id": "Ev0YFoAic5ma",
        "outputId": "033e9491-6be3-4c5a-fe11-43800f63dbfb"
      },
      "execution_count": 527,
      "outputs": [
        {
          "output_type": "stream",
          "name": "stdout",
          "text": [
            "(3959, 128, 1)\n"
          ]
        }
      ]
    },
    {
      "cell_type": "code",
      "execution_count": 528,
      "metadata": {
        "colab": {
          "base_uri": "https://localhost:8080/",
          "height": 1000
        },
        "id": "3OP3V3jW6Q_D",
        "outputId": "80e47042-0aa4-4222-b61b-a0c237f8c80c"
      },
      "outputs": [
        {
          "output_type": "stream",
          "name": "stdout",
          "text": [
            "Start\n",
            "Imbalance at height 0\n",
            "2014\n",
            "1945\n",
            "lengths\n",
            "2001\n",
            "1926\n",
            "(2033, 1)\n",
            "Imbalance at height 1\n",
            "19\n",
            "2014\n",
            "lengths\n",
            "13\n",
            "1306\n",
            "(727, 1)\n",
            "Imbalance at height 2\n",
            "708\n",
            "19\n",
            "lengths\n",
            "708\n",
            "12\n",
            "(715, 1)\n",
            "Imbalance at height 3\n",
            "7\n",
            "708\n",
            "Imbalance at height 2\n",
            "6\n",
            "2014\n",
            "lengths\n",
            "5\n",
            "1445\n",
            "(575, 1)\n",
            "Imbalance at height 3\n",
            "569\n",
            "6\n",
            "Imbalance at height 3\n",
            "1\n",
            "2014\n",
            "Imbalance at height 1\n",
            "13\n",
            "1945\n",
            "lengths\n",
            "10\n",
            "1407\n",
            "(551, 1)\n",
            "Imbalance at height 2\n",
            "538\n",
            "13\n",
            "lengths\n",
            "538\n",
            "1\n",
            "(550, 1)\n",
            "Imbalance at height 3\n",
            "12\n",
            "538\n",
            "Imbalance at height 2\n",
            "3\n",
            "1945\n",
            "lengths\n",
            "2\n",
            "1534\n",
            "(414, 1)\n",
            "Imbalance at height 3\n",
            "411\n",
            "3\n",
            "Imbalance at height 3\n",
            "1\n",
            "1945\n",
            "Recursion Done\n",
            "3\n"
          ]
        },
        {
          "output_type": "display_data",
          "data": {
            "image/png": "[encoded data removed]",
            "text/plain": [
              "<Figure size 432x288 with 1 Axes>"
            ]
          },
          "metadata": {
            "needs_background": "light"
          }
        },
        {
          "output_type": "stream",
          "name": "stdout",
          "text": [
            "2\n"
          ]
        },
        {
          "output_type": "display_data",
          "data": {
            "image/png": "[encoded data removed]",
            "text/plain": [
              "<Figure size 432x288 with 1 Axes>"
            ]
          },
          "metadata": {
            "needs_background": "light"
          }
        },
        {
          "output_type": "stream",
          "name": "stderr",
          "text": [
            "/usr/local/lib/python3.7/dist-packages/ipykernel_launcher.py:75: DeprecationWarning: np.asscalar(a) is deprecated since NumPy v1.16, use a.item() instead\n"
          ]
        },
        {
          "output_type": "stream",
          "name": "stdout",
          "text": [
            "3\n"
          ]
        },
        {
          "output_type": "display_data",
          "data": {
            "image/png": "[encoded data removed]",
            "text/plain": [
              "<Figure size 432x288 with 1 Axes>"
            ]
          },
          "metadata": {
            "needs_background": "light"
          }
        },
        {
          "output_type": "stream",
          "name": "stdout",
          "text": [
            "3\n"
          ]
        },
        {
          "output_type": "display_data",
          "data": {
            "image/png": "[encoded data removed]",
            "text/plain": [
              "<Figure size 432x288 with 1 Axes>"
            ]
          },
          "metadata": {
            "needs_background": "light"
          }
        },
        {
          "output_type": "stream",
          "name": "stdout",
          "text": [
            "2\n"
          ]
        },
        {
          "output_type": "display_data",
          "data": {
            "image/png": "[encoded data removed]",
            "text/plain": [
              "<Figure size 432x288 with 1 Axes>"
            ]
          },
          "metadata": {
            "needs_background": "light"
          }
        },
        {
          "output_type": "stream",
          "name": "stderr",
          "text": [
            "/usr/local/lib/python3.7/dist-packages/ipykernel_launcher.py:69: DeprecationWarning: np.asscalar(a) is deprecated since NumPy v1.16, use a.item() instead\n",
            "/usr/local/lib/python3.7/dist-packages/ipykernel_launcher.py:70: DeprecationWarning: np.asscalar(a) is deprecated since NumPy v1.16, use a.item() instead\n"
          ]
        },
        {
          "output_type": "stream",
          "name": "stdout",
          "text": [
            "1\n"
          ]
        },
        {
          "output_type": "display_data",
          "data": {
            "image/png": "[encoded data removed]",
            "text/plain": [
              "<Figure size 432x288 with 1 Axes>"
            ]
          },
          "metadata": {
            "needs_background": "light"
          }
        },
        {
          "output_type": "stream",
          "name": "stderr",
          "text": [
            "/usr/local/lib/python3.7/dist-packages/ipykernel_launcher.py:75: DeprecationWarning: np.asscalar(a) is deprecated since NumPy v1.16, use a.item() instead\n",
            "/usr/local/lib/python3.7/dist-packages/ipykernel_launcher.py:69: DeprecationWarning: np.asscalar(a) is deprecated since NumPy v1.16, use a.item() instead\n",
            "/usr/local/lib/python3.7/dist-packages/ipykernel_launcher.py:70: DeprecationWarning: np.asscalar(a) is deprecated since NumPy v1.16, use a.item() instead\n"
          ]
        },
        {
          "output_type": "stream",
          "name": "stdout",
          "text": [
            "3\n"
          ]
        },
        {
          "output_type": "display_data",
          "data": {
            "image/png": "[encoded data removed]",
            "text/plain": [
              "<Figure size 432x288 with 1 Axes>"
            ]
          },
          "metadata": {
            "needs_background": "light"
          }
        },
        {
          "output_type": "stream",
          "name": "stdout",
          "text": [
            "2\n"
          ]
        },
        {
          "output_type": "display_data",
          "data": {
            "image/png": "[encoded data removed]",
            "text/plain": [
              "<Figure size 432x288 with 1 Axes>"
            ]
          },
          "metadata": {
            "needs_background": "light"
          }
        },
        {
          "output_type": "stream",
          "name": "stderr",
          "text": [
            "/usr/local/lib/python3.7/dist-packages/ipykernel_launcher.py:75: DeprecationWarning: np.asscalar(a) is deprecated since NumPy v1.16, use a.item() instead\n"
          ]
        },
        {
          "output_type": "stream",
          "name": "stdout",
          "text": [
            "3\n"
          ]
        },
        {
          "output_type": "display_data",
          "data": {
            "image/png": "[encoded data removed]",
            "text/plain": [
              "<Figure size 432x288 with 1 Axes>"
            ]
          },
          "metadata": {
            "needs_background": "light"
          }
        },
        {
          "output_type": "stream",
          "name": "stdout",
          "text": [
            "3\n"
          ]
        },
        {
          "output_type": "display_data",
          "data": {
            "image/png": "[encoded data removed]",
            "text/plain": [
              "<Figure size 432x288 with 1 Axes>"
            ]
          },
          "metadata": {
            "needs_background": "light"
          }
        },
        {
          "output_type": "stream",
          "name": "stdout",
          "text": [
            "2\n"
          ]
        },
        {
          "output_type": "display_data",
          "data": {
            "image/png": "[encoded data removed]",
            "text/plain": [
              "<Figure size 432x288 with 1 Axes>"
            ]
          },
          "metadata": {
            "needs_background": "light"
          }
        },
        {
          "output_type": "stream",
          "name": "stderr",
          "text": [
            "/usr/local/lib/python3.7/dist-packages/ipykernel_launcher.py:69: DeprecationWarning: np.asscalar(a) is deprecated since NumPy v1.16, use a.item() instead\n",
            "/usr/local/lib/python3.7/dist-packages/ipykernel_launcher.py:70: DeprecationWarning: np.asscalar(a) is deprecated since NumPy v1.16, use a.item() instead\n"
          ]
        },
        {
          "output_type": "stream",
          "name": "stdout",
          "text": [
            "1\n"
          ]
        },
        {
          "output_type": "display_data",
          "data": {
            "image/png": "[encoded data removed]",
            "text/plain": [
              "<Figure size 432x288 with 1 Axes>"
            ]
          },
          "metadata": {
            "needs_background": "light"
          }
        },
        {
          "output_type": "stream",
          "name": "stderr",
          "text": [
            "/usr/local/lib/python3.7/dist-packages/ipykernel_launcher.py:75: DeprecationWarning: np.asscalar(a) is deprecated since NumPy v1.16, use a.item() instead\n",
            "/usr/local/lib/python3.7/dist-packages/ipykernel_launcher.py:69: DeprecationWarning: np.asscalar(a) is deprecated since NumPy v1.16, use a.item() instead\n",
            "/usr/local/lib/python3.7/dist-packages/ipykernel_launcher.py:70: DeprecationWarning: np.asscalar(a) is deprecated since NumPy v1.16, use a.item() instead\n"
          ]
        },
        {
          "output_type": "stream",
          "name": "stdout",
          "text": [
            "0\n"
          ]
        },
        {
          "output_type": "display_data",
          "data": {
            "image/png": "[encoded data removed]",
            "text/plain": [
              "<Figure size 432x288 with 1 Axes>"
            ]
          },
          "metadata": {
            "needs_background": "light"
          }
        },
        {
          "output_type": "stream",
          "name": "stdout",
          "text": [
            "End\n"
          ]
        },
        {
          "output_type": "stream",
          "name": "stderr",
          "text": [
            "/usr/local/lib/python3.7/dist-packages/ipykernel_launcher.py:75: DeprecationWarning: np.asscalar(a) is deprecated since NumPy v1.16, use a.item() instead\n",
            "/usr/local/lib/python3.7/dist-packages/ipykernel_launcher.py:69: DeprecationWarning: np.asscalar(a) is deprecated since NumPy v1.16, use a.item() instead\n",
            "/usr/local/lib/python3.7/dist-packages/ipykernel_launcher.py:70: DeprecationWarning: np.asscalar(a) is deprecated since NumPy v1.16, use a.item() instead\n"
          ]
        },
        {
          "output_type": "stream",
          "name": "stdout",
          "text": [
            "Train accuracy:\n",
            "0.9919171507956555\n"
          ]
        }
      ],
      "source": [
        "model = train(Xtrain,ytrain,3,0.1,'L1','L1')"
      ]
    },
    {
      "cell_type": "code",
      "execution_count": 529,
      "metadata": {
        "id": "TBb1Oslo6SOI",
        "colab": {
          "base_uri": "https://localhost:8080/"
        },
        "outputId": "5dedeb7e-0c49-441d-edca-ace48d75659d"
      },
      "outputs": [
        {
          "output_type": "stream",
          "name": "stderr",
          "text": [
            "/usr/local/lib/python3.7/dist-packages/ipykernel_launcher.py:75: DeprecationWarning: np.asscalar(a) is deprecated since NumPy v1.16, use a.item() instead\n",
            "/usr/local/lib/python3.7/dist-packages/ipykernel_launcher.py:69: DeprecationWarning: np.asscalar(a) is deprecated since NumPy v1.16, use a.item() instead\n",
            "/usr/local/lib/python3.7/dist-packages/ipykernel_launcher.py:70: DeprecationWarning: np.asscalar(a) is deprecated since NumPy v1.16, use a.item() instead\n"
          ]
        },
        {
          "output_type": "stream",
          "name": "stdout",
          "text": [
            "(3959, 1)\n",
            "0.9919171507956555\n"
          ]
        }
      ],
      "source": [
        "y=model.forward(Xtrain)\n",
        "print(y.shape)\n",
        "print(accuracy(y,ytrain))"
      ]
    },
    {
      "cell_type": "code",
      "execution_count": 536,
      "metadata": {
        "id": "SBWiSIC76UVM"
      },
      "outputs": [],
      "source": [
        "\n",
        "XALL_test = x_train[20000:40000]\n",
        "yALL_test = y_train.reshape(-1,1)[20000:40000].astype(np.int8)\n",
        "y0_test = (yALL_test == 4)\n",
        "y2_test = (yALL_test == 9)\n",
        "ytot_test = y0_test + y2_test\n",
        "Xtest = XALL_test[ytot_test.reshape(-1)]\n",
        "ytest = (yALL_test[ytot_test.reshape(-1)] -6.5)/2.5"
      ]
    },
    {
      "cell_type": "code",
      "source": [
        "Xtest  = encoder.predict(Xtest)"
      ],
      "metadata": {
        "id": "S0uuTmGid2-e"
      },
      "execution_count": 537,
      "outputs": []
    },
    {
      "cell_type": "code",
      "execution_count": 538,
      "metadata": {
        "id": "voLX7yhw6VkM"
      },
      "outputs": [],
      "source": [
        "Xtest = scaler.transform(Xtest.reshape(Xtest.shape[0],Xtest.shape[1]*Xtest.shape[2]*Xtest.shape[3])).reshape(Xtest.shape)\n"
      ]
    },
    {
      "cell_type": "code",
      "source": [
        "print(Xtest.shape)"
      ],
      "metadata": {
        "colab": {
          "base_uri": "https://localhost:8080/"
        },
        "id": "apH2npileSP3",
        "outputId": "474bd197-f461-411b-d3b8-8c1c6389c9a7"
      },
      "execution_count": 539,
      "outputs": [
        {
          "output_type": "stream",
          "name": "stdout",
          "text": [
            "(3966, 4, 4, 8)\n"
          ]
        }
      ]
    },
    {
      "cell_type": "code",
      "source": [
        "Xtest=Xtest.reshape(Xtest.shape[0],Xtest.shape[1]*Xtest.shape[2]*Xtest.shape[3],1)"
      ],
      "metadata": {
        "id": "HTFp-uYTeYjW"
      },
      "execution_count": 540,
      "outputs": []
    },
    {
      "cell_type": "code",
      "execution_count": 541,
      "metadata": {
        "id": "x9AK3KZQ6Wq5",
        "colab": {
          "base_uri": "https://localhost:8080/"
        },
        "outputId": "8365921c-ce19-4959-cf99-2673473cb060"
      },
      "outputs": [
        {
          "output_type": "stream",
          "name": "stderr",
          "text": [
            "/usr/local/lib/python3.7/dist-packages/ipykernel_launcher.py:75: DeprecationWarning: np.asscalar(a) is deprecated since NumPy v1.16, use a.item() instead\n",
            "/usr/local/lib/python3.7/dist-packages/ipykernel_launcher.py:69: DeprecationWarning: np.asscalar(a) is deprecated since NumPy v1.16, use a.item() instead\n",
            "/usr/local/lib/python3.7/dist-packages/ipykernel_launcher.py:70: DeprecationWarning: np.asscalar(a) is deprecated since NumPy v1.16, use a.item() instead\n"
          ]
        },
        {
          "output_type": "stream",
          "name": "stdout",
          "text": [
            "(3966, 1)\n",
            "0.9808371154815936\n"
          ]
        }
      ],
      "source": [
        "y=model.forward(Xtest)\n",
        "print(y.shape)\n",
        "print(accuracy(y,ytest))"
      ]
    },
    {
      "cell_type": "code",
      "source": [
        "############### MNIST CODE ENDS HERE###########################"
      ],
      "metadata": {
        "id": "Z9xRTXzX1EZt"
      },
      "execution_count": 498,
      "outputs": []
    },
    {
      "cell_type": "code",
      "execution_count": null,
      "metadata": {
        "id": "qOIHNIF-6X--"
      },
      "outputs": [],
      "source": [
        "a=np.asarray([1,-2,3,4])"
      ]
    },
    {
      "cell_type": "code",
      "source": [
        "print(np.maximum(a,0))"
      ],
      "metadata": {
        "colab": {
          "base_uri": "https://localhost:8080/"
        },
        "id": "wjmFCVb4e53a",
        "outputId": "b8a41693-f5ac-48b7-a551-75db2d1053fc"
      },
      "execution_count": null,
      "outputs": [
        {
          "output_type": "stream",
          "name": "stdout",
          "text": [
            "[1 0 3 4]\n"
          ]
        }
      ]
    },
    {
      "cell_type": "code",
      "source": [
        "transform = transforms.Compose([transforms.ToTensor(),])"
      ],
      "metadata": {
        "id": "iIfaemKye8mS"
      },
      "execution_count": null,
      "outputs": []
    },
    {
      "cell_type": "code",
      "source": [
        "train_dataset = torchvision.datasets.CIFAR10(root = '. / data', train = True, download = True,transform=transform) #Training data set\n"
      ],
      "metadata": {
        "colab": {
          "base_uri": "https://localhost:8080/",
          "height": 84,
          "referenced_widgets": [
            "ee1b1639e167483d81d7cd849aae00dc",
            "3f928765bc1b4204a85e786a889b32cf",
            "128f858024354f8fbba9f94b9d05c331",
            "d1b5b204cc7341acab06f7b8eed83858",
            "56eb2354420940bb99dada90293492fa",
            "9ddf603c4b63450987cbcceacd6952f1",
            "bc2545a1b610410eb116e1f8f432f288",
            "8d8be81f008c4c0bbd3c180c6c63335b",
            "1904026abd334287b98f302a7f261633",
            "3dd479601dbb48a0bdf17f144c8ba1eb",
            "89e4081939f5458b92fad30029c5ef46"
          ]
        },
        "id": "sfxleK3nmn68",
        "outputId": "1bb7168b-b674-4bf0-f3ef-a3f4562527f9"
      },
      "execution_count": null,
      "outputs": [
        {
          "output_type": "stream",
          "name": "stdout",
          "text": [
            "Downloading https://www.cs.toronto.edu/~kriz/cifar-10-python.tar.gz to . / data/cifar-10-python.tar.gz\n"
          ]
        },
        {
          "output_type": "display_data",
          "data": {
            "application/vnd.jupyter.widget-view+json": {
              "model_id": "ee1b1639e167483d81d7cd849aae00dc",
              "version_minor": 0,
              "version_major": 2
            },
            "text/plain": [
              "  0%|          | 0/170498071 [00:00<?, ?it/s]"
            ]
          },
          "metadata": {}
        },
        {
          "output_type": "stream",
          "name": "stdout",
          "text": [
            "Extracting . / data/cifar-10-python.tar.gz to . / data\n"
          ]
        }
      ]
    },
    {
      "cell_type": "code",
      "source": [
        "train_loader = DataLoader(train_dataset, batch_size=len(train_dataset))"
      ],
      "metadata": {
        "id": "TMqzbDrzmwSC"
      },
      "execution_count": null,
      "outputs": []
    },
    {
      "cell_type": "code",
      "source": [
        "train_dataset_array = next(iter(train_loader))[0].numpy().transpose((0,2,3,1))\n",
        "train_labels = next(iter(train_loader))[1].numpy().reshape((-1,1))"
      ],
      "metadata": {
        "id": "ns_f-O5Pmyqv"
      },
      "execution_count": null,
      "outputs": []
    },
    {
      "cell_type": "code",
      "source": [
        "print(train_dataset_array.shape)\n",
        "print(train_labels.shape)"
      ],
      "metadata": {
        "colab": {
          "base_uri": "https://localhost:8080/"
        },
        "id": "AiEo4H6bmz_Q",
        "outputId": "8797b7a8-d696-42a9-e091-ebb6c21c5d1d"
      },
      "execution_count": null,
      "outputs": [
        {
          "output_type": "stream",
          "name": "stdout",
          "text": [
            "(50000, 32, 32, 3)\n",
            "(50000, 1)\n"
          ]
        }
      ]
    },
    {
      "cell_type": "code",
      "source": [
        "XALL = train_dataset_array\n",
        "yALL  = train_labels"
      ],
      "metadata": {
        "id": "-nHyVti9m08v"
      },
      "execution_count": null,
      "outputs": []
    },
    {
      "cell_type": "code",
      "source": [
        "y0 = (yALL == 3)\n",
        "y2 = (yALL == 8)\n",
        "ytot = y0 + y2\n",
        "Xtrain = XALL[ytot.reshape(-1)]\n",
        "ytrain = (yALL[ytot.reshape(-1)] -5.5)/2.5"
      ],
      "metadata": {
        "id": "G9ctrfj5m25W"
      },
      "execution_count": null,
      "outputs": []
    },
    {
      "cell_type": "code",
      "source": [
        "Xtrain\n",
        "plt.imshow(Xtrain[0], interpolation='nearest')\n",
        "plt.show()\n",
        "plt.imshow(Xtrain[2], interpolation='nearest')\n",
        "plt.show()\n",
        "plt.imshow(Xtrain[3], interpolation='nearest')\n",
        "plt.show()"
      ],
      "metadata": {
        "colab": {
          "base_uri": "https://localhost:8080/",
          "height": 764
        },
        "id": "0BeMTP_Jm34n",
        "outputId": "4ce920b7-0e76-4889-da31-0aabf9b24046"
      },
      "execution_count": null,
      "outputs": [
        {
          "output_type": "display_data",
          "data": {
            "image/png": "[encoded data removed]",
            "text/plain": [
              "<Figure size 432x288 with 1 Axes>"
            ]
          },
          "metadata": {
            "needs_background": "light"
          }
        },
        {
          "output_type": "display_data",
          "data": {
            "image/png": "[encoded data removed]",
            "text/plain": [
              "<Figure size 432x288 with 1 Axes>"
            ]
          },
          "metadata": {
            "needs_background": "light"
          }
        },
        {
          "output_type": "display_data",
          "data": {
            "image/png": "[encoded data removed]",
            "text/plain": [
              "<Figure size 432x288 with 1 Axes>"
            ]
          },
          "metadata": {
            "needs_background": "light"
          }
        }
      ]
    },
    {
      "cell_type": "code",
      "source": [
        "def redoer(image, shape = (32,32), interpolation = cv2.INTER_CUBIC):\n",
        "    assert(len(shape)==2)\n",
        "    new_shape = (shape[1],shape[0])\n",
        "    shape=new_shape\n",
        "    reimage = cv2.resize(image, shape, interpolation=interpolation)\n",
        "    if len(reimage.shape)==3:\n",
        "        reimage = np.squeeze(np.sum(reimage,axis = 2))\n",
        "        reimage = reimage.reshape((reimage.shape[0],reimage.shape[1]))\n",
        "    return reimage"
      ],
      "metadata": {
        "id": "QMs3vgFOm5gj"
      },
      "execution_count": null,
      "outputs": []
    },
    {
      "cell_type": "code",
      "source": [
        "Xtrain_resized = np.array(list(map(redoer,Xtrain)))"
      ],
      "metadata": {
        "id": "_jmVAWqHm8DE"
      },
      "execution_count": null,
      "outputs": []
    },
    {
      "cell_type": "code",
      "source": [
        "plt.imshow(Xtrain_resized[3], interpolation='nearest')\n",
        "plt.show()"
      ],
      "metadata": {
        "colab": {
          "base_uri": "https://localhost:8080/",
          "height": 266
        },
        "id": "axyDkJ9fm9yA",
        "outputId": "eb79212f-3c63-4842-9ec9-c1fba52aa781"
      },
      "execution_count": null,
      "outputs": [
        {
          "output_type": "display_data",
          "data": {
            "image/png": "[encoded data removed]",
            "text/plain": [
              "<Figure size 432x288 with 1 Axes>"
            ]
          },
          "metadata": {
            "needs_background": "light"
          }
        }
      ]
    },
    {
      "cell_type": "code",
      "source": [
        "scaler = StandardScaler()\n",
        "Xtrain_resized = scaler.fit_transform(Xtrain_resized.reshape(Xtrain_resized.shape[0],Xtrain_resized.shape[1]*Xtrain_resized.shape[2])).reshape(Xtrain_resized.shape)"
      ],
      "metadata": {
        "id": "14sfVTUkplwz"
      },
      "execution_count": null,
      "outputs": []
    },
    {
      "cell_type": "code",
      "source": [
        "model = train(Xtrain_resized[0:1000],ytrain[0:1000],2,0.1,'L1','L1')"
      ],
      "metadata": {
        "colab": {
          "base_uri": "https://localhost:8080/",
          "height": 920
        },
        "id": "xUqL1OCNm-9f",
        "outputId": "dbb3463d-119b-41d3-cbf3-43ab49daf364"
      },
      "execution_count": null,
      "outputs": [
        {
          "output_type": "stream",
          "name": "stdout",
          "text": [
            "Start\n",
            "Imbalance at height 0\n",
            "517\n",
            "483\n",
            "Recursion Done\n",
            "0\n"
          ]
        },
        {
          "output_type": "display_data",
          "data": {
            "image/png": "[encoded data removed]",
            "text/plain": [
              "<Figure size 432x288 with 1 Axes>"
            ]
          },
          "metadata": {
            "needs_background": "light"
          }
        },
        {
          "output_type": "display_data",
          "data": {
            "image/png": "[encoded data removed]",
            "text/plain": [
              "<Figure size 432x288 with 1 Axes>"
            ]
          },
          "metadata": {
            "needs_background": "light"
          }
        },
        {
          "output_type": "display_data",
          "data": {
            "image/png": "[encoded data removed]",
            "text/plain": [
              "<Figure size 432x288 with 1 Axes>"
            ]
          },
          "metadata": {
            "needs_background": "light"
          }
        },
        {
          "output_type": "stream",
          "name": "stdout",
          "text": [
            "End\n",
            "Train accuracy:\n",
            "1.0\n"
          ]
        }
      ]
    },
    {
      "cell_type": "code",
      "source": [
        ""
      ],
      "metadata": {
        "id": "OOYDl9uqnIfK"
      },
      "execution_count": null,
      "outputs": []
    }
  ],
  "metadata": {
    "colab": {
      "name": "AutoencoderMNIST.ipynb",
      "provenance": []
    },
    "kernelspec": {
      "display_name": "Python 3",
      "name": "python3"
    },
    "language_info": {
      "name": "python"
    },
    "widgets": {
      "application/vnd.jupyter.widget-state+json": {
        "ee1b1639e167483d81d7cd849aae00dc": {
          "model_module": "@jupyter-widgets/controls",
          "model_name": "HBoxModel",
          "model_module_version": "1.5.0",
          "state": {
            "_view_name": "HBoxView",
            "_dom_classes": [],
            "_model_name": "HBoxModel",
            "_view_module": "@jupyter-widgets/controls",
            "_model_module_version": "1.5.0",
            "_view_count": null,
            "_view_module_version": "1.5.0",
            "box_style": "",
            "layout": "IPY_MODEL_3f928765bc1b4204a85e786a889b32cf",
            "_model_module": "@jupyter-widgets/controls",
            "children": [
              "IPY_MODEL_128f858024354f8fbba9f94b9d05c331",
              "IPY_MODEL_d1b5b204cc7341acab06f7b8eed83858",
              "IPY_MODEL_56eb2354420940bb99dada90293492fa"
            ]
          }
        },
        "3f928765bc1b4204a85e786a889b32cf": {
          "model_module": "@jupyter-widgets/base",
          "model_name": "LayoutModel",
          "model_module_version": "1.2.0",
          "state": {
            "_view_name": "LayoutView",
            "grid_template_rows": null,
            "right": null,
            "justify_content": null,
            "_view_module": "@jupyter-widgets/base",
            "overflow": null,
            "_model_module_version": "1.2.0",
            "_view_count": null,
            "flex_flow": null,
            "width": null,
            "min_width": null,
            "border": null,
            "align_items": null,
            "bottom": null,
            "_model_module": "@jupyter-widgets/base",
            "top": null,
            "grid_column": null,
            "overflow_y": null,
            "overflow_x": null,
            "grid_auto_flow": null,
            "grid_area": null,
            "grid_template_columns": null,
            "flex": null,
            "_model_name": "LayoutModel",
            "justify_items": null,
            "grid_row": null,
            "max_height": null,
            "align_content": null,
            "visibility": null,
            "align_self": null,
            "height": null,
            "min_height": null,
            "padding": null,
            "grid_auto_rows": null,
            "grid_gap": null,
            "max_width": null,
            "order": null,
            "_view_module_version": "1.2.0",
            "grid_template_areas": null,
            "object_position": null,
            "object_fit": null,
            "grid_auto_columns": null,
            "margin": null,
            "display": null,
            "left": null
          }
        },
        "128f858024354f8fbba9f94b9d05c331": {
          "model_module": "@jupyter-widgets/controls",
          "model_name": "HTMLModel",
          "model_module_version": "1.5.0",
          "state": {
            "_view_name": "HTMLView",
            "style": "IPY_MODEL_9ddf603c4b63450987cbcceacd6952f1",
            "_dom_classes": [],
            "description": "",
            "_model_name": "HTMLModel",
            "placeholder": "​",
            "_view_module": "@jupyter-widgets/controls",
            "_model_module_version": "1.5.0",
            "value": "",
            "_view_count": null,
            "_view_module_version": "1.5.0",
            "description_tooltip": null,
            "_model_module": "@jupyter-widgets/controls",
            "layout": "IPY_MODEL_bc2545a1b610410eb116e1f8f432f288"
          }
        },
        "d1b5b204cc7341acab06f7b8eed83858": {
          "model_module": "@jupyter-widgets/controls",
          "model_name": "FloatProgressModel",
          "model_module_version": "1.5.0",
          "state": {
            "_view_name": "ProgressView",
            "style": "IPY_MODEL_8d8be81f008c4c0bbd3c180c6c63335b",
            "_dom_classes": [],
            "description": "",
            "_model_name": "FloatProgressModel",
            "bar_style": "success",
            "max": 170498071,
            "_view_module": "@jupyter-widgets/controls",
            "_model_module_version": "1.5.0",
            "value": 170498071,
            "_view_count": null,
            "_view_module_version": "1.5.0",
            "orientation": "horizontal",
            "min": 0,
            "description_tooltip": null,
            "_model_module": "@jupyter-widgets/controls",
            "layout": "IPY_MODEL_1904026abd334287b98f302a7f261633"
          }
        },
        "56eb2354420940bb99dada90293492fa": {
          "model_module": "@jupyter-widgets/controls",
          "model_name": "HTMLModel",
          "model_module_version": "1.5.0",
          "state": {
            "_view_name": "HTMLView",
            "style": "IPY_MODEL_3dd479601dbb48a0bdf17f144c8ba1eb",
            "_dom_classes": [],
            "description": "",
            "_model_name": "HTMLModel",
            "placeholder": "​",
            "_view_module": "@jupyter-widgets/controls",
            "_model_module_version": "1.5.0",
            "value": " 170499072/? [00:03&lt;00:00, 45950625.74it/s]",
            "_view_count": null,
            "_view_module_version": "1.5.0",
            "description_tooltip": null,
            "_model_module": "@jupyter-widgets/controls",
            "layout": "IPY_MODEL_89e4081939f5458b92fad30029c5ef46"
          }
        },
        "9ddf603c4b63450987cbcceacd6952f1": {
          "model_module": "@jupyter-widgets/controls",
          "model_name": "DescriptionStyleModel",
          "model_module_version": "1.5.0",
          "state": {
            "_view_name": "StyleView",
            "_model_name": "DescriptionStyleModel",
            "description_width": "",
            "_view_module": "@jupyter-widgets/base",
            "_model_module_version": "1.5.0",
            "_view_count": null,
            "_view_module_version": "1.2.0",
            "_model_module": "@jupyter-widgets/controls"
          }
        },
        "bc2545a1b610410eb116e1f8f432f288": {
          "model_module": "@jupyter-widgets/base",
          "model_name": "LayoutModel",
          "model_module_version": "1.2.0",
          "state": {
            "_view_name": "LayoutView",
            "grid_template_rows": null,
            "right": null,
            "justify_content": null,
            "_view_module": "@jupyter-widgets/base",
            "overflow": null,
            "_model_module_version": "1.2.0",
            "_view_count": null,
            "flex_flow": null,
            "width": null,
            "min_width": null,
            "border": null,
            "align_items": null,
            "bottom": null,
            "_model_module": "@jupyter-widgets/base",
            "top": null,
            "grid_column": null,
            "overflow_y": null,
            "overflow_x": null,
            "grid_auto_flow": null,
            "grid_area": null,
            "grid_template_columns": null,
            "flex": null,
            "_model_name": "LayoutModel",
            "justify_items": null,
            "grid_row": null,
            "max_height": null,
            "align_content": null,
            "visibility": null,
            "align_self": null,
            "height": null,
            "min_height": null,
            "padding": null,
            "grid_auto_rows": null,
            "grid_gap": null,
            "max_width": null,
            "order": null,
            "_view_module_version": "1.2.0",
            "grid_template_areas": null,
            "object_position": null,
            "object_fit": null,
            "grid_auto_columns": null,
            "margin": null,
            "display": null,
            "left": null
          }
        },
        "8d8be81f008c4c0bbd3c180c6c63335b": {
          "model_module": "@jupyter-widgets/controls",
          "model_name": "ProgressStyleModel",
          "model_module_version": "1.5.0",
          "state": {
            "_view_name": "StyleView",
            "_model_name": "ProgressStyleModel",
            "description_width": "",
            "_view_module": "@jupyter-widgets/base",
            "_model_module_version": "1.5.0",
            "_view_count": null,
            "_view_module_version": "1.2.0",
            "bar_color": null,
            "_model_module": "@jupyter-widgets/controls"
          }
        },
        "1904026abd334287b98f302a7f261633": {
          "model_module": "@jupyter-widgets/base",
          "model_name": "LayoutModel",
          "model_module_version": "1.2.0",
          "state": {
            "_view_name": "LayoutView",
            "grid_template_rows": null,
            "right": null,
            "justify_content": null,
            "_view_module": "@jupyter-widgets/base",
            "overflow": null,
            "_model_module_version": "1.2.0",
            "_view_count": null,
            "flex_flow": null,
            "width": null,
            "min_width": null,
            "border": null,
            "align_items": null,
            "bottom": null,
            "_model_module": "@jupyter-widgets/base",
            "top": null,
            "grid_column": null,
            "overflow_y": null,
            "overflow_x": null,
            "grid_auto_flow": null,
            "grid_area": null,
            "grid_template_columns": null,
            "flex": null,
            "_model_name": "LayoutModel",
            "justify_items": null,
            "grid_row": null,
            "max_height": null,
            "align_content": null,
            "visibility": null,
            "align_self": null,
            "height": null,
            "min_height": null,
            "padding": null,
            "grid_auto_rows": null,
            "grid_gap": null,
            "max_width": null,
            "order": null,
            "_view_module_version": "1.2.0",
            "grid_template_areas": null,
            "object_position": null,
            "object_fit": null,
            "grid_auto_columns": null,
            "margin": null,
            "display": null,
            "left": null
          }
        },
        "3dd479601dbb48a0bdf17f144c8ba1eb": {
          "model_module": "@jupyter-widgets/controls",
          "model_name": "DescriptionStyleModel",
          "model_module_version": "1.5.0",
          "state": {
            "_view_name": "StyleView",
            "_model_name": "DescriptionStyleModel",
            "description_width": "",
            "_view_module": "@jupyter-widgets/base",
            "_model_module_version": "1.5.0",
            "_view_count": null,
            "_view_module_version": "1.2.0",
            "_model_module": "@jupyter-widgets/controls"
          }
        },
        "89e4081939f5458b92fad30029c5ef46": {
          "model_module": "@jupyter-widgets/base",
          "model_name": "LayoutModel",
          "model_module_version": "1.2.0",
          "state": {
            "_view_name": "LayoutView",
            "grid_template_rows": null,
            "right": null,
            "justify_content": null,
            "_view_module": "@jupyter-widgets/base",
            "overflow": null,
            "_model_module_version": "1.2.0",
            "_view_count": null,
            "flex_flow": null,
            "width": null,
            "min_width": null,
            "border": null,
            "align_items": null,
            "bottom": null,
            "_model_module": "@jupyter-widgets/base",
            "top": null,
            "grid_column": null,
            "overflow_y": null,
            "overflow_x": null,
            "grid_auto_flow": null,
            "grid_area": null,
            "grid_template_columns": null,
            "flex": null,
            "_model_name": "LayoutModel",
            "justify_items": null,
            "grid_row": null,
            "max_height": null,
            "align_content": null,
            "visibility": null,
            "align_self": null,
            "height": null,
            "min_height": null,
            "padding": null,
            "grid_auto_rows": null,
            "grid_gap": null,
            "max_width": null,
            "order": null,
            "_view_module_version": "1.2.0",
            "grid_template_areas": null,
            "object_position": null,
            "object_fit": null,
            "grid_auto_columns": null,
            "margin": null,
            "display": null,
            "left": null
          }
        }
      }
    },
    "accelerator": "GPU"
  },
  "nbformat": 4,
  "nbformat_minor": 0
}