{
  "cells": [
    {
      "cell_type": "code",
      "execution_count": null,
      "metadata": {
        "colab": {
          "base_uri": "https://localhost:8080/"
        },
        "id": "VAWwfobK6B5N",
        "outputId": "a70010fd-38a6-42d1-e6ff-d72741c48b1e"
      },
      "outputs": [
        {
          "output_type": "stream",
          "name": "stdout",
          "text": [
            "Collecting mnist\n",
            "  Downloading mnist-0.2.2-py2.py3-none-any.whl (3.5 kB)\n",
            "Requirement already satisfied: numpy in /usr/local/lib/python3.7/dist-packages (from mnist) (1.21.5)\n",
            "Installing collected packages: mnist\n",
            "Successfully installed mnist-0.2.2\n"
          ]
        }
      ],
      "source": [
        "!pip install mnist"
      ]
    },
    {
      "cell_type": "code",
      "source": [
        "##TODO:\n",
        "##1)Look at hard margin\n",
        "##2)Smoothening of weights (maniflod, variational regulariser)\n",
        "##3)Solver - a)C/M??   b)how to address class imbalance\n",
        "##Do we want to regularise wA and wB as the other weights?\n",
        "##Multi class - is there sharing?\n"
      ],
      "metadata": {
        "id": "U9ag-UkkjDJO"
      },
      "execution_count": null,
      "outputs": []
    },
    {
      "cell_type": "code",
      "execution_count": null,
      "metadata": {
        "id": "WTcGx0QQ55hK"
      },
      "outputs": [],
      "source": [
        "import numpy as np\n",
        "import pandas as pd\n",
        "from scipy.optimize import linprog \n",
        "from sklearn.metrics import accuracy_score\n",
        "import random\n",
        "import sys\n",
        "import matplotlib.pyplot as plt\n",
        "from scipy.io import loadmat\n",
        "from sklearn.model_selection import train_test_split\n",
        "from pprint import pprint\n",
        "from sklearn.svm import SVC\n",
        "import math\n",
        "from sklearn.preprocessing import StandardScaler\n",
        "import cvxpy as cp\n",
        "import sys\n",
        "from random import seed\n",
        "np.random.seed(1)\n",
        "seed(1)\n",
        "import time\n",
        "import numpy as np\n",
        "import scipy as sp\n",
        "import matplotlib.pyplot as plt\n",
        "from scipy.optimize import linprog\n",
        "from sklearn import svm\n",
        "import math\n",
        "import cvxopt\n",
        "import mnist\n",
        "from matplotlib import pyplot as plt\n",
        "\n",
        "import cv2\n",
        "import numpy as np\n",
        "from PIL import Image"
      ]
    },
    {
      "cell_type": "code",
      "source": [
        "import numpy as np\n",
        "import pandas as pd\n",
        "from scipy.optimize import linprog \n",
        "from sklearn.metrics import accuracy_score\n",
        "import random\n",
        "import sys\n",
        "import matplotlib.pyplot as plt\n",
        "from scipy.io import loadmat\n",
        "from sklearn.model_selection import train_test_split\n",
        "from pprint import pprint\n",
        "from sklearn.svm import SVC\n",
        "import math\n",
        "from sklearn.preprocessing import StandardScaler\n",
        "import cvxpy as cp\n",
        "import sys\n",
        "from random import seed\n",
        "np.random.seed(1)\n",
        "seed(1)\n",
        "import time\n",
        "import numpy as np\n",
        "import scipy as sp\n",
        "import matplotlib.pyplot as plt\n",
        "from scipy.optimize import linprog\n",
        "from sklearn import svm\n",
        "import math\n",
        "import cvxopt\n",
        "import mnist\n",
        "from matplotlib import pyplot as plt\n",
        "import cv2\n",
        "\n",
        "import torch\n",
        "import torch.nn as nn\n",
        "import torch.optim as optim\n",
        "from torch.optim import lr_scheduler\n",
        "import numpy as np\n",
        "import torchvision\n",
        "from torchvision import datasets, models, transforms\n",
        "import matplotlib.pyplot as plt\n",
        "import time\n",
        "import os\n",
        "import torch.nn.functional as F\n",
        "import copy\n",
        "from sklearn.utils import shuffle\n",
        "from torch.utils.data import random_split\n",
        "import pandas as pd\n",
        "from torch.utils.data import Dataset\n",
        "from torch.utils.data import DataLoader"
      ],
      "metadata": {
        "id": "8_hvL5kbmibX"
      },
      "execution_count": null,
      "outputs": []
    },
    {
      "cell_type": "code",
      "source": [
        "import numpy as np\n",
        "import pandas as pd\n",
        "from scipy.optimize import linprog \n",
        "from sklearn.metrics import accuracy_score\n",
        "import random\n",
        "import sys\n",
        "import matplotlib.pyplot as plt\n",
        "from scipy.io import loadmat\n",
        "from sklearn.model_selection import train_test_split\n",
        "from pprint import pprint\n",
        "from sklearn.svm import SVC\n",
        "import math\n",
        "from sklearn.preprocessing import StandardScaler\n",
        "import cvxpy as cp\n",
        "import sys\n",
        "from random import seed\n",
        "np.random.seed(1)\n",
        "seed(1)\n",
        "import time\n",
        "import numpy as np\n",
        "import scipy as sp\n",
        "import matplotlib.pyplot as plt\n",
        "from scipy.optimize import linprog\n",
        "from sklearn import svm\n",
        "import math\n",
        "import cvxopt\n",
        "import mnist\n",
        "from matplotlib import pyplot as plt\n",
        "#import tensorly as tl\n",
        "#import tensorly.decomposition as decomp\n",
        "import cv2\n",
        "\n",
        "import torch\n",
        "import torch.nn as nn\n",
        "import torch.optim as optim\n",
        "from torch.optim import lr_scheduler\n",
        "import numpy as np\n",
        "import torchvision\n",
        "from torchvision import datasets, models, transforms\n",
        "import matplotlib.pyplot as plt\n",
        "import time\n",
        "import os\n",
        "import torch.nn.functional as F\n",
        "import copy\n",
        "from sklearn.utils import shuffle\n",
        "from torch.utils.data import random_split\n",
        "import pandas as pd\n",
        "from torch.utils.data import Dataset\n",
        "from torch.utils.data import DataLoader\n",
        "from keras import models"
      ],
      "metadata": {
        "id": "WksV5MiLRySf"
      },
      "execution_count": null,
      "outputs": []
    },
    {
      "cell_type": "code",
      "execution_count": null,
      "metadata": {
        "id": "AifyiYln5663"
      },
      "outputs": [],
      "source": [
        "def centroid(points):\n",
        "    c = np.zeros(points.shape[1:])\n",
        "    for i in range(points.shape[0]):\n",
        "        c = c + points[i]\n",
        "    return c/points.shape[0]\n",
        "\n",
        "\n",
        "def visualise(w,shape):\n",
        "    \n",
        "    wsq=w.copy()\n",
        "    wsq = scaler.inverse_transform(np.reshape(wsq,(1,128)))\n",
        "    wsq = np.reshape(wsq,(1,4,4,8,))\n",
        "    wsq = decoder.predict(wsq)\n",
        "    wsq=np.reshape(wsq,(28,28))\n",
        "    #print(wsq)\n",
        "    plt.imshow(wsq, interpolation='nearest',cmap='gray')\n",
        "    plt.show()\n",
        "\n",
        "\n",
        "def visualise_pos(w,shape):\n",
        "    return \n",
        "    wsq=w.copy()\n",
        "    wsq=np.maximum(wsq, 0)\n",
        "    wsq = (wsq - np.min(wsq)) / (np.max(wsq) - np.min(wsq))\n",
        "    wsq=np.reshape(wsq,shape)\n",
        "    plt.imshow(wsq, interpolation='nearest',cmap='gray')\n",
        "    plt.show()\n",
        "\n",
        "def visualise_neg(w,shape):\n",
        "    return\n",
        "    wsq=w.copy()\n",
        "    wsq=np.minimum(wsq, 0)\n",
        "    wsq = (wsq - np.min(wsq)) / (np.max(wsq) - np.min(wsq))\n",
        "    wsq=np.reshape(wsq,shape)\n",
        "    plt.imshow(wsq, interpolation='nearest',cmap='gray')\n",
        "    plt.show()\n",
        "    \n",
        "\n",
        "def redoer(image, shape = (20,20), interpolation = cv2.INTER_CUBIC):\n",
        "    assert(len(shape)==2)\n",
        "    new_shape = (shape[1],shape[0])\n",
        "    shape=new_shape\n",
        "    reimage = cv2.resize(image, shape, interpolation=interpolation)\n",
        "    if len(reimage.shape)==3:\n",
        "        reimage = reimage.reshape((reimage.shape[0],reimage.shape[1]*reimage.shape[2]))\n",
        "    return reimage"
      ]
    },
    {
      "cell_type": "code",
      "source": [
        "a=np.zeros((1,4,4,8))"
      ],
      "metadata": {
        "id": "IuTXOXRDgdCq"
      },
      "execution_count": null,
      "outputs": []
    },
    {
      "cell_type": "code",
      "execution_count": null,
      "metadata": {
        "id": "T1JtRfPm6H_U"
      },
      "outputs": [],
      "source": [
        "def predict(X, w, b):\n",
        "  return np.sign(inner_prod(w, X)+b).reshape(-1,1)\n",
        "def accuracy(a,b):\n",
        "  n=0\n",
        "  for i in range(len(a)):\n",
        "    if(a[i]==b[i]):\n",
        "      n=n+1\n",
        "  return n/len(a)\n",
        "def getHyperPlaneFromTwoPoints(x1, x2):\n",
        "  assert(x1.shape[0]==x2.shape[0])\n",
        "  d = x1.shape[0]\n",
        "  w = (2) * (x2 - x1) / (np.linalg.norm(x1 - x2) ** 2)\n",
        "  #b = - np.dot(w , (0.5 * (x1 + x2)))\n",
        "  b = -1 * inner_prod(w,(0.5 * (x1 + x2)))  \n",
        "  return -w, -b"
      ]
    },
    {
      "cell_type": "code",
      "source": [
        "import numpy as np\n",
        "import tensorly as tl\n",
        "from tensorly.decomposition import parafac\n",
        "from random import seed\n",
        "np.random.seed(1)\n",
        "seed(1)\n",
        "\n",
        "def rank_R_decomp(X, rank = 3):\n",
        "    X_t = tl.tensor(X)\n",
        "    _, factors = parafac(X_t, int(rank))\n",
        "    fact_np = [tl.to_numpy(f) for f in factors]\n",
        "    return fact_np\n",
        "\n",
        "\n",
        "def inner_prod_decomp(Ai, Aj):\n",
        "    s = 0.0\n",
        "    R = Ai[0].shape[1]\n",
        "    for p in range(R):\n",
        "        for q in range(R):\n",
        "            prod = 1.0\n",
        "            for ai, aj in zip(Ai, Aj):  \n",
        "                prod *= np.dot(ai[:, p], aj[:, q])\n",
        "            s += prod\n",
        "    return s\n",
        "\n",
        "def make_kernel(data_decomp):\n",
        "    K = np.zeros((len(data_decomp), len(data_decomp)))\n",
        "    for i in range(len(data_decomp)):\n",
        "        for j in range(i+1):\n",
        "            K[i, j] = inner_prod_decomp(data_decomp[i], data_decomp[j])\n",
        "            K[j, i] = K[i, j]\n",
        "    return K\n",
        "\n",
        "def construct_W_from_mat(data_decomp, l, eps=1e-100):\n",
        "    R = data_decomp[0][1].shape[1]\n",
        "    W = tl.zeros([data_decomp[0][i].shape[0] for i in range(len(data_decomp[0]))])\n",
        "    for i, flag in enumerate((np.abs(l) > eps)):\n",
        "        if flag:\n",
        "            W += l[i]*tl.cp_to_tensor((np.ones(R), data_decomp[i]))\n",
        "    return tl.to_numpy(W)"
      ],
      "metadata": {
        "id": "U7Q0ow5HHHtU"
      },
      "execution_count": null,
      "outputs": []
    },
    {
      "cell_type": "code",
      "source": [
        "import numpy as np\n",
        "import cvxpy as cp\n",
        "from random import seed\n",
        "np.random.seed(1)\n",
        "seed(1)\n",
        "\n",
        "def construct_W_from_vec(W, shape):\n",
        "    W = W.reshape(shape)\n",
        "    return W\n",
        "    \n",
        "\n",
        "def inner_prod(A, B):\n",
        "    if A.shape == B.shape:\n",
        "        return np.sum(A*B)\n",
        "    if A.shape == B.shape[1:]:\n",
        "        ans = []\n",
        "        for b in B:\n",
        "            ans.append(np.sum(A*b))\n",
        "        return ans\n",
        "    \n",
        "def inner_prod_cp(A, B):\n",
        "    if A.shape == B.shape:\n",
        "        return cp.sum(cp.multiply(A,B))\n",
        "    if A.shape == B.shape[1:]:\n",
        "        ans = []\n",
        "        for b in B:\n",
        "            ans.append(cp.sum(cp.multiply(A,B)))\n",
        "        return ans"
      ],
      "metadata": {
        "id": "cKkrfpIRHQKJ"
      },
      "execution_count": null,
      "outputs": []
    },
    {
      "cell_type": "code",
      "source": [
        "!pip install tensorly"
      ],
      "metadata": {
        "colab": {
          "base_uri": "https://localhost:8080/"
        },
        "id": "-8-rSudPHK0e",
        "outputId": "60d0a81e-dbe7-4f4c-871e-bf3c893b4e44"
      },
      "execution_count": null,
      "outputs": [
        {
          "output_type": "stream",
          "name": "stdout",
          "text": [
            "Collecting tensorly\n",
            "  Downloading tensorly-0.7.0-py3-none-any.whl (198 kB)\n",
            "\u001b[?25l\r\u001b[K     |█▋                              | 10 kB 18.5 MB/s eta 0:00:01\r\u001b[K     |███▎                            | 20 kB 8.7 MB/s eta 0:00:01\r\u001b[K     |█████                           | 30 kB 8.3 MB/s eta 0:00:01\r\u001b[K     |██████▋                         | 40 kB 7.4 MB/s eta 0:00:01\r\u001b[K     |████████▎                       | 51 kB 3.6 MB/s eta 0:00:01\r\u001b[K     |██████████                      | 61 kB 4.2 MB/s eta 0:00:01\r\u001b[K     |███████████▋                    | 71 kB 4.4 MB/s eta 0:00:01\r\u001b[K     |█████████████▎                  | 81 kB 4.5 MB/s eta 0:00:01\r\u001b[K     |███████████████                 | 92 kB 5.0 MB/s eta 0:00:01\r\u001b[K     |████████████████▌               | 102 kB 4.2 MB/s eta 0:00:01\r\u001b[K     |██████████████████▏             | 112 kB 4.2 MB/s eta 0:00:01\r\u001b[K     |███████████████████▉            | 122 kB 4.2 MB/s eta 0:00:01\r\u001b[K     |█████████████████████▌          | 133 kB 4.2 MB/s eta 0:00:01\r\u001b[K     |███████████████████████▏        | 143 kB 4.2 MB/s eta 0:00:01\r\u001b[K     |████████████████████████▉       | 153 kB 4.2 MB/s eta 0:00:01\r\u001b[K     |██████████████████████████▌     | 163 kB 4.2 MB/s eta 0:00:01\r\u001b[K     |████████████████████████████▏   | 174 kB 4.2 MB/s eta 0:00:01\r\u001b[K     |█████████████████████████████▉  | 184 kB 4.2 MB/s eta 0:00:01\r\u001b[K     |███████████████████████████████▍| 194 kB 4.2 MB/s eta 0:00:01\r\u001b[K     |████████████████████████████████| 198 kB 4.2 MB/s \n",
            "\u001b[?25hRequirement already satisfied: scipy in /usr/local/lib/python3.7/dist-packages (from tensorly) (1.4.1)\n",
            "Requirement already satisfied: numpy in /usr/local/lib/python3.7/dist-packages (from tensorly) (1.21.5)\n",
            "Collecting nose\n",
            "  Downloading nose-1.3.7-py3-none-any.whl (154 kB)\n",
            "\u001b[K     |████████████████████████████████| 154 kB 47.1 MB/s \n",
            "\u001b[?25hInstalling collected packages: nose, tensorly\n",
            "Successfully installed nose-1.3.7 tensorly-0.7.0\n"
          ]
        }
      ]
    },
    {
      "cell_type": "code",
      "execution_count": null,
      "metadata": {
        "id": "JCCfPOtt6JU6"
      },
      "outputs": [],
      "source": [
        "def inner_mat(A, B, M = None):\n",
        "    assert(A.shape==B.shape)\n",
        "    M = A.shape[0] if M is None else M\n",
        "    M = min(M, A.shape[0])\n",
        "    mat = np.ones((M,M))\n",
        "    for i in range(M):\n",
        "        for j in range(M):\n",
        "            xi = A[i]\n",
        "            xj = B[j]\n",
        "            mat[i,j] = np.sum(xi*xj)\n",
        "    return mat\n",
        "def inner_prod_cp(w,x):\n",
        "    return cp.sum(cp.multiply(w,x))\n",
        "def inner_prod(A, B):\n",
        "    if A.shape == B.shape:\n",
        "        return np.sum(A*B)\n",
        "    if A.shape == B.shape[1:]:\n",
        "        ans = []\n",
        "        for b in B:\n",
        "            ans.append(np.sum(A*b))\n",
        "        return ans\n",
        "def solver(X, y, C = 1, method='MCM_STM', r = None, flag = True, xa = None, xb = None, methodw = 'L2', methodq = 'L1'):\n",
        "    method = 'MCM_STM'\n",
        "    y = y.reshape(-1,1)\n",
        "    assert(X.shape[0]==y.shape[0])\n",
        "    if flag==False or len(X.shape)==2:\n",
        "        if method == 'STM' or method == 'SHTM' or method == 'MCM_STM':\n",
        "            w = np.ones(X.shape[1:])\n",
        "            b = np.ones(y.shape[1:])\n",
        "            M = X.shape[0]\n",
        "            if method == 'STM':\n",
        "                H = np.dot(y,y.T)*inner_mat(X,X)*1.0\n",
        "            elif method == 'SHTM':\n",
        "                r = r if r is not None else 1\n",
        "                H = np.dot(y,y.T)*inner_mat(X, X, r, method='SHTM')*1.0\n",
        "            P_ = cvxopt.matrix(H)\n",
        "            q_ = cvxopt.matrix(-np.ones((M,1)))\n",
        "            G_ = cvxopt.matrix(np.vstack((np.eye(M)*-1,np.eye(M))))\n",
        "            h_ = cvxopt.matrix(np.hstack((np.zeros(M), np.ones(M)*C)))\n",
        "            A_ = cvxopt.matrix(y.reshape(1,-1).astype('float'))\n",
        "            b_ = cvxopt.matrix(np.zeros(1)) \n",
        "            sol = cvxopt.solvers.qp(P_, q_, G_, h_, A_, b_, options={'show_progress': False})\n",
        "            alphas = np.array(sol['x'])\n",
        "            w = np.tensordot((y*alphas).T, X, axes = ((1),(0))).reshape(X.shape[1:]) \n",
        "            b = -0.5*(max(inner_prod(w, X[(y==-1).reshape(-1)])) + min(inner_prod(w, X[(y==1).reshape(-1)])))\n",
        "            return w, b\n",
        "    else:\n",
        "        #only works for greyscale right now\n",
        "        xa = xa if xa is not None else np.zeros(X.shape[0])\n",
        "        xb = xb if xb is not None else np.zeros(X.shape[0])\n",
        "        assert(xa is not None)\n",
        "        assert(xb is not None)\n",
        "        assert(len(X.shape)<=3)\n",
        "        if len(X.shape)==3:\n",
        "            if method == 'MCM_STM':\n",
        "                M = X.shape[0]\n",
        "                w = cp.Variable(X.shape[1:])\n",
        "                b = cp.Variable((1,1))\n",
        "                wa = cp.Variable((1,1))\n",
        "                wb = cp.Variable((1,1))\n",
        "                qi = cp.Variable(y.shape)\n",
        "                h = cp.Variable((1,1))\n",
        "                if methodq == 'L1':\n",
        "                    #term2 = (C*(cp.sum(y*y)-cp.sum(y)))*((cp.sum(y*qi)+cp.sum(qi))/(cp.sum(y*y)+cp.sum(y[i]))  +  (-cp.sum(y*qi)+cp.sum(qi))/(cp.sum(y*y)-cp.sum(y)))\n",
        "                    term2 = cp.sum(qi)*C/M\n",
        "                elif methodq == 'L0':\n",
        "                    term2 = 0\n",
        "                    for i in range(y.shape[0]):\n",
        "                        term2 += cp.maximum(0,cp.sign(qi[i]))*C\n",
        "                objfun = cp.Minimize(h + term2)\n",
        "                constraints = []\n",
        "                maxes = np.max(X, axis=0)\n",
        "                mines = np.min(X, axis= 0)\n",
        "                #for i in range(X.shape[1]):\n",
        "                    #for j in range(X.shape[2]):\n",
        "                        #mines[i][j] = -1 * maxes[i][j]\n",
        "                #print(mines)\n",
        "                for i in range(X.shape[1]):\n",
        "                    for j in range(X.shape[2]):\n",
        "                        constraints+=[w[i][j]<=maxes[i][j], mines[i][j]<=w[i][j]]\n",
        "                for i in range(X.shape[0]):\n",
        "                    constraints+=[cp.multiply(y[i],(inner_prod_cp(w,X[i]) + b + cp.multiply(wa,xa[i]) + cp.multiply(wb,xb[i])))+qi[i] >= 1.0, \\\n",
        "                      #  cp.multiply(y[i],(inner_prod_cp(w,X[i]) + b + cp.multiply(wa,xa[i]) + cp.multiply(wb,xb[i])))+qi[i] <= h, qi[i]>=0]\n",
        "                         cp.multiply(y[i],(inner_prod_cp(w,X[i]) + b  ))+qi[i] <= h, qi[i]>=0]\n",
        "                problem = cp.Problem(objfun,constraints)\n",
        "                problem.solve(verbose=False)\n",
        "                #print(w.value)\n",
        "                return w.value, b.value, wa.value, wb.value\n",
        "                #MCTM(X, y, C = C, rank = 3, xa = xa, xb = xb, constrain = 'lax', wnorm = 'L1')\n",
        "            if method == 'STM' or method == 'SHTM':\n",
        "                w = cp.Variable(X.shape[1:])\n",
        "                b = cp.Variable((1,1))\n",
        "                wa = cp.Variable((1,1))\n",
        "                wb = cp.Variable((1,1))\n",
        "                qi = cp.Variable(y.shape)\n",
        "                if methodq == 'L1':\n",
        "                    term2 = cp.sum(qi)*C\n",
        "                elif methodq == 'L0':\n",
        "                    term2 = 0\n",
        "                    for i in range(y.shape[0]):\n",
        "                        term2 += cp.maximum(0,cp.sign(qi[i]))*C\n",
        "                if methodw == 'L2':\n",
        "                    term1 = 1/2*cp.norm2(w)\n",
        "                    term3 = 1/2*(cp.square(wa)+cp.square(wb))\n",
        "                elif methodw == 'L1':\n",
        "                    term1 = cp.norm1(w)\n",
        "                    term3 = cp.abs(wa)+cp.abs(wb)\n",
        "                elif methodw == 'L0':\n",
        "                    term1 = 0\n",
        "                    for i in range(X.shape[1]):\n",
        "                        for j in range(X.shape[2]):\n",
        "                            term1 += cp.maximum(0,cp.sign(w[i][j]))\n",
        "                    term3 = cp.maximum(0,cp.sign(wa))+cp.maximum(0,cp.sign(wb))\n",
        "                objfun = cp.Minimize(term1+term2+term3)\n",
        "                constraints = []\n",
        "                #constraints = y*(inner_prod_cp(w,X) + b + wa*xa + wb*xb) + qi >= 1\n",
        "                #constraints += qi>=0\n",
        "                maxes = np.max(X, axis=0)\n",
        "                mines = np.min(X, axis= 0)\n",
        "                #for i in range(X.shape[1]):\n",
        "                    #for j in range(X.shape[2]):\n",
        "                        #mines[i][j] = 0\n",
        "                for i in range(X.shape[1]):\n",
        "                    for j in range(X.shape[2]):\n",
        "                        constraints+=[w[i][j]<=maxes[i][j], mines[i][j]<=w[i][j]]\n",
        "                for i in range(X.shape[0]):\n",
        "                    constraints+=[cp.multiply(y[i],(inner_prod_cp(w,X[i]) + b + cp.multiply(wa,xa[i]) + cp.multiply(wb,xb[i])))+qi[i]>=1, qi[i]>=0]\n",
        "                problem = cp.Problem(objfun,constraints)\n",
        "                problem.solve()\n",
        "                return w.value, b.value, wa.value, wb.value\n",
        "            if method == 'neural':\n",
        "                y_train = (y+1)/2\n",
        "                model = Sequential()\n",
        "                model.add(Dense(1, activation='tanh', kernel_initializer='he_uniform',input_shape = (784,)))\n",
        "                opt = keras.optimizers.Adam(learning_rate=0.01)\n",
        "                model.compile(optimizer=opt, loss=tf.keras.losses.binary_crossentropy, metrics=['accuracy'])\n",
        "                model.fit(X, to_categorical(y), epochs=30, validation_split=0.1, batch_size=128)\n",
        "                \n",
        "                w = cp.Variable(X.shape[1:])\n",
        "                b = cp.Variable((1,1))\n",
        "                wa = cp.Variable((1,1))\n",
        "                wb = cp.Variable((1,1))\n",
        "                qi = cp.Variable(y.shape)\n",
        "                if methodq == 'L1':\n",
        "                    term2 = cp.sum(qi)*C\n",
        "                elif methodq == 'L0':\n",
        "                    term2 = 0\n",
        "                    for i in range(y.shape[0]):\n",
        "                        term2 += cp.maximum(0,cp.sign(qi[i]))*C\n",
        "                if methodw == 'L2':\n",
        "                    term1 = 1/2*cp.norm2(w)\n",
        "                    term3 = 1/2*(cp.square(wa)+cp.square(wb))\n",
        "                elif methodw == 'L1':\n",
        "                    term1 = cp.norm1(w)\n",
        "                    term3 = cp.abs(wa)+cp.abs(wb)\n",
        "                elif methodw == 'L0':\n",
        "                    term1 = 0\n",
        "                    for i in range(X.shape[1]):\n",
        "                        for j in range(X.shape[2]):\n",
        "                            term1 += cp.maximum(0,cp.sign(w[i][j]))\n",
        "                    term3 = cp.maximum(0,cp.sign(wa))+cp.maximum(0,cp.sign(wb))\n",
        "                objfun = cp.Minimize(term1+term2+term3)\n",
        "                constraints = []\n",
        "                #constraints = y*(inner_prod_cp(w,X) + b + wa*xa + wb*xb) + qi >= 1\n",
        "                #constraints += qi>=0\n",
        "                maxes = np.max(X, axis=0)\n",
        "                mines = np.min(X, axis= 0)\n",
        "                #for i in range(X.shape[1]):\n",
        "                    #for j in range(X.shape[2]):\n",
        "                        #mines[i][j] = 0\n",
        "                for i in range(X.shape[1]):\n",
        "                    for j in range(X.shape[2]):\n",
        "                        constraints+=[w[i][j]<=maxes[i][j], mines[i][j]<=w[i][j]]\n",
        "                for i in range(X.shape[0]):\n",
        "                    constraints+=[cp.multiply(y[i],(inner_prod_cp(w,X[i]) + b + cp.multiply(wa,xa[i]) + cp.multiply(wb,xb[i])))+qi[i]>=1, qi[i]>=0]\n",
        "                problem = cp.Problem(objfun,constraints)\n",
        "                problem.solve()\n",
        "                return w.value, b.value, wa.value, wb.value\n",
        "\n",
        "def MCTM(X, y, C = 1.0, rank = 3, xa = None, xb = None, constrain = 'lax', wnorm = 'L1'):\n",
        "    '''\n",
        "    If solver doesn't work, then hyperparameters chosen are faulty.\n",
        "    '''\n",
        "    M = len(X)\n",
        "    \n",
        "    wconst = 'minmax'\n",
        "    xa = xa if xa is not None else np.zeros(M)\n",
        "    xb = xb if xb is not None else np.zeros(M)\n",
        "    rank = 3 if rank is None else rank\n",
        "    constrain = M if constrain == 'lax' else 1\n",
        "    constrain =1\n",
        "    data_fact = [rank_R_decomp(x, rank) for x in X]\n",
        "    K = make_kernel(data_fact)\n",
        "\n",
        "    h = cp.Variable()\n",
        "    b = cp.Variable()\n",
        "    q = cp.Variable(M)\n",
        "    l = cp.Variable(M)\n",
        "    wa = cp.Variable()\n",
        "    wb = cp.Variable()\n",
        "\n",
        "    obj = h + C*cp.sum(q)/M\n",
        "\n",
        "    constraints = []\n",
        "    for i in range(M):\n",
        "        constraints.append(h >= y[i]*(cp.sum(cp.multiply(l,K[:, i])) + b + cp.multiply(wa,xa[i]) + cp.multiply(wb,xb[i])) + q[i])\n",
        "        constraints.append(y[i]*(cp.sum(cp.multiply(l,K[:, i])) + b + cp.multiply(wa,xa[i]) + cp.multiply(wb,xb[i])) + q[i] >= 1)\n",
        "    constraints.append(q >= 0)\n",
        "    if wconst == 'maxmax':\n",
        "        constraints.append(l >= -1/M*constrain)\n",
        "        constraints.append(l <= 1/M*constrain)\n",
        "    elif wconst == 'minmax':\n",
        "        constraints.append(l >= 0)\n",
        "        constraints.append(l <= 1/M*constrain)\n",
        "\n",
        "    prob = cp.Problem(cp.Minimize(obj), constraints)\n",
        "    prob.solve()\n",
        "    W = construct_W_from_mat(data_fact, l.value, 1e-9)\n",
        "    if verbose_solver:\n",
        "        tots = q.value\n",
        "        tots[tots<1e-9] = 0\n",
        "        print(f\"MCTM done, q = {np.sum(np.sign(tots))}\")\n",
        "    return W, b.value, wa.value, wb.value\n",
        "\n",
        "            \n"
      ]
    },
    {
      "cell_type": "code",
      "execution_count": null,
      "metadata": {
        "id": "POrftBPQ6KQJ"
      },
      "outputs": [],
      "source": [
        "class Node:\n",
        "  def __init__(self,inp_dimensions):\n",
        "    self.weight = np.zeros(inp_dimensions)\n",
        "    self.bias = 0\n",
        "    self.A = None\n",
        "    self.B = None\n",
        "    self.wA = 0\n",
        "    self.wB = 0\n",
        "    self.dim = inp_dimensions\n",
        "    self.C1=[]\n",
        "    self.C2=[]\n",
        "    self.C3=[]\n",
        "    self.C4=[]\n",
        "    self.labels = []\n",
        "    self.X = []\n",
        "    self.height = 0\n",
        "  def insert(self,neuron_type, weight=0, bias=0, w=0):     \n",
        "    if neuron_type == 'A':\n",
        "      self.A = Node(self.dim)\n",
        "      self.A.weight = weight\n",
        "      self.A.bias = bias\n",
        "      self.A.height = self.height+1\n",
        "      return self.A\n",
        "    else:\n",
        "      self.B = Node(self.dim)\n",
        "      self.B.weight = weight\n",
        "      self.B.bias = bias\n",
        "      self.B.height = self.height+1\n",
        "      return self.B\n",
        "  def update_weights_and_bias(self,weight, bias, wA = 0, wB = 0):  \n",
        "    self.weight = weight\n",
        "    self.bias = bias\n",
        "    self.wA = wA\n",
        "    self.wB = wB\n",
        "  def update_classes(self,ypred,ytrue):\n",
        "    ypred=ypred.copy()\n",
        "    ypred=np.reshape(ypred,(ypred.shape[0],1))    \n",
        "    yf  = np.add(2*ypred, ytrue)\n",
        "    self.C1 = np.argwhere(yf>2)[:,0] #1,1              #In order: predicted, true\n",
        "    self.C2 = np.argwhere(yf<-2)[:,0] #-1,-1\n",
        "    self.C3 = np.where((yf<2) & (yf>0))[0]   #1,-1\n",
        "    self.C4 = np.where((yf<0) & (yf>-2))[0] #-1,1\n",
        "  def forward(self, X): \n",
        "    \n",
        "    y=[]\n",
        "    X=X.copy()\n",
        "    w = self.weight \n",
        "    b = self.bias\n",
        "    wA = np.asarray([self.wA]).copy()\n",
        "    wB=np.asarray([self.wB]).copy()\n",
        "\n",
        "    if(self==None):\n",
        "      return [] \n",
        "    if(self.A==None and self.B==None):\n",
        "\n",
        "      y = np.sign(np.array(inner_prod(w, X))+np.array(b)).reshape(-1,1)\n",
        "    if(self.A==None):\n",
        "      xA = np.zeros((X.shape[0],1))\n",
        "    else:\n",
        "      xA = self.A.forward(X)\n",
        "      xA=np.reshape(xA,(xA.shape[0],1))\n",
        "    if(self.B==None):\n",
        "      xB = np.zeros((X.shape[0],1)) \n",
        "    else:\n",
        "      xB = self.B.forward(X)\n",
        "      xB=np.reshape(xB,(xB.shape[0],1))\n",
        "    if(self.A!=None and self.B!=None):\n",
        "\n",
        "      wA = np.asarray([np.asscalar(wA)])\n",
        "      wB = np.asarray([np.asscalar(wB)])\n",
        "\n",
        "      y = np.sign(np.asarray(inner_prod(w, X))+np.asarray(inner_prod(wA, xA))+np.asarray(inner_prod(wB, xB))+np.asarray(b)).reshape(-1,1)\n",
        "    if(self.A!=None and self.B==None):\n",
        "\n",
        "      wA = np.asarray([np.asscalar(wA)])\n",
        "      y = np.sign(np.asarray(inner_prod(w, X))+np.asarray(inner_prod(wA, xA))+np.asarray(b)).reshape(-1,1)\n",
        "    if(self.A==None and self.B!=None):\n",
        "\n",
        "      wB = np.asarray([np.asscalar(wB)])\n",
        "      y = np.sign(np.asarray(inner_prod(w, X))+np.asarray(inner_prod(wB, xB))+np.asarray(b)).reshape(-1,1)\n",
        "\n",
        "    return y\n",
        "    \n",
        "  def fine_tune_weights(self,C, arr,methodw, methodq):\n",
        "    l=self.labels.copy()\n",
        "    X = self.X.copy()\n",
        "    xA = np.zeros((X.shape[0],1))\n",
        "    xB = np.zeros((X.shape[0],1))\n",
        "    if(self==None):\n",
        "      return   \n",
        "    if(self.A!=None):\n",
        "      arr=self.A.fine_tune_weights(C, arr,methodw=methodw, methodq=methodq)  \n",
        "      xA = self.A.forward(X)\n",
        "      xA=np.reshape(xA,(xA.shape[0],1))\n",
        "\n",
        "    if(self.B!=None):\n",
        "      arr=self.B.fine_tune_weights(C, arr,methodw=methodw, methodq=methodq) \n",
        "      xB = self.B.forward(X)\n",
        "      xB=np.reshape(xB,(xB.shape[0],1))\n",
        "    ##Only take those X which have xa=xa tilda and xb =  xb tilda\n",
        "    ##Use hardmargin solver\n",
        "    weight, bias, wA, wB = solver(X,l,C,'STM',None,True,xA,xB, methodw=methodw, methodq=methodq)\n",
        "    print(self.height)\n",
        "    print(wA,wB)\n",
        "    #print(w)\n",
        "    print(weight)\n",
        "    arr=arr+[weight]\n",
        "    visualise(weight,(X.shape[1],X.shape[2]))\n",
        "    #visualise_pos(weight,(X.shape[1],X.shape[2]))\n",
        "    #visualise_neg(weight,(X.shape[1],X.shape[2]))##THis is hard coded assuming Grayscale Images\n",
        "\n",
        "    self.update_weights_and_bias(weight, bias,wA,wB)\n",
        "    return arr\n",
        "\n",
        "  def recursive(self, X,labels, h,C, methodw, methodq):\n",
        "    \n",
        "    self.X = X\n",
        "    self.labels = labels\n",
        "    labels=labels.copy()\n",
        "    count_pos = np.count_nonzero(labels == 1)\n",
        "    count_neg = np.count_nonzero(labels == -1)\n",
        "    print(\"Imbalance at height \"+str(self.height))\n",
        "    print(count_pos)\n",
        "    print(count_neg)\n",
        "    X=X.copy()\n",
        "    weight, bias, _, _1_ = solver(X,labels,C, methodw=methodw, methodq=methodq)\n",
        "    self.update_weights_and_bias(weight, bias)\n",
        "    ypred=self.forward(X)\n",
        "    self.update_classes(ypred,labels)\n",
        "    C1=self.C1\n",
        "    C2=self.C2\n",
        "    C3=self.C3\n",
        "    C4=self.C4\n",
        "    if(len(C3)==0 and len(C4)==0):\n",
        "      return\n",
        "    if(self.height>h-1):\n",
        "      return\n",
        "    if(len(C1)==0 or len(C2)==0):\n",
        "      if(len(C1)!=0):\n",
        "        X_positive=np.take(X,np.hstack((C1,C4)),axis=0) \n",
        "        X_negative=np.take(X,np.hstack((C3)),axis=0)\n",
        "        #x1=X[C1[0]]\n",
        "        #x2=X[C3[0]]\n",
        "      elif(len(C2)!=0):\n",
        "        X_positive=np.take(X,np.hstack((C4)),axis=0)  \n",
        "        X_negative=np.take(X,np.hstack((C2,C3)),axis=0)\n",
        "        #x1=X[C2[0]]\n",
        "        #x2=X[C4[0]]\n",
        "      else:\n",
        "        #x1=X[C3[0]]\n",
        "        #x2=X[C4[0]]\n",
        "        X_positive=np.take(X,np.hstack((C4)),axis=0)  \n",
        "        X_negative=np.take(X,np.hstack((C3)),axis=0)\n",
        "      x1 = centroid(X_positive)\n",
        "      x2 = centroid(X_negative)\n",
        "      weight, bias = getHyperPlaneFromTwoPoints(x1, x2)\n",
        "      self.update_weights_and_bias(weight, bias)\n",
        "      ypred = self.forward(X)\n",
        "      self.update_classes(ypred,labels)\n",
        "      C1=self.C1\n",
        "      C2=self.C2\n",
        "      C3=self.C3\n",
        "      C4=self.C4\n",
        "    print(\"lengths\")\n",
        "    print(len(C1))\n",
        "    print(len(C2))\n",
        "    l=len(C1)+len(C2)+len(C3)+len(C4)\n",
        "    if(len(C3)/l!=0):\n",
        "      X_new=np.take(X,np.hstack((C1,C3,C4)),axis=0)\n",
        "      labels[C1]=-1\n",
        "      labels[C3]=1\n",
        "      labels[C4]=-1\n",
        "      y_new=np.take(labels,np.hstack((C1,C3,C4)),axis=0)\n",
        "      print(y_new.shape)\n",
        "      NodeA = self.insert('A')\n",
        "      NodeA.recursive(X_new,y_new,h,C, methodw=methodw, methodq=methodq)\n",
        "    if(len(C4)/l!=0):\n",
        "      X_new=np.take(X,np.hstack((C2,C3,C4)),axis=0)\n",
        "      labels[C2]=-1\n",
        "      labels[C3]=-1\n",
        "      labels[C4]=1\n",
        "      y_new=np.take(labels,np.hstack((C2,C3,C4)),axis=0)\n",
        "      NodeB = self.insert('B')\n",
        "      NodeB.recursive(X_new,y_new,h,C, methodw=methodw, methodq=methodq)\n"
      ]
    },
    {
      "cell_type": "code",
      "execution_count": null,
      "metadata": {
        "id": "ML8ln7mQ6Lm3"
      },
      "outputs": [],
      "source": [
        "def train(X,y,arr,height = 1000,C=1000000, methodw = 'L2', methodq = 'L1'):\n",
        "  print(\"Start\")\n",
        "  Tree = Node(X.shape[1:])\n",
        "\n",
        "  Tree.recursive(X,y,height,C, methodw=methodw, methodq=methodq)\n",
        "  print(\"Recursion Done\")\n",
        "\n",
        "  arr=Tree.fine_tune_weights(C, arr,methodw=methodw, methodq=methodq)\n",
        "  print(\"End\")\n",
        "\n",
        "  ypred=Tree.forward(X)\n",
        "  print(\"Train accuracy:\")\n",
        "  print(accuracy(y,ypred))\n",
        "  return Tree,arr"
      ]
    },
    {
      "cell_type": "code",
      "source": [
        "from keras.datasets import mnist\n",
        "\n",
        "(x_train, y_train), (x_test, _) = mnist.load_data()\n",
        "\n",
        "x_train = x_train.astype('float32') / 255.\n",
        "x_test = x_test.astype('float32') / 255.\n",
        "x_train = np.reshape(x_train, (len(x_train), 28, 28, 1))\n",
        "x_test = np.reshape(x_test, (len(x_test), 28, 28, 1))\n"
      ],
      "metadata": {
        "id": "e5HakfFqQJX1"
      },
      "execution_count": null,
      "outputs": []
    },
    {
      "cell_type": "code",
      "source": [
        "import numpy as np\n",
        "import tensorflow as tf\n",
        "import matplotlib.pyplot as plt\n",
        "import keras\n",
        "from tensorflow.keras import layers\n",
        "from tensorflow.keras.datasets import mnist\n",
        "from tensorflow.keras.models import Model\n",
        "from keras import models"
      ],
      "metadata": {
        "id": "OnF1RhYkSSuX"
      },
      "execution_count": null,
      "outputs": []
    },
    {
      "cell_type": "code",
      "source": [
        "input_img = keras.Input(shape=(28, 28, 1))\n",
        "input_enc = keras.Input(shape=(4, 4, 8))\n",
        "\n",
        "x = layers.Conv2D(16, (3, 3), activation='relu', padding='same')(input_img)\n",
        "x = layers.MaxPooling2D((2, 2), padding='same')(x)\n",
        "x = layers.Conv2D(8, (3, 3), activation='relu', padding='same')(x)\n",
        "x = layers.MaxPooling2D((2, 2), padding='same')(x)\n",
        "x = layers.Conv2D(8, (3, 3), activation='relu', padding='same')(x)\n",
        "encoded = layers.MaxPooling2D((2, 2), padding='same')(x)\n",
        "\n",
        "encoder = keras.Model(input_img, encoded)\n",
        "# at this point the representation is (4, 4, 8) i.e. 128-dimensional\n",
        "\n",
        "x = layers.Conv2D(8, (3, 3), activation='relu', padding='same')(input_enc)\n",
        "x = layers.UpSampling2D((2, 2))(x)\n",
        "x = layers.Conv2D(8, (3, 3), activation='relu', padding='same')(x)\n",
        "x = layers.UpSampling2D((2, 2))(x)\n",
        "x = layers.Conv2D(16, (3, 3), activation='relu')(x)\n",
        "x = layers.UpSampling2D((2, 2))(x)\n",
        "decoded = layers.Conv2D(1, (3, 3), activation='sigmoid', padding='same')(x)\n",
        "decoder = keras.Model(input_enc, decoded)\n",
        "\n",
        "enc = encoder(input_img)\n",
        "dec = decoder(enc)\n",
        "\n",
        "\n",
        "autoencoder = keras.Model(input_img, dec)\n",
        "autoencoder.compile(optimizer='adam', loss='binary_crossentropy')"
      ],
      "metadata": {
        "id": "QDzKXOUBQ12-"
      },
      "execution_count": null,
      "outputs": []
    },
    {
      "cell_type": "code",
      "source": [
        "autoencoder.summary()"
      ],
      "metadata": {
        "colab": {
          "base_uri": "https://localhost:8080/"
        },
        "id": "GOvDC4xsQ6WU",
        "outputId": "5e59abfa-b7ec-49c1-cf32-53c971e74bd7"
      },
      "execution_count": null,
      "outputs": [
        {
          "output_type": "stream",
          "name": "stdout",
          "text": [
            "Model: \"model_2\"\n",
            "_________________________________________________________________\n",
            " Layer (type)                Output Shape              Param #   \n",
            "=================================================================\n",
            " input_1 (InputLayer)        [(None, 28, 28, 1)]       0         \n",
            "                                                                 \n",
            " model (Functional)          (None, 4, 4, 8)           1904      \n",
            "                                                                 \n",
            " model_1 (Functional)        (None, 28, 28, 1)         2481      \n",
            "                                                                 \n",
            "=================================================================\n",
            "Total params: 4,385\n",
            "Trainable params: 4,385\n",
            "Non-trainable params: 0\n",
            "_________________________________________________________________\n"
          ]
        }
      ]
    },
    {
      "cell_type": "code",
      "source": [
        "\n",
        "\n",
        "autoencoder.fit(x_train, x_train,\n",
        "                epochs=50,\n",
        "                batch_size=128,\n",
        "                shuffle=True,\n",
        "                validation_data=(x_test, x_test))\n"
      ],
      "metadata": {
        "colab": {
          "base_uri": "https://localhost:8080/"
        },
        "id": "kz6rAa5oQ8XF",
        "outputId": "482a0eff-b9dd-449b-e246-3dba0ca2f264"
      },
      "execution_count": null,
      "outputs": [
        {
          "output_type": "stream",
          "name": "stdout",
          "text": [
            "Epoch 1/50\n",
            "469/469 [==============================] - 21s 20ms/step - loss: 0.2152 - val_loss: 0.1462\n",
            "Epoch 2/50\n",
            "469/469 [==============================] - 9s 18ms/step - loss: 0.1363 - val_loss: 0.1278\n",
            "Epoch 3/50\n",
            "469/469 [==============================] - 9s 19ms/step - loss: 0.1242 - val_loss: 0.1191\n",
            "Epoch 4/50\n",
            "469/469 [==============================] - 8s 16ms/step - loss: 0.1176 - val_loss: 0.1144\n",
            "Epoch 5/50\n",
            "469/469 [==============================] - 6s 13ms/step - loss: 0.1136 - val_loss: 0.1111\n",
            "Epoch 6/50\n",
            "469/469 [==============================] - 6s 12ms/step - loss: 0.1110 - val_loss: 0.1087\n",
            "Epoch 7/50\n",
            "469/469 [==============================] - 6s 13ms/step - loss: 0.1090 - val_loss: 0.1071\n",
            "Epoch 8/50\n",
            "469/469 [==============================] - 6s 12ms/step - loss: 0.1074 - val_loss: 0.1055\n",
            "Epoch 9/50\n",
            "469/469 [==============================] - 6s 12ms/step - loss: 0.1060 - val_loss: 0.1043\n",
            "Epoch 10/50\n",
            "469/469 [==============================] - 5s 12ms/step - loss: 0.1049 - val_loss: 0.1039\n",
            "Epoch 11/50\n",
            "469/469 [==============================] - 5s 11ms/step - loss: 0.1040 - val_loss: 0.1027\n",
            "Epoch 12/50\n",
            "469/469 [==============================] - 5s 11ms/step - loss: 0.1031 - val_loss: 0.1014\n",
            "Epoch 13/50\n",
            "469/469 [==============================] - 5s 11ms/step - loss: 0.1023 - val_loss: 0.1010\n",
            "Epoch 14/50\n",
            "469/469 [==============================] - 5s 11ms/step - loss: 0.1016 - val_loss: 0.1003\n",
            "Epoch 15/50\n",
            "469/469 [==============================] - 6s 12ms/step - loss: 0.1010 - val_loss: 0.0994\n",
            "Epoch 16/50\n",
            "469/469 [==============================] - 6s 12ms/step - loss: 0.1004 - val_loss: 0.0992\n",
            "Epoch 17/50\n",
            "469/469 [==============================] - 5s 11ms/step - loss: 0.0999 - val_loss: 0.0991\n",
            "Epoch 18/50\n",
            "469/469 [==============================] - 6s 12ms/step - loss: 0.0994 - val_loss: 0.0983\n",
            "Epoch 19/50\n",
            "469/469 [==============================] - 5s 12ms/step - loss: 0.0989 - val_loss: 0.0975\n",
            "Epoch 20/50\n",
            "469/469 [==============================] - 6s 13ms/step - loss: 0.0984 - val_loss: 0.0971\n",
            "Epoch 21/50\n",
            "469/469 [==============================] - 5s 12ms/step - loss: 0.0981 - val_loss: 0.0966\n",
            "Epoch 22/50\n",
            "469/469 [==============================] - 6s 12ms/step - loss: 0.0977 - val_loss: 0.0963\n",
            "Epoch 23/50\n",
            "469/469 [==============================] - 5s 11ms/step - loss: 0.0973 - val_loss: 0.0966\n",
            "Epoch 24/50\n",
            "469/469 [==============================] - 6s 12ms/step - loss: 0.0970 - val_loss: 0.0956\n",
            "Epoch 25/50\n",
            "469/469 [==============================] - 6s 13ms/step - loss: 0.0966 - val_loss: 0.0955\n",
            "Epoch 26/50\n",
            "469/469 [==============================] - 5s 12ms/step - loss: 0.0963 - val_loss: 0.0951\n",
            "Epoch 27/50\n",
            "469/469 [==============================] - 6s 12ms/step - loss: 0.0960 - val_loss: 0.0948\n",
            "Epoch 28/50\n",
            "469/469 [==============================] - 6s 12ms/step - loss: 0.0958 - val_loss: 0.0945\n",
            "Epoch 29/50\n",
            "469/469 [==============================] - 6s 12ms/step - loss: 0.0955 - val_loss: 0.0944\n",
            "Epoch 30/50\n",
            "469/469 [==============================] - 5s 12ms/step - loss: 0.0952 - val_loss: 0.0941\n",
            "Epoch 31/50\n",
            "469/469 [==============================] - 5s 12ms/step - loss: 0.0950 - val_loss: 0.0944\n",
            "Epoch 32/50\n",
            "469/469 [==============================] - 5s 11ms/step - loss: 0.0948 - val_loss: 0.0936\n",
            "Epoch 33/50\n",
            "469/469 [==============================] - 5s 11ms/step - loss: 0.0946 - val_loss: 0.0937\n",
            "Epoch 34/50\n",
            "469/469 [==============================] - 6s 12ms/step - loss: 0.0943 - val_loss: 0.0931\n",
            "Epoch 35/50\n",
            "469/469 [==============================] - 5s 11ms/step - loss: 0.0941 - val_loss: 0.0930\n",
            "Epoch 36/50\n",
            "469/469 [==============================] - 5s 12ms/step - loss: 0.0939 - val_loss: 0.0928\n",
            "Epoch 37/50\n",
            "469/469 [==============================] - 5s 11ms/step - loss: 0.0937 - val_loss: 0.0929\n",
            "Epoch 38/50\n",
            "469/469 [==============================] - 6s 12ms/step - loss: 0.0936 - val_loss: 0.0925\n",
            "Epoch 39/50\n",
            "469/469 [==============================] - 6s 12ms/step - loss: 0.0933 - val_loss: 0.0921\n",
            "Epoch 40/50\n",
            "469/469 [==============================] - 5s 11ms/step - loss: 0.0932 - val_loss: 0.0922\n",
            "Epoch 41/50\n",
            "469/469 [==============================] - 5s 11ms/step - loss: 0.0930 - val_loss: 0.0918\n",
            "Epoch 42/50\n",
            "469/469 [==============================] - 6s 12ms/step - loss: 0.0929 - val_loss: 0.0933\n",
            "Epoch 43/50\n",
            "469/469 [==============================] - 5s 11ms/step - loss: 0.0927 - val_loss: 0.0918\n",
            "Epoch 44/50\n",
            "469/469 [==============================] - 5s 11ms/step - loss: 0.0925 - val_loss: 0.0916\n",
            "Epoch 45/50\n",
            "469/469 [==============================] - 6s 12ms/step - loss: 0.0924 - val_loss: 0.0916\n",
            "Epoch 46/50\n",
            "469/469 [==============================] - 5s 12ms/step - loss: 0.0922 - val_loss: 0.0916\n",
            "Epoch 47/50\n",
            "469/469 [==============================] - 5s 11ms/step - loss: 0.0921 - val_loss: 0.0909\n",
            "Epoch 48/50\n",
            "469/469 [==============================] - 6s 12ms/step - loss: 0.0920 - val_loss: 0.0907\n",
            "Epoch 49/50\n",
            "469/469 [==============================] - 6s 12ms/step - loss: 0.0918 - val_loss: 0.0906\n",
            "Epoch 50/50\n",
            "469/469 [==============================] - 5s 11ms/step - loss: 0.0917 - val_loss: 0.0906\n"
          ]
        },
        {
          "output_type": "execute_result",
          "data": {
            "text/plain": [
              "<keras.callbacks.History at 0x7f4f6c7f6410>"
            ]
          },
          "metadata": {},
          "execution_count": 19
        }
      ]
    },
    {
      "cell_type": "code",
      "execution_count": null,
      "metadata": {
        "id": "o-Y5rxfw6Nt4"
      },
      "outputs": [],
      "source": [
        "XALL = x_train[:10000]\n",
        "yALL = y_train.reshape(-1,1)[:10000].astype(np.int8)\n",
        "y0 = (yALL == 0)\n",
        "#ytrain0 = yALL[y0.reshape(-1)]+1\n",
        "y1 = (yALL == 1)\n",
        "y2 = (yALL == 2)\n",
        "y3 = (yALL == 3)\n",
        "y4 = (yALL == 4)\n",
        "y5 = (yALL == 5)\n",
        "y6 = (yALL == 6)\n",
        "y7 = (yALL == 7)\n",
        "y8 = (yALL == 8)\n",
        "y9 = (yALL == 9)\n",
        "#ytot = y1+y3+y7+y8\n",
        "ytot = y4+y9\n",
        "\n",
        "Xtrain = XALL[ytot.reshape(-1)]\n",
        "#ytrain = yALL[ytot.reshape(-1)]\n",
        "#ytrain = np.vstack((ytrain1,ytrain3,ytrain7,ytrain8))\n",
        "ytrain = yALL[ytot.reshape(-1)]\n",
        "for i in range(0,len(ytrain)):\n",
        "    if(ytrain[i]==4 ):\n",
        "        ytrain[i]=1\n",
        "    else:\n",
        "        ytrain[i]=-1\n",
        "\n",
        "#print(ytrain[4000])"
      ]
    },
    {
      "cell_type": "code",
      "source": [
        ""
      ],
      "metadata": {
        "colab": {
          "base_uri": "https://localhost:8080/"
        },
        "id": "zDLswkgNe-h8",
        "outputId": "64f2e98b-3d39-4861-fb83-d29c1ae610b0"
      },
      "execution_count": null,
      "outputs": [
        {
          "output_type": "stream",
          "name": "stdout",
          "text": [
            "[[False]\n",
            " [False]\n",
            " [False]\n",
            " ...\n",
            " [False]\n",
            " [False]\n",
            " [False]]\n"
          ]
        }
      ]
    },
    {
      "cell_type": "code",
      "source": [
        "\n",
        "All_weights=[]\n",
        "for num in range(0,10):\n",
        "    print(num)\n",
        "    XALL = x_train[:1000]\n",
        "    yALL = y_train.reshape(-1,1)[:1000].astype(np.int8)\n",
        "    y0 = (yALL == 0)\n",
        "    y1 = (yALL == 1)\n",
        "    y2 = (yALL == 2)\n",
        "    y3 = (yALL == 3)\n",
        "    y4 = (yALL == 4)\n",
        "    y5 = (yALL == 5)\n",
        "    y6 = (yALL == 6)\n",
        "    y7 = (yALL == 7)\n",
        "    y8 = (yALL == 8)\n",
        "    y9 = (yALL == 9)\n",
        "    ytot = y0+y1+y2+y3+y4+y5+y6+y7+y8+y9\n",
        "    Xtrain = XALL[ytot.reshape(-1)]\n",
        "    ytrain = yALL[ytot.reshape(-1)]\n",
        "    for i in range(0,len(ytrain)):\n",
        "        if(ytrain[i]==num ):\n",
        "            ytrain[i]=1\n",
        "        else:\n",
        "            ytrain[i]=-1\n",
        "    Xtrain  = encoder.predict(Xtrain)\n",
        "    scaler = StandardScaler()\n",
        "    Xtrain = scaler.fit_transform(Xtrain.reshape(Xtrain.shape[0],Xtrain.shape[1]*Xtrain.shape[2]*Xtrain.shape[3])).reshape(Xtrain.shape)\n",
        "    Xtrain=Xtrain.reshape(Xtrain.shape[0],Xtrain.shape[1]*Xtrain.shape[2]*Xtrain.shape[3],1)\n",
        "    arr=[]\n",
        "    model,arr = train(Xtrain,ytrain,arr,0,1000,'L1','L1')\n",
        "    All_weights=All_weights+[arr]\n"
      ],
      "metadata": {
        "colab": {
          "base_uri": "https://localhost:8080/",
          "height": 1000
        },
        "id": "Okj6MIAKdE_n",
        "outputId": "7273b324-ff53-4446-a76d-0ee69023e7ac"
      },
      "execution_count": null,
      "outputs": [
        {
          "output_type": "stream",
          "name": "stdout",
          "text": [
            "0\n",
            "Start\n",
            "Imbalance at height 0\n",
            "97\n",
            "903\n",
            "Recursion Done\n",
            "0\n",
            "[[0.]] [[0.]]\n",
            "[[ 0.09894074]\n",
            " [-0.39304358]\n",
            " [ 0.07456618]\n",
            " [-0.05554509]\n",
            " [-0.19452997]\n",
            " [-0.288166  ]\n",
            " [ 0.08923223]\n",
            " [-0.14960026]\n",
            " [-0.12819941]\n",
            " [-0.12912215]\n",
            " [ 0.41342611]\n",
            " [ 0.35216458]\n",
            " [ 0.0061126 ]\n",
            " [-0.00651019]\n",
            " [-0.10301122]\n",
            " [ 0.06498114]\n",
            " [ 0.48888999]\n",
            " [-0.04051404]\n",
            " [-0.18542287]\n",
            " [-0.06359503]\n",
            " [-0.21974473]\n",
            " [-0.16738143]\n",
            " [ 0.22336415]\n",
            " [-0.09591842]\n",
            " [-0.78485997]\n",
            " [ 1.15464857]\n",
            " [ 0.18960856]\n",
            " [ 0.04000872]\n",
            " [-0.17689692]\n",
            " [-0.59061247]\n",
            " [ 0.03089125]\n",
            " [ 0.43349339]\n",
            " [-0.0818639 ]\n",
            " [ 0.23802215]\n",
            " [ 0.52192682]\n",
            " [ 0.31998385]\n",
            " [ 0.07077187]\n",
            " [ 0.04333994]\n",
            " [-0.2868083 ]\n",
            " [-0.0017884 ]\n",
            " [-0.21245777]\n",
            " [-0.55834036]\n",
            " [ 0.09233931]\n",
            " [ 0.28222895]\n",
            " [ 0.34457437]\n",
            " [ 0.16208884]\n",
            " [ 0.02133419]\n",
            " [-0.07614866]\n",
            " [-0.33337244]\n",
            " [-0.01039065]\n",
            " [-0.0495224 ]\n",
            " [-0.18385324]\n",
            " [-0.15739524]\n",
            " [-0.10482312]\n",
            " [ 0.19491549]\n",
            " [ 0.02202508]\n",
            " [ 0.53414684]\n",
            " [ 0.02427302]\n",
            " [ 0.37131128]\n",
            " [ 0.24512499]\n",
            " [-0.16952085]\n",
            " [-0.33110508]\n",
            " [ 0.27588993]\n",
            " [ 0.04934906]\n",
            " [-0.54986877]\n",
            " [ 0.04005408]\n",
            " [-0.52787513]\n",
            " [ 0.21262127]\n",
            " [-0.21799182]\n",
            " [-0.19672617]\n",
            " [-0.05802995]\n",
            " [ 0.0669293 ]\n",
            " [-0.19997826]\n",
            " [ 0.02502428]\n",
            " [ 0.37220871]\n",
            " [ 0.36586297]\n",
            " [-0.07303227]\n",
            " [ 0.38954901]\n",
            " [-0.18630197]\n",
            " [ 0.08051811]\n",
            " [ 0.28833534]\n",
            " [-0.09696924]\n",
            " [-0.34114279]\n",
            " [ 0.11221799]\n",
            " [ 0.33347522]\n",
            " [-0.51013889]\n",
            " [-0.08811744]\n",
            " [-0.03593808]\n",
            " [-0.73065148]\n",
            " [-0.05808215]\n",
            " [ 0.27580921]\n",
            " [ 0.15658457]\n",
            " [ 0.20517748]\n",
            " [-0.05292139]\n",
            " [-0.02712748]\n",
            " [ 0.20518576]\n",
            " [ 0.08020671]\n",
            " [-0.46963188]\n",
            " [ 0.30629958]\n",
            " [ 0.5519835 ]\n",
            " [-0.46049219]\n",
            " [-0.17781899]\n",
            " [-0.26511462]\n",
            " [ 0.12411278]\n",
            " [ 0.66476816]\n",
            " [-0.19902384]\n",
            " [ 0.47786502]\n",
            " [-0.27954665]\n",
            " [-0.40091624]\n",
            " [ 0.1692189 ]\n",
            " [ 0.22955702]\n",
            " [ 0.43804752]\n",
            " [-0.19613677]\n",
            " [-0.7710098 ]\n",
            " [ 0.44082235]\n",
            " [ 0.15077017]\n",
            " [-0.00190712]\n",
            " [-0.01073192]\n",
            " [-0.29685118]\n",
            " [ 0.0206504 ]\n",
            " [ 0.17059014]\n",
            " [ 0.07648017]\n",
            " [ 0.52745735]\n",
            " [ 0.05182686]\n",
            " [-0.28291243]\n",
            " [-0.51969914]\n",
            " [ 0.07857129]\n",
            " [-0.03651633]]\n"
          ]
        },
        {
          "output_type": "display_data",
          "data": {
            "image/png": "[encoded data removed]",
            "text/plain": [
              "<Figure size 432x288 with 1 Axes>"
            ]
          },
          "metadata": {
            "needs_background": "light"
          }
        },
        {
          "output_type": "stream",
          "name": "stdout",
          "text": [
            "End\n",
            "Train accuracy:\n",
            "1.0\n",
            "1\n",
            "Start\n",
            "Imbalance at height 0\n",
            "116\n",
            "884\n",
            "Recursion Done\n",
            "0\n",
            "[[0.]] [[0.]]\n",
            "[[ 0.3692249 ]\n",
            " [-0.35658562]\n",
            " [ 0.88870267]\n",
            " [ 0.32522731]\n",
            " [-0.51223413]\n",
            " [ 0.00271023]\n",
            " [ 0.02327611]\n",
            " [-0.47903291]\n",
            " [ 0.18342433]\n",
            " [-0.60017058]\n",
            " [ 0.46000393]\n",
            " [-0.38661437]\n",
            " [ 0.56296457]\n",
            " [ 0.27211815]\n",
            " [-0.19075582]\n",
            " [-0.13245218]\n",
            " [-0.4129538 ]\n",
            " [ 0.22915232]\n",
            " [-0.05225375]\n",
            " [ 0.28867173]\n",
            " [ 0.41455729]\n",
            " [-0.20188931]\n",
            " [ 0.00172847]\n",
            " [ 0.05538656]\n",
            " [ 0.28151793]\n",
            " [-0.6319919 ]\n",
            " [ 0.29117125]\n",
            " [-0.41576344]\n",
            " [ 0.02679228]\n",
            " [ 0.32452064]\n",
            " [ 0.08233139]\n",
            " [-0.15745482]\n",
            " [-1.24557517]\n",
            " [ 0.87512263]\n",
            " [-1.06170954]\n",
            " [ 0.45407408]\n",
            " [ 0.08772362]\n",
            " [ 0.09958393]\n",
            " [-0.74682939]\n",
            " [ 1.11039269]\n",
            " [ 0.13702933]\n",
            " [ 0.28213634]\n",
            " [ 0.45669027]\n",
            " [-0.26663327]\n",
            " [-0.35181821]\n",
            " [-0.05550682]\n",
            " [ 0.53802538]\n",
            " [ 0.27568382]\n",
            " [-0.30456952]\n",
            " [ 0.20969007]\n",
            " [-0.28346388]\n",
            " [-0.07100856]\n",
            " [-0.0691549 ]\n",
            " [-0.18237055]\n",
            " [-0.02196507]\n",
            " [-0.06320138]\n",
            " [-0.37061993]\n",
            " [ 0.22912261]\n",
            " [-0.01374079]\n",
            " [ 0.35305903]\n",
            " [-0.0321493 ]\n",
            " [-0.05382723]\n",
            " [-0.12104782]\n",
            " [ 0.25337484]\n",
            " [ 1.15657252]\n",
            " [ 0.41312744]\n",
            " [-0.8827089 ]\n",
            " [-0.08083406]\n",
            " [-0.17281612]\n",
            " [-0.3580416 ]\n",
            " [ 0.00683212]\n",
            " [-0.65483124]\n",
            " [ 0.30059755]\n",
            " [-0.13098299]\n",
            " [ 0.08015911]\n",
            " [ 0.03455982]\n",
            " [ 0.16010008]\n",
            " [-0.05626373]\n",
            " [ 0.45460332]\n",
            " [ 0.23577385]\n",
            " [-0.33584635]\n",
            " [-0.16023226]\n",
            " [-0.03765878]\n",
            " [ 0.09311797]\n",
            " [-0.05150266]\n",
            " [-0.08397508]\n",
            " [ 0.24511008]\n",
            " [-0.05166677]\n",
            " [-0.86133409]\n",
            " [ 0.78293126]\n",
            " [-0.16610803]\n",
            " [ 0.57481441]\n",
            " [ 0.06473908]\n",
            " [-0.83808432]\n",
            " [ 0.26476596]\n",
            " [ 0.05257064]\n",
            " [ 0.28124938]\n",
            " [-0.92512965]\n",
            " [ 0.09306444]\n",
            " [ 0.81863509]\n",
            " [ 0.61710578]\n",
            " [-0.41136667]\n",
            " [-0.49433517]\n",
            " [ 0.36080229]\n",
            " [-1.10480968]\n",
            " [ 0.76798892]\n",
            " [-0.0150118 ]\n",
            " [ 0.67690759]\n",
            " [-0.30355459]\n",
            " [ 0.04660231]\n",
            " [ 0.12692183]\n",
            " [-0.11885639]\n",
            " [ 0.10586019]\n",
            " [ 0.17868324]\n",
            " [-0.26089393]\n",
            " [-0.16632482]\n",
            " [-0.05320015]\n",
            " [ 0.04952391]\n",
            " [ 0.13528271]\n",
            " [ 0.05748923]\n",
            " [ 0.32361129]\n",
            " [ 0.08460207]\n",
            " [ 0.06239835]\n",
            " [-0.18642337]\n",
            " [ 0.02500288]\n",
            " [-0.22861689]\n",
            " [ 0.02673779]\n",
            " [-0.27773359]]\n"
          ]
        },
        {
          "output_type": "display_data",
          "data": {
            "image/png": "[encoded data removed]",
            "text/plain": [
              "<Figure size 432x288 with 1 Axes>"
            ]
          },
          "metadata": {
            "needs_background": "light"
          }
        },
        {
          "output_type": "stream",
          "name": "stdout",
          "text": [
            "End\n",
            "Train accuracy:\n",
            "1.0\n",
            "2\n",
            "Start\n",
            "Imbalance at height 0\n",
            "99\n",
            "901\n",
            "Recursion Done\n",
            "0\n",
            "[[0.]] [[0.]]\n",
            "[[ 0.50850402]\n",
            " [-0.67301225]\n",
            " [ 0.65863961]\n",
            " [ 0.24462487]\n",
            " [ 0.01667765]\n",
            " [ 0.03412409]\n",
            " [ 0.20841606]\n",
            " [-0.6322484 ]\n",
            " [ 0.06953912]\n",
            " [ 0.69584672]\n",
            " [-0.32356859]\n",
            " [-0.25445326]\n",
            " [-0.48177791]\n",
            " [ 0.31019065]\n",
            " [ 0.17105471]\n",
            " [ 0.01213689]\n",
            " [ 0.01142669]\n",
            " [ 0.51258733]\n",
            " [ 0.37481068]\n",
            " [-0.56357387]\n",
            " [ 0.27549137]\n",
            " [ 0.04404704]\n",
            " [-0.08223867]\n",
            " [ 0.20066441]\n",
            " [ 0.81591536]\n",
            " [-0.63019946]\n",
            " [ 0.40906967]\n",
            " [ 0.2798033 ]\n",
            " [-0.16966311]\n",
            " [-0.91121511]\n",
            " [ 0.02110977]\n",
            " [-0.05147959]\n",
            " [ 0.80333512]\n",
            " [ 0.04103369]\n",
            " [ 0.05178087]\n",
            " [-0.99766882]\n",
            " [-0.27178231]\n",
            " [-0.04996012]\n",
            " [-0.87277046]\n",
            " [ 0.06215772]\n",
            " [-0.29997669]\n",
            " [-0.12496865]\n",
            " [-0.34522856]\n",
            " [-0.4139716 ]\n",
            " [-0.33792367]\n",
            " [-0.10382035]\n",
            " [ 0.02114426]\n",
            " [-0.17331921]\n",
            " [-0.06287686]\n",
            " [ 0.19104245]\n",
            " [ 0.11273396]\n",
            " [ 0.11803599]\n",
            " [-0.00562782]\n",
            " [ 0.26479096]\n",
            " [-0.06187765]\n",
            " [-0.00633231]\n",
            " [-1.25470173]\n",
            " [ 0.86637978]\n",
            " [-0.43743419]\n",
            " [-0.65712672]\n",
            " [ 0.40159599]\n",
            " [ 0.83992291]\n",
            " [-0.09337095]\n",
            " [ 0.23762936]\n",
            " [-0.4468853 ]\n",
            " [-0.03485579]\n",
            " [-0.07423804]\n",
            " [ 0.0934759 ]\n",
            " [-0.15364849]\n",
            " [ 0.01935631]\n",
            " [ 0.23730989]\n",
            " [-0.29722423]\n",
            " [ 0.09364098]\n",
            " [ 0.19347418]\n",
            " [ 1.03611946]\n",
            " [-0.56064311]\n",
            " [ 0.10008912]\n",
            " [-0.02886342]\n",
            " [ 0.63988467]\n",
            " [-0.03823355]\n",
            " [ 0.33479781]\n",
            " [-0.08116025]\n",
            " [-0.08128478]\n",
            " [-0.16285419]\n",
            " [-0.29423085]\n",
            " [-0.33146472]\n",
            " [-0.28780147]\n",
            " [ 0.02210746]\n",
            " [ 2.2913318 ]\n",
            " [-0.48904906]\n",
            " [ 0.86323472]\n",
            " [-0.13182528]\n",
            " [-0.1770981 ]\n",
            " [-0.09333132]\n",
            " [-0.41028741]\n",
            " [-0.15914092]\n",
            " [-1.29663312]\n",
            " [ 1.33563279]\n",
            " [-0.58963308]\n",
            " [ 0.24167603]\n",
            " [ 0.12157505]\n",
            " [-0.17230047]\n",
            " [ 0.40620131]\n",
            " [-0.25967385]\n",
            " [ 1.07122215]\n",
            " [-1.29834624]\n",
            " [ 0.35206299]\n",
            " [-1.12230459]\n",
            " [-0.4400412 ]\n",
            " [ 1.3280078 ]\n",
            " [-0.8431707 ]\n",
            " [ 0.32248439]\n",
            " [-0.19462916]\n",
            " [ 0.86384226]\n",
            " [ 0.34165856]\n",
            " [-0.16018759]\n",
            " [ 0.12346153]\n",
            " [-0.32360868]\n",
            " [ 0.25674395]\n",
            " [-0.3647928 ]\n",
            " [-0.27240771]\n",
            " [-0.14186831]\n",
            " [-0.4266926 ]\n",
            " [-0.41080154]\n",
            " [ 0.32881819]\n",
            " [ 0.03807722]\n",
            " [-0.344529  ]\n",
            " [-0.06968854]]\n"
          ]
        },
        {
          "output_type": "display_data",
          "data": {
            "image/png": "[encoded data removed]",
            "text/plain": [
              "<Figure size 432x288 with 1 Axes>"
            ]
          },
          "metadata": {
            "needs_background": "light"
          }
        },
        {
          "output_type": "stream",
          "name": "stdout",
          "text": [
            "End\n",
            "Train accuracy:\n",
            "1.0\n",
            "3\n",
            "Start\n",
            "Imbalance at height 0\n",
            "93\n",
            "907\n",
            "Recursion Done\n",
            "0\n",
            "[[0.]] [[0.]]\n",
            "[[ 0.39641189]\n",
            " [-0.03377922]\n",
            " [-0.36177158]\n",
            " [-0.01571004]\n",
            " [ 0.80073159]\n",
            " [-0.10082671]\n",
            " [ 0.46293958]\n",
            " [-0.49814259]\n",
            " [-0.05488778]\n",
            " [-0.24223455]\n",
            " [-0.11046908]\n",
            " [-0.16074335]\n",
            " [-0.04312155]\n",
            " [-0.5822523 ]\n",
            " [-0.81791431]\n",
            " [ 0.12285135]\n",
            " [-0.57221217]\n",
            " [ 0.47323655]\n",
            " [ 0.77356374]\n",
            " [ 0.47692715]\n",
            " [-0.50280744]\n",
            " [ 0.52837252]\n",
            " [ 0.12848621]\n",
            " [ 0.02167029]\n",
            " [ 0.02848475]\n",
            " [ 0.44750869]\n",
            " [-0.35840668]\n",
            " [-0.49446884]\n",
            " [ 0.23501813]\n",
            " [ 0.19051232]\n",
            " [-0.1269434 ]\n",
            " [ 0.32834302]\n",
            " [-0.63817906]\n",
            " [ 0.37118721]\n",
            " [-0.32305323]\n",
            " [ 0.35641494]\n",
            " [ 0.40323471]\n",
            " [-0.07174663]\n",
            " [-0.74924566]\n",
            " [-0.0983221 ]\n",
            " [-0.08128569]\n",
            " [-0.36214406]\n",
            " [ 1.07726387]\n",
            " [-0.11484744]\n",
            " [-0.37469655]\n",
            " [ 0.02498611]\n",
            " [ 0.09034723]\n",
            " [-0.2932102 ]\n",
            " [ 0.26717905]\n",
            " [ 0.23139765]\n",
            " [-0.20158789]\n",
            " [ 0.19068127]\n",
            " [-0.04265744]\n",
            " [-0.16200802]\n",
            " [-0.104809  ]\n",
            " [ 0.02294827]\n",
            " [ 0.06909649]\n",
            " [-0.0924832 ]\n",
            " [ 0.05369618]\n",
            " [ 0.13586579]\n",
            " [-0.43776704]\n",
            " [-0.17802364]\n",
            " [ 0.42999258]\n",
            " [-0.03053777]\n",
            " [ 0.68609538]\n",
            " [-0.05700232]\n",
            " [-0.10614487]\n",
            " [ 0.38768912]\n",
            " [-0.55759514]\n",
            " [ 0.04021098]\n",
            " [-0.40377114]\n",
            " [ 0.14192796]\n",
            " [ 0.31876797]\n",
            " [-0.35379543]\n",
            " [ 0.05947772]\n",
            " [ 0.27916089]\n",
            " [ 0.2646425 ]\n",
            " [-0.55323341]\n",
            " [-0.53692716]\n",
            " [-0.38166419]\n",
            " [ 1.01692579]\n",
            " [-0.21343462]\n",
            " [ 0.1800608 ]\n",
            " [-0.3870223 ]\n",
            " [-0.13646064]\n",
            " [ 0.15994698]\n",
            " [ 0.138197  ]\n",
            " [-0.02390854]\n",
            " [-0.67573801]\n",
            " [ 0.52055562]\n",
            " [-0.26779911]\n",
            " [-0.05512296]\n",
            " [ 0.47085256]\n",
            " [ 0.21529758]\n",
            " [-0.07804254]\n",
            " [ 0.29063999]\n",
            " [-0.66557138]\n",
            " [ 0.66346658]\n",
            " [-0.0750853 ]\n",
            " [-0.02156996]\n",
            " [ 0.03089169]\n",
            " [-0.18527408]\n",
            " [ 0.15892601]\n",
            " [-0.29119929]\n",
            " [ 0.23569632]\n",
            " [-0.37996916]\n",
            " [ 0.17603454]\n",
            " [-0.28341693]\n",
            " [ 0.92674235]\n",
            " [ 0.13652591]\n",
            " [ 0.49133719]\n",
            " [-0.46542436]\n",
            " [-0.67794877]\n",
            " [-0.27886298]\n",
            " [-0.68851974]\n",
            " [ 1.17649216]\n",
            " [ 0.17600091]\n",
            " [-0.96186006]\n",
            " [ 0.11692825]\n",
            " [ 0.08507137]\n",
            " [-0.49692883]\n",
            " [ 0.70758616]\n",
            " [ 0.42613372]\n",
            " [-0.47324917]\n",
            " [ 0.02799711]\n",
            " [ 0.43820478]\n",
            " [ 0.3121639 ]\n",
            " [ 0.19891709]]\n"
          ]
        },
        {
          "output_type": "display_data",
          "data": {
            "image/png": "[encoded data removed]",
            "text/plain": [
              "<Figure size 432x288 with 1 Axes>"
            ]
          },
          "metadata": {
            "needs_background": "light"
          }
        },
        {
          "output_type": "stream",
          "name": "stdout",
          "text": [
            "End\n",
            "Train accuracy:\n",
            "1.0\n",
            "4\n",
            "Start\n",
            "Imbalance at height 0\n",
            "105\n",
            "895\n",
            "Recursion Done\n",
            "0\n",
            "[[0.]] [[0.]]\n",
            "[[ 5.01262001e-01]\n",
            " [ 6.37414161e-01]\n",
            " [-4.36514743e-01]\n",
            " [-4.82490756e-01]\n",
            " [-6.25078011e-01]\n",
            " [-1.83055320e-01]\n",
            " [ 8.28437381e-02]\n",
            " [ 2.69729870e-02]\n",
            " [-9.82810766e-03]\n",
            " [ 8.35441869e-02]\n",
            " [-3.75024175e-01]\n",
            " [ 6.17659273e-01]\n",
            " [-4.64444851e-01]\n",
            " [ 5.82878377e-02]\n",
            " [ 2.60945727e-01]\n",
            " [-4.41452668e-02]\n",
            " [-6.96166268e-01]\n",
            " [ 4.83045433e-01]\n",
            " [-1.48965719e-01]\n",
            " [-4.55188338e-01]\n",
            " [ 3.47753778e-01]\n",
            " [ 2.12815341e-01]\n",
            " [-7.32445198e-03]\n",
            " [ 1.96162801e-01]\n",
            " [ 1.71239933e-01]\n",
            " [ 2.33363351e-02]\n",
            " [-2.79389934e-01]\n",
            " [-7.32911009e-02]\n",
            " [-9.00745938e-02]\n",
            " [ 2.03027505e-01]\n",
            " [-3.08088729e-01]\n",
            " [ 2.52958211e-01]\n",
            " [ 1.64599391e-01]\n",
            " [-3.73731213e-01]\n",
            " [ 4.39929016e-01]\n",
            " [-6.53459058e-01]\n",
            " [ 1.75845923e-01]\n",
            " [ 7.20950229e-01]\n",
            " [ 7.90348511e-01]\n",
            " [ 4.47911133e-01]\n",
            " [-7.35613250e-01]\n",
            " [-1.78067020e-01]\n",
            " [-2.57967410e-01]\n",
            " [ 3.15550406e-01]\n",
            " [ 1.09105435e-01]\n",
            " [ 7.64868116e-01]\n",
            " [ 1.31523974e-01]\n",
            " [ 2.33961569e-01]\n",
            " [-1.04199431e-01]\n",
            " [ 3.15984001e-01]\n",
            " [-8.84022521e-01]\n",
            " [ 2.50043803e-01]\n",
            " [-4.69579191e-01]\n",
            " [-1.83790834e-01]\n",
            " [ 7.16852721e-01]\n",
            " [ 5.02777370e-02]\n",
            " [ 1.00525493e+00]\n",
            " [-1.38848171e+00]\n",
            " [-9.37587590e-01]\n",
            " [ 2.27300059e-01]\n",
            " [-4.63089597e-01]\n",
            " [ 6.61319647e-01]\n",
            " [ 6.19613823e-01]\n",
            " [-3.39948922e-01]\n",
            " [ 9.78580295e-01]\n",
            " [-8.02018957e-01]\n",
            " [ 1.51834485e-01]\n",
            " [-3.52156290e-01]\n",
            " [ 8.39320571e-01]\n",
            " [ 3.54288350e-01]\n",
            " [ 5.87879115e-01]\n",
            " [-2.42747450e-01]\n",
            " [-9.69460799e-02]\n",
            " [-1.63394792e-01]\n",
            " [-8.81371085e-02]\n",
            " [-4.98953003e-01]\n",
            " [ 1.32807231e-01]\n",
            " [ 6.23453466e-02]\n",
            " [-1.26398093e-01]\n",
            " [-4.06555449e-02]\n",
            " [-1.60514008e+00]\n",
            " [ 1.27884100e-02]\n",
            " [ 2.52691835e-01]\n",
            " [ 9.11799558e-01]\n",
            " [-3.15576178e-01]\n",
            " [ 6.20082471e-01]\n",
            " [-5.12460987e-01]\n",
            " [ 1.12390917e-01]\n",
            " [ 1.05208429e+00]\n",
            " [-9.78766289e-01]\n",
            " [ 1.09327883e+00]\n",
            " [-5.33695964e-01]\n",
            " [ 1.04034974e-01]\n",
            " [ 6.76509549e-01]\n",
            " [-8.74336666e-01]\n",
            " [-4.28034823e-01]\n",
            " [-1.10649556e+00]\n",
            " [ 3.11089450e-01]\n",
            " [ 6.15929659e-01]\n",
            " [ 4.83354392e-01]\n",
            " [ 4.23014726e-01]\n",
            " [-1.21413462e-01]\n",
            " [-1.21554694e+00]\n",
            " [ 6.35170620e-02]\n",
            " [-1.33974963e+00]\n",
            " [ 8.24142293e-01]\n",
            " [-8.84333673e-01]\n",
            " [ 4.38639057e-01]\n",
            " [-7.84684425e-01]\n",
            " [ 5.72743951e-01]\n",
            " [ 3.13510288e-01]\n",
            " [ 2.99037624e-01]\n",
            " [-2.13598989e-01]\n",
            " [ 8.23296993e-01]\n",
            " [ 6.91673282e-01]\n",
            " [-3.13904523e-01]\n",
            " [-7.30650774e-01]\n",
            " [-2.07064376e-01]\n",
            " [-8.61073173e-02]\n",
            " [ 4.14537633e-02]\n",
            " [-8.35897970e-04]\n",
            " [-2.74923635e-01]\n",
            " [ 1.52338763e-01]\n",
            " [ 1.85392675e-01]\n",
            " [-1.20866221e-02]\n",
            " [-1.34844294e-01]\n",
            " [-1.44609108e-01]\n",
            " [-2.82308332e-01]]\n"
          ]
        },
        {
          "output_type": "display_data",
          "data": {
            "image/png": "[encoded data removed]",
            "text/plain": [
              "<Figure size 432x288 with 1 Axes>"
            ]
          },
          "metadata": {
            "needs_background": "light"
          }
        },
        {
          "output_type": "stream",
          "name": "stdout",
          "text": [
            "End\n",
            "Train accuracy:\n",
            "1.0\n",
            "5\n",
            "Start\n",
            "Imbalance at height 0\n",
            "92\n",
            "908\n",
            "Recursion Done\n",
            "0\n",
            "[[0.]] [[0.]]\n",
            "[[ 0.86712741]\n",
            " [-0.8968719 ]\n",
            " [-0.96345079]\n",
            " [ 0.60683007]\n",
            " [-0.50523279]\n",
            " [-0.10381647]\n",
            " [-0.53328525]\n",
            " [ 0.67085711]\n",
            " [-0.95267304]\n",
            " [ 0.20279787]\n",
            " [ 0.72973151]\n",
            " [-0.44739035]\n",
            " [ 0.6992126 ]\n",
            " [-0.08929982]\n",
            " [ 1.42885188]\n",
            " [-0.97811485]\n",
            " [ 0.87971375]\n",
            " [-1.3404495 ]\n",
            " [-0.36558772]\n",
            " [-0.07948307]\n",
            " [-0.34433802]\n",
            " [-0.59455476]\n",
            " [-0.37397019]\n",
            " [ 0.222398  ]\n",
            " [ 0.18523469]\n",
            " [ 0.29758546]\n",
            " [ 0.08215749]\n",
            " [ 0.57816086]\n",
            " [ 0.2169596 ]\n",
            " [ 0.67777407]\n",
            " [-0.18446483]\n",
            " [-0.22710768]\n",
            " [ 0.06931476]\n",
            " [-0.07367401]\n",
            " [ 0.93880594]\n",
            " [-1.14572012]\n",
            " [-0.9158735 ]\n",
            " [ 0.42703232]\n",
            " [ 1.18707402]\n",
            " [-0.04751596]\n",
            " [-0.06150195]\n",
            " [-0.08374727]\n",
            " [-1.255052  ]\n",
            " [ 1.15846673]\n",
            " [-0.20060642]\n",
            " [ 0.64966491]\n",
            " [ 0.00928433]\n",
            " [ 0.50134919]\n",
            " [ 0.10568736]\n",
            " [-0.1368466 ]\n",
            " [ 0.39029387]\n",
            " [-0.73430211]\n",
            " [ 0.37061818]\n",
            " [ 0.5845701 ]\n",
            " [-0.61280287]\n",
            " [-0.03467318]\n",
            " [ 0.50305429]\n",
            " [-0.415643  ]\n",
            " [ 1.05387971]\n",
            " [-1.1088115 ]\n",
            " [ 0.39290966]\n",
            " [-1.0781877 ]\n",
            " [-0.60830142]\n",
            " [-0.33994892]\n",
            " [ 0.35753821]\n",
            " [-0.26397417]\n",
            " [ 0.0761102 ]\n",
            " [-0.31777641]\n",
            " [-0.24328617]\n",
            " [ 0.44116991]\n",
            " [-0.14456489]\n",
            " [ 0.29644147]\n",
            " [ 0.50667352]\n",
            " [-0.04761558]\n",
            " [ 0.48392117]\n",
            " [-0.61093917]\n",
            " [-0.20195007]\n",
            " [ 0.0603427 ]\n",
            " [-0.1223132 ]\n",
            " [ 0.35447086]\n",
            " [ 1.00644497]\n",
            " [-0.70231956]\n",
            " [ 0.05567367]\n",
            " [-0.32765811]\n",
            " [ 0.09378406]\n",
            " [ 0.23034753]\n",
            " [-0.00923616]\n",
            " [-0.06022804]\n",
            " [-0.74453101]\n",
            " [-0.12714629]\n",
            " [-0.36723423]\n",
            " [ 0.57357381]\n",
            " [ 0.4383675 ]\n",
            " [ 0.15392989]\n",
            " [-0.09972158]\n",
            " [-0.09092824]\n",
            " [-0.01134128]\n",
            " [-0.23806003]\n",
            " [ 0.45960316]\n",
            " [-0.90743506]\n",
            " [-1.47975719]\n",
            " [-0.089069  ]\n",
            " [-0.40866734]\n",
            " [-0.24380365]\n",
            " [ 0.31871507]\n",
            " [ 0.41884065]\n",
            " [ 0.68750943]\n",
            " [-0.80446636]\n",
            " [ 0.80715295]\n",
            " [ 1.45474309]\n",
            " [-0.84937546]\n",
            " [-0.1145456 ]\n",
            " [-0.74512109]\n",
            " [ 0.46441731]\n",
            " [ 1.46379635]\n",
            " [-1.77269388]\n",
            " [-0.26622355]\n",
            " [-0.69963349]\n",
            " [ 1.4005113 ]\n",
            " [ 0.03260224]\n",
            " [ 0.72064516]\n",
            " [-0.29238722]\n",
            " [-0.44442379]\n",
            " [-0.13973498]\n",
            " [-0.16021752]\n",
            " [-0.15094864]\n",
            " [-0.316294  ]\n",
            " [-0.75868572]]\n"
          ]
        },
        {
          "output_type": "display_data",
          "data": {
            "image/png": "[encoded data removed]",
            "text/plain": [
              "<Figure size 432x288 with 1 Axes>"
            ]
          },
          "metadata": {
            "needs_background": "light"
          }
        },
        {
          "output_type": "stream",
          "name": "stdout",
          "text": [
            "End\n",
            "Train accuracy:\n",
            "1.0\n",
            "6\n",
            "Start\n",
            "Imbalance at height 0\n",
            "94\n",
            "906\n",
            "Recursion Done\n",
            "0\n",
            "[[0.]] [[0.]]\n",
            "[[-3.52303868e-01]\n",
            " [ 4.94341956e-01]\n",
            " [-1.50187444e-01]\n",
            " [ 5.90958881e-02]\n",
            " [-1.77002580e-01]\n",
            " [ 4.28573160e-01]\n",
            " [-6.37801968e-02]\n",
            " [ 1.35590704e-01]\n",
            " [-4.17329344e-01]\n",
            " [ 5.10236658e-01]\n",
            " [ 3.83768623e-01]\n",
            " [-6.44850849e-01]\n",
            " [ 1.53646239e-01]\n",
            " [ 4.71322974e-01]\n",
            " [ 6.16448512e-01]\n",
            " [ 1.02390078e-01]\n",
            " [ 7.99287204e-02]\n",
            " [-6.64201694e-01]\n",
            " [-3.59439809e-01]\n",
            " [ 3.73687286e-01]\n",
            " [-4.43906415e-04]\n",
            " [-2.73298927e-02]\n",
            " [-4.70917859e-02]\n",
            " [ 3.45939296e-02]\n",
            " [ 1.13528046e-01]\n",
            " [-2.92345865e-01]\n",
            " [-1.38078058e-01]\n",
            " [-1.87795238e-01]\n",
            " [-1.83577619e-01]\n",
            " [ 2.04304292e-01]\n",
            " [-1.11815851e-02]\n",
            " [-2.01422359e-01]\n",
            " [ 1.77109690e-01]\n",
            " [ 6.16532992e-02]\n",
            " [-7.32773515e-01]\n",
            " [ 2.81315683e-01]\n",
            " [ 3.56295796e-01]\n",
            " [-5.16881122e-01]\n",
            " [-5.04511434e-01]\n",
            " [ 2.75566002e-02]\n",
            " [-9.22089256e-02]\n",
            " [ 1.44122751e-01]\n",
            " [ 9.23193795e-01]\n",
            " [ 9.03481406e-02]\n",
            " [ 2.91440785e-01]\n",
            " [-9.87143998e-01]\n",
            " [-1.18553637e-01]\n",
            " [ 1.22251442e-01]\n",
            " [ 9.28526592e-02]\n",
            " [-6.89308581e-03]\n",
            " [ 3.10279248e-01]\n",
            " [-2.42124239e-01]\n",
            " [ 5.01988678e-01]\n",
            " [ 5.47521073e-02]\n",
            " [-1.90006642e-01]\n",
            " [-6.32013828e-02]\n",
            " [ 2.61684849e-01]\n",
            " [-1.29902508e+00]\n",
            " [-4.66693410e-01]\n",
            " [ 3.78272383e-01]\n",
            " [-6.72876572e-02]\n",
            " [ 3.46931390e-01]\n",
            " [ 3.62775622e-02]\n",
            " [ 2.31258733e-01]\n",
            " [-5.56198210e-01]\n",
            " [ 2.73839774e-01]\n",
            " [ 5.43053918e-01]\n",
            " [ 6.14643672e-01]\n",
            " [-1.26849225e-01]\n",
            " [-8.12456338e-02]\n",
            " [-4.24717257e-01]\n",
            " [ 4.78600004e-01]\n",
            " [-6.37803628e-01]\n",
            " [ 3.09369042e-01]\n",
            " [-8.10039150e-02]\n",
            " [ 2.84771418e-02]\n",
            " [ 8.36683087e-02]\n",
            " [ 3.11374557e-02]\n",
            " [ 5.61338303e-02]\n",
            " [-1.48762076e-01]\n",
            " [-2.42298799e-01]\n",
            " [ 4.62260863e-01]\n",
            " [ 4.27044090e-01]\n",
            " [-3.42362896e-01]\n",
            " [ 1.77139699e-01]\n",
            " [ 2.93459343e-02]\n",
            " [-3.38091572e-01]\n",
            " [ 8.83402769e-02]\n",
            " [-5.41597433e-01]\n",
            " [-5.35827000e-01]\n",
            " [-3.58294995e-01]\n",
            " [ 2.37921599e-01]\n",
            " [-4.00536076e-01]\n",
            " [ 1.43508835e+00]\n",
            " [ 6.52077950e-02]\n",
            " [-2.55446149e-01]\n",
            " [ 3.01358313e-01]\n",
            " [ 2.02833823e-01]\n",
            " [-4.13440741e-02]\n",
            " [-9.07435060e-01]\n",
            " [-2.43608157e-01]\n",
            " [-4.42682437e-01]\n",
            " [ 7.53112537e-01]\n",
            " [-5.90505802e-01]\n",
            " [ 2.62433042e-01]\n",
            " [-1.17947368e+00]\n",
            " [ 3.14097681e-01]\n",
            " [ 5.37299821e-01]\n",
            " [-8.03873501e-02]\n",
            " [-3.18877976e-02]\n",
            " [-2.02549791e-01]\n",
            " [-3.46961009e-01]\n",
            " [ 1.04095679e-01]\n",
            " [ 6.12097311e-01]\n",
            " [-7.33167674e-01]\n",
            " [ 1.28327432e-01]\n",
            " [ 1.44469367e-01]\n",
            " [ 3.27191295e-01]\n",
            " [ 2.06302277e-01]\n",
            " [-6.02971355e-02]\n",
            " [ 1.57478306e-01]\n",
            " [-1.76748417e-01]\n",
            " [ 1.67828358e-01]\n",
            " [ 4.02854939e-02]\n",
            " [ 3.26763402e-02]\n",
            " [-8.48748147e-01]\n",
            " [ 2.12071003e-01]\n",
            " [-5.87584910e-02]]\n"
          ]
        },
        {
          "output_type": "display_data",
          "data": {
            "image/png": "[encoded data removed]",
            "text/plain": [
              "<Figure size 432x288 with 1 Axes>"
            ]
          },
          "metadata": {
            "needs_background": "light"
          }
        },
        {
          "output_type": "stream",
          "name": "stdout",
          "text": [
            "End\n",
            "Train accuracy:\n",
            "1.0\n",
            "7\n",
            "Start\n",
            "Imbalance at height 0\n",
            "117\n",
            "883\n",
            "Recursion Done\n",
            "0\n",
            "[[0.]] [[0.]]\n",
            "[[-9.94552553e-01]\n",
            " [-6.91203715e-02]\n",
            " [ 8.30103089e-01]\n",
            " [ 1.98784599e-01]\n",
            " [-8.30902236e-02]\n",
            " [ 3.28713388e-01]\n",
            " [ 6.73460138e-01]\n",
            " [-8.25105046e-04]\n",
            " [ 1.58484588e+00]\n",
            " [ 2.03573133e-01]\n",
            " [-5.12271754e-01]\n",
            " [-3.38289997e-02]\n",
            " [-3.61151784e-01]\n",
            " [-1.91023719e-01]\n",
            " [-6.61793105e-01]\n",
            " [ 5.33073648e-01]\n",
            " [ 1.24354763e-01]\n",
            " [-1.28523590e+00]\n",
            " [-4.29867790e-02]\n",
            " [ 3.00656027e-01]\n",
            " [ 1.39650500e+00]\n",
            " [ 5.97000557e-01]\n",
            " [ 4.40944496e-02]\n",
            " [-3.38178932e-01]\n",
            " [ 7.50986446e-02]\n",
            " [-8.09148505e-01]\n",
            " [-1.22404401e+00]\n",
            " [ 2.32634869e-01]\n",
            " [ 7.24718763e-02]\n",
            " [ 2.58390120e-01]\n",
            " [ 1.42609036e-01]\n",
            " [-2.27578279e-01]\n",
            " [ 2.71317801e-01]\n",
            " [ 4.23809543e-01]\n",
            " [ 3.38394873e-01]\n",
            " [-1.01020693e+00]\n",
            " [-2.08235193e-01]\n",
            " [ 4.23841006e-01]\n",
            " [ 4.00812712e-01]\n",
            " [ 6.28985923e-02]\n",
            " [ 2.61123331e-01]\n",
            " [-3.41304005e-01]\n",
            " [ 4.68820028e-01]\n",
            " [ 7.95569444e-02]\n",
            " [-3.07437924e-01]\n",
            " [-3.47708715e-01]\n",
            " [-3.96869094e-02]\n",
            " [-6.16597647e-02]\n",
            " [-1.23377855e+00]\n",
            " [ 2.96518488e-02]\n",
            " [ 5.88080215e-02]\n",
            " [ 9.92242720e-02]\n",
            " [ 8.61906676e-02]\n",
            " [ 4.41035684e-01]\n",
            " [ 4.63544654e-01]\n",
            " [-6.22050340e-02]\n",
            " [ 8.26818153e-01]\n",
            " [ 1.94144185e-01]\n",
            " [ 4.76280708e-01]\n",
            " [-3.09767912e-01]\n",
            " [-3.82660946e-01]\n",
            " [-1.26723117e-01]\n",
            " [-1.11230555e-01]\n",
            " [-2.12481378e-01]\n",
            " [-1.50445774e+00]\n",
            " [ 6.06214278e-01]\n",
            " [ 3.58066669e-01]\n",
            " [-5.59989959e-01]\n",
            " [ 5.51648700e-01]\n",
            " [-4.01521901e-01]\n",
            " [-4.98408923e-01]\n",
            " [-6.45204661e-02]\n",
            " [-1.04381506e+00]\n",
            " [ 1.21281405e-01]\n",
            " [ 1.05531086e-02]\n",
            " [-9.27747369e-02]\n",
            " [-2.64158845e-02]\n",
            " [-4.42218442e-01]\n",
            " [ 1.35450237e-01]\n",
            " [-1.04840343e-01]\n",
            " [ 9.78205558e-01]\n",
            " [-7.09647248e-02]\n",
            " [ 5.18706083e-02]\n",
            " [ 1.56682389e-02]\n",
            " [-4.31315686e-01]\n",
            " [-4.26709716e-01]\n",
            " [ 5.76774397e-01]\n",
            " [ 1.43483324e-01]\n",
            " [-8.61334085e-01]\n",
            " [ 3.24170998e-01]\n",
            " [ 1.75165472e-01]\n",
            " [-2.82679266e-01]\n",
            " [-6.82976820e-03]\n",
            " [-4.88521564e-01]\n",
            " [-8.46677994e-03]\n",
            " [-2.23667912e-02]\n",
            " [-1.29663312e+00]\n",
            " [ 7.19473054e-01]\n",
            " [-5.56643934e-01]\n",
            " [ 1.42087551e+00]\n",
            " [-1.21527086e+00]\n",
            " [-8.50711951e-01]\n",
            " [ 1.57856389e+00]\n",
            " [-5.45423109e-01]\n",
            " [ 1.65263510e+00]\n",
            " [-1.55529869e-01]\n",
            " [-8.47102911e-03]\n",
            " [ 7.45506294e-01]\n",
            " [ 3.05618702e-01]\n",
            " [-1.43689176e+00]\n",
            " [ 4.50503405e-01]\n",
            " [-3.99161419e-01]\n",
            " [-1.22012914e+00]\n",
            " [-1.25574148e+00]\n",
            " [-1.67137416e-01]\n",
            " [ 1.21601570e+00]\n",
            " [ 8.68983740e-01]\n",
            " [-7.82026571e-01]\n",
            " [ 2.90032134e-01]\n",
            " [ 7.22184952e-01]\n",
            " [-5.56102719e-02]\n",
            " [ 1.66196716e-01]\n",
            " [ 6.05429003e-01]\n",
            " [-4.31354609e-02]\n",
            " [-4.13534936e-01]\n",
            " [-8.48748147e-01]\n",
            " [ 3.56545722e-01]\n",
            " [ 2.30221745e-01]]\n"
          ]
        },
        {
          "output_type": "display_data",
          "data": {
            "image/png": "[encoded data removed]",
            "text/plain": [
              "<Figure size 432x288 with 1 Axes>"
            ]
          },
          "metadata": {
            "needs_background": "light"
          }
        },
        {
          "output_type": "stream",
          "name": "stdout",
          "text": [
            "End\n",
            "Train accuracy:\n",
            "1.0\n",
            "8\n",
            "Start\n",
            "Imbalance at height 0\n",
            "87\n",
            "913\n",
            "Recursion Done\n",
            "0\n",
            "[[0.]] [[0.]]\n",
            "[[ 1.66938008e-01]\n",
            " [ 1.01372394e-01]\n",
            " [-9.97738970e-01]\n",
            " [ 1.94013030e-01]\n",
            " [ 8.97148252e-01]\n",
            " [-2.18772564e-01]\n",
            " [-5.77793399e-01]\n",
            " [ 3.46623466e-01]\n",
            " [ 6.04920180e-02]\n",
            " [ 4.07742759e-01]\n",
            " [ 2.04687910e-02]\n",
            " [ 5.27501477e-02]\n",
            " [-6.56652475e-02]\n",
            " [ 1.98612658e-02]\n",
            " [-3.12956227e-01]\n",
            " [-3.79578908e-02]\n",
            " [-5.73450870e-02]\n",
            " [-3.38778024e-01]\n",
            " [ 3.10916722e-01]\n",
            " [ 3.49256022e-01]\n",
            " [ 2.38002059e-01]\n",
            " [-3.54912188e-02]\n",
            " [ 3.86813867e-01]\n",
            " [-2.16573198e-01]\n",
            " [ 8.37585354e-01]\n",
            " [-4.64068581e-01]\n",
            " [-2.79550458e-01]\n",
            " [ 3.52577082e-01]\n",
            " [-5.87764345e-02]\n",
            " [-6.35694697e-02]\n",
            " [-7.79422605e-02]\n",
            " [ 7.66646064e-02]\n",
            " [ 1.09440560e+00]\n",
            " [-3.23176448e-01]\n",
            " [-5.27926276e-01]\n",
            " [ 5.11449437e-01]\n",
            " [-1.04647678e-01]\n",
            " [-1.19165552e-01]\n",
            " [-3.76215908e-02]\n",
            " [-5.57984695e-01]\n",
            " [ 3.48718121e-01]\n",
            " [ 8.29285043e-01]\n",
            " [-7.47056268e-01]\n",
            " [-6.02656707e-02]\n",
            " [ 2.66260122e-01]\n",
            " [-2.82139850e-01]\n",
            " [ 1.45545165e-03]\n",
            " [-3.51236278e-01]\n",
            " [-6.43922241e-03]\n",
            " [ 5.42013344e-02]\n",
            " [ 5.54947962e-02]\n",
            " [ 2.86677667e-01]\n",
            " [-2.50318550e-01]\n",
            " [ 2.86909476e-02]\n",
            " [ 3.57122457e-01]\n",
            " [ 1.23552555e-01]\n",
            " [ 2.56366524e-01]\n",
            " [ 9.48544829e-01]\n",
            " [-5.00255711e-01]\n",
            " [ 1.69074519e-01]\n",
            " [-4.22643186e-01]\n",
            " [-7.32020657e-01]\n",
            " [-2.23323334e-01]\n",
            " [-3.39948922e-01]\n",
            " [-1.71322793e-01]\n",
            " [-1.31772304e+00]\n",
            " [ 6.94079634e-01]\n",
            " [-3.37636526e-01]\n",
            " [-2.23823141e-01]\n",
            " [ 1.78453794e-01]\n",
            " [ 4.07769419e-01]\n",
            " [ 1.31026086e-01]\n",
            " [-3.29781501e-01]\n",
            " [ 7.13031301e-01]\n",
            " [-1.25430015e+00]\n",
            " [ 6.26537474e-01]\n",
            " [-5.18605546e-01]\n",
            " [-2.82290696e-01]\n",
            " [-2.29800032e-02]\n",
            " [-1.62748777e-01]\n",
            " [ 1.94594984e-01]\n",
            " [-6.01607359e-02]\n",
            " [ 1.04965219e-01]\n",
            " [ 2.87105559e-01]\n",
            " [-1.35079122e-01]\n",
            " [ 3.53080879e-04]\n",
            " [ 1.39749331e-01]\n",
            " [-1.42364831e-02]\n",
            " [ 3.17490654e-01]\n",
            " [-5.32852915e-01]\n",
            " [-1.05097744e+00]\n",
            " [ 5.41219478e-01]\n",
            " [-9.88761743e-02]\n",
            " [-2.92070282e-01]\n",
            " [ 2.38191201e-01]\n",
            " [ 2.56492592e-01]\n",
            " [ 5.69647103e-01]\n",
            " [-5.51501785e-01]\n",
            " [-2.82347147e-01]\n",
            " [ 9.10566733e-01]\n",
            " [-2.81190081e-02]\n",
            " [ 1.49103094e-01]\n",
            " [-1.48183703e+00]\n",
            " [ 1.61693635e-01]\n",
            " [-1.21289051e+00]\n",
            " [ 5.57299770e-01]\n",
            " [ 3.48533614e-01]\n",
            " [ 1.72947479e-01]\n",
            " [ 2.97769819e-01]\n",
            " [ 6.24734375e-01]\n",
            " [ 3.37004856e-01]\n",
            " [-3.55469509e-01]\n",
            " [-3.91075232e-02]\n",
            " [ 7.60414235e-01]\n",
            " [-2.64705722e-02]\n",
            " [-1.20910178e+00]\n",
            " [-3.51141632e-01]\n",
            " [ 1.18668670e-01]\n",
            " [-5.78042381e-01]\n",
            " [-4.45460153e-01]\n",
            " [-2.24005132e-01]\n",
            " [ 1.72625007e-01]\n",
            " [ 5.17341620e-03]\n",
            " [ 1.30237615e-01]\n",
            " [ 2.37985005e-01]\n",
            " [ 1.08211827e+00]\n",
            " [ 1.14448335e-01]\n",
            " [ 1.17292903e-01]]\n"
          ]
        },
        {
          "output_type": "display_data",
          "data": {
            "image/png": "[encoded data removed]",
            "text/plain": [
              "<Figure size 432x288 with 1 Axes>"
            ]
          },
          "metadata": {
            "needs_background": "light"
          }
        },
        {
          "output_type": "stream",
          "name": "stdout",
          "text": [
            "End\n",
            "Train accuracy:\n",
            "1.0\n",
            "9\n",
            "Start\n",
            "Imbalance at height 0\n",
            "100\n",
            "900\n",
            "Recursion Done\n",
            "0\n",
            "[[0.]] [[0.]]\n",
            "[[ 1.77884841e+00]\n",
            " [-1.51546570e+00]\n",
            " [ 9.57470647e-02]\n",
            " [ 6.92013536e-01]\n",
            " [-1.13916829e+00]\n",
            " [-6.41212360e-01]\n",
            " [-3.50280364e-01]\n",
            " [-8.30581023e-01]\n",
            " [-1.05286917e+00]\n",
            " [ 8.37642682e-01]\n",
            " [ 3.52028635e-01]\n",
            " [ 3.88309476e-01]\n",
            " [-1.51269017e-01]\n",
            " [ 6.42422927e-01]\n",
            " [-9.12965385e-02]\n",
            " [-1.84282066e-01]\n",
            " [ 4.57520935e-01]\n",
            " [ 1.09975001e+00]\n",
            " [ 4.71408771e-01]\n",
            " [-8.08485068e-01]\n",
            " [-8.10863276e-01]\n",
            " [-3.88684345e-02]\n",
            " [-1.25529547e-01]\n",
            " [ 3.40131320e-01]\n",
            " [ 6.37175681e-01]\n",
            " [-5.38625752e-01]\n",
            " [ 9.49510633e-01]\n",
            " [-3.39628227e-01]\n",
            " [-5.50530531e-01]\n",
            " [-4.25505923e-02]\n",
            " [ 4.39062347e-01]\n",
            " [ 1.26302121e-01]\n",
            " [-9.46799113e-01]\n",
            " [-6.05932259e-01]\n",
            " [-1.26226548e-01]\n",
            " [ 8.08749272e-01]\n",
            " [ 1.89189712e-01]\n",
            " [-4.28749834e-01]\n",
            " [-7.98818442e-01]\n",
            " [ 2.76049310e-01]\n",
            " [ 1.85487464e-01]\n",
            " [-2.94516794e-01]\n",
            " [-9.45236182e-02]\n",
            " [ 1.50654887e-01]\n",
            " [ 2.99959586e-01]\n",
            " [ 5.02870485e-01]\n",
            " [-7.68543326e-01]\n",
            " [-2.63304517e-01]\n",
            " [ 1.95401923e+00]\n",
            " [-5.95890517e-01]\n",
            " [ 6.94542391e-02]\n",
            " [ 3.74700068e-01]\n",
            " [ 9.80780046e-03]\n",
            " [-6.19784273e-01]\n",
            " [-5.07964624e-01]\n",
            " [ 1.73567025e-01]\n",
            " [-1.25470173e+00]\n",
            " [-9.57955802e-01]\n",
            " [ 2.03346611e-01]\n",
            " [ 1.29270557e-01]\n",
            " [ 7.79747240e-01]\n",
            " [-5.66237685e-03]\n",
            " [-1.94672375e-01]\n",
            " [ 1.36046238e+00]\n",
            " [ 2.43160534e+00]\n",
            " [-6.98895461e-01]\n",
            " [ 4.65106360e-01]\n",
            " [-5.40922734e-02]\n",
            " [-9.53027810e-01]\n",
            " [ 1.59655949e+00]\n",
            " [-5.62572112e-01]\n",
            " [ 1.00483973e+00]\n",
            " [ 4.41937795e-01]\n",
            " [-2.70606371e-03]\n",
            " [ 6.89959725e-01]\n",
            " [ 7.11051739e-02]\n",
            " [ 4.23526338e-01]\n",
            " [ 4.68475917e-01]\n",
            " [ 7.49889775e-02]\n",
            " [-3.59730131e-01]\n",
            " [-9.87684898e-01]\n",
            " [-2.83439042e-01]\n",
            " [-1.13086366e+00]\n",
            " [ 3.53737428e-01]\n",
            " [-8.74017408e-02]\n",
            " [ 3.51070324e-01]\n",
            " [-1.34693735e+00]\n",
            " [-3.23229401e-02]\n",
            " [ 1.09322723e+00]\n",
            " [-5.17735236e-01]\n",
            " [ 9.08411476e-01]\n",
            " [-8.36904896e-01]\n",
            " [-1.10138986e+00]\n",
            " [ 3.00125732e+00]\n",
            " [ 7.54657221e-02]\n",
            " [-4.84301117e-03]\n",
            " [-3.06455505e-01]\n",
            " [ 1.95475394e-01]\n",
            " [-7.87670911e-01]\n",
            " [-9.07435060e-01]\n",
            " [ 1.93301974e+00]\n",
            " [-3.20212546e-01]\n",
            " [-1.18317964e+00]\n",
            " [-3.02590512e-01]\n",
            " [-1.62717630e+00]\n",
            " [-5.62826308e-02]\n",
            " [-1.20506018e+00]\n",
            " [ 3.76987582e-01]\n",
            " [ 2.67303479e-01]\n",
            " [ 5.33882514e-01]\n",
            " [ 7.51199675e-02]\n",
            " [-2.33999435e-01]\n",
            " [ 2.11901375e+00]\n",
            " [ 1.36674637e+00]\n",
            " [-1.04295951e+00]\n",
            " [-1.00560394e+00]\n",
            " [-3.07513178e-02]\n",
            " [ 1.25223042e+00]\n",
            " [-1.21810755e+00]\n",
            " [-1.22872708e-01]\n",
            " [ 7.52798753e-01]\n",
            " [-2.92387217e-01]\n",
            " [-4.31943068e-01]\n",
            " [-4.73249167e-01]\n",
            " [ 3.25494995e-01]\n",
            " [-8.48748147e-01]\n",
            " [ 6.33761789e-02]\n",
            " [-1.34517659e-01]]\n"
          ]
        },
        {
          "output_type": "display_data",
          "data": {
            "image/png": "[encoded data removed]",
            "text/plain": [
              "<Figure size 432x288 with 1 Axes>"
            ]
          },
          "metadata": {
            "needs_background": "light"
          }
        },
        {
          "output_type": "stream",
          "name": "stdout",
          "text": [
            "End\n",
            "Train accuracy:\n",
            "1.0\n"
          ]
        }
      ]
    },
    {
      "cell_type": "code",
      "source": [
        "print(All_weights[0][0].shape)"
      ],
      "metadata": {
        "colab": {
          "base_uri": "https://localhost:8080/"
        },
        "id": "VBh5IICuFSHo",
        "outputId": "c7aa63eb-d8f3-4fea-c771-603be885b403"
      },
      "execution_count": null,
      "outputs": [
        {
          "output_type": "stream",
          "name": "stdout",
          "text": [
            "(128, 1)\n"
          ]
        }
      ]
    },
    {
      "cell_type": "code",
      "source": [
        "XALL = x_train[1000:2000]\n",
        "yALL = y_train.reshape(-1,1)[1000:2000].astype(np.int8)\n",
        "y0 = (yALL == 0)\n",
        "y1 = (yALL == 1)\n",
        "y2 = (yALL == 2)\n",
        "y3 = (yALL == 3)\n",
        "y4 = (yALL == 4)\n",
        "y5 = (yALL == 5)\n",
        "y6 = (yALL == 6)\n",
        "y7 = (yALL == 7)\n",
        "y8 = (yALL == 8)\n",
        "y9 = (yALL == 9)\n",
        "ytot = y0+y1+y2+y3+y4+y5+y6+y7+y8+y9\n",
        "Xtrain = XALL[ytot.reshape(-1)]\n",
        "ytrain = yALL[ytot.reshape(-1)]"
      ],
      "metadata": {
        "id": "QoZwXRjjPFtL"
      },
      "execution_count": null,
      "outputs": []
    },
    {
      "cell_type": "code",
      "execution_count": null,
      "metadata": {
        "id": "tMgktrzM6Oq-"
      },
      "outputs": [],
      "source": [
        "Xtrain  = encoder.predict(Xtrain)"
      ]
    },
    {
      "cell_type": "code",
      "source": [
        "#scaler = StandardScaler()\n",
        "Xtrain = scaler.transform(Xtrain.reshape(Xtrain.shape[0],Xtrain.shape[1]*Xtrain.shape[2]*Xtrain.shape[3])).reshape(Xtrain.shape)\n"
      ],
      "metadata": {
        "id": "uBH0NnbZQWCR"
      },
      "execution_count": null,
      "outputs": []
    },
    {
      "cell_type": "code",
      "source": [
        "Xtrain=Xtrain.reshape(Xtrain.shape[0],Xtrain.shape[1]*Xtrain.shape[2]*Xtrain.shape[3],1)"
      ],
      "metadata": {
        "id": "KXCcoMiZQqes"
      },
      "execution_count": null,
      "outputs": []
    },
    {
      "cell_type": "code",
      "source": [
        "print(ytrain[0])"
      ],
      "metadata": {
        "colab": {
          "base_uri": "https://localhost:8080/"
        },
        "id": "fvZ1LX6dQ0lL",
        "outputId": "27a68a07-ba70-4884-b05f-71dfc2295d90"
      },
      "execution_count": null,
      "outputs": [
        {
          "output_type": "stream",
          "name": "stdout",
          "text": [
            "[0]\n"
          ]
        }
      ]
    },
    {
      "cell_type": "code",
      "source": [
        "learnt=[]"
      ],
      "metadata": {
        "id": "Ce374VjSRAsl"
      },
      "execution_count": null,
      "outputs": []
    },
    {
      "cell_type": "code",
      "source": [
        "for i in range(Xtrain.shape[0]):\n",
        "    new=[]\n",
        "    for j in range(0,10):\n",
        "        new=new+[np.sum(np.multiply(Xtrain[i],All_weights[j][0]))]\n",
        "    learnt=learnt+[new]\n",
        "\n"
      ],
      "metadata": {
        "id": "9D8DBbQbQ62A"
      },
      "execution_count": null,
      "outputs": []
    },
    {
      "cell_type": "code",
      "source": [
        "print(learnt)"
      ],
      "metadata": {
        "colab": {
          "base_uri": "https://localhost:8080/"
        },
        "id": "kuSgKqYrRTVY",
        "outputId": "3b4c27f1-03e1-443c-cfcf-5c243ecdfbd6"
      },
      "execution_count": null,
      "outputs": [
        {
          "output_type": "stream",
          "name": "stdout",
          "text": [
            "[[1.7404168111502032, 0.07783030484135017, 0.9535714432088932, -1.5949005777115823, -1.122711839979914, 0.3439060955568416, -0.35051722696593246, 0.5708524320479702, 0.35704189960995203, 1.442221490414597], [-1.523948812995667, -1.6236746331351444, -1.8230890546381557, -0.20075708618498544, 3.2430685874907628, -0.45597350427973016, -1.3729120437187756, 4.24689031517325, 0.5334799029628639, 0.24759713425338425], [0.34852784953303484, 2.885401046211287, 1.0205590516759981, -0.09111961731159823, -1.335717981061082, 0.43638462239303477, -0.5302398060198923, 2.2229023506270464, -2.5261775006999834, -3.5779766279122063], [-0.7098380035695784, 4.934200824795518, -0.566913574175536, 0.5550252948170342, 0.7019326566062025, -0.8628424003628754, -0.1350753987908646, 0.799841770222919, -0.8901060266507268, 0.14685656239182165], [0.8772225975459635, 1.1624465141890044, -1.1277416161625897, -1.9434314060022584, 1.7226495117293483, 1.4130966459797283, 0.024772103733992745, -4.8397336150786545, 0.25290216085474215, 6.981768696538095], [-0.9040830044807038, -1.3675423683044574, -0.3775414531642354, 0.4781680595256361, 2.408988314732029, -3.5005076166194433, -0.6550373680103596, -0.7840229225772004, -0.47533958077509086, 3.5264257290178787], [0.38591311698889896, -0.7945197003600583, -0.8262818650540683, -0.7071138408460234, 3.0526081323544605, -1.170685619765837, -0.9001994366541508, -0.007356125015461679, 1.314706046511275, 3.042624473495215], [-1.6922886894990443, 0.8465937691664662, -1.7714666445907103, 3.4071394614444968, -1.9510128786564844, -2.2985164269159712, 0.5890337694916488, 0.5246933400419, -1.8936124977494204, 0.947282082574602], [-1.7326910828357416, -1.9627938064181631, -1.685581629277035, -1.1867697053015789, 5.7477488025637875, -1.8495262171964852, -0.9142191179453254, 0.823993708904424, -0.18607331870628085, 0.4329265433726621], [0.0312154942414008, -0.08182617263890801, 0.5514916376355057, -0.7596547650156686, -1.408201450739606, 1.0805804238352217, -1.189564111584835, -2.1120621367040684, 4.666079867275013, -0.11572539016199634], [1.507021463781275, -3.5654022403313888, 6.255327753224152, -1.6469389189552528, -0.858073780579983, 1.6060315316914755, -1.3902700864319169, -1.6918739400632852, -2.5035467135378884, -3.0125293315469808], [-0.7855533243653223, 0.8786498697254764, 3.618740935340482, -0.12251991136359464, 1.1291297965273128, 2.07661549526741, -1.971784462700261, -0.2052835965059545, -0.48134073967024404, 1.7433711300890762], [-0.054706797482023894, 4.072884158823472, -0.5259624881180995, -1.8778015895894815, -0.3582022386676105, 0.8485674724225984, -0.9081257717641473, -0.16742626834448426, 0.38030570087808013, -0.704083166727357], [0.4112976536358244, 1.0227063003599275, -2.1744763435515075, -2.091523438518174, 2.023587187954264, 1.4404034217971948, -1.3290742048076656, 1.1040177894870407, 2.827192659783912, 0.9703036733821526], [-0.9079902161873299, -0.9300478413052331, -0.9108894729816219, -0.588497519263611, -1.2947180874247521, -1.8328655919147367, -0.772348216463401, 4.339480703608177, 0.055653901383619475, 0.8549846758614645], [2.68751329013151, -0.11576331322181355, -0.335302769990411, 0.18286522187492227, 1.8358396788549076, 3.325243339165678, -2.3245012895112813, -3.439545994076531, 1.953754334757946, -0.5660569909301056], [-1.2857291787755416, -1.0770013895774828, -2.1128807261192444, -0.685611002356862, -2.2650210780880515, 2.145309986620271, 1.776595614998156, -0.18564307074015307, 4.569110311498003, 3.809193151906959], [-0.8146626921745472, 2.826982712701126, 1.1432732444462474, -0.8400942476719151, 0.4551810244940624, 0.048839325316564874, -0.875174989489991, 1.0531497592581345, -1.516878717212186, -1.7345221252375906], [3.314123013436688, -1.1818453315733848, 0.3023457560884635, -0.46735046837534777, -1.3051725450349512, -2.3280471786872132, 0.8277249478505535, 0.6632562168826301, -0.9094933909899665, 2.3580267722172588], [-0.026915378505249166, -0.3343990627565736, 0.31323168489080433, 1.6096518224974594, 1.281081798317727, 0.6431959077142535, -2.0527255090425465, 0.2542181079937139, -5.5795774285442175, -0.38237618129681294], [-0.14357057880431956, 0.308631836995076, -1.3789880533607324, -0.6952593141808117, 0.17851243090512425, -1.6500846705348038, 4.301283491172015, -2.167785981449246, 0.7017609882180691, -1.6567586284891571], [-0.04773444333890553, -1.2008950011576243, 0.369165404077908, 2.7413516588599993, -3.244508661301664, 1.80736210912566, 0.9514800162680966, 1.1170007113200722, -0.8630160900728385, 1.6777251709511631], [0.3882063441174308, -0.036386562932199995, -1.3618830102031452, 0.9996760869645893, -0.14129033434205773, -1.710493906203443, -0.2681209269232272, 6.747504737195246, -1.533142014751214, -1.5647810816130336], [-0.23791384685758543, -0.7988249757396502, -2.892041236887109, 1.2813808427545856, 0.20724087037990913, 0.7669974651783473, 0.20361166115128793, 1.9187413129487156, -0.38803008774374637, -1.3591408659456818], [0.3784341727946059, -0.5205314224863375, -0.6555097862864385, 1.1301642661400868, -1.087987019010849, 2.3844434610431, -0.42003761423415764, 1.3537380724325132, 0.14339258136109567, -1.401573909679719], [-0.2819223155320041, -0.48600419492305275, -0.19514326483577493, -1.4551259243536128, 0.4212737304150267, 0.3853892334722333, -0.15193186367967626, -2.1935464008381023, 4.387589910291979, -0.6668990459976203], [0.21191588396554706, -0.628349846991538, -0.46313412521700326, -1.0251743090078789, -2.8163023106050664, 2.13313333610626, 0.1370418424493285, -1.6630082922989446, 3.9544301422913524, 1.88686866951327], [-1.8705794936484756, -0.7042229903184323, -1.5359494012567074, -0.058718975349081326, 2.087430789856528, -0.6057446625662326, 0.00020807837871750223, -0.5404125127892216, 0.28051512537611445, 4.878356434684369], [3.8810124966603725, 0.9674275008880051, -0.6795156503244844, -0.05777312780683941, -3.2444254136168222, 0.5162382059955268, -0.4576581399912527, 0.3731000561672819, -1.2278316598391341, -0.7318338620121265], [3.042894031463639, 0.7902011404663867, -0.0744784108149692, 1.0390055959112205, 1.2796138156697356, 1.8702017182566095, -1.6983634805084522, -0.95885455170971, 0.17002101471303455, -2.8033363149614656], [0.0067794525056315, -1.2747669050876742, 2.0483946972280407, -1.580500302487093, 0.9565963703105673, -2.3691554212929384, 0.4577551203803578, -1.1921496684944373, 0.943637066100198, -0.23149375271390316], [-1.3817772927186285, 3.5892202514224127, 2.1627510304577013, -0.14563694303954966, 0.4954019866799344, -0.9987812666698437, -2.3692713780607972, -0.6312668333829077, -1.7188866060138135, -0.9036121099966009], [0.6461298081918685, 0.4394080436403991, -0.12150726978895254, 0.8928762747297763, -1.3621499343671086, 0.9681100621857817, -3.2725131101281724, 1.0677222177576824, 2.7487783994314112, -0.9356356317582928], [-1.2231395650140284, -0.26970026218105847, 2.26755010256851, 1.1073497108124262, 1.4405687072484368, 1.131695118331207, -1.7337667719565735, -2.584849247441654, 2.189796093589088, 1.0307821029501691], [0.8490899362005737, -0.5401282918877472, 8.529481060659192, -0.45471827983698265, -0.47329339468067744, -0.1440635698790751, -1.1933577797332942, -1.2571136930017823, -2.3750294769777396, 2.320938514672302], [-0.8498633609923534, 0.07760609948682973, -1.9170727726646657, 0.5050811391133998, -0.05561748476400752, 2.150397480917433, 0.3768897311611601, -1.4688137720965753, 2.729678308097716, 0.20006147957535392], [-0.8601545453674123, -0.3321202298938184, -2.268982340790344, -1.736040869447151, 0.712590354655688, -2.6016847544273007, 0.32023845347238367, 0.21023871432711827, -0.9380754272401841, 4.893297961459378], [-0.7292280506163094, -0.8121569125762957, -1.1735528491790292, -0.19650955175714557, 2.7802868129283187, 0.7731419827764632, 0.22844317080767906, -1.1019509279761688, -0.6215973050252992, 2.279641268309697], [1.2902501087025622, -2.7092453842731077, -0.3265257216532915, 1.426344287612364, 0.841827189283875, -3.011846139309078, 0.21251268219579966, 1.4072222561737142, -1.328120107942651, 5.718677701208629], [0.6641585610146912, -0.08782343613282273, -0.8540784987382339, 0.6282688931526446, -1.79388578032358, 4.522588677595894, 0.2380803738098527, -2.292973432866946, -2.243463166473817, 1.1318980609861284], [3.8017310879517776, 0.10161095984459534, -3.6846892635326176, -1.148553135643674, 1.0847107409139145, 0.44582758906206554, -2.9035740985710037, -0.8486966703923, 0.046331867229705614, 1.8111786335449818], [-0.88299642464821, -0.13413138909073563, -1.1910302320789232, -0.35720649318354747, -2.5517291389136725, 0.6649416126995089, 4.427157697781172, -3.1529983531030257, -0.8129995888209052, -0.5124671144327011], [-0.9911929177552747, -0.676030704306031, -0.6439289098477285, 0.7202568431055321, -4.367450971801228, -0.09709412560397457, -0.9756904477967163, 5.351501916011995, 0.7311566291163971, -2.022835361032133], [0.07452955130383243, -0.5768130438523176, -1.377505694464782, 0.4997743767758891, 1.843046266794321, 1.5130060524728082, -1.9500798701283824, 2.4557512689144803, -0.6882918669879945, 1.658084201695008], [-0.0769195117861532, 3.945026476248232, -0.5957633224015133, -0.7454448300365475, -1.1616972355114932, 2.1465434022664693, -1.9591035575915168, -1.3237116988621163, -0.1825187040953491, -3.452956105134939], [-0.12648581110641605, -1.4947467150691753, -0.31382149016545013, 0.4965741825973464, 0.7333291382646361, 0.8683970378593509, -0.24852636670242334, -2.531624681952094, 4.376690235839001, 1.4006000092281283], [1.148257062579519, -0.6019984823284044, -0.7121762029373674, -0.8185841657222661, -1.414661004154635, 1.401575053514985, -1.0678178730670955, 4.018722005937193, 0.616765190157988, -2.5839009455557087], [0.010570245146876767, 0.7968992465897133, -2.028420878442747, -1.1838282842958125, 0.9015203113679238, -1.1336443844589073, -1.1754853977140176, 3.1066093951996896, 0.866571182682706, -3.1594492820869493], [-0.6746015971732491, -0.4219076640584589, 3.5978500558928874, -0.7548339908072438, -0.11212262752309138, -1.0611746242199365, 2.313481971936821, -3.8811349530584063, -2.002924941450984, 6.257966321679216], [2.491288495175211, -2.189380674373471, 0.30777680389219375, -1.3351832635625251, 0.7444601386317924, 1.6571400127949307, 1.1612823509820656, 2.3335953707574837, -2.082367713701994, 0.2168665653634534], [-0.5572768022268828, -2.904126364885437, 1.5095091903959268, 0.5525947353417024, 5.223110795564728, 0.4269950401071645, -0.5569710440898391, -1.9306486086490025, -2.2462454650735655, -1.4463342935159877], [-1.3541759287439827, 3.7651129330177158, 0.42672189145440464, -0.21629262390548543, 0.16945581456578473, -1.2146692105882946, -0.5323590879942368, -0.49324091483043997, 0.7089114362745291, -2.1830418312506117], [0.19855883246551143, 3.4324461795572967, 0.2838451860128115, -0.09612995101651078, -1.4111958898373071, -1.2417205720161937, -0.024776109266873014, -1.4669033654242165, -0.8047141501489414, 0.6413669877870909], [-1.4054482966459552, -0.7240636181908278, 3.681947128941234, -0.7760221799064333, 0.00828078724563902, 3.1263834074835106, -0.7767826226896296, -2.265460524773455, 2.592362224941362, -1.1466359018370196], [0.5723021580812979, 0.669535444972218, -0.45626854381255133, -1.4771748193806262, -3.6311597677784144, -0.8507472863829368, -0.3011450474325428, 5.7616312441337945, 0.9668953977263317, -1.1542031897682654], [-0.43729186362426553, -1.8567266240127824, -0.1021266947649333, 2.3884001836424282, -5.220668204861317, 0.7551833462412221, 0.6637755664379819, -4.4102119748171535, 1.0317675421035286, 5.271980506247493], [-0.22070980180476418, -1.1656510697756293, 0.2518618616821433, 0.24956668944711913, -2.5110899830153444, -2.6288601924008974, -0.2914645441685737, -0.08754973428608093, 0.4904983571642356, 6.48585975782475], [-1.1014205248397568, 0.581791257608833, -3.0899002780477085, -0.4961873580618861, 3.4772212930958375, 0.11435819298342365, 0.13982648774131373, 4.068549290791177, -0.4537410946504896, -0.5558152256416395], [-0.2555531282999087, -2.991160429294763, 3.470798343241155, 0.6477013637970617, -2.3270607488302653, 0.9228313874803638, 0.7740579993954644, -1.7530651054466109, 0.08451884123045317, -4.90097779013691], [-0.6020976224852543, -0.25381296200401704, 0.7568466309394528, -0.49444676132585363, 0.1314925214578455, -1.2610802635084932, -0.7276855389368291, -2.650101347074947, 4.733669239646066, -2.339885880498914], [-0.06673040374229622, 4.536113025621695, 0.7905647671063378, -1.3809354595171157, -0.39250914191564235, -0.4145594059253669, -0.33151909779820277, 0.5770541761793373, -1.9086113561612152, -2.1218775341328806], [-1.10933722201351, -0.5611043206926942, -0.4968884634605887, -1.128325305815403, -0.2778211098521044, 0.3243150358477469, -0.14963960863809023, -0.12805198129648754, 0.13438557148706565, 4.768401183628357], [-1.303419232338591, -0.09661182114345768, 0.1274678119974817, 0.7241737931942427, -1.226331233483649, 3.675558539861597, 0.5838817346543941, -3.0705211849985283, 0.35891420320512246, 0.6814567328526264], [-0.5859174651462753, 0.215963044410034, 0.3577626701580072, 0.9026960491372312, -2.3151497262826783, 0.8210160842480814, 1.4096305546795094, -1.2336981341491682, 3.463341389568926, 0.20679720465441465], [0.7484559700884932, -1.4391374485982205, -1.229344475683563, -0.08859001943174527, 0.009345951080981685, 1.1787322021261595, -0.5051056433666288, -1.4357780433139498, 3.392816824869067, -0.4793578975285494], [-0.45760801759784275, 4.925289071666379, 0.0916233959873547, -1.4725258583208443, -0.9261060170089728, 0.3304781872848048, 0.35874682379665934, 0.7404187488005589, -1.945924725518428, -2.0960685839972313], [0.6322747819168936, -0.8575942865585968, -2.1939033945135, -1.0035050817898572, 1.1135787926106075, -1.31044505603524, 0.13761148584991892, -2.1873259301534955, -2.406371581326937, 6.24383250586864], [-0.9963174264817318, -0.6164577294542308, -0.3515404382755686, 1.2348265144810089, -1.0090037581424536, -0.8568968091556846, -0.23161262244468972, -2.093908431978317, 7.626468201660314, -1.4950912620856007], [0.24431239332537524, -1.2092546305404674, -1.4981375932219891, 3.797810693690031, 1.124676066345153, 0.46515680632198686, -1.0049299230432143, -1.4503611938508874, 0.7311432063494858, -0.8228721190794088], [-0.20779523208791562, 5.153643134355606, -0.2859970536751897, 2.1020529578109706, 0.9984408132304567, -2.360833255038153, -1.5007083191816537, -0.3160016562217365, -0.7345932020621193, -0.9203697831361559], [0.38138914406907554, 1.913709874114939, -1.0916068803645416, -1.8216089303763716, -1.7760284846484413, -0.07188170737932875, 4.169585059804726, -3.574712192009637, -0.041518426724248214, 1.1718178563683428], [0.46130534743901275, -0.378566410854696, -1.4093626242748707, -0.2777899585992589, -0.770151363155382, 4.382756910988152, 0.8049688504151158, -3.325778475286076, -1.6839163743451069, 2.5252868750534168], [-0.2561657998410807, 1.5043204694720345, 0.4020659386750651, -1.9503819194090668, -1.978647279017568, 1.0127842933672864, -1.4775546875194627, 4.280004925530244, -0.3920276885450902, 0.6818887160443765], [-0.7061281311666456, -1.7534462468574652, -2.1384285211694842, 0.16424024487782374, 4.2157876233887785, 1.0796462079519813, 0.3381123753768247, 1.3623301088965467, -0.5995512063364097, 1.6762845634412913], [-0.34257007977459264, -1.2535326796445656, 4.647090841800755, -0.3451150524019335, -1.058907318874431, -1.5610459050623944, 0.03820361388967264, -0.08177326837513832, 1.6729959278361453, -4.048138663010668], [-0.6610788635427918, -1.4867918046130693, 1.206572523120057, -0.7629553127280062, 3.362745046552351, 0.28461969262965603, 1.9194684651053064, -0.6308882903850952, 0.3154419657669134, -5.073494653822976], [2.010825192294375, -0.7162132077023868, -0.8521892792100252, 0.026480705535084192, -1.4223853321406539, 0.5928012222085663, 0.8436127636869004, 2.2428554609109153, -0.9939978329000803, -1.107098647875521], [0.3594620227665799, -0.9736506473238058, -3.3379198204871265, 2.993241534685099, -2.055098453817843, 5.622268780787485, 0.38993700626829897, -1.4598230329854875, 0.00900405855499875, -0.7497035072198983], [3.6393975361627504, 0.25045242733222794, -2.0776383075726432, 0.604979327816095, -0.886620875941631, -1.8914636678909875, -0.26545085125689116, -1.4433634670814985, -0.775689606988729, 1.3480350799500995], [-0.8975537327799645, 0.7517209633491876, -2.044869917138101, -0.7438978358185406, 1.1571092368582878, 1.3107496913334797, -0.32509949307481856, 0.5024234294284979, 1.9915999440661192, -2.2007891086781797], [-0.251286515108629, 3.0587286653948818, 0.6357441886650963, -1.7335855210642466, -0.7986022400637829, 1.6908514016569671, -0.4252969282266239, 0.8235705624293876, -2.647395577280361, -0.9527315584732441], [0.03335046214548365, 3.2159854233470946, 0.09773980662740445, -0.8830817869170191, -0.5624098212098154, 1.0198085086576714, -2.237072450321084, 0.9290668509852615, -1.209548133582544, -1.9517186811419385], [-0.855632149618631, 0.44667831118041956, 0.19404868135742714, -0.24856046028789125, -0.296352830535731, -1.0419425762044017, -2.342728604783554, 7.046485919865293, 0.29738148793537555, 0.25971127181379927], [-0.395822312357093, -1.3031118944253384, 0.4338945648007544, 1.3221026691715498, -0.171737331477674, -2.491035299415924, 0.5831730119643339, 3.4193790423008332, -2.051775547412441, 5.856486691027335], [0.4234326544099307, 3.532096350075013, -1.1734621610347018, -1.9575597817347048, 0.8174400697122888, -0.5323979156916525, 0.023782478333195023, -1.2484045443354859, -0.7735450832267026, -0.7639174491432241], [-1.235389178861138, 3.1840013429671536, -1.2755000716939895, -0.7742429094540884, 0.2735104768294647, 0.33382166793001034, 0.10292048444697022, 1.0425656914114119, -1.6220800505634667, -0.7696403054756772], [-0.0049883398448746785, -2.011712745757664, 1.5674422137556672, 0.27467402319238376, -0.3958374340443611, 0.27307316421947014, 0.5792877034553994, -1.2399367262570413, 3.386213726470219, -0.7473662346649492], [-1.2892362898193386, -0.8079638810774923, 1.6974039868725042, -0.615947892480472, -2.768802807276759, 2.9782826380847895, 2.080129724154687, -3.0694110284502427, -0.6134268822201113, 2.9488965942562224], [0.9500302635532925, -1.5713306527556747, 1.2503462032221273, 0.7548639257641128, 0.021922345445369196, -1.715087996722863, -2.316397466197082, 0.3601552747108481, -1.4336017869565205, 3.1254263535816533], [-0.2518685934180609, -0.010832345553157374, -0.16667792995662944, 0.46732536411829706, 0.4455034346691713, 3.4967761382660365, 0.2798950697719491, -2.0928994061424455, -1.2861180964237509, -0.5002849819439379], [2.9026575949840123, 0.6028820006467277, -1.3867234528146015, -0.3230516808623233, 0.5577685907664347, -0.45595565357514545, -0.20881650876481928, -1.3055577617024392, 0.0667778523840612, -0.04024141974585982], [-0.15566756303256057, -0.06435184501778934, 0.26334256145110047, 0.5612609309897421, -0.9589975117993337, -4.440175557558975, 3.947788652082271, -4.102367005717853, 0.33681382057993303, 1.5942469521922593], [-0.10466011428275745, -0.9292460004155425, -0.16567463619143785, -0.19271225857242502, -0.7714069450040655, -1.3225293850409998, 3.636826876736732, -1.2754371652737682, -0.8609160941477677, 0.0038197489420580544], [3.2711189250344037, 0.4863688889033715, -0.9207881604481002, -0.09469606134239283, -0.2923128572078353, 1.6719499124372053, -1.0243799075303501, -2.0005940799516866, 1.6138968419139426, 1.306031420830494], [0.4932984748868501, -0.9371029947318221, -0.27189332925465903, 0.4504206458113922, 4.296239005659716, -2.1898585532431794, -1.1900883534307054, -0.5078521238376974, -1.6323036686916108, 3.190050862628036], [-1.0045628881454638, 3.174147656289102, 1.1376873523940547, -0.8810103036875119, -0.21064785619495296, 0.18499119854531587, -1.5266472724569664, 0.3729782457443589, -0.8315199210073269, -1.1470092885501684], [-2.383496217442688, 1.023402480572655, 5.676156607514651, 0.5059387927548507, 0.7402475229208232, -2.9060677180498615, 1.6782825739736509, -5.921487281158129, -2.839448740498101, -2.7693538582790387], [0.7063530441898158, -2.2559891002475267, 2.463289288606055, -1.1473603139125665, 0.8288065651207663, -1.2280310752336572, -4.693498421056778, -2.934318548244322, 0.6015257988182712, -4.135117055609271], [0.7788762170251582, -1.2549559991399577, 2.1790750331182296, -1.1806885963416196, 4.629391581387397, -1.0772613589400086, -1.9380722494786728, -0.11438979224108436, -0.8134131579223529, -0.77720007135341], [-0.035099249328978455, -1.2862717993436514, -1.179333187711456, -1.7927964980858695, 5.546304020591107, -0.7768460333831939, -0.12639091702338534, 1.195030361203354, -0.044406947391897766, 1.63274503191461], [-0.4553441879962268, 1.8515565724687497, -0.5483737288120774, -0.9290613025682581, -1.7873765030220756, -0.2046600824708691, 3.795140202774944, -2.6449141790179276, 0.7510132236998418, -0.8238249129163842], [-1.2062372828242616, -0.3878858480113364, 0.6986057595063793, -0.9964676881188619, -0.4271224908184297, 0.4262424721192972, 1.2672574104816139, -1.6571657642634645, 5.075830099301711, -1.313718436430687], [2.5036381576704896, -0.4211061107948142, -3.4076385151714605, -1.5277574736831445, 2.379141300887032, 2.375977663480488, -0.8479082788578105, -0.7360311127741701, 2.271418126823867, -1.8436493331917996], [-0.22922346541956617, -0.5146364320061383, -0.6112448288539185, 0.6922483513083488, -0.3021771638707422, -3.817312701079846, -0.36035917697173936, 1.9727696573328968, -2.1908063707530143, 4.467824943754994], [0.0577564484771842, -2.1994185141348375, -1.5063566148926388, -1.1759764559828434, -1.6092712711177604, 5.623301412386931, 0.96328825431064, -2.9354427604623083, 1.7031819142113842, 1.1653993026186176], [-1.0100244440369777, -1.192400166628678, 0.2081851234860992, -1.053312331832843, 0.9493133236136395, -0.2368619766830038, -0.7313202312674149, -3.5794553051115594, 7.465691245786487, -0.31736849282301427], [-0.6791156132460283, 0.7693066270508131, 2.1986059043009574, 0.5180068135438844, -1.7866089236653795, -0.17465941774393556, 0.3743275564475108, 4.116185269186042, -3.0438822437286115, -0.5672757734307865], [4.077234173459951, 0.19418524637615692, -0.9611417964567045, -1.1883510714857524, 0.12164762894505454, 0.32364879810496916, -0.7280598636661648, -2.028407203794325, 1.8985664983771005, 0.27247542038546246], [-0.2980532339941613, -1.8881413235619355, -2.6258165614373183, 6.144052286878186, -0.828952454267813, -0.8107459473485834, 0.06921184722990859, -2.2697361704704138, 1.5091674396832149, 3.254211862368968], [0.5728066724264822, -1.27785619155352, 1.4736485362430556, -1.923223176439828, -1.3643361004273302, 3.78571304223996, -1.0485551088960134, -0.4946172705388032, -0.7689922619069942, -2.60217859627718], [0.43305338744476174, -1.011942710761426, -1.4223403079636576, -0.5000804696362273, 5.564696166798044, -0.9745493239798186, -0.22673073850976477, -0.0845463342553382, -0.1347238376501751, -0.06091466237965837], [-0.4730457653362077, 0.03363592166834417, 0.9232210423341323, -1.230729749131849, -0.3432413211694145, 2.9587647347004404, -0.08979147525173348, -1.9233806561335687, -0.3081606564686785, 0.6275548811894893], [0.13964402765814077, -0.7914261000475518, -0.2542261563033392, -1.0963569155594846, -0.447394084607198, -1.748870180952471, 0.05099845015291482, -0.28730542854542485, -2.271702971329007, 7.431581878125203], [-0.931110235335622, 1.0451784395828942, -0.07333895040434424, -2.1058584480726674, -1.487161408225835, -0.8188697874246227, 4.1749475003666, -2.0026345187527594, -0.7644606982506874, 0.22031764852548164], [0.327076274058142, -0.695202108411219, 0.22261457657634276, -0.6014978594382479, -2.0619691780380838, 1.2054761419130993, -0.5465435122938377, 5.104842821865928, -2.496258080935719, 1.0927527558634051], [-1.9988917422716093, 5.104202769492193, 3.9490492298128865, -0.45427491542947473, 1.4186529982913765, -2.86151288914325, -0.004134495745514721, -3.0021689468783714, 0.18617817981556847, 0.7415205210815943], [-0.3348516638164296, -0.8754466307503634, -1.4409698986657693, 0.810373055205603, 2.239394747210945, -3.586883584019394, -0.4341562998275923, 0.4898165642181862, 1.8064453219816248, 3.1282819444070835], [-0.5435745348459433, 2.099661256703782, -1.728939463970807, 0.3857186608450882, -4.450438094346575, 0.37963745658114867, 3.4142841993284647, -1.6025420407297755, 1.4858282440408566, -2.831912908280095], [-0.7676674688100755, 3.9657073639192557, -0.9118281208822201, -0.8401376828280105, 0.15187638623064004, 0.5105113209252661, -0.3168285961025994, -0.21694246845205623, -1.2419351530857143, 0.24757495328091395], [0.21005944545397925, -0.46895066571534816, 0.0165684849809814, 2.855416542561508, -2.1837939858458446, 4.45142413601213, -0.9448346357855593, -1.2626473155285123, 1.1445808076898685, -1.2381346842163081], [-0.6751733278626915, 0.508601532763012, 0.19560065748476752, 1.427441896038879, -0.7087201194057045, -1.169847253571099, 2.171730492327467, -0.46853630650803346, -1.7233534822732208, -2.552903044668466], [-0.45034553550683176, -0.44746352057720706, 0.5237052801659976, 0.5111659822206958, -0.4234453512860945, 4.4441807429479425, 0.07346950510206979, -1.4342302786376653, -0.8988525566075247, 0.2487267114206091], [-0.2766787915191966, -0.3243266585134994, -0.767230738306564, -1.762488263938264, 0.9477787409559075, 0.8133831397431681, -1.1714169099540848, -0.43319854024393667, -1.8722981702901291, 4.87668084119921], [0.26832430300187715, 4.143847134225603, 1.968859871967095, 0.9393206317686102, -0.3643713054687918, -2.1657023926085888, -1.5987492625941921, 1.2085449855821384, -0.7534305449821994, 0.20227305041837607], [0.28729851470576095, -0.8096522071383225, 3.8543094789548475, -0.31523099379342345, -1.539077414157704, 2.5880882936533265, -0.0995000026393047, -0.7103432147449924, -0.9362707402937518, 2.5192240650030917], [-1.2720612860914073, -0.8726633694448434, -2.043343902043583, 1.4427273941100356, -0.19374743071653677, -0.4879627922515093, -0.6541391408978035, 3.654534162966055, -1.3993944474717324, 0.7121584920273065], [-0.08515730435994473, -0.11444207615684521, 1.5836021023611428, 1.9438626269840058, -1.436697646268003, -0.6788608161506713, -0.5308733647625832, 3.2606691769393032, 0.7779787638666225, 2.4005972571000864], [0.29998928423196103, -0.014237737394311889, -0.5212599037701571, -0.23338344866849003, 5.164805830617768, -0.5717640167402616, -0.8016079038849893, 2.177624817603607, -0.8375963032507738, -5.895180871242586], [2.5018275888187764, -1.5010861308988623, 0.8483934261051786, -0.4771965512255314, -0.4712478731530232, 0.2422907775151204, 0.22859425056083182, 1.3194741882362653, 1.4127126419897198, 1.061711084025092], [-1.5802720248961868, -0.10587159911312871, 4.416546595393346, 0.11805431052304405, 0.6690510357332513, 0.06235058559558393, -1.353853232477151, -3.5625042868787786, -0.23869722588005837, -0.6469378728218569], [-0.3528355915490943, -0.95465511772608, -1.0305411912945994, 2.9763979077265224, 0.339028485260628, 1.7901693948105724, -1.8073829273913837, -0.2724785404884025, 0.5172405595061229, -3.273477414301957], [-1.8084310261135141, 4.37137965605611, 0.1671255337779316, -0.3531936551049344, 1.3994563842671468, -1.2132151732589094, 0.1468426508724221, 0.8596027323235926, -1.0486115514278924, -0.9296180845070292], [-0.29997359505760945, 4.621302091075611, -0.245531257588385, -2.1561175123409995, 1.13034787181601, 0.747789932032205, -0.45714542544120973, -1.3510058422843594, -1.6057770629970498, -0.7962675789428033], [-0.6717533452785521, -1.3334549182467033, -0.5007568895167351, -0.2616587325980877, 4.126755879969033, 0.37045840328627566, -0.7919074509104371, -1.829879906583648, -2.7017020811746097, 1.8142982205639422], [-1.4474027423831175, -0.48869216920575376, 1.1181573402655929, 1.0249715843623282, -0.3692601670325133, -5.690138538941833, 1.0647933736230553, -3.950213515391874, 0.5573034411979458, 7.513112686790983], [0.7676400031007404, -2.148464313957771, -0.5488062366937125, -0.7649690765055441, 0.31816684417094876, 4.799323616650359, 0.08306539613508468, -1.4492992350113232, -1.250874232940386, 0.2600858813169853], [0.38467340646448056, 1.0947604377414368, -1.4979389850307743, -0.7567653970985164, -1.319138625026468, 1.2476735277551132, 2.445334186117444, -1.3920661566514507, 1.3689472751655232, -2.7327118831658312], [1.8072187466765959, 0.8209583157556266, 1.0648144948869933, 3.1529963524693065, -1.9877135229491123, -2.5578066176703698, -2.1859402445111997, -2.2006196963787708, 0.8066665672655118, -0.2333142347301962], [-0.09388446475027212, -0.8146464010529172, -1.611576257065575, -3.278424523508954, 0.40315005816380634, 2.1106992290062085, -1.3776255057171394, 0.4299591508157934, -0.19700894527313473, 4.530298573173664], [-0.2727200574674419, 0.08487818570280492, -0.4419652068946127, -0.6454249359938606, 0.40953578454865136, 0.6891537348917876, 4.178233543820033, -5.928965233174001, -0.8637076601608823, 3.4017907589603844], [-2.1199126079193795, 1.5420443892778328, 4.245493773439797, -0.3578837514017781, -0.5479994935250829, 1.2294461063051911, -0.7864960219907763, -2.8025861788851043, 1.3039897738113542, 5.361086143451787], [-0.16549343949990902, -1.0602809759030825, -1.933161335900552, -0.35811350524583063, -0.2512961559797595, 1.565523343172019, 0.16277132241235437, -3.3945322242402036, 4.00542903652855, -1.8019784244045427], [0.5760119319085002, -0.0014889871423249268, 1.0506377114460084, 1.3245882214336657, 1.0873146417205934, -1.817663651898565, -0.3666250261390907, -0.5156691567486948, -0.8820383155711362, 4.254942209713072], [-0.45099323609092734, -2.564168729642107, 3.9154448174438428, 0.7565234146648656, -3.351953622663174, 0.24494967889009267, 0.2665757542690341, -3.09669946229348, 0.755207658772139, -4.063066851436803], [-0.17791516770112126, -2.008553192973722, 0.5924341761049802, 2.4061012001736204, 0.09511389423001271, 2.415408640207646, -0.566800284681396, -3.021548884517229, 0.8930527465840576, 0.25524404674254964], [-0.27400523274940936, 0.1536972022941212, -1.4456798405360292, 3.037121303231835, -3.286835689602284, 1.9450566206912447, 1.1997051716749159, 0.4170072268725129, 1.1660044123669269, -0.5175439302669735], [-0.010709658579511006, -0.6102725925771209, -0.42321134885561784, -0.42975529537103396, 1.1039123251545542, 0.5001692852489246, 3.776767881192477, -2.0783268272590587, 0.4731514290012421, -3.0548331735947976], [0.1190778885931627, -1.2071737876609445, -0.3855978544761367, 1.8159546601778085, -0.6046463115703327, -2.542067635390834, -0.4652762990357413, 1.6992890744684053, -1.3931967053816718, 4.921087978953963], [-0.8244358347298575, 1.5622240425405458, -1.3848858885749353, -1.1524084152427827, 2.461893517486611, 0.06613543787059406, -0.556582916747379, 0.35004401123264706, -2.6001011481365457, -0.9837397535266328], [0.11110625758078552, -0.8913559237730643, -1.743009953128483, 0.6555637519497338, 2.410174803648342, -0.2319854974169886, 0.5051510029980387, -2.6267042661596554, -0.514361999799987, 0.9298931100931143], [0.7032388671559213, -1.1595765209329785, 0.7729116517899246, 2.016914407676693, 1.2277385989017509, 1.4618104454633185, -0.9577121340846133, -1.9809461571386437, -1.4073800138906796, -1.7487229609048835], [0.3475543508997583, -0.07904539200306893, -1.1385260752357649, 0.569629465617117, -2.268143026357289, 1.6282012462099864, 2.165156489883593, 0.5410184546215535, 0.779635712625449, -0.4905300826725611], [3.7413310298661138, -0.7992431007770547, -0.9178820638522784, -1.5288166323446504, -0.8004300170912004, -1.1316416686509712, 0.17127332995009903, -1.8622261482726, 0.4654616888555084, 0.9926492873008259], [-0.6459079129808205, 0.9928508301581074, -3.042816155216652, -0.49898949142088833, 0.4083920470056901, -0.923503817031814, -0.2629531129581617, 3.028129832541649, -1.9019268386701484, -0.04674425324694109], [-1.5313149373415267, 1.2261835894342423, -0.6089523436933313, 1.4105246100501398, -0.6606604628856074, -1.6272754849022109, -0.9911455011485937, 5.101159340756242, -0.5863518368297482, 1.1715832666229637], [-0.7332070551329102, 2.3299959367353145, 0.2802308756493237, -0.4630551977118511, 0.22103733251902025, -0.6622333226045183, -1.0524692681698424, 0.6831955478328213, -0.20625470942188923, -3.283781528868289], [0.45886108083717136, -1.630975129137175, -0.019132774002722286, -0.9495193310763193, -0.46926536920560746, -1.1801009634198938, -0.718117058818676, 4.953914616829479, -1.5775465251240162, -1.178856083641259], [-1.871059116813797, -1.4319779343530075, -3.1294339242986697, 1.918981826690877, 1.2998989078298984, 0.5090225469904919, 0.22604745506018054, 3.884823070752641, 1.9154891770452598, -1.870739944057136], [-1.4246330353312926, -1.0606142984358504, -1.061893428235602, 6.702952463596093, 1.5030764097893594, -1.7224462901585766, -1.5344548081030818, -0.6138111806550373, -1.4736787409641243, -0.28591450651220196], [-0.6136920563162385, -0.5681360834263005, -0.7823752091486722, 0.46756014077069885, -2.1752229770825124, 0.3517818272166018, 4.212394492697082, -2.0706754366909497, -0.16044932914101007, 1.6064380489164956], [-0.0903409592885307, 1.3983362180905008, -3.4426723210519365, -3.0802881776697886, 1.1096582522468845, 1.1563147722650524, 3.6792368056658282, -2.086281770647976, 0.31260355969386655, -0.09372471587852527], [-1.4511907894440825, -0.14107957490820677, -0.9014044998501708, 0.629616330556209, -0.6716703762833902, -2.5672466133171143, -0.16449677012853448, -0.13106054221017782, -0.6731014063996326, 6.95146405977917], [0.06511477790983289, -0.5097011829609315, -0.9742063339732425, 1.709189673995245, -2.1370557861067954, 6.855030697355291, -0.0762605687937743, -2.8187241552206252, 0.603386250106384, -1.0397352645308797], [-0.32245751567900854, -1.0358578970342136, -1.0796433403582513, -0.6095499141110765, 5.614282714497373, 0.6933798903400596, -0.9609583344524324, 0.20194860405563508, -0.18179290446320917, 2.0097748236536828], [0.2996077442913756, -1.7538606054710735, 1.8023679568193272, -0.8309875399426674, 6.166162129686963, -1.0464538677289408, -0.9905005344060425, 1.0160752340311099, -1.6130048722585504, -2.4051316960039872], [-1.375764334019172, -0.8745410919403434, 2.8870838547986866, -1.5177764040112516, 0.5364123287847089, -0.18930069522142068, -1.0299887799107819, -2.9020967297253435, 1.965520341490405, -3.4242115928024273], [-1.5912855069887328, 1.3696603686520856, 0.08426843749597013, 1.4339429471361775, -2.962777887062959, -1.9005100226666918, 0.41109190668483286, 2.6597832990651264, -0.88723860854017, 2.4725323850537646], [-0.9974201271221111, -0.007363901438078635, -0.6905374117601829, 0.997906711937668, 0.8625090409945434, -3.1345851713733355, -0.873473110287244, 0.37611197806782015, -1.6127274648038261, 5.679833697620514], [2.5589679353350303, -0.8331809132035034, 0.4635458932216733, -1.3622610587503123, -0.04669917907050625, 0.5320660416451692, -0.8628826314822575, 0.7929375125508482, -0.22285277328433906, -1.064824035121263], [-0.2837998245310791, -0.10463487222331569, 0.22027396845041558, 2.3823101894254517, -1.4736943061515697, -3.950784612092498, 0.4797694107692617, -1.5695694258152453, -0.054019530497354085, 6.024152107264867], [-0.3158795794193747, -0.03669069566584415, -0.867204663149006, -0.5554662397166632, -0.4963453305208594, -0.19002409879936266, 1.0889622115873276, -3.13407369240592, 3.5534337134534253, 3.4658982012617243], [-1.0644014633046317, -0.9403135672582272, -0.029717040826992003, -1.9205006540709917, 4.3190664138165635, 2.3156862199707873, -0.1781892866122543, -0.6826758311803716, -2.117826872760541, 0.3065614518539026], [-0.05692804982060018, -1.6004575729165587, 0.8893935600015441, -1.101185918882333, 3.4916255262770592, 1.8685516314233883, -0.675528364888824, -0.8975561029939332, 0.7804440859649611, 2.437962893316417], [-1.6335153969277443, -0.41994852530063864, -0.746292947547063, 0.06132804089198585, 0.4485663454641431, -1.8624595019843726, -0.21735457699419736, 0.424832857385983, -2.0904497340545825, 6.493503988528371], [0.03809870348239919, 3.0964713046076584, 0.4582508035586711, -1.348140276273951, -1.7901757074619482, 0.6676626642565024, -1.1163553954934002, -0.3414945058866501, 0.7263430051654789, -0.8242498870039787], [-1.9054778227321036, -0.6457974823594368, 2.0675266186135817, 0.4186001687776244, -1.8883422219385388, -0.8221189572917473, 0.46093893505932004, 3.6498606971604284, 3.7033682885171926, -5.125128996817226], [-0.47765936607172277, 0.103164288245289, -2.121488453762411, -1.817506389997059, 6.043868783534874, -0.026588125816215502, -0.12207648599658771, -1.048219201023578, -0.11327192311976542, -0.8338353249914636], [-0.2543285518794156, -0.34263487490151956, -0.5302081272657613, 0.7168627656086437, -0.46650413656983236, -1.0973498163114757, 1.0296757423617322, 1.5297380471380295, -1.2888787790823204, 5.090691222755529], [-0.838610177182797, -0.8336680271429704, -0.7478438063274049, 1.7374874804905072, -1.5185345132226296, 3.016170866673283, -0.19881638304096994, 0.468844645828868, 0.4318597924612291, 2.20683489446302], [3.2328155824611673, 0.7597474055059683, 1.7468544535584094, -0.4749400531758674, -1.5049860227260528, -2.206414554023688, -0.8696375212681389, 0.16984317092598022, 0.6107837158639118, -3.0301316229139164], [-0.5255947125160823, -2.036088183343575, -0.6705462100099688, -0.5167609922510945, 4.958996860149367, -0.09064913382097473, -1.6794574235660003, 0.6970592488898615, -0.8529951579174107, 1.795768930848268], [0.07767604514631898, 3.3418119814504332, 0.7357667092600237, -1.5775045230044988, -0.8657425915855907, -0.3258052216973444, 0.4049518861688708, -1.470306561560896, 1.4800581520036218, -3.7037271982821993], [1.3028548622641383, -1.2939196917180271, 0.40312655793354146, -1.601834127926876, -0.7194108853922243, 1.7152030324833814, 2.915870981085698, 0.34115112726509, -1.3689463982682866, -2.0309103987085493], [0.7536816052414947, -1.2420937150921008, 5.897775284294003, -0.6879919474541034, -1.1122440366538875, -4.257683618775705, -0.4615568397286878, -1.808781488169167, 1.2478214599411865, -1.1085169683880007], [-0.05454541284710834, -1.5038696133115146, -1.695601148768736, 0.6547737867032748, -0.3979199346252953, 1.882311005712312, 1.964803451735103, -0.6142421736310055, 0.8675208389835629, -3.300183386858526], [1.4408297200329732, 0.7977711365034814, 4.3483233308548, -0.5928695249772375, -2.4877619302231055, 0.62758802268457, -1.9219810122952228, -0.3511065204412289, 0.6317405985205249, -3.9966325710069324], [-0.6888684960971831, -2.0227748797655236, -0.33439581000579643, -0.1842407332535303, -2.007387160105349, 0.7595081727115522, -0.35924211436038833, 3.291428931917388, -0.8398157521040124, -0.6355045984079384], [-1.6435206670852165, 0.3776549516883301, -2.0986046026837553, -0.66594257208376, 6.659235185892538, 0.3944737141991903, -1.4126881495798962, -1.539043812462181, -0.7813716434649769, 0.7117084991375568], [-2.6195762520669486, -1.3477147916923509, 3.8001845490721893, -0.376280548493393, -1.7786332060743488, -2.838817985263116, 1.7922665655021326, -1.990109269486346, -0.2209581464284358, 3.2602821377237], [0.696493815279674, -0.9112972633670302, 2.246158146657019, -1.28273068005229, -1.743603368707781, -1.1163182709780453, 4.103477886992907, -2.6218645535352274, -1.0228142015200683, -0.27345835471226243], [0.3817958661260097, 0.8625454881632297, 0.05214152241604508, -0.7404112044844424, -1.3345478093187841, 1.6284236197554598, 3.1655339296988414, -4.738172730996724, 0.6733937511768562, -1.0559106194079355], [-1.5892458641665188, -0.6277870380038946, -0.7722360534555563, 0.7059527598988291, -1.0304382984824043, 0.7274232062573223, -1.0278991312715307, 5.464863000297173, -0.2177127528136067, 0.6332922369798664], [-0.2656876678269482, 3.5080675970646458, -1.2638353329218648, 0.07045514522466911, -1.4718559617584583, -1.2860446091845148, -0.2767532876060801, -0.37273299306047813, 0.5336763304189245, 1.4712654508270213], [0.5650146856782112, -0.5933084094831906, -0.7113573598112415, -1.3531745945730211, -0.5898813199465902, -2.535188602172064, 0.2846111285143176, 0.17138282804404348, 4.546399844719998, -0.8428528527443637], [-0.8962203844734173, -0.8816624046521095, 0.7179984543437299, 2.265908146616734, -0.6014766806087644, -1.92100444613496, -0.07250512332603298, 1.0539660672250353, -0.9655520443322394, 7.17704932271166], [3.1210069506913243, 0.08382302432415845, 1.09595200277538, -0.34160367257239255, -1.3106054465251606, 0.08947726428379177, 0.3338179765244875, -0.21321803093038838, -0.922461699483805, -2.1335244884717772], [-0.45249126003315954, 0.8129376762622491, -0.7643254056867455, -2.9274845951250317, 4.113046372834406, -0.2654091035152444, 1.9698070975382702, -1.092326038778073, -1.0771471545134976, 2.2793352781031304], [-0.26445867759262054, 3.191700842971915, -0.09234010465739928, -0.7776947093713606, 0.32206061075831505, -0.29475105199239104, -0.2925135517222215, -1.4288283139891056, 1.009815821209726, -2.2657944022486904], [-0.5209077088888125, 0.051539107888791014, -1.0811493294941343, -1.6745250114520849, 5.213681286249679, 1.3605048136846367, 0.9558460970342746, -2.406234993268241, 0.4418874822839486, 0.8628245772039387], [0.060090738969644786, 0.41315598920451724, 3.2639601280848742, -1.2061133726600648, -1.9287503777650548, -2.4382500374830016, 0.2900573374711053, 0.06668831249559304, 1.2943716291190255, -3.7058558507502184], [-0.10547915335685776, 3.540612523646529, 0.027985668374922, -0.8480609245663344, -0.539745411311614, 0.34617904596060245, -1.3891402383057407, -0.08478200004943037, -0.7112653917090925, -1.0874512737208062], [0.5451678607789038, 0.3631291857611443, 2.0364525170338754, -1.491192545769131, -2.4135788958904856, 1.792475372870641, -1.4091699285400534, 2.2435071935522517, 3.176861309409491, -7.282876511710999], [1.105548086032397, -0.7359398876480057, 1.0136209268354146, -0.9982459151161973, -1.4277432226909907, -1.1955019378866687, 4.192486241778989, 0.6960247652040259, 1.0631847545043005, -4.664674743862901], [-1.5046314662418678, -0.2933691587335645, -1.4171715720351101, -0.888183528843955, 4.5250293196913, -2.4077770093021766, -0.6982869151703867, 0.958118957435103, -0.09608904856851375, 3.5512441192568494], [-0.4063504018946964, -0.2151391912243099, -1.2733109627279882, -0.05219883253219204, 1.1665864322756643, -2.101206442075526, 4.9914094817327275, -1.1165532855522686, 0.019005921447026175, -0.7456251197278982], [-0.007924488832806498, -0.7536219710180703, -1.4868294250767065, -0.4483431807258469, 0.5630283904612132, -1.6478962009045377, -1.604902146309139, 5.244455494245959, -1.3328372213018584, 1.1276607707837374], [-0.42407511427169187, 0.02246715908634611, 1.0658626447035395, 0.7970004348805133, 0.33539379988106366, 6.428206361856806, -0.6858261028490347, -2.7152863297007874, -2.682991222242402, -1.6793769452072], [1.550020387404218, 0.36945270965865173, 0.20619349406940435, -1.01012349918721, -0.8183670475237452, -0.28320055168905633, -0.6868991765885936, 0.7235045047304483, 1.988652744308943, -5.56044251901068], [-0.6402584699416519, 1.9734137111927263, -0.6775635911513977, 0.20317785786499387, -1.3827954662946822, -2.9365324218645985, -1.1999016181909246, 4.8492607900923215, -0.4920334517748941, -1.49153339698849], [2.6297408461716176, 0.8354325662207789, 3.723291533523552, -2.0971402610724823, -0.21888071158013744, -1.568504696660562, -1.2001716216150462, -0.3026458466673523, 2.077476007179878, -2.834650365402222], [-0.052114742751302456, -1.2357650695452653, -1.6054868871941632, -1.1007109100181662, -1.4951984138760719, 7.042923090664221, -0.7192936829958834, 0.23378216967140197, 2.1198988822486764, -3.014952631744582], [0.3093575510566029, 2.717606880496424, -0.1366993833731659, -0.8183742051693144, -0.7953854716369924, 0.2541171468499739, -0.7176394139594855, 0.5496224204273514, 0.3497937503929688, -1.9110346990848033], [0.9234774981067926, 0.08460089594115483, -1.7709871034173497, -1.8383821709964765, 4.248401458094105, 0.09307878245001433, -1.2655987609374795, -1.7747076939998645, -0.46408839201745855, -0.2243302796644091], [-0.7565265233532604, -0.6864839320889544, 3.1918305972546417, 0.6001012967098605, 0.278017964996534, 0.23567025587809987, -1.4817111566980692, -1.504629118780191, 1.8738606720851871, -3.4265936452984365], [0.6327212098971908, -1.4939100848913027, 0.2527965348035164, 1.9782486650307818, 0.6869854651914045, -4.248009120672424, -2.2554523933064683, -0.9634383992571918, 4.075644540047113, -2.411335233777655], [-1.9119289789354177, 0.402751601709078, -1.1458877572394934, -1.804975357104434, 4.493504947064116, -2.089125421716452, 0.09299894558998734, -0.39160822853571453, 1.3643837513936057, 1.683794369811666], [0.46521666729460764, -0.15735291812819918, 0.5906895996217307, -2.251926905548065, 0.30313425030475116, 1.590311123099755, -2.188072836391477, 4.193221998140674, -4.389125042665754, -0.1728949183215569], [-0.6577556847121949, -1.2667831833772099, -0.6023434480171197, -0.8648745393731108, -0.3737533294932951, -0.8019230906508605, -0.8000788035419147, 4.7851910678607545, -0.36018531660428144, 1.0189637417811896], [-0.6886267895661304, -1.4334290852748426, -1.372108062540224, 4.001919791068622, 0.5731425154807619, 0.7970035264603252, -1.550567145072595, -1.427478015299263, 0.9744236319683612, -0.1851534877460761], [2.124833535878679, -1.373302514789252, -1.131009979859882, 0.06758499717683963, 1.1195314245991543, -1.885747633899201, -0.39858437109329414, 1.5264655460814238, 4.270036985208402, -3.527026291430575], [0.00805474455677202, -2.515371816031099, 2.6528982133242396, -0.6599701461984493, 3.55307346373559, 1.6587204703568736, -2.064058369940224, -3.1152060682436895, -1.4852468409566664, 1.3765374681668572], [-1.0175034968220964, 0.09851829303669235, 0.09458932882229254, -0.4857728680927029, -1.8669418382845935, -0.33714812642019487, -0.41671995523216143, 0.6289728215467969, 0.2873111573633902, 2.429579465075177], [-0.9465410489921364, -1.345844559892698, 3.232015450279793, 0.9779696196047152, -2.900029646972248, 4.292614458284497, -0.9303280747615341, 1.3804965418464752, -2.119644668170852, -3.4276933065171535], [0.47003860243189255, -0.6215371296902936, -0.2679871606444739, -0.7523156642758198, -0.8830060072141839, -1.5491813041292377, 0.6534548197631347, -0.99520131968782, 3.1021586711584024, 3.53124653667098], [0.1782485075205016, 0.5560592288101391, -1.523299675592061, 1.0730539442520381, -1.7027313475760795, -2.28747356563595, 7.225221058189597, 2.3187768850644614, -1.5378634243674982, -1.5270600475583418], [-0.3705191157272254, 1.343060778013916, -0.7353315742001185, -0.6268811655067035, -1.2501185234543657, -0.4422768912289242, -1.9158188792937982, 4.507807773608283, 0.10672539374132661, -1.783435812062125], [0.02787836910888508, -0.9627205746722503, -0.441064361954006, 3.328063102682461, -1.8155622830932339, 0.29634020346217227, -0.4151991333855264, -0.8839015637400955, 1.1529150962560784, -3.597400591065044], [-0.31039532814065574, 0.9775133164347027, -0.5881692300021527, -0.40014436325550506, 1.4880253820149751, -2.7216326337880306, 0.5643944108508863, 1.229980774786284, 1.2539802003795382, -1.502618888235407], [-0.7192134406269131, 0.18922408767890075, -1.184653104072112, -1.9416629268131953, -1.0456337390649932, 0.8737921093190077, 4.7550185971308, -3.263590994154744, 1.0613678673164526, -2.5080898255452087], [-0.13931771785049285, 1.1261777478911053, -0.4070842887763071, -0.8016830485444872, -0.6318883997179232, 0.8571865678843634, -1.510284294934909, 4.597184691177901, 0.8682755819029926, -3.674724399063691], [0.2274342355925394, 3.6537677424894754, -0.08294760341544771, -0.4675352963325674, -1.5454817437404937, 0.3920717255603885, -0.5763970259483906, -0.9628781522990633, 0.20888551500247798, -0.47679614630102085], [-0.9148989031902479, -0.7298113010253349, -1.1699886038605594, -0.7578066908393652, -0.925737261697519, 0.7517525941016905, -1.7527288933149106, 4.640596491177313, -0.03235101652470007, -0.4312918341560277], [-0.8473358025556577, -1.76316749542187, 0.49784728153558344, -0.8956718773416581, 3.797947798251034, 2.2093551660590363, 0.925463616545261, -0.9808587563012323, -0.04921078236976051, 2.579292896610368], [1.0363774779861927, 0.11672713310883842, 2.3341859885222176, 0.5136447325027245, -2.077427417291694, 0.8820884340193627, -2.077190384235363, 1.79393222881815, 1.885511943253735, -5.815676062059215], [-0.43991779511253704, -0.9392121715544657, -1.4051545296099655, 2.110356447746349, -0.4927409568162243, 0.6793744454658418, 0.20429583123381212, 0.45989367726700703, 1.8381555905837967, 0.9254270413202779], [-0.6502733543077438, -0.35939681911519106, 0.72560950445805, -0.4448182845934813, -1.719609872099422, 0.6335689556430637, -0.32371733467539365, 0.6462131461203597, 1.243842962716498, 0.7271069725178316], [0.43256174181207674, -1.168497835622202, -1.3071531571534263, -0.0564493287818828, 0.3895335760767942, 0.44815295869148297, 0.8342189618486846, -3.977035438444704, 3.7464216494549403, 1.29422530629251], [1.4977919353194933, -0.9669029907164638, -0.4656886197089236, -0.23490640862579282, -2.8365718336514174, 0.33208371136851267, -0.8045659867187935, -0.6348858218933038, 3.4406253285660635, -2.712696668901491], [-0.15444161840721105, 4.089345960801138, 0.674402850382982, 0.23786022231752169, -0.26281529398969106, -1.9387986069386114, -0.9286962194854267, 1.174125743382601, -1.875027679730319, -1.3582368268474312], [0.0824092767650404, -0.45661147360800003, 2.118251183956343, -2.4083160803836527, 0.2944885839166127, -1.9840004046669881, 0.8284558989038926, -0.007392031623550288, -0.21953865073134882, 2.263732639126167], [-0.6447852232518483, 1.3582093935761348, 0.6439468676323532, -0.9277895984113979, -1.6509685843631816, -1.5846555518330394, 4.888177497022182, -4.981143361437013, -0.8144046406701646, 1.9287415874558707], [-0.4726147382093331, -1.4321385107770732, 1.7215583424618575, 0.5013154234546189, 1.0844983427289376, -0.562184237352719, -3.1278469488037293, 0.924202723276148, 0.37633531948335897, -6.094142118303397], [0.2936296999245167, 3.1618388896687715, 1.06075355535825, -0.6619506254261989, -1.2202804255827804, 0.16114962782547293, -0.3661819769503054, -0.3742569121545629, -2.3721762975852103, 0.45945311782116205], [-0.5934854148158495, 2.3852752057409305, 2.4936450639909813, -0.3547613065175652, -1.0735789816849564, 0.5921260442418663, -1.4536508618149049, -0.728005883886556, 2.3855223921304654, -1.4369656831410795], [0.1436910770999763, -0.23013978826104342, -0.4390067919874757, 1.1581189615305152, -0.27291752940541025, -2.004621076027473, 0.8431872529605129, -0.3198556791679614, 0.9508607106318605, 1.98363584857356], [-0.49014084091132526, -1.4527941027576778, -1.459937259284557, 0.32186418000610395, 1.2250489690030308, 5.465175874580071, -1.5065558901613758, -1.3640742481763724, 1.5228327613490114, -1.5549629230200666], [-2.736203742442406, 0.38743114036134996, 5.076522633114681, 0.16399218105637448, -0.8474063750226453, -6.205710298551804, -0.020947478536268438, -2.542423194340529, 0.7671202269351667, -2.662706692965583], [0.9650299585208133, 0.3849975225079567, -0.07158400462359094, -0.08544957082083737, -2.346146707901794, 1.7084484263627977, -0.8384802417371029, 0.29311157845653923, 4.675849247542853, -4.007652855832986], [-0.07074657904205739, 0.004110112085364048, 0.11949788763320335, 0.9224233056591773, 2.668939680505372, -0.7259014314229448, 0.48133606844922816, -2.321885860316039, -0.7464628680743921, 0.5444319945246692], [-1.6387268737246095, -0.011608301990827297, 3.5198596819677617, 0.7917192941831663, -1.2163109366449425, -2.459206366850549, -2.376592106344587, -2.5040316560343236, 1.4594177912792055, -3.8123866705408425], [-0.637182183638173, -1.2428878951085882, -1.2659755352262199, -0.673267150140219, -0.16220482023371963, 1.2202726357639389, -1.3354226503051703, 1.1437152216420587, 0.4818359308951752, 4.49192226328701], [-0.469430713688797, 2.0507628075221254, -0.0746679518751674, -0.071635185386417, -1.9917356136558513, -0.5347142950781723, -1.3232015813575095, 4.0144095658549235, 1.2665741635769878, -1.1106235494734982], [0.07062255937323592, 3.1599746030439677, -0.27874031922279086, 0.7630700342211097, -2.213951797144242, -1.4201346884485877, 0.3996101621652812, -0.3181007515012477, 0.2805517180592044, 0.9915465960615371], [-1.2450321527256105, 0.913137705474917, -2.671557181313751, -2.0271519993329776, 4.365729822422599, -0.8255647078457864, -0.9813370372797876, -1.4884982942417104, 1.2773875780959205, 2.3448512611746564], [0.29855948746192107, -1.2477936465843467, 0.48098342219400436, -0.329260198374862, -0.512339294936901, 0.8174190475269043, -0.14321213074384653, -2.180085732529334, 5.935128387553195, 0.4786264405403694], [-1.5069052128667486, -0.8560604066849408, 3.8284891557643594, 1.8305483427266447, -1.079527194410842, -4.771900290551547, -0.6731033209495028, -1.3747222965724553, 0.6125491136749401, -1.9509471464134887], [0.11464053006884178, -0.8810147558051983, 1.0893385610370376, -0.5496970752481594, -0.8226195975876518, -1.3021921891211228, -0.4099883891964482, -1.6563602260779282, 1.2601810856005746, 5.7171477789714436], [0.6458341577358593, 0.8956205233369179, 0.8279266572310084, -1.6011578787602927, -0.4977095809129488, 0.483816929946669, 2.1321131351175913, -0.9899557451176069, -2.4960069316685805, 1.8196512914375824], [0.43483043498419205, -1.4422451986610727, 0.4053894536346161, -2.9613969706880945, 2.227014386594143, -0.8498990826849759, 0.4831338759388497, -1.107025381118068, -0.16934351885666854, 0.3539215601583452], [1.1469931437170462, 1.861645660435662, -0.34072238765819707, 0.16724453889508428, -0.9184207495195067, 1.855850541377313, -1.2437523638961836, 0.3426046368672584, 3.4078270683290026, -5.046226811361725], [-4.1513528965932345, -0.00667273419798331, 0.7786156930357448, 2.1808228137390944, -4.334556668764496, 0.8588842415451774, 3.201075392588936, -1.9907821667101313, -0.22680667551947753, 14.17535491588728], [-0.7256659561935159, -0.1964952787940999, -1.5726201155833381, -0.5875167890051933, 4.038106693509186, -2.342189380032002, -2.2612096860627613, -0.6493660960105381, 0.7764193017546366, 1.065436085880937], [-1.063514472662282, 0.1952136191617726, 5.945308613353016, -1.4977668135123126, -0.6917436723245558, -2.3691959143154673, -2.0599135852255595, -3.582661787520871, 1.924533207949557, 1.4068828151396922], [1.0860353781236114, -0.026277294327252676, -3.59708821526137, 2.025496396007081, 0.8425239162557272, 1.6264720749894543, -0.9603724351122432, 1.8583315392041728, 0.6593770996682999, -2.800154219944458], [-0.19337238569727777, -1.8536021834116645, 8.957062442550304, -5.203280242061886, 1.4200874740144602, 4.570407941470461, -2.5738846176490697, -1.9184142730021638, -3.297146743797727, -3.6642791028596307], [0.9645724341835442, 0.12904262896138674, -3.023931674665295, -0.32967090832117174, 0.41800755436053993, 6.5890401436562005, -2.2525789458415764, 0.14309619105356153, 1.37075637927453, -2.689226997840346], [-0.3011479462434008, -0.6890157895975706, 0.11434062358427477, -0.9372106915321439, -0.6296267025356217, -1.9713073527897578, 3.8851254287153685, -4.57428703621446, 1.7325136214497818, 2.4798813195822573], [0.49471525823602125, -0.3521750359784175, -0.23407524242367117, -0.3473850900123554, -0.7757470305075103, -0.18260540612420106, -0.18221961698489286, -0.574370937278379, 3.6593676467672003, -3.412884713464893], [3.0904765330799684, -0.6430642370182813, 1.514935470266681, -2.158852556669096, -0.5028510238308348, -0.019787307325023873, -0.0566814237427512, 0.973792058875264, 0.6174610090720369, 0.034345049218696744], [1.5721203801679726, 0.1131275373760049, 1.6157194391841978, -1.5079904878058432, -0.8354725482975205, -1.0888420261156364, 0.6100384214892438, -3.109876724011926, 1.4930439260146149, -0.8441853428391788], [-0.8250336555965533, 1.419479247764983, 3.955778526003223, -0.14348262325853778, -2.052470385260376, -0.48081488736795874, 0.09427249375223412, -0.7762312971265715, -1.2666904392367702, 0.1398343034421874], [-0.6814109138636941, 1.3320187685361171, 0.8786359917849227, -0.32035662092486517, 2.215377416249722, -0.2748442939287381, -1.9530429590941654, -0.023858554569417434, 1.4182024351526739, -1.1074579972712026], [1.0450332035989738, -1.7305292236421912, -0.9259857290459101, -0.6817134812778594, 1.5865821350882012, -1.6223784465745268, -0.00820876097526746, 1.7039298205025535, -0.652894627125062, 1.2876436828507631], [-0.697755759031014, 0.898792273400947, -1.6070728702046484, 0.7385773852385382, 4.152356766142718, -1.296304041383915, -2.6191119810397927, 0.002771024959518087, 2.5495173076007074, 0.07887509863696884], [-0.6405437293007701, -0.9536175067529489, -1.1247342457389493, -0.14379548738718628, 0.3842307939980789, -0.005864968256921621, -0.308687412347477, 0.2606635481392334, -1.323940793345794, 3.6643988930396283], [-1.865873619037441, -0.48349547553054517, -0.43331796438428394, -0.840176631184222, 2.0974252797964503, -1.2911921676968086, -0.43766927329427985, 0.5441273591028473, 0.3020579471144591, 2.3938407710450944], [0.8568727035529362, -2.303999668602261, 0.06734124628274918, 0.4950170604130857, -3.5179523555112837, 1.6423097664323276, -1.3908758058184187, -3.342097509029537, -0.08102802577693136, -0.13308240255570736], [0.9336192115139303, 2.0322633613223022, 1.5737937912519444, -0.23494803971802325, -1.628575989769845, 0.9141729333851134, -0.8508978371084384, -1.6700006046384672, 2.6283187695947996, -3.0192690076788096], [0.02659736549712899, -1.0882109829104794, -1.7155811824218743, -1.6698842932063969, -1.049732680398738, 5.440421209114021, 2.4673778224551066, -2.4771210581968637, -0.04310169429973976, -1.7121888894897985], [-0.40575121081523147, -1.2655007287072886, -0.43644664270320677, -0.7139421198439404, 1.2090089482222073, -2.7265595500280253, 0.26191800998426595, -1.61905229686919, 3.7032908739728256, 2.2778753293768697], [-0.6586791411830977, -2.4710463942834373, -1.1879064505075534, -2.6694020056944687, 5.190094572470712, 0.5211504258449668, -0.82748063616634, 0.021659933127110786, -0.4581656348914258, 1.8346866177094525], [-0.3246460950153587, -0.02655450954224614, 1.2733049508225656, 1.3823360314898454, -2.3912334376196975, 0.7461251988822166, -1.439598494365121, 4.448611408277035, -0.6978949985643212, -2.901733040706932], [0.016387193409971523, -0.7737892155529846, -2.4971724080339577, 1.0803254133246663, -0.6325921407741388, 0.78677158592685, 0.30012398815896324, 1.2572194597724682, 2.8263715593118666, 0.17631608166648238], [0.4507931942514992, -0.588715777009031, -2.679101281082876, -0.5465895212158591, 0.8993294589041532, 4.7867051531088824, -0.6187168950306181, -0.5988320428449359, 1.1417917925491614, -1.0740306930531474], [-0.6925248274056073, -1.4963672275700417, -1.4891035100676455, -0.7737438545063657, -0.30730631764153316, 2.048875114917055, -0.9849737234567879, 0.9433450454637389, 0.7307517080874937, 5.343913754200708], [-0.05621872593392807, -0.6737626197208957, -3.396325481121788, 0.05477952822801602, -0.12606947584025607, 6.081407642861983, -1.8485690569036262, 1.6823830355295786, 2.114646011002504, -1.410330059271943], [-0.3025381608198825, -1.5812504607285223, -0.34927686485024223, -0.6437797340957192, 0.4081529729901785, -2.7394869775654764, 0.8780292205344087, -0.537632568107177, -0.7219114109841755, 7.381712018812943], [0.8059335918815049, 2.2112101116608667, 0.2491070892944397, 0.3704751444709582, -1.3113087620024828, 0.9369219084895826, -1.1363514234740828, -0.4669018673848171, 1.551371776627775, -4.15121909986533], [-2.2485954651292257, -0.8232049344580914, -0.622020672321837, 1.0918873853563686, -0.9740831734008872, 6.630864992260532, 0.577847362599516, -1.5456364123278634, 0.45159901016143733, -0.14411004836597296], [1.1384139073660107, 0.9003867147755791, 0.45433292358139343, -1.4094103370776345, -0.11047030059035556, 1.0053332542187765, 0.377769580595002, -0.3529263636031743, 2.9118111264692734, -6.922432535671771], [-0.2127437940187331, -0.08830111977487798, -3.8990654392102853, 3.4339926033813155, 1.4831075799240994, 2.5595766348045395, -0.8293058627104901, 1.9496712849106137, 2.0863634747527566, -4.518769175131147], [-0.44594647764810214, -0.30516434118264035, 0.9460082630565627, -0.8300206135663322, -1.040302893533446, -1.0118294227335474, -0.49841957197828535, -0.06766228181989487, 0.17075966030583256, 4.156218443578219], [-0.7632040060147764, 0.027281230335392648, -0.7486695093025522, -0.8486076841282415, -1.0692268683455206, 0.1366005402809194, -0.1328463993821294, -0.3697476175060803, 0.5166777969195209, 5.232342843209338], [-0.024096968791451623, 1.6683146399484414, 0.6166612882165673, -0.8896715909413101, -0.5346866075245051, 2.12014240112577, -0.469625736017961, -0.5931191893435865, 2.349913670840884, -3.8883315709637216], [-1.6970999064395282, -1.111360381765321, 0.11163274890569452, -2.371998825561611, -1.5781549839740636, 2.083375448379116, 0.2927389282173847, -2.0585613550511206, 5.552814780125265, 4.300099938476809], [0.49521362041651473, -2.5105731132769904, 4.45452003322911, 0.21175100425543825, -0.4724729943209347, -0.07787783751136335, -1.1908945812657277, 2.7412742948781603, 0.9106389211758517, -6.044030424615668], [0.1822321572928456, -0.7982568775035586, -1.7775287892545877, -0.26542295035220476, -1.4633452793671466, -0.14807688218659276, -1.842946609507329, -1.8955945713266202, 5.998047800204626, -1.7532076993857675], [-0.5517983732663707, 0.7336230970507156, 0.663121593570937, -0.9303715074153485, -1.2920591905639158, -1.495746306399525, 4.351328729150161, -0.7693082185249902, -1.6305899448853443, -2.014400248724513], [-0.07256685128174589, 0.30392373953522756, -1.8320731460983934, 1.0682511204821799, -2.819653234826878, 1.1050069368845543, 0.7666457803150029, -1.1039752343797438, 2.0577587041260514, 2.9643499786764087], [0.6556196381859065, -0.1734405752153414, 4.971356631203108, -0.06901245550968083, 0.20365089564039363, -1.9598360389041432, -2.669867478594592, 1.619195250328362, -1.810383513522551, -1.1036982927669614], [0.1084074983779536, 0.80987233766129, -1.0691793109097487, 0.03756867556548649, -0.7467432818944146, 0.36008445868516215, -1.0105409791398414, 6.159949613049227, -1.2980723653375974, -3.9055225026178912], [1.6628230194352955, 2.751840604632056, 1.6549329285079362, -1.2302951844644452, 1.615619176011653, 0.7598531938130577, -1.6173311960049501, -2.505618785193925, 1.731213492047916, -0.9577945520241204], [-0.8632761277910737, -0.21972131050642574, -3.3188542527496785, 1.3155825911643013, 2.651761426837994, -0.41586520641245817, 2.271902672313577, 3.4764261401601644, 2.2223312643603284, 0.06770259635126363], [-0.893175871771257, -2.011497879683561, 0.20346744468943412, -0.9352589161873874, -0.4709041341550737, -0.5509623466502243, 4.2496251437226045, -1.6422921783526783, -0.9428596356802645, -0.9270987516011941], [3.267150556038052, -0.8274177354648155, -0.2799480619362321, 2.4584361823257783, -2.4082161405266875, 0.006450186911513001, -0.11283773668487385, 0.8272652729195022, -1.4854937792099454, 1.150336859868969], [-1.1151395200484333, 0.21822109593314654, -0.1626083880091349, -1.4137158245247954, 0.7599957247911044, -0.0974028556680119, -0.6223434690391576, -0.47171923922833026, 0.43575220918912416, 6.4972708206770875], [-0.10194397107497277, 0.5269247606834242, -2.2053152021225535, -0.8608149254371404, 0.002500198587541025, 1.4905200859434697, -1.9659592968616895, 4.569179143752855, -2.9036309797992867, 1.1501738227790153], [-0.7289674812148514, -0.8433039604824306, 0.3783127737821652, -0.6854721416956108, -0.6073637289964378, 1.230125742533386, -0.015317248618180068, -0.8746754892583919, 0.027710500082584133, 5.992724148959312], [0.8311707490108242, -2.075629516481933, -1.1130736530728478, -2.500102879827316, 3.202332504500926, 3.9965182895787046, -0.12959301509700094, -4.56357160703047, 0.39682149068079564, 3.67625175693287], [-0.5431217853068933, 0.37367730145072997, 0.7832951624234388, -1.037153910592676, -2.420799740911661, 1.467582985442295, 1.89733886440075, -0.1327330934764781, -0.8974847955132419, -1.8047140567716475], [2.504290005840843, 1.570544746806747, -1.8229974379875764, 1.422132094243291, -0.7633093283286838, 1.697502296178667, -2.4591157684064147, -1.9142659848330332, 2.671796983092076, 1.5504605640548625], [-0.20376998751754738, -1.3023670772333118, -7.151155253641376, 1.5034981735144972, 2.5124627489175664, 1.7155192151994507, 1.9385735109301687, -0.40390354427763464, 3.330154477431143, -0.04145621466274996], [-0.024676901808754925, 0.5224019234377302, -0.8510843457784785, 4.808512626478274, -1.7656111021733456, -0.2771650310130789, -1.557574416983429, 0.09669113885720626, -0.6463269492209318, 1.2844767498344987], [0.5100904895201106, -1.0496574921359263, -3.2762995501891172, 1.0308354261028547, 0.4572912366454456, 6.7789826013486145, -1.2931473961574782, 1.8341712423187368, 1.16926161775684, -2.412792164657286], [0.3407070843347164, 1.2363072187723365, -3.22141676528087, 0.19976927774427944, 2.0231585789421733, -0.7870911093083119, -1.2615884017999077, 3.855628669546799, -1.9786891212845263, 0.6147788554195479], [0.4786510510697073, 0.6022803276476786, -1.1002039810905062, 1.189899401437346, -2.824840971369138, -0.5630037367738545, -0.20929628409484868, -0.6027761268583336, 2.6946095055147943, -5.859374125849229], [-0.8254060629586242, -0.3076881344088198, -0.6830757022270183, 0.5155227679495855, 0.9236480521297861, -0.7702012941372107, -0.02527377548837695, 1.7339669794857624, 0.32419168915465857, 3.199217515501467], [-0.21186038712895483, 1.243531427593604, 2.0463281457451377, -0.07175522187097094, -2.382287031391379, 4.133667884319783, -1.5900460398062919, 1.3021261506520068, 0.2818464436640906, -7.560776009290582], [-0.6324992312935915, 0.13557679659882904, -1.118776025559998, 0.082881886598269, 0.1339001460383007, -1.843553190488619, 4.398133928926372, -0.5643401620824635, -1.1694786350745792, -3.2404573777358143], [0.3630014474462433, -0.5234713794244865, -1.3196782244338428, -0.9772760598998544, 0.6251164423992606, 1.8672231653213394, -0.46847314132531503, -0.1825382489822842, 3.0165913258325783, 1.729867984688621], [-0.40471482081885046, -1.3590311033015574, -0.9717308918230341, 2.1344635231175904, 0.5335514881452239, 2.1886258959419975, -0.09524704639940845, -0.23706060702705667, 0.8362075347848199, -0.9433415283692566], [-0.5317228288169185, 3.7157483513034806, -0.5681622598465604, -1.3036472861573534, 0.1198747426214073, 0.012786620762660128, -0.680999190653951, -0.3276626006824568, -0.34659992734017847, -2.9231766693936643], [-1.5412409550138633, 0.5350447149977324, 1.6728147100361968, 2.2387735373657827, -1.418339487183868, -3.8923278035881133, -0.7933113432949686, 10.025686585540832, -2.1012924008685454, -4.757404800337252], [-0.6659052913854617, -1.488147649117894, 0.7731346318178098, -0.08179700099889153, -1.3309086917228763, -0.34786068280583193, 5.98757291134714, -3.3435617497941212, -0.6570716976874982, -0.2729918104898874], [-0.8036124707917991, -2.312466944263723, -0.9826407677267059, 1.7691376471676679, -2.5664647938684264, 7.275280995641628, -0.9363120474845301, -2.4025294071063836, 0.47074253390028575, -2.0223847702794], [0.17719228000521037, -0.3175005620321447, -0.8575327010545417, 1.0299054379557462, 1.4708155673851357, -0.3960745786249049, 0.39235885996055764, 0.3439820805636753, -0.652027128868125, -2.1633988878002626], [-1.238612460450145, 0.5866705055727006, -1.0569674677685987, -0.7877981868200377, -1.9603426807737385, -1.1672293371510902, -1.000947359453952, 4.112707314012148, -0.0880300743571425, 0.2702054510547347], [-0.37132451354847396, -0.35412536379022996, 0.7077772871518603, -1.3150402038029299, -2.404155306482167, -1.1744585808286885, 4.936575333945434, -2.6136017691845725, -1.0337315265584095, 0.3637619875126852], [-0.04124168772009229, -0.882520627959821, 0.3297661566785892, -1.6319539711761155, 1.836043889914165, 3.1859885311757123, -1.3318491360650286, 1.9868021934737556, 0.09528359165057809, -3.0927914430164423], [0.42457526685617886, 0.6455475724590958, -1.7134839203207664, -1.870623167364328, -0.6835606769223066, -0.06771736048767174, -0.9820036389183726, -0.10751924469490381, 4.291639160757809, -0.7989403564711459], [0.18408102930081677, -2.849648447914804, 3.0141444186089106, -1.7586156303844303, -2.4551291137882485, -0.11533152729575002, 1.051186983783358, -2.6662080070173166, -0.1509883386072628, -2.2145164444747736], [1.0961570309436883, 2.0945563294416534, -0.6765911653631826, -1.5169741638917018, -0.40944318698782456, 0.6046539785326606, -0.6858472512795009, 0.43308557945273396, 1.3756663380462122, -3.59330521253044], [-0.7327382985635063, -0.485546462261484, -0.6678819004233512, 1.1949980703746244, -0.6103719319452856, -3.840502804698552, -0.636211567816923, 10.617424719265589, -0.37046083723696577, -5.473327273774952], [0.09744341068549955, -0.1376214186415221, 1.2241110051957462, -0.4384905075402685, -1.1479681995503306, 0.4109489093491008, -0.3382982185482526, -0.2745365834400569, 0.18228284705237208, 3.7603390138503343], [-0.5725322173583116, 0.8758957883042218, 3.1456342580078918, 2.139678834348942, -0.8286435657242874, -4.268405470922634, -0.45642960018146095, -2.206081269902823, 0.08942049601547908, -2.345020238069216], [-0.011674015198981036, -0.7531649455821705, -0.18393455052927088, -1.1133922047181743, -0.3803133448073872, -0.9176233718764255, -1.1927333929540969, 5.518104304554711, -0.5272903718889737, -0.5183153722549783], [0.44568486862932555, -0.33247293985916704, 0.19413418602730959, 4.609464334722359, -2.154874145362987, 1.6325190371970972, -0.8399349413126337, -0.4626973855713823, -1.0268349850361704, -0.21410001962527403], [0.10113839086542908, -0.8101232111530265, 0.16609765098175977, -0.5500602978004179, -1.093216091272871, 0.7655098250428181, 3.624910702248304, -1.1829865309564707, -0.28668880091088456, -1.8734708662408606], [-2.8188925750443254, -1.4024467640076732, -0.822122421110177, 2.2905389869489152, 0.6616857112564756, -1.7849928700324873, 0.11923822328110889, 3.84549079808418, 1.0453517889341093, 1.2892220451187777], [1.1952676146330266, 1.096039405287389, 1.274524766858851, -0.939763350606102, 0.1601403576683662, -1.5548945389717552, 0.37767904842727695, -0.7756390019268546, 2.4642068022199624, -3.653457258691149], [-0.2036818876841171, -2.081878876291088, 0.33518979869804766, -1.7524180824040028, 1.5675975541056952, 8.426577144145996, -1.368104086017403, -0.14758889368926287, -1.615266495346265, -4.805667927536659], [1.0477029949492787, 1.1808908730130618, 1.5764370084960861, 0.3788139504456649, -2.899627716433045, 0.3823271881446286, -1.9820861286797073, 1.2994982189374493, 2.8397850716353474, -4.880238928667707], [-1.095450816274096, -0.5543513992846842, -1.4346445763171163, 0.6471148255675221, 1.505741365041838, -1.5779790563142129, -0.5925868734895907, 3.2078225859037097, 0.12378092511183514, 3.928135846506643], [-0.7357728897085347, -1.3409500700570727, 0.343107016123505, -0.443135609524522, -0.952983889737606, 4.114501845534248, -1.4998487351588259, 4.022869033616646, -1.9041086204022935, 2.0297628065590647], [-0.3878227337427693, -2.288096665485214, 0.41327546422077344, -1.6910333689716854, -0.4107857976639826, 1.0588996341987413, 1.0380129617526346, -1.0378139454810444, 2.525669139074652, 0.3493435315532514], [-2.295362414969782, 0.1593612532608899, -0.6742824715842803, -1.1956466664185181, 5.744164969842309, -3.317541183712915, -0.706691348108007, -0.5613828978352415, -0.17872781572294838, 0.2789772611584258], [1.7277802900024608, -1.5880248804322297, -0.38327702027162003, -1.2884794559001231, 1.2665839213067516, 0.6808023416595885, 0.25800314203915375, 0.4792139343081925, 0.5488272152878029, -1.7333725394078514], [0.11360010888854288, -0.48094557240774716, 0.1302030129099614, 0.5528622149275577, -0.46476415094690937, -0.6435268391209075, -1.2626106212467918, 4.783703476492929, 0.5789403545764866, -0.8004837487657135], [-0.8798132844443423, -0.6031761464353392, 0.20218417729543248, 2.6533376921938365, -2.755923187479051, -0.910715376851312, 0.10882735157162626, -0.16450827613076147, -0.7826572967956913, 1.02487796179574], [3.519056200071477, -1.0756114205235594, 0.6587264532669583, -0.5220740006999796, -1.1118679269479985, -1.4341953359172894, -0.32093842727006017, 1.7916794690473943, -1.1338765165707625, -3.620665371737268], [-0.9732959957608709, 1.9608913786223374, -1.464974128596576, -0.6097593482754096, -0.9580093268896266, 0.9645517304734659, 3.6828869475107933, -2.3771978012527484, 1.8204271438706117, -4.264956878863005], [0.6772245660904961, 0.19801461098394935, 3.7490936297372732, -0.19741382119021678, -2.716860820067807, -0.3548068121906689, -0.7580213242428755, 1.828772851528873, 0.09022017001403021, -6.246859764906154], [0.2713488112378686, 0.29293555429831475, -1.3732766736379534, 2.550318459307989, -2.4573974955793845, 1.499644919632237, -0.4014886785321181, -0.6897289700222, -1.9079492546914798, 0.5679465345898458], [-0.37852853475848136, -0.8163558127354971, -0.6184484218062276, -0.8194151077746274, -0.22546987687954956, -2.3168454736457167, -1.291385359662028, 4.363517172676936, 0.4076835526781335, -0.3733409765969933], [-0.2313685680080173, 4.243068513363406, 0.49909828820399715, 0.45015613738667115, -1.0045919740351703, -1.061522247273801, -0.5292178529041216, -0.12878457494301054, -0.9619335281857915, -1.6372504341846041], [0.6050841488675602, -0.3823049861029928, -0.9997205490785877, -0.44678279647576696, -0.6500435740045454, 0.3177124057244609, -0.662348005682314, -0.2555095066198865, -0.1383417762427004, 5.624783316982019], [1.668675744986805, -0.5928194965815758, -0.2040331318986448, -0.18446725375953488, -0.07930051763511203, 3.828424012961316, -1.7645524634148915, -0.4969647025559567, -2.32121377607407, 3.391174691704826], [0.9918331573897936, -0.14441434601992675, 2.2959576034210842, -1.1513454650586046, -1.3573677555678927, -0.4899139484132293, -0.5181914112092567, 0.49056020090492924, 1.8056798400668737, -2.6096037088256856], [-0.38325521120564976, -0.7490685354289677, 0.36067837304842776, -0.4791115820958325, -0.9755109040293757, 0.7374956671737989, 2.9558833375597575, -1.2931533422435588, -0.4401545423229607, -0.004489012015277183], [2.8427973126290738, -0.11609798290278173, 1.974126806412504, -0.2486272828689775, -1.0492127461073473, -1.870831109190874, -0.17936414024270553, 0.02934150416763348, -1.1683210633111019, -1.8233866678071609], [-0.7839490399404214, -0.8856586257993385, 0.32935513428537444, 0.1345686384365492, 1.1857505326908087, -1.3067183007789436, 1.5732461644535212, -0.23339154101748028, -0.9997968428649592, 2.793119997489178], [-0.03632221497176835, -2.5646965949166445, 3.577990581780822, -1.0980930110776461, 2.2620959333877657, -2.0538326467425625, -1.7729797512000829, -1.6648991532246091, 1.286548665990296, 2.0775110197214204], [-0.9117894673401714, -1.2247327575583726, -0.43289644731775334, -0.5503820825212069, -1.6185551283867015, 3.4576495260235056, 0.08776660329850916, -1.4864366690523583, 3.612823894360519, -2.0058296731299374], [2.0780207858772712, 0.09869991245938681, 1.826918791436521, -3.171800433008074, -0.6736539035704157, -0.11021545604895921, 0.03814007500341887, -3.2169730189486305, 1.0689862862110306, -1.1685418625640116], [0.5408914449300521, 0.44088273651010823, -0.8436464325450141, 1.6226350768157274, 0.8461964600570697, 3.6453371278273092, -2.359627251974072, -1.2280074629668958, -0.025958202696484634, 1.2459721278990417], [0.6978524438005052, 3.233382031119575, 0.7060517637217126, -0.9132942495922292, -2.2601062140925996, 0.8008899144397232, -0.08355102202636144, -0.9018846253864501, 2.622119438758369, -5.140418454903923], [-0.2697126893436237, -1.2869510853818222, 0.5462491379280858, -2.5519318359625367, 1.944466665032699, 2.8490801135193973, 5.17147664862798, -0.090108226221572, -2.7768408121789134, -8.026105084966701], [2.248453879966309, -1.0317738731643114, 0.4856069051364309, -0.6329511831526289, -0.4596388385316583, -0.22890205913138706, -0.11266240413593653, -2.1898050419994286, 0.37834971730526024, 0.2638858395391095], [4.2757282878838625, 1.3897673098667245, -1.2551171538681858, 0.35455441611417676, -0.6232038832464468, -1.631047936253542, -1.2688908682696427, -1.623210731400946, 0.9724404541913252, 0.870982765910089], [1.061820316098573, 1.5708153871189632, 0.4435342620727445, -0.7928554126682655, -0.5916417080048191, 0.9358432751146819, -0.7560193136852837, -0.5944978716063649, 1.856166565871256, -3.4357652090426347], [0.839202063752875, -1.014176830611506, -2.5014907530280444, 1.2509334092171542, -0.45347394085047066, 3.0413928795367915, -2.3586697666840504, 2.4218738339417523, -0.4600285109355835, 0.2443761616600595], [3.2306322680748565, 0.5941584917998752, 0.6375780901685413, -0.07431955709982896, -1.6557564704496315, -1.1094153156354385, -0.10223894891202256, -1.488311355141744, -0.7519089992702181, -1.3198834740502305], [3.9040385170715837, -0.45859326213707186, -1.8522150027048396, 1.1309277318107784, -0.787873052252583, -4.067315046071233, -0.00799934868496166, 0.25528871517976715, -0.5697060608350949, 0.1884991217094666], [-1.4139020342867932, -0.47885009601882533, -1.1644188331098801, -0.08673055939065821, 3.4175690265902894, -2.584357288315717, -0.4918338196177663, 0.7536932804031775, 0.9007156020175262, 1.4833850710185885], [0.6200214679205476, -1.3061111761100104, 5.677967144443979, -0.5533263402056268, 0.8500059363388102, 0.0651733701738495, -1.4270668921260619, 0.31653541907800475, -2.719593891718767, -0.6022310416923338], [0.1332616000224266, 1.995343530261876, 1.517056984244711, -0.27175670192890733, -2.1423963738293907, -1.0319692131430442, -1.539704120744796, 0.9012256733151991, 2.6726843564536296, -2.2733534072059265], [0.13380090925181332, 1.3136165073379855, -0.6526703173025634, -3.0680216708496815, -2.438670530685539, 1.8305695631323005, 0.47980940824210205, 2.698656172829978, -1.9096312623727685, 2.474478730511572], [2.672215410822696, -0.6029803865984986, 0.5546156217494176, -0.2575146358783913, -2.092725762234183, 0.7896686815818139, 0.229584313561209, 0.09309027098915745, -1.5006004834262179, -2.8424693044665172], [-0.6631268127457818, 1.0761329930901606, -2.597126285597765, 3.4371806106895453, -0.8002674818983322, 3.9139056756129857, -1.0171163872110152, -0.8467673268905394, -1.7552279856541246, 0.5753205765380685], [-0.9044297420953515, 0.06298524438718878, 0.3650731835098793, -0.1152618513872743, 4.385166392000354, -2.130491039842127, -0.1231651311350167, -1.9521819561738631, -1.4411839524057628, 2.0134133079537997], [0.1807638965192333, 1.9795010848840864, -2.306828810217194, 1.3573479744404877, 2.896580877517301, -0.04636304871384045, -1.5474660297103702, -0.6901144464259863, -3.379748532875607, -5.051244721751803], [-0.5330472808832547, -1.2721952196557396, 0.3657328921091243, 0.39180208652503357, -0.7005404722132283, -1.9838081384986213, -1.1775806289996116, 5.981738019205236, 0.6074282812969882, -0.9245889992080878], [-1.5950368395949721, 0.7066289543747921, -2.5159512786970533, 2.781890951037994, 0.3465971445974958, 3.4630607489058174, -1.613818187241134, -3.414877227568919, -1.3575952594835634, -2.512265063544893], [-0.6143533130331476, 0.658059808595977, -1.0412017255776647, 0.1150590102925324, -1.7073019364422337, 2.3357780694228722, -0.893829850383441, 0.4189892279614442, 0.18832292658915817, 4.348773368088445], [-0.7729319512349235, -0.5609351727224249, -2.8097246864560512, 0.13778604212891787, 2.3446697337810294, -0.8713558772791599, 0.31411003625647016, 0.1413006455038026, 6.856953343051065, -4.032165515198702], [-0.5382250253475207, -0.972558173085291, 4.386370614226599, -1.4232449704816938, -0.950421468924379, 0.7717217543512511, -0.47230635276104027, -2.5125370976945245, 0.44638524171057115, 2.00630043349934], [3.4030573082113613, 1.5326613268204214, -0.7558402431914231, 0.8160123559507033, -0.49323421533646017, -1.8845086981906554, -0.33198065048203595, 0.35206667086843146, 1.3430935709253151, -0.8745613801164569], [2.1689640918623088, -0.10198116599956508, 1.3603211714990318, -1.0188528580541112, -2.7558352359242013, 0.32569411857003194, 0.7531133028047168, -0.8298254805735499, -1.01749293515877, -2.8252708112349483], [0.27404208154934684, 0.24969912474240286, -0.9573436663346877, -0.20040871790404546, -1.1828122922513309, 1.9258546915075128, 0.045990194237667925, -2.108397061821172, 4.2278219478309405, -2.637352873343649], [0.38097788143308775, -0.9513805535145248, 0.6216259358383204, -0.6765167054502594, -0.4263549422622206, -0.37324408387426644, 3.006350225974912, -1.3416571641534698, 0.16475997599848036, -2.978447647273752], [-0.7287681500443051, -2.0259656229473695, 4.887406950707562, -0.685781630161781, -0.6131556181335256, 0.19807468741088963, 0.5046299705611572, -0.47017126267683595, -1.7765396618981657, -1.0664422879819426], [-0.1962355575219561, -0.48432162593435013, 4.344793851044076, -1.0243200799800865, -1.8287413097683585, -3.362274181000955, 0.8714693625667209, -0.9707032747855289, 0.24014606984428838, -2.1358030156272294], [1.8167508205074547, -1.6441004291381875, 1.4067051681297813, -0.7075478159302974, -1.891399731527405, -0.32971050737450414, 0.016687869216531537, 6.034710476141179, -1.8027015522720522, -3.86113903712008], [-0.35789730743012615, -0.22256147444821162, 0.45200367354534277, -0.3239626166624898, -0.6443896231956172, -2.395324300181082, 3.071323698287464, -0.9455944150075091, -0.32320155311220966, 0.3039379961381492], [-0.053465054928164335, 3.3590107774658984, 0.3304009873676619, 0.01307897842924799, -1.1398074922439632, -1.586147044191431, -0.19707851994105563, -0.7269106330961608, 0.39778003640247483, 1.894176814903442], [0.5102644575826867, 0.4351262953298456, 2.8345303009541087, -2.872054889361568, -0.6226866496150123, 1.8946426818603763, -0.16972091662900946, -3.6983595599755112, 1.6508281309913588, 0.6807923998304872], [-0.6886555835168653, -0.6728707227203317, 0.17611129424894845, -1.1816633992970151, -0.27931909104818686, -1.6782778996079024, -0.11888855493866757, -1.2652778305185453, 0.3472803337514201, 6.47865297580556], [-0.3794791408146361, 1.7158376316736326, 1.8560723379208177, -2.03496612848803, -1.6769034269708383, -0.9999844066979273, 0.4136661620385733, -0.614901289940474, 1.8271991887947592, -2.957526631249358], [1.0676106980386229, 0.8063581025405062, -0.44122412282171575, -0.7832397729269069, 0.2950384647211024, -1.328936827642241, 3.400252434951703, -0.4545996885996648, 0.4005175457675618, -2.972636490900804], [-0.5490131815879189, -0.3724052129543143, -1.7560075482111586, -1.401685456818044, 0.6467666476797937, 0.9647035769517536, -1.0818624846539548, 0.05019892549512772, 0.07845419013012878, 3.7315917335421753], [-1.4496318246003503, 0.9567376000900569, -1.0401946437693106, 0.8092010246246853, -0.6787247773329039, 0.3139827357710656, -0.7833437005172819, 3.5980927779295513, 0.8519203976121394, -4.3656331968567335], [-1.0800740775375401, -0.07448009360661367, -2.913557078838347, -0.6283224799272058, 1.7772005090879173, -3.2262651007533374, -1.5101152809671707, 0.724065109630508, 0.9969900003570151, 3.45878628464126], [-1.4053453336107977, -0.2603019553241189, -0.677409213030534, -0.2897990240434489, 0.6661603591396377, 3.1050226489608486, -1.9195432325298023, 2.5376488880560304, 4.520775790361766, -6.481867256222577], [2.9761731310291153, -1.5709937094050108, 0.5858847205050569, -1.0205705568744519, -0.5198836899548462, 1.4413627379034617, -0.16734563786249224, -0.2106704136114086, -1.4848939877297709, -0.20929056196164453], [0.8217464051678524, 1.362409352810477, 0.07313359436039235, -1.14003777182967, -1.3314411438234428, 1.0678588075061493, 0.7166984809313646, 0.31163300313369713, 1.8007804105728207, -3.920401160708374], [0.2454232220722632, 2.867298274993625, 0.8018125192220233, -1.556030896912453, -0.14187209776855503, -3.0500331968956234, -0.10521393558748271, -1.622269725535677, 1.3145201699071039, -3.212722909905205], [-2.3556136409300508, -1.0437053075402951, -3.24274450460945, 0.8354798980014657, 0.552587358700412, 6.775069916775383, -0.4649612448056146, -0.037260803835872824, 1.4436551535225663, -3.3864444967395553], [-2.0248378213783544, -1.4761218067319557, 5.202219828319423, -0.3361583434315927, -1.6075540102977692, -1.2982966361202073, -1.2140571662750679, -4.167845039355708, -0.47261993087626086, 4.050153252124121], [-0.6768444569176169, -1.3041090602425072, -2.989027415540744, -1.7986107169918326, 3.7257024507716503, -0.30347361121372085, 2.145823873557592, -2.1831626454033124, -0.0020220949500120433, 2.8382731823765304], [0.9062115494683789, -0.881033428567481, 1.640042169644108, 6.130314131551675, 0.9397673903801573, -2.0043906886466614, -2.4402896059658388, 0.43906809974780625, 0.11206504776734216, -5.040622051539156], [-0.5970779377480462, -0.32364538007541443, -0.6826124825759097, -1.0325510644599452, 1.3368631591471862, -1.0904783956207245, 0.1688496334079692, -0.052845982629841304, 1.4474444462390124, 3.5415279762278113], [0.23270158014672815, 0.05816129579193019, 1.6992239752470026, -3.6742906686984433, 5.599216941260687, 2.9115549557763294, -1.0449397171718497, -0.41360570518988604, -0.959375735563126, 0.5989788907417073], [0.5793474898493738, -1.9224544273361632, -0.962247498746167, -1.0740005783226594, 0.5919768218521941, -1.5436588946033256, -1.1498507717363267, 3.269406660071913, 0.3207410741601078, 0.6989553069174209], [0.4002201551404134, 0.5260699301010203, -1.6270073820589526, -0.5755213527258092, -2.5932795236437403, 6.543511302661301, 0.35344729070850756, -2.832123268448116, -0.4911007359185344, 2.640627224850715], [-0.4631083140575558, -1.3159993681123772, -2.256160025952396, -1.1638867493752314, 1.68869063766767, -2.9373885170989915, 5.144577357023662, -0.5679937079526116, 1.6284407776808225, -0.24671278707007605], [0.583264906252559, -1.4993414341286733, 0.06508271170533364, -1.75925376553624, -1.3439035009222051, 2.040308039874576, 3.7783758586319043, -0.9208685471328577, -1.5974730356542992, -1.7636690275160165], [-0.35858855078504004, -3.3087794594760753, -1.3911861810122097, -1.3037521191864863, -0.37978483813160935, 5.015910185920194, -1.6924772361383082, 5.833190503433103, -1.0038479662467679, -4.971610066944759], [-0.6373358519299053, -0.5566678974775428, 0.3026470587963557, 1.1148497005656979, -0.14247204615716746, -1.5567059362757156, -0.8220305928409439, 8.446704035170942, 0.20362447940887451, -0.022389625605872432], [0.7589144914210881, -0.9169705163529388, -0.2531463339285184, 2.032909906023412, -1.205913142126695, -2.75520532480528, 5.7288306183416795, -0.28516857432492326, -0.7026063970468208, -2.759606587695372], [0.2328403787875316, 0.34722898782697265, 1.2056757318075495, 0.6000282487125279, -1.649564141222059, -2.1345204499593002, -1.8990597501242308, -1.6975089994723116, 4.651146914980528, -1.55359353479433], [2.4024131995523184, 0.6827793641043325, -0.9689841297028794, 2.9597592958714154, 0.2529555891362909, 2.322505727677834, -0.6370739189638748, -0.9374695550491152, -1.611564482258165, 1.914722945114848], [-1.7537176669846732, -0.04555462271305455, -1.677438080863256, -0.8979567496435683, 0.6780398210093015, 0.7195961426398512, -1.5500318226279364, 0.48082564777793374, 0.561649761517321, 4.839793414399355], [0.993229373340409, -0.7244016073686961, 0.013598716436614477, -0.8160517394628277, -1.198510856138208, 0.6721349038121562, -1.4874236962338112, 4.745990507374945, -0.7808781772539497, -1.7775912097840325], [1.2598522759172024, -1.3605307612808009, -0.0712662812610998, 0.30103348858363743, 1.6038923124464128, 2.140820989238379, -0.7660811490337089, 1.000135387268771, -1.1227991182474524, 0.826025494519635], [-0.07491654932825831, -0.25973047366154733, -1.202054798485153, -1.9812200993552016, -0.2551515046257935, 2.2096374039409614, 6.235601364584571, 3.3736517346781234, -3.1720297074058417, -8.127669038997684], [-0.2851116813704737, 3.317820472914869, -0.5563256168104678, -0.04572481059352829, 0.39105414006165073, -1.1925824572806123, -0.6253929151838803, 0.6718737466053781, 0.7589515312471966, -2.23548256017917], [-0.05241932430299201, -1.1623998987665196, -0.3797266093598153, -0.4638571111867411, -0.08352053520569669, -2.450772198473212, -0.1352103416990067, -0.733650854281535, -0.08499336418144532, 6.813703275362492], [-0.9358061191839346, -0.8568590173709816, 4.947110127392919, -0.3380646833821106, -2.8921980914033245, -0.15101776886433038, -0.3164457059323724, -2.4662954394038703, -2.5048285357488407, 2.8008293287920565], [-0.038686514371929714, -0.8508909316155555, -1.9369262828838698, 2.6271301575619317, 0.09837006590341035, 0.05904869888520947, -0.4665755593769605, -1.8814639400405833, -0.7236911681074165, 1.8379891887960822], [0.18813107112834881, -1.5032586216286856, 0.19357938587633794, 5.235878880676497, -0.6889138442619229, -0.7924952018424181, -2.2415420650019198, 0.8984192370470554, -2.2979869894358202, -1.440237581757732], [-0.23359606088298657, -0.1755702681944764, -0.664361895326439, -0.5459470622114553, 0.8533074410562049, 6.660018593465587, -1.3035137938512964, -2.5445154979398663, 1.8202264868245295, -2.648597446906278], [-0.5497890730630668, -1.7469321741930586, -0.662225577237487, 0.8236903878855624, 3.733036633990134, 0.7965419091370904, 0.26428227382293223, -1.6481262082944372, -2.362489552623603, 3.191607140009555], [-1.2940151193726432, 0.6571402346312984, 1.6729932131868224, 6.376961561881649, -1.0443506001307696, -2.7278826306201776, 0.9678251980356145, 0.7471627962868768, -2.0809013582288123, -0.6009517359443421], [-0.6407578220423167, -1.678415307600789, -1.3783514111355064, 0.16657510449091517, -0.5736108388544028, 4.955816761998341, -1.20833393179314, -0.4521224458321167, 0.9523699489172013, -0.3162567195252599], [-0.20718838433367193, -0.2717711499926393, 0.9721127412903068, -0.14543061450666528, -0.6818837304402439, 1.2546376429520354, -0.5212661915948367, -1.352770075852529, 2.8649987111257573, 0.652068331359557], [0.6893974055381937, -0.8889555695792781, 0.8440592546046404, -1.9331551233867073, -0.03751361480485127, 2.5352591635074084, 2.9347344006203167, 0.4674054362400376, -1.7158528784600868, -2.1046478821281784], [0.15214044800699938, -0.6811451569457148, -0.6794899701551662, 3.4560348732419417, -3.307498158194858, 1.2933120066487378, -0.8326113429945334, 1.1548207415279519, 0.7265745946837203, -2.030607124079233], [1.2989322724894778, -2.8765781377873267, -2.072181122535277, -1.6584574867575332, -3.6726469542741778, -2.308802773484633, 1.2407797370541813, 5.7242311345395755, 0.26722789761169485, -0.1003584008027163], [-0.9420093074836453, -1.829667791203259, 5.705001627360378, -0.4300534563161723, -0.38261711461866676, -3.4548197490514854, -0.13840060189744774, -0.7970284452725347, 1.2929229823875763, -4.611830225052074], [-0.4675550246212161, -0.6019519278355798, -0.24616034636754813, 0.31192860386819343, 0.5551806082539281, 1.034221927775754, -1.565931419498514, -2.0257568961447134, 4.700278532893117, -0.9784555736554879], [-0.15508009416357904, -1.5626404151066848, -0.17804857370087157, 0.4602277093818432, 4.916029524265687, -1.9601177301480934, -0.4371327663909115, 1.3430549414965034, -1.1662870755871553, -6.079770535725095], [-1.1957488683127249, -1.181630098956951, -1.2483926400933982, -1.4809836847741829, -0.25122386007647846, 0.9325887359837828, -1.8165376141756278, 1.761504160728684, -0.010394145960079149, 4.943232460017873], [0.06145468484332306, 0.09492817598218739, -2.1724732860333065, -0.3693011674495781, 1.1019190420368723, 6.154193870320908, -1.902156707779516, -3.1151239381436833, 0.44352269804317346, -0.7088036591831224], [3.2507759414557382, -1.7227050009104765, -0.0403162912826438, 0.8083793858932833, -0.9541030066763705, 2.771994660281223, -0.21220101873757446, 0.42824639232671635, -1.6700461640933062, -1.2677416807183408], [0.2811940921180353, -1.459571766783517, 1.752449815892056, 1.8539642850175981, -0.8628365134044815, -1.7596480497334364, 0.7736645371932642, 3.0727942974802382, -1.5126791196075187, -3.3874472052353135], [-0.5706154714585054, 3.9571734850074165, -0.06268594262903404, -0.8310095507392009, -1.3160968032529858, 0.946857214328189, -0.8206772177296573, 0.88352386476764, 0.7703841908831048, -5.284373342453464], [-1.2567717861548773, -0.42420976678294453, -3.130516626574682, -1.4278082924959499, 3.752790308285136, 0.6664770603970673, -0.12646376505267476, -2.442465724320528, 2.8469404598372385, 3.972106539167502], [-0.6816725017787297, -0.7417637761387219, 4.966773869696716, -0.2516749972314847, -1.6616024613784361, 1.2266115619055582, -1.5972484709678714, -1.5458391689241244, -2.9460188877971376, 0.2633506168599453], [0.010510178492429745, 1.2694470397632274, -3.4199544907603743, -2.7850356216848526, 7.095180466847731, -0.7990796108417251, 2.144707766595238, -0.6454697901339901, -0.18495818295867927, -0.0749981092127383], [0.8948932542079038, -1.8736635201695262, 0.8009952649214716, 3.51248975498642, -1.3610244378726115, -0.4074654317857576, -0.8605348898955847, 0.046316471717975816, -1.8661372415456807, 0.16320238828499534], [0.07985311192561007, 4.211437080207806, 0.21550566098249946, -0.7391894609290993, -0.47610892414052675, -0.9312666126441809, -0.35571886079488735, -2.4013283669796763, 0.1612972371892577, 1.0344873681518054], [-0.4128697193666917, -2.084701842038659, -1.3412342559038666, -0.8079404822577478, 0.4431147435564152, -2.3073555331996145, -0.5568825412981537, 4.821890265505831, -1.1226861158008736, 0.4996454040577465], [-1.0787558076286605, 3.477964287481515, 1.140040209296956, -0.941007048674364, 1.3610739467191983, 2.2458523716260252, -1.2376707830881035, -2.043425025682807, -1.1694025725619983, -1.7186322439727197], [-0.3787914667097225, 1.5483968162866095, -0.9128896302864353, -1.6447221699419692, 1.7052469292214538, -0.31927330847349644, -1.521387170646805, 0.2374128594482423, 2.6418748429058825, -1.6120130468037386], [2.15946536242312, -0.6941252960898907, 1.1996783846013934, -1.2261038869977694, -1.2265053284833414, 2.6475621362232102, 1.4478738206342827, 1.2545427796016533, -2.4076293067126597, -1.3022973510766385], [-0.4473468424295324, -0.5442454296200795, -1.826916761859252, -2.175330143013074, -1.4613573046912138, -0.20754121294397487, -0.09972595812241525, 1.5760920210709928, 0.3719108791606769, 3.5749037977819778], [-1.2409483566596076, 0.5592157659126877, 0.1608019512038532, 0.18919636944845486, -2.5450857634880832, -0.23033703914911374, 5.845517003663741, -1.4076765868930257, -1.4346342323568857, -1.076467066911371], [-0.7276399186095468, -0.9314508350576054, 0.7031276703854483, -1.5338182265708409, 1.1268730227369828, -1.1679453525993866, -0.8637654096799026, -1.218784553609789, 3.161163168490887, -0.07399551911387903], [-0.7485600462763489, 4.8097664352638025, 0.014130427231885623, -1.032872300221253, -0.3876067579360605, -0.09716155132900361, -0.49815797634827774, -0.1774606825784102, -1.134499347086983, 0.2535570578200117], [-0.7469701670665371, -1.1529444593613163, -1.7534101916041218, -2.1525039279015767, 0.5179145614394429, -0.2246906764312202, -0.8820485339728124, -0.16637215589707655, -0.7974202259256602, 6.013848636174693], [-1.143561003374477, -1.35468730919421, 0.2628441518947252, 0.5732188629396249, 4.214967787213365, -0.689530176614003, 0.6530391206744208, -1.0757376084645394, -1.9584252034996485, 0.4850196998473315], [0.1910735636217029, 0.7643356252735027, 2.00219881218613, -1.0306817195806068, 1.2898018900162393, -1.4925764801068864, 0.56849260842171, 0.49961797410501596, -1.7448475638956324, -1.311026649380665], [0.103729423167922, 0.3219009968062809, -0.9426442859526103, 0.09757189066832539, -0.17126572038032273, -3.2840507949987527, -0.21647604494501183, -2.636732245601327, -0.30847435220456076, 7.375847092725287], [-0.885619009294401, 3.228787652799485, 0.5216694200490102, -0.7266432886536855, 0.27605903786908215, 1.0023869326624695, -1.8941979786086085, 0.3933189778524251, -2.2104543593893604, -1.1996314844736693], [-0.14767496856576123, -1.676899961889645, -0.5568454219979202, 0.14961535728209885, -1.7891984523977247, 0.7881095245010952, -0.6018546244959566, 0.3993899434963559, 5.0226047139317, -0.5754730023447614], [-1.4181411289661572, -0.3814180934191702, -0.9071516298639644, -0.8924466227499652, 1.0843358656049444, -1.6577553626643122, -0.581011440011434, -1.0604511055901724, 0.6884852318723114, 5.452764189533136], [-0.9802492691393159, 0.20629678663827145, 0.9811215139663627, -1.069155246080661, 1.536321046961123, 0.7706590109848523, 4.255083267666475, -2.7764185615194643, -2.550304929428234, 1.5472358692658865], [0.17605488473783448, -0.7530118337828429, -1.7942954329595033, -1.0574117302673323, -0.20367679822624152, 4.102623064464761, -0.44617973252756693, -2.6451821182093247, -0.88072249089803, 0.2169605228161675], [-1.5302095838661192, -0.3396685999389224, -1.2162709769752718, 2.5878523236174105, -1.8272307692982348, 2.4185400948799263, -0.4133024858924841, -5.185032358794844, 0.06338296773186292, 2.8134601884626598], [-0.10801899476787913, -1.052919227481067, 2.405050755462887, 4.748341691765631, -0.3132120030751029, -0.36494675526590603, -1.6768586441670505, -1.5305004530691426, -1.80352342640065, 0.733364353449959], [-0.33717848734916034, -2.0976685744281225, -0.3639487330231794, 3.006984842667891, -1.8108299706582498, 0.5427024753581939, 0.1501157664398487, -1.8759681735961133, 0.456354713732106, -1.5357115609435876], [3.8610918068643487, -0.6988791853264722, 0.17814999376347118, -0.0045238465854533505, -2.5457728049489434, -0.2050474881584643, 1.1713469504397818, -0.20271668853319946, -1.1208011519782801, 0.1821870364800926], [-0.8116336812697567, 2.996737821200994, -0.5608491827151785, -0.2943695770170338, -1.1988171241571415, 1.9536132192303675, 0.8476410178745701, -1.0239304169334549, 0.2582030464013507, -0.4187346799792193], [0.2612369854802443, 0.263226739498327, -0.6943296520659095, -1.3223185732252496, 1.7568323358910076, -0.2560982845649713, 1.5570622674723578, 1.45836977108261, 0.26781199516751997, -0.33639382152311414], [-1.0704489949153593, -0.6489775028106557, -1.1127155178825943, 5.464220536826808, -1.9956486523280663, 0.6192805398941696, -0.41465181359688374, 1.3710917567539491, -0.5391335415176846, 0.6625844045936935], [-1.479675690641977, 0.6092001228898183, -1.429435093273412, -1.7610254525135702, 2.909074301952227, -1.1781599761719126, -0.5016575927423121, -2.461174264177589, 4.596834081634698, 2.2595477046476753], [-0.22982002949589875, -0.902881163616372, 1.1747713266845086, 0.6719395882717485, 0.5355711342007767, 1.8414121499245628, -2.1846120831793283, 2.907305955807715, -0.5282292646241311, -2.75251104643791], [0.8744662722403489, 2.143690354173449, -1.398837128760571, -2.1623509463564092, 2.0532040370666502, -2.1087395664969497, 0.6688425022436717, 0.21183200660104484, 0.4590506898681017, 3.0170312396472743], [-1.0624953312708967, 0.35745840287013064, 5.120509559861937, -0.5368463312910539, -2.8541884545532064, -3.165398839256725, -1.2084986314298565, 1.4621504772207823, -0.7404176584808333, -1.550444200331175], [2.3896387856838954, -0.3143479974192015, -0.26531975758177295, -0.9171915443860861, -0.04052378888502517, 3.085937008520146, -1.1608128953318557, 2.1650639393456284, -1.0253681961321672, -0.49293787329837], [-1.9167749306875024, -2.6496367195055965, -0.561273654343978, 1.8843418339045503, -4.678792758262348, -0.897083734002941, 1.5447608154243337, 3.222940706033432, 0.4474629581109042, 0.6003944358580826], [-0.988267461512603, -1.3279034142955948, -1.0471313373309599, -0.36780769397685886, 1.7953598648928963, 4.623181878189172, 0.15980868125759118, -2.8404525051937908, 1.7314595068818766, 0.33823020703830586], [-2.0255723418431257, -2.017348452541483, -1.632728244479983, 0.22823816680383469, 0.7666789404383558, 5.933719708334033, 1.0086519173050186, -1.1498155427538288, 0.18826239593614025, -0.24359264519268375], [-0.7110450506118227, 3.1616062961313447, 0.7149613405045867, -0.7862900849544372, 0.3584801127481869, -0.2983139898796341, -1.0435505230161737, 0.27517473162018025, -1.0114938567782628, -0.9615010999628497], [-0.8511033627337399, 0.5138021750942171, 0.4302022113450916, -0.10461501316625732, -0.19320668917848582, -0.4982315734819842, -0.9113218557112036, -5.066978362336379, 5.108518974741175, -1.0456090397566866], [-0.7943170447362786, -0.2271563770255165, -0.44480705351600514, -0.8627290315190892, -1.046265707368982, 6.810341008651346, 1.220521276652265, -1.481029997584162, -0.5296308636109994, 1.0060359983745886], [-1.7623949364273397, -1.6011232077700572, 0.055460865216371946, 2.2719857852069825, -1.4054078508117653, 1.2706262459240083, 0.41916456073432395, -1.0304656355969977, 0.3786913297479595, -1.854089286535519], [-1.5355725916394718, -1.5440629089457751, -0.539395033051052, -0.35490500669287917, 6.4106422927759885, -2.908996228864411, -0.4443094007862751, 0.10338094140068832, -0.07011021624202463, -1.4075928456454556], [-1.933578142051418, -0.14125301354149844, -0.33098566507653315, 1.031507871801574, -1.4285319018579212, -1.6757874319159782, 7.2433717127172494, -0.5221217817621335, -0.9925057141617168, -4.587458161729928], [1.7392982639261088, -1.093578040779813, 1.9258144170828964, -0.1889680194080925, -1.0014048523009453, -2.0196401943671054, 0.7074997923577817, 0.9997493102060523, 0.8927613300859059, -1.9298173416382065], [-1.2338116642709664, 0.4259002719753493, -2.2600709796657137, 0.3136187670352031, 0.7727547298262076, 9.20489963042818, -1.5692932887960291, -3.6496831584137235, -0.7985227547572995, -0.6694402483497282], [-0.5266575856607592, -0.18898254020576788, 0.05349826124505386, -1.1615703066581284, -1.083188557123476, 0.4776240683904138, -2.2210002134423226, 2.1109479723037117, 0.07055798331386764, 2.469988970643038], [-2.4571052320760414, -0.8067401096934239, 3.0752774306825774, 0.6292251217428426, -0.08777095200980911, -2.67260215299248, 2.577821628160855, 0.048814084683864056, -1.0952161562610359, 2.5266824367082084], [-0.54014612656144, -0.1656151966030488, -0.33928253833940913, 0.04425188834891147, -2.8460418081595327, -0.6599124979583209, 5.336945551629385, 1.0516104686798782, -2.192270095679315, -0.2700240438479047], [-1.5389356006870174, -1.3485291261601753, 0.046734736618073036, 0.27410879485340844, 1.354082361379883, 0.6426766728628714, 4.76990762074016, 1.2916440348041993, -1.6422668873170236, -6.125601548606074], [2.9716520287210293, -1.239215120052701, -0.9870544512461037, 0.03252773258990338, -1.6366506932853166, 1.254303930782306, -2.5289232439920815, 1.6618531939573618, 0.8079762829659471, -0.36843089612919133], [-0.28135763103892586, 4.465705066268538, -0.5246245585036062, -1.6183727098789478, -0.09876762579905396, 1.846441782413844, -0.5531637312334028, -0.3277236102304326, 0.9441310512711771, -4.884283777157675], [0.010263218597373891, 3.2736730297439744, 0.3002744382094844, -1.2110866745372921, -0.4884126554888635, -0.9452557412495182, -1.0163661703108102, 0.5210749856543586, 0.025063733040052494, -0.15281684871999124], [-1.444293970003033, 0.5271371554325022, -0.8721417456995735, -2.3898766009576224, 6.630479961590639, 1.0228183034981244, 1.0345262813658698, -3.116131351908665, -1.0609378851950437, 2.029142472945192], [0.06090812938403345, -1.5152550147831922, -1.564740058350459, 0.30406409046366645, -1.5577110030048895, 0.35588084556376565, -0.8889963315156013, 4.673161605313081, -2.291236210570038, 0.5885153697071548], [0.20572104231626742, -1.1066880672603123, -0.19092836034423, -1.7061170573106255, -0.7630406743396279, 3.1079000280590785, -2.762349833636741, 0.21915566298399902, 0.1863939139009263, 3.9032349459238707], [1.57907494522032, -0.161265231975396, -0.16965606876109507, 0.20962960944955178, -0.7825471468988905, -0.20979129072012492, 1.4428245433749072, -0.5545813631522629, 1.7340003616530701, -0.049658277639883064], [3.1390923254158514, -0.40265629422072036, -0.540580679837618, 0.02000903289677769, -3.0639978478269754, -1.114365654408537, 0.2971218693408866, 0.1794628249587098, -0.42118046887298577, 1.3417217117759077], [-0.162132916881504, -0.9631532103366707, -1.0705567932719802, -1.3996155356778925, -1.09133914818554, 1.6866753111721886, 1.7984818860527891, -1.0327617955518906, 0.1350648135485315, -1.9383612488542687], [-2.202173729606668, -0.084130985085757, 0.8090231645754091, -1.273912958312391, 1.801244481990997, 0.5701441008176285, 5.200595110439371, -3.881178884414633, -1.0567483735147407, -1.4908468250941138], [-0.46753414519114855, 0.22827974468292767, -1.2136207118191613, -0.5829390919395518, 4.390523678948455, -2.0586797637736103, -1.3575424109759266, -3.7183781696929703, 5.932682118362576, 1.4751072408303627], [0.17557586628079758, 1.422544582943374, -2.167360994984162, -1.081477797540598, -1.2841687123167205, 1.0252802923643536, 4.224509352253929, -2.5955553606650055, 1.2040422064801974, -1.440882001765405], [-0.9997986836639338, -0.437192170436133, -0.3093853910480916, -1.6037967402352784, 0.01114227674740842, -0.5613100551244372, -0.47392736732896923, -2.1176015906689587, -0.744539013990487, 4.949622224248034], [0.6328511673000301, -1.1295384694757278, -0.9034502106886366, -1.4989030971540014, 4.643879096319299, -1.0420111871201017, -0.9455213123392459, -3.1140338648965646, -0.8631060327717052, 2.0336429667578706], [-0.8071966573508303, 0.2364219734079216, -2.4543241884398017, -0.05646639585628632, 0.985549097505535, 5.1096973927286164, 0.6365028866221065, -4.142573018955624, -0.272893892107958, 0.21501948503965096], [0.384476243497908, -2.286886505100474, 4.730957045650846, -0.2054460107386621, -0.8364253389147311, -2.675728184102768, -0.9732280433742766, 0.5508350422841, 0.6719493141949422, 0.7662481918844071], [-0.16171845003947438, 0.47410954938130423, 0.3581939394405955, -1.1840128190371337, 1.6693215353081357, -1.4933141844709343, 2.432105406362049, 0.9717037524832914, 1.7957741240166336, -0.0693328879471482], [1.4194139979262566, 0.6311833503800348, 0.3947335853673434, 0.08979468701091275, -0.6358822882243312, -0.9848263147637621, 0.6811030817296069, -1.0682220936278664, 0.9549479362364698, -1.867647210828504], [0.5804880557189631, -1.512406653495565, -0.5416905695958112, -1.4218271069481148, -0.3735872660303915, -0.7980639457631984, -1.2222697796020106, 3.8482562764237773, -0.37207751998294913, 1.6551577300169296], [-0.05798064143567272, -0.12997352580482902, -0.26165633179707726, 0.9407998029214344, -2.670867248047822, 5.469553786808217, -1.4660313424581406, 1.0275462827612705, -2.884135130501435, 1.418681807452913], [0.8192297519341654, -1.102671742447878, -0.6554697313447195, -0.8106715403167073, -1.706975818665454, 2.4385607357598738, 3.595740477015366, -0.03695978266395361, -2.0882680746306717, -1.7536736513296567], [-0.4629145709958697, -0.6358271255154532, -1.8478389529759591, -0.8065760346648332, 1.2530735370087336, 4.189299119278385, 0.4952224905040835, -0.6915132360503842, 1.7411757063662598, -4.083331863209352], [3.1207070786872975, 0.525357463411628, 0.8357514065590789, -0.2894073891309832, -1.57478248507908, 0.5546753069047101, -1.4173221794898483, -0.1865936391296188, 0.18845219085137999, -1.5769710744733128], [-1.8269449972951857, 0.9341581515534572, -0.3527229542085957, -3.528673181953015, -1.4080101336556976, -0.19576348632315232, 3.120430437776107, -3.2640704247214973, 1.7916078555226227, 6.28961099692014], [0.5385125888965103, 0.3165814089010872, -1.1478522304471162, -1.169191888790337, 0.6773782512737216, 1.6864131141623488, -2.6561847154680676, -0.7453131824554489, 3.81454390306526, -0.7634067531063122], [-1.7421357532427193, -0.828725759370342, 0.12075408098158447, 0.35431018030113215, -1.387181199065289, -1.453344592077018, 5.252081094318781, -1.2372127409244396, -2.2929366942131315, -0.9032415971261454], [-1.6527657784788619, 2.8155381387695657, 1.5329523889273184, -0.49550403918780384, 0.19545970213681674, 0.9440042208843389, -1.6075107374398119, -0.030746236441527408, -0.3945664279631679, -1.6932393959082273], [1.4872488303263012, 0.834244909830727, 0.4800273959931478, 0.6860376845779845, 1.8066000170350374, -1.3378737087674804, -1.5773049353785438, 3.1430352432030073, -1.90429404643598, 0.2661630710579477], [-0.5894448120351607, -0.7946484187777063, -1.2895529451307843, -1.5057477277759426, -0.21060220113740247, -0.9247256747672576, -0.8005004829859077, 3.988377346055619, -0.5437465663958272, 0.2910067558781133], [-1.2307258524569227, 0.29881484009026504, -0.5318143115861675, -1.2773310309005883, 0.18266279001728902, 4.399814830702551, 0.437239024322309, -0.9261581254971789, 1.4314932578560031, -2.0198885598514957], [-0.7784468317514095, -0.7168013636017374, -1.2925058382638424, -0.6636393295477907, 0.07947966720303556, 0.4655155873719572, -0.7027374319032023, 5.6352488705818375, -1.3080149624361488, 0.5463951216371203], [0.7198791354160936, -2.348327829612099, -1.148875497674264, -1.3237104649279332, -0.43244272459858624, 5.843185244308233, -0.35583902171330695, -3.1745056962992217, 0.9221828033070429, 0.4560856075276236], [-0.5994190182415544, 4.598424414290557, 0.09061184356436502, -0.3075131893100759, 0.7754045107284142, -2.185740174567419, -0.4610086531818811, 0.5067624619535165, -0.10863787398727132, -1.6805325949450411], [-0.23877627621589603, 2.291302106161381, 0.4901086436056228, 0.9094339926849484, -2.457474433661263, 0.046311042562220184, -0.9970271014044827, 0.38026415615132003, 0.5513874170240838, 1.6549907385502047], [-0.5228946191882274, -2.0463634201764114, -1.4916007927283095, 3.5881587726196176, -1.0615838268734925, -0.8852295788387834, -0.16359991068442992, -0.5440262167039314, 0.7538517363470412, 5.619420290952665], [3.387374047819982, -0.22937357095276156, -1.523369400312878, -1.631789482408029, 0.7931495305695724, 0.4677315161597895, -0.5626023364657367, -2.1451521247321423, 0.7460662748018158, -0.3920155900414599], [0.3339270906351639, -0.9091702599657272, 3.6832937380017556, -2.550711875940361, -0.09149616268174765, 3.092728479256097, -1.2154140169185532, 0.6184450511659607, -0.5903777333255906, 0.7664441772485362], [3.1256278642999056, -0.029660465073956033, 0.5409553000151481, 0.3591037760456619, -0.477630092226224, -0.24691888876636714, 0.011320327660838458, 1.5187613584698116, -1.3895605884577271, 2.5434760470664632], [-0.7386569338931703, -1.3479282834493986, 1.9071731251620232, 3.930410278963124, -2.1209266348418048, 1.3173395573336426, 0.5430471610144592, -1.8018694505167017, -1.5576436209145093, 3.4127307288651685], [-1.3259439580835064, -3.775391251779144, -0.9923449423904951, -1.311951195101213, -0.3538631056478245, 0.3031649860275749, -0.786347706680292, -1.9616156074856197, 6.27320512549692, -0.36832855052235036], [-0.17946009510177285, 1.8571336730873487, -0.23013225372166657, 0.20956755251881376, 0.8123236055392025, 2.021344352323884, -1.9900750531743725, -1.6812394894868419, 1.5762487654239954, 0.9370140370691065], [0.5304688313495726, -0.5003463809290188, 1.2281109986485577, -1.9854487816335158, 2.639524695732189, -1.1150260931248175, 3.4275420635440983, 0.5027233758377623, -2.1681967515201865, -3.613950272582714], [-0.8581310983786672, -1.6456894063960168, 1.7272677062509425, -2.004745621293573, 2.4327697884786224, -2.522198535283542, 1.2867949989101817, 0.2798023588917684, -1.1943232220755484, 1.127481529477155], [-0.9114811594194601, -0.47269793181737185, 1.7062620023048525, -1.3629901176806545, -0.9301180813644594, -4.080673173055259, 3.8671016758085766, -0.9833350535155212, 2.003620316364107, -0.8948723071990621], [-0.6508807442136211, -0.40535980910004876, 5.705635404297763, -0.5078218097739006, -1.944443161226455, 1.0418098961751792, -2.4717163559733177, 0.3978582052350088, -2.0424135315300482, -0.507403505952035], [0.3844440613054416, -0.4483066635939408, -0.3462784676182782, -2.002344287021712, -0.38629535271572424, 1.6180537752226356, 4.128755116604763, -0.7677105434254496, -2.4838891378273598, -2.7816829176642526], [0.4501106577568277, 0.7534349768495114, 1.5295809475851727, -0.4313025638654233, 5.097324775768773, 1.4333608281739685, -1.405429858178525, 0.6024785661174255, 1.99680017713409, -1.389783095640213], [-0.21930424404274834, -0.6888064804355248, 1.4113381830259293, -0.09709900948902495, -3.4630384630609536, 0.9994417451281541, 1.0317839938088558, -0.30744981118584824, 4.238333462143409, 0.18450988746608332], [0.3439453496033488, -0.8960304796729849, -0.0316047730629645, -0.6200883132528388, 0.025776145970507702, -0.3794075517030371, -0.7848935755017173, -2.0032101139484957, 3.209414414006444, 0.08065616738045422], [-0.8780075079754592, 3.9019179131154624, 0.2104659607541064, 0.18146232444127453, -0.42077742925778416, -0.5539278862191961, -1.3609817960009325, 0.4314146986460219, -1.1951333792850074, -0.5832695081540162], [-0.1281138991185068, -0.22671121160887564, -1.1456697127398618, -1.0727002128753667, 1.9233632468122244, -0.3259439815557448, 1.7476160855978984, -0.05800255919077757, -1.0891856631454733, 1.8601279924358982], [1.3634037358880828, -1.8039590616233607, 0.06274605905535502, -1.9306356929376358, 6.823999507132369, 1.245986810260482, -1.8552537701011933, -0.41709043029545967, -1.9743093851965487, -0.03008621901024444], [-0.6692164920605679, -0.566044844264955, 0.3474598205698438, -1.051478559415461, -0.32853546585239357, 0.4462417502379221, -2.1223907452717747, 3.0709933759802275, -0.705343851745176, 1.0736098532721163], [-0.07693447182097257, 3.753989275484024, -0.5096893272055241, 0.3301955550138096, -1.517968368172287, 0.0006179757284989762, -0.1927231129088134, 0.7107712508818542, -0.8506842182011243, -1.1419315783999093], [-0.15667633614687837, -0.9871333600650695, 4.218579319015973, 0.11350253227127438, -1.9104391301032433, 3.446476866309451, -1.6974759935427333, -0.062324659250458936, -1.24942431931363, 0.7551212131178273], [-1.0947286082419656, -0.5738445753475758, 6.050668098112794, 0.6366348342555845, -2.423252517076583, -5.66433367216073, 0.20377777404089192, -2.715740187182015, 0.9104367816357442, -4.730916995926526], [-0.5170112874380324, -0.03165720512044956, 0.45598734496808113, 4.212948467248475, -5.12104855699716, -0.7873295311180941, 1.362386384612778, -1.3330086779043695, 0.13753910367048183, 2.298497031552342], [-0.6163389852649774, -0.3601023006308437, -0.4908482157441105, 0.1894985750372722, 2.38256740334241, -0.9663582170228144, -1.7384610997944052, -2.174453574720941, -1.3803740814529741, 6.205175282825503], [-0.4098275987531874, 0.7844400803909073, 0.9559900487672519, -0.7940364592546594, -1.377120774398902, -1.1925794994956862, 4.823957875258763, -1.8867044203493493, -2.3931364195921803, -0.7425403200826042], [-1.4301382953757145, 0.3771915189812787, -0.3881416312294974, 1.883631391655427, 0.4751734848134501, -0.1892743622841726, 1.1951562968822178, -0.6265495974484258, -1.334532055804317, 3.932873347415736], [-1.451613890198674, -0.7720361135697741, -1.2026304764252331, -0.8581123709534819, -0.24769074995433815, -0.8123672042088517, -0.5543441748270874, 0.904613673962106, 0.5503419107001518, 6.161438158850631], [0.001501554662901139, -2.046685422186683, -0.5100853001015282, 0.5685026610161041, -0.10443887612316516, 5.636600808614066, -0.8223636080050305, -1.5757173374015054, -1.4514927595174307, -0.130837471705763], [0.49029140705084107, -0.1525466563654505, -0.593059146527442, -0.8021093549887186, -2.2253000529827394, 0.4934475715179252, 4.607079018529367, -1.5449408471951034, -1.6764436085509975, -0.6522812043411046], [1.302124931528394, -3.663168294439891, 6.889601887638321, -0.22937713323128894, -0.3305317626091102, -0.2798564962262242, -2.2632537238656782, 0.4212078771550498, -3.619119776138394, -5.602072454308206], [0.5756524103423435, 0.49225724326323106, -0.6823646339889058, 2.1950742705651134, -3.506620663559274, 1.2919567354760315, 0.9769611645665676, 0.5336929254652163, -0.727896517314149, 2.2795457490290145], [-0.9830509821503071, -1.0165065175329282, -1.5158694590533492, 1.1466437126254965, 0.35667349355165995, -1.986873440442154, -0.060706621247417214, 0.6120833978278473, 1.2009220982523319, 2.677420186594695], [-2.321909804245488, -0.3642515213307319, 5.995619327353392, 0.5455096750161337, -1.8552404198848933, -2.0640420140418616, -0.7508113330580315, -2.6852342409149124, -0.2841163789093497, 0.15015573109261116], [0.23928177723375033, -0.8737311309580122, -1.5669066926981703, 1.332712024258837, -0.04902197929381935, -2.0629300046580195, 4.213452329295289, -0.055263732334474014, -0.20965630314553108, -1.9779550189117758], [-1.4474085262088594, -0.016322348962881428, 4.768483682069445, -0.1997371128735037, -0.5298784356404864, -0.2714963857778845, -1.7153384647053613, 0.04011877554815868, -2.5955382968024443, 1.6189949722937103], [-0.7243970038451142, 0.23021070513058095, -0.9458705333304094, 0.09669016451099033, -0.5625962297788094, -0.08843632297825099, -2.687979683487506, 6.007239937363385, -0.13740203819320396, -3.089878214586421], [-1.5838206065803195, -1.4200535351163428, 0.5872789708131938, 1.1499981256153464, 5.915465269484054, -1.047288458245112, 0.9788437696542278, -1.1540287884916882, -3.2194796968159394, 1.8306786255159015], [-0.5300686565947514, -0.14413158832817752, -1.6204488544868223, 2.616302599404697, -1.6100381570395657, 0.3136785138302236, -0.2889610324855183, -0.028569100419916005, 1.5450078225041821, -0.4680310260532048], [0.05385642471314278, -1.3379241192747475, 0.17355492952494123, -0.3188012975385526, -0.8324454488579867, -0.3786678489895312, 3.9402155039485756, -2.6239012354940154, -1.1261760923839397, -1.4948666542310267], [0.3001005854336485, -1.6323545084945383, 0.7913234168795965, -2.7935038159548378, 1.5768975525117788, 2.424036499946748, 0.07233454045976706, -1.4622515698961231, -0.3227531959983211, 1.4787721593548295], [-1.494736871339371, 0.17744470445384664, -1.7706537253027377, -2.5857436924930743, 1.6623053750340377, -1.543076204074623, 0.39975301957172393, -0.3888320439603079, -0.045842526613732115, 5.415198499774922], [0.3201204553292687, 0.34498514115212653, -0.6284057048760536, -0.10337060452695468, -0.21265045565088503, -1.243933893599673, -1.3217059054038964, 5.537783745779168, -1.9059743187609257, 0.041361450592480864], [1.518856226067482, -0.7204368745103509, 0.6183946774305034, -0.3157742624085298, 1.748499650978701, 1.7754932440951934, -0.23256652085363982, 0.08581345080466196, -1.1333759578086626, -1.4971059939906892], [-0.887132047502645, -0.6674710075582758, 5.596240433800736, -0.7627385350171481, -1.1050381643576292, 0.8537782338325606, 0.2485363762261137, -2.1334672251483227, -0.21356403758106635, 1.51789169873111], [0.6065356263082862, -1.3481132871582857, 5.227918834390108, -2.790116641180065, -0.20976136295528303, 2.0532248062345615, -0.9910890669276005, 1.191538606742916, -0.4480630949867015, -0.2893809784902657], [-0.9020253216173058, -0.8206376981518514, -0.2996512486858718, -1.934107387818111, 1.388978875885309, -3.9131487856399256, -0.6860028248120116, -0.9175188182858549, 1.3423107645607382, 6.12825544649629], [0.5471997229895635, 1.0078607481319133, -1.9228606311782865, 0.7906999027266384, -1.7731401344958617, 4.037202376253324, 0.2578750163613033, -0.4467497904096158, -1.0538032978681444, 0.5357017910821598], [1.0748953332227291, 0.02916637508053399, -1.6969726415739927, -1.8037640941269535, 4.415064876158242, 0.5686138700787282, 0.10958215206687694, -2.164648977326199, 0.24924215712030406, 0.08487439721550416], [-0.7399110332682886, 0.20745651597187686, -1.9477539118183356, -0.9281433416911979, -1.9275896268188153, 6.814292125924875, 0.8862303566523744, -3.2228994615024975, -0.922341275929881, 2.907958042490784], [2.8941126922438873, -0.2740206590293204, -0.3745754688986276, 1.2372312648472523, -1.906897834369989, -0.6658306164432353, 0.3001034342699125, 1.8964046765703966, 0.13918172281496766, 0.45589691756391226], [-1.5428429638080385, 4.3809442788003565, 0.9474622091964844, -0.09527844469103774, -0.7349131760702932, -0.33101079467977446, -0.635598412195998, -0.652894218642504, 0.589764783498379, -2.4866326166472925], [0.4143539105674563, -0.6313869505721161, 1.5170536243936894, 0.9036187426416076, 2.3872315253863956, -1.2039076163167475, -2.587553789878426, -1.2163514355285132, 0.5784997638028699, 1.1779477098058058], [-0.12748455812041515, -1.788726138304438, 1.5120659965855638, 5.48012327762075, 0.20902884108155506, -1.1272575538856455, -1.021417361436324, 0.10545342160141402, -1.6335075922550586, -1.2993961755401964], [-0.16127236993540484, 1.7629811801042092, 1.5468340501173798, -1.6272235256557865, 0.4077909685053822, -0.30860086880857907, 3.197816496116544, -0.9995127686948422, -3.5594333432271545, 0.7457529738785742], [-0.2530007116779256, -1.7500107822620308, -0.40649233955292075, 7.406423687496998, 0.5520992186328124, -4.004422961033868, 0.42578392620146377, -2.328677714482497, -1.4827456158111394, -0.7664901696705417], [-2.19478135288814, -1.6391987394343253, 4.020248563033021, -0.7107829025686347, -0.7299250651539664, -1.6303338697892595, -0.536641594137663, -1.6350839845550147, 1.4765054972974434, -1.7434019748481866], [-1.4203163401054066, -0.9691653907484126, -1.1111464076773008, -1.7946351129064133, -0.4205132130455129, 1.0524714555461907, -1.4190462577990282, 0.9695827765922489, 0.48464845851537075, 4.874445101869822], [0.1659429341501233, -0.2679286351521304, 1.1046529300041557, 0.8706999877013619, -0.6749831654451954, 1.0666597475541102, -1.1102426814312523, 2.980230853386905, -1.3875696275730307, -3.4388206623668545], [-0.5175332247332824, -0.6982543419961478, -1.5915913285910785, -0.08911035293975456, -1.6116770760838786, 6.796218512538472, -0.6274395489186921, -2.4073069299739456, -1.7465784750134832, 2.4406542387758616], [-0.18901775891389583, -0.7591123201176293, -1.2269652610486441, 5.4923977761959275, 0.7022837753831057, 0.1712908474084327, -0.809932130709524, -2.086708344670046, -0.2751874935845553, -0.42727568436099084], [-0.34335963783570767, -0.48340755777306854, -1.9526979517293863, 0.33867906227765343, 1.16941412455791, -1.738182971499608, -0.910313497525653, 5.809334907457147, -1.7039372864684825, -1.1520657224649193], [2.771855617342908, 0.21157227874082896, -2.0768262103148434, -0.24790867764891478, 0.5413831681400976, 0.18643325342877226, -0.11146304384681294, -2.266435837379597, 1.098973040106312, -0.6028449057290084], [-0.3910630456466736, -1.7583756334075462, -0.45254567459882933, -0.360168277329401, -1.1236441551210314, -0.7860070097426854, 0.3011011713253551, 0.9283987511378768, -2.776068524200781, 4.694093278754635], [-1.5301559289535003, 0.025890936413843102, -1.1991373265641052, 1.2043165539257874, 0.8068384137503573, 3.2851287627515626, -1.5109786462901276, -0.5966793264340695, 0.5105019595527835, -1.271849845223979], [-0.272456598591436, 0.7252284138712832, 0.01988378310236838, -1.126816349664014, 2.739071083719953, 0.7610692406395492, -0.37647786373754544, -4.295425444997277, 4.888248344426408, 0.17578886063735233], [-0.5854593351306518, 0.30340222183120025, 1.1163826915441954, 0.8694793366202045, -0.8170593832640916, 4.066670020137195, -1.5134585992053151, -0.20128868432217262, -1.0851614010756756, 0.7323929882859648], [-1.279116769191413, -0.5792237690028871, 4.149147821128384, 2.1183884999812626, -1.2289472492109526, -0.27916783697378134, -1.1207518590973145, -1.4829102860214967, -2.076340822195967, -0.10292538018493058], [3.427841352165255, -0.9222425888381367, -0.25066134424866116, -2.113731949505801, -2.041077229914127, 2.4869816703468857, 0.3972772802662128, 1.0381331011306072, -0.3736186307329614, -0.2271461956084173], [-0.5559001905325203, 3.6911286008116537, 1.5195595135051463, -1.266882512884035, 0.2037173662845686, -4.115175898921693, -1.2530368183988303, 1.4157333266287937, -1.0349814493519132, -3.869529835111962], [1.3650472288129998, -1.37135801041149, 0.08055255114081494, 2.6408344481157693, -2.6477866988101906, -4.775769427141, -1.390283808446335, 0.896391871099757, 2.402911663041755, 1.0302020280159807], [-0.9439041673489306, -0.46466859013186124, 0.8450318215683676, 3.381357860471479, -0.6114738945322014, -1.0468625081191594, -2.370493948013374, -1.2337244816276167, -1.8336348260084392, 1.419391030719706], [1.0112215294753226, -0.7648191077409854, 0.026192869884576808, 1.3604129686487096, -3.187763170709984, -2.12441624327552, 0.008916377288050392, 0.9916556047701857, 0.7112909998856622, -1.6350534477471377], [-0.9472226067084678, 4.495251376198876, 0.4564758947874248, 0.8400770429093896, 0.0598344288782926, -3.873595696139658, -0.9964603581102272, -0.44384700351908, 1.0925959429354277, -1.9310912277180643], [0.5774392524255572, -1.3994952956539999, 4.5068818162888595, 1.4354763789482345, -0.5964115378823422, -2.73526632708308, 0.8442007044676422, -0.5586685774125595, 0.4425624789574596, -6.714567496933715], [-0.4987109712363207, -0.44549646801518294, -1.6006186238118325, 4.174126431551493, -0.7984774635340597, -1.4447757579083682, -0.988359175251939, -0.9285766611485617, 0.3234588843173476, 0.07116718695296687], [1.5778927928646649, -0.679227893373817, -1.2224251022423778, 1.114905262390955, 0.24799107982884427, -0.74787213449657, -1.6817386394670741, 1.1645429628097688, -1.6798470632720208, 4.715703818816976], [4.001074060507399, 0.37145086165998487, -0.5027202084476806, -1.2518519786545648, -1.8825458233995835, -0.2576877980993535, 0.016191009779825016, 0.883812772192135, -0.6971233661681262, -0.26115509971655504], [3.1995054679501256, 1.1013724504793283, -1.9917575184418488, 0.18783553996142288, -1.381243177063741, -0.33882548062230566, -0.13425959082797023, -0.7102392733965508, 1.1158433659604385, 0.6768251113035033], [0.08157678094611232, 3.446187926019503, 0.47364781973723336, -0.4448007021432847, -1.661271257356038, 0.6607929761423041, -1.7954193103825296, -0.6319408021781419, -0.6049993499859769, 0.005432046749852759], [-0.9543646480187307, 0.7289571542694717, -2.790923319675741, -1.0789461072085549, -1.6327333258103498, 0.7011911524217891, 1.3166474818802083, 0.610054019583981, -0.3361999916314913, 5.751823387667115], [-0.5743245213495101, -2.0820566647742447, 5.82553487423383, -0.2882218902782232, 1.5659257235853876, -3.670166245460606, -1.0094456063944495, -1.4456456001275355, 0.05864572390213796, -4.410687510912334], [-1.0004388170317298, 0.41887084999309765, -2.4006438917291852, -1.3315932497022813, 0.7463634024297368, -1.3006762020583809, -0.1949773657078635, 0.5569639556776438, 0.40861707008012305, 3.8744713835680127], [-0.07835426549163671, 0.8892275229730693, -0.33640964781134164, 5.644974013295456, -0.7795906170487754, 0.2089785452935704, -0.876869717450961, -0.46510896238161514, -2.4729277231961344, 0.2603786907336465], [-0.6870852093001885, -0.678801194005045, -0.21115820408126518, -2.62073465172992, 1.0885113253258325, 0.7531925151219501, 0.1082832367503328, -3.7290310323743032, 1.705519533171795, 7.91052854256605], [-2.3026591476443143, -0.07872884137489367, 0.010553128954227442, -0.6338882817370175, 4.75812195953298, -1.5931191500751627, -0.07738803968694752, 1.4917933621914583, 0.2840786545974445, -1.9165126901739795], [0.5067200018314841, -1.240355936293653, 4.111164887560987, -0.9320549025994835, 0.5408761903129715, 1.5428895920166168, -2.242966487530758, 0.5633197028056953, -0.73726620122493, -3.189549409652042], [-1.2772425751796095, 0.44636247156522435, -2.4920236716890174, 1.1833493457556248, 0.3330439286642939, 5.573878388566015, -1.6344321199647722, -0.3350157417978413, 0.6728830579264938, -2.5114511305191094], [0.7036967810100268, -1.2846471353324747, -0.488599619085611, -0.8688709028694426, -0.5900081051932142, 1.0767091101972124, 0.5587932328181298, -3.314157593194571, 2.8696762972348804, 0.8817705349960008], [0.021619010327186494, 0.5569923900515521, -0.8985028107567692, 0.3707986148584883, -0.5255411137077324, -1.4257848655753935, 5.554592781533879, -0.2109420493923393, -2.8324831224264546, -1.1613969137542801], [-0.8274236602599561, 1.6425707697592227, 0.01704781082754092, -0.7072332208856036, 0.9012200486519006, -2.2314142631402967, -0.8078873602428656, 2.396105387798946, 2.107438020413639, -3.383455100627585], [0.8509955431469491, 0.7650724249947031, 1.0327955304141427, -0.2998208692436739, -2.3995093518721173, -2.1391408160101437, -2.288418723668084, 4.184696083800875, -1.910517617514995, 3.176406366950344], [-1.2882536512675817, -1.1196033004063572, 3.014622582240318, 0.864672546135961, 0.8009580574223425, -2.165000281566833, -0.4122980222189847, -3.5223301342636972, 0.7145057475673613, 6.560318811550241], [-0.14974183321497947, 0.15268564384773908, -2.579474417203325, 0.05912466217617385, -1.662197439440937, -1.1962735670078006, -0.7264143664610339, -1.955159742882023, 3.546215605306272, 2.521713027039901], [-0.45431668281771753, 0.3043436013103795, -1.9634112944067503, 1.4592670579935634, 0.20160122275425785, -0.4029987158718731, -1.3245967912834415, 0.17228458661176127, -1.0263635227312125, 5.15266212488591], [0.3967545245347738, -0.21497447695720862, -0.9023190750439276, -0.05429398662143747, 0.9162289475657057, -3.726945834932102, -1.7238467295271507, 0.14895241246812052, -1.0725599789277154, 4.218148986623705], [-0.46268229914793224, -2.458121092700725, 4.88613961196015, -0.39043706368096265, -0.19150992929395194, -2.201355344093049, 0.3247183372580431, -1.0473792688773174, 0.4585914287036603, -2.817445949065749], [3.7537317916533866, -0.10019661800718782, -1.6758111156143618, -1.4303944419967867, -1.3318948723894373, 0.26851724871012905, 0.22116554611829686, -2.3414312312006973, 0.6070909410553231, -0.806959900210872], [2.7519554471543746, 0.9966232522115765, -1.3899847440842472, 0.7460801056322346, -0.9724474319494407, -0.5765579766330178, -0.6514884038496227, -0.2712619880813367, -0.44226301018017633, 2.2385079884860577], [-0.5266148955771925, 3.9810131189573768, 0.66048781227636, -0.6272260040444118, -1.1622836723013643, -1.7369186068292741, -1.56240688684018, 0.09613981971896868, -1.2643196895023532, -2.347063195944415], [-1.4600447039385767, 0.3535113464621269, -2.4800752175442264, -1.9214743706467008, 4.154199618365234, -0.07955982606907419, -1.5243870938307658, -2.3876957116890876, 1.0190887771576693, 4.0576178015409], [-1.9998883436797676, -0.45214138764436607, 6.966064745946619, -1.5382846741353584, 0.32853507700372875, -3.6939175421941046, -1.8802718761467578, -0.7723894168927545, 0.6262799629073506, -5.69424705353702], [0.10487911782676829, -1.7762545006657877, -0.3627102300025795, -2.1301752624072314, 5.032153639677547, -0.11355472154682111, -0.9617372680045011, -1.2232463322266582, -1.3604716269311543, 1.5632712503006339], [-0.5356460788933669, -0.900030982515843, -1.8900217766942522, 4.452277619282584, -0.8756837078724624, -2.2569111450162516, -0.15158389490636182, -1.3932499553436966, 1.4004254385583084, -1.6953600321200382], [1.0709941930148281, -1.7486601975282616, -1.3965432838961935, 0.0580853780925199, 1.3986751949127658, -1.395110897770231, -0.5895650434534172, -0.05493662574110658, 0.48952546979038825, 5.317523927309651], [-2.0707046290931137, 0.9963697984485689, -0.027980129094553607, -2.110437367547849, 3.3955543178137138, 0.785742178461406, 1.1156182514624535, -0.6042230058470883, 0.1253906913237527, -0.6330109566890454], [-1.1182083754302068, -0.050494723397694896, -0.9462511455374506, 0.138927333610404, -0.39300397469653214, 4.76785471857996, -2.271193124761603, 2.7465733264650045, 0.3773575904879256, -5.3218657916188965], [0.02116902658051112, 1.247580981240664, -1.1908335979474471, 0.7776923590289229, -1.9474188455480417, 8.523437437695613, -2.2827841455389746, 0.10016494974734402, -0.20833389768751875, -3.2464274079777073], [0.29154744188343007, 1.129724111528658, -0.3981546757534695, -1.1688840080545138, -2.5582529263472047, -3.231518301840798, -0.5382099585326492, 4.565519728568541, 1.8932793587512655, 0.9036311499465759], [-0.783760062256809, -1.1963533335248344, 0.48592443145420416, 0.8640603043363284, -0.8662214489375866, -2.372547958927474, 5.628362394073693, -1.3252745644526267, -1.820124461023074, 0.5050743946680658], [0.2207806659894157, -0.3779114983259755, -1.423906127515342, -0.742601956656663, 0.9095273322866988, 6.907652120112232, -0.7091614887447679, -3.555592585057485, 0.23749663258399245, -2.3839500504763604], [0.648665939973194, 0.8605950138032599, -0.13107146647669832, -0.7041802184359409, -2.03496074106804, -1.8967590313300584, -1.4202578033022584, 5.294148663745862, -0.3259654535520623, 1.3902923614963982], [0.06074899853868487, 2.7469594290163313, 0.28248330175672387, -0.6163596004770979, -1.3921974721066306, -1.5872221696540572, 0.45073771887117675, -0.17833872031432652, -1.0684162843384502, 0.6371897094962415], [-1.2025502701565292, -0.3696604868446658, -1.8556579434973945, 0.30998696574263684, -1.6362010033522885, 0.5744169958948495, -0.23147562061748372, -2.3424558481367153, 7.319023663025711, 2.9669075917466228], [0.22899019774289597, -0.40849503419624034, -1.6608910545957059, -1.566215184709709, -0.7726469484213556, 2.0774147308029125, 3.2902340211141867, -4.322838087521011, 1.107010257099803, -1.3903152413088282], [-0.2622152969224163, -0.41379039541682183, -0.11757447514933916, -1.244604748075481, 0.48300756359583663, -1.2582712964388567, -0.7014575547784836, 0.5570955735099559, 0.34203264930448096, 5.96970250512111], [-0.7756348275380271, 0.04263499601641163, -0.4513405585348167, 5.738325497937256, -1.423789687915722, -0.07509887781096491, -0.4615904543453335, -0.3756932546459488, 0.7645485132919929, -1.640593796347132], [4.1917867718510635, -0.816941127754081, -1.4575976678053002, 0.9241065796481616, 0.4613371693614736, 0.03151172451933304, -2.2524844965038775, -1.5815452184142091, 1.9924718708053901, -0.5333639295604398], [-0.6959827931707525, 0.9382805477079982, -2.385074639649368, -1.849111852529132, 6.128864379621232, -0.8019693310919349, -1.5009445640111534, -1.0787563795305335, 1.7213053809824732, -3.1789585818416803], [-0.457208314692489, 4.3995536276388325, -0.16635612270647915, -1.4897411517550232, 0.2807493709292359, 1.880883011280881, -1.546147871043504, 0.37376023422276106, -1.9148676976404635, -1.5622556482345127], [-0.8410048474149461, -1.4864526017988244, 3.8108138696640816, -1.7698155349518065, 2.192077758504433, -1.7109106771428777, 0.2981373611205682, -1.6418894764178893, 0.871605465468537, -3.990968416569901], [-1.1024941148604521, -0.4255474555331227, 4.854900644599319, -1.5354438805474762, 0.8997515864846761, -4.459881426870222, -1.4931427663712786, -1.402411682449003, 0.7588793561154503, -5.868699517074548], [0.4483416414645903, -1.1600578618523452, -0.7386299572577456, 0.25372280338913944, -0.7679222487787685, 5.05279721884241, 1.3182984664744115, -0.3534841327647458, -1.1097641914355192, -2.3524132756497638], [-0.4207696033157884, -0.736357597952543, -0.4114478617187354, 4.637408070026861, 0.9273555277025576, -0.6826783088928727, 0.17263467953586176, -0.9785995486727748, -2.570132945673109, -0.5231369522733358], [0.18684881995952024, -1.929106308508441, -3.208421355806432, 0.3997646181299719, -0.2705547061589406, 3.14468265227818, -0.9573335420435507, 3.3327575420711897, 1.3501146793782923, -5.079680944509629], [-0.673738775203071, -1.5174637274296354, -0.9903066730001382, -0.9827585990257988, 3.5079236467225816, 0.25636364542950785, 1.1072844939614193, 2.5571885539826904, -1.498161164970037, -1.7099992203847285], [-0.22670729633182773, 4.0476862191202825, 0.8219554084517102, -0.8491038839259439, 0.1604627552701512, -0.8433710869235069, -0.15900889299856225, 0.2777326130446012, -1.922585964385345, -2.179381672570198], [0.1823180157177937, 0.9588235333181558, 1.1188581147679182, 0.5536965633879354, -2.284515465795965, -0.1828207961099939, -2.505752396019889, 5.09586479013898, -1.7200390451184533, -1.0475398770129827], [-0.37903407356895036, -0.09986429010920927, 1.1717088074585322, -1.5842034325078913, -1.9467113192256624, -0.6761440529616463, -1.2116440978130023, 2.512675012265971, 0.7850923316587561, 3.1878267648694436], [0.25190065482875856, -0.8980284923150585, -1.1334786906095777, 0.2672246242975622, -1.490280944273099, 0.704722763421668, -1.3528606514333008, 0.4632019225549723, 5.384121133272636, -2.2278754191859087], [0.3320382825691861, 4.5081427507114435, -0.5660622661715329, -1.7514063777095368, -0.8299545778543145, 0.3461352463783416, -0.1219823951381862, -1.3904455390147255, -0.3995397189812926, -1.4590037505542495], [-0.2681134042591613, -0.3312838303394722, -0.4563090191973256, -1.3658254435895287, -0.5194426178589806, -0.0892438765713377, -0.635768926360309, 0.25222598671717367, -1.1656832688220347, 5.9268811036296665], [0.5515980771838946, -1.5046450164770824, 3.008409254694474, -1.2030857190447888, -0.7676789212576507, -0.4842466586687779, 0.20764397040871785, -1.3840518659536334, 1.6245005970497166, -3.552240856576983], [-0.01641135460750598, -2.1878293689044073, 1.5758189549658428, 1.5696153224842702, -2.8873760535612316, -0.5858312510271895, -0.6158566497288978, 0.66532264647525, 0.5769359005934211, -3.2738384064936197], [1.4514698921611044, 1.26082464525917, 1.001519670137767, 0.2286469798125288, -4.934638044032271, 1.1545214887509792, 0.9126105112821428, 1.9456960130939145, 0.42034036445365874, -0.6700584863532488], [-1.3010571550499646, 0.42702570527913863, 0.7204569765505897, -0.5199451387981142, 4.7976995380021785, -2.7561252098415134, 0.7070665667655622, -0.17267999939356304, -0.22118444238459345, 1.7899414631031356], [3.5018685351924734, -0.3312240827588093, -1.1755080363132446, -0.7185642641641579, -0.6509287902532463, -0.002883268318395693, -1.2285794332678002, -2.9106741389827144, -0.43864547007429633, 2.1842485401851484], [-0.40806169614524457, 4.370763515849782, 0.627037656315454, -2.1003385995613257, 0.06785599796031505, 2.324136466083263, -0.17232392838488164, 0.17378737313973813, -1.9644205498508862, -2.1068760727526907], [-0.5797299538912364, -2.0988487193615515, -1.4198474071459952, 0.9294283182868428, -3.823245106573692, -0.7148578101129779, -0.6011048237196004, 2.1273855944911455, 1.5796209551764964, 1.3101397037646105], [-1.110272521535993, 0.4645028356077383, -0.9545784521285121, -0.8866979011437665, 4.8990678520405515, -1.1698527193258328, 1.1288123941418262, -1.2228107370058838, -1.4118118883095936, 1.161624622853405], [-0.8780890862052828, -2.44147806059742, -0.27835514974869, 4.932812232152338, -1.0882129431455008, -0.26626407158451365, -0.8017053008715783, -1.1564057279488982, 0.5559209541392187, 0.6612844206116879], [-0.5575535085865857, -0.24050245650080784, -0.3371712991563749, 1.5245942984080456, -0.26125229146705053, -2.835898777591006, 6.112159130748325, -0.13002199170133721, -2.333744209673976, -0.4828597434850188], [-0.15942659869646136, -1.1301417277370243, -1.1196908910050616, -1.2364826611844864, -0.0014700828076592565, 4.26650239847733, 0.9664707433379106, 0.09783058437610181, 1.5994273218306492, -5.603578962254859], [0.15720482761494914, -1.0374648782528229, 0.6684700687913456, -0.7231315877516193, -0.16192360456575794, 0.4593036272838622, 4.191271354850787, -1.3826148534237594, -3.4886626358470254, -1.2956685902078164], [0.05796618550157606, -2.4819177554061023, 0.42381228234070667, 1.960145133134953, 8.802641730681664, -2.6263661398372906, -1.0664660251903884, 0.5040537431623937, -1.6715975054005314, -5.303769350753804], [0.853719399704929, 1.4796708881873317, 0.8368590450928521, 0.13591266080762177, -3.4018471636232093, -2.877602555748634, -1.7846771345954084, 5.425719741483966, -1.0429168677851535, -0.2291868366406704], [2.038794739523056, 0.6744363421773816, -2.178325726897156, 1.5077222826647618, -0.6952166901211942, -0.8468731290540368, -0.8985379211901372, 0.19916881391400554, -2.434355480032919, 2.608199460437894], [-0.8810116944040234, -0.9455239048586903, -1.7604404544206642, 3.5115848345082092, -0.24941803693009912, -0.7839714653868752, -0.9705869013252355, -2.0926709486030637, 1.0664465651549455, 1.2098933257025064], [-1.3425239284644985, 3.805671278512815, -1.323651668864767, 0.8369939518093301, 0.05042810778464357, 2.057825176356726, -1.176790978808326, -1.166896167098825, -0.56608804050102, -0.7722333663361156], [-1.2276256714873126, -2.7744899516822907, -0.436268157879389, 2.3950285639317586, 0.5957139312924584, -3.025340747097235, -2.6424879980343023, -4.513614250769008, 1.876284367212579, -0.32521498002863414], [2.2725761717199644, -0.954167104272331, -0.3317680528037483, -2.517196617013131, -1.4760902118370502, 1.3547334159117828, 0.7534942749231079, 1.6909383301694576, 0.8275748443759063, -1.7884263810077012], [-1.5497164883137124, -2.3725644914221826, 8.284831194403607, -2.1951299131070434, 0.5414736594880809, -3.033813852449602, -0.5625416401272734, -0.872597456695761, 0.21823537600844334, -5.169073295478189], [-0.045287630370052234, 3.8546776867765224, -0.4485898692840229, -1.0852365174408545, -1.729017611950285, 0.7112340525975904, -1.1220140707601822, 0.8965187418571681, -0.4716619515638374, -4.5000077341125015], [-0.5099072032071907, 3.1136498464658393, 0.7886148191561357, -0.7860254975793968, -1.8709129962405155, 0.3247534892207864, -1.0057485383134857, -0.4955171041220856, 0.5594881846678601, -2.0062731547719754], [2.355097208372114, 0.4890050766709193, -1.5280988311614072, -0.21882247618323802, -0.6811950348654547, 5.904840720878397, -0.9813749329630055, -0.37170985358391784, -0.06263747473475145, -0.4069988258204926], [-0.18230174956015088, -1.1847628806275572, -0.8362491485513477, -1.4747254998914319, -0.945097956739049, -1.2952063827249407, 0.5271613438962928, 1.9088380886093754, -0.8978685735075276, 4.628293537374397], [-0.5321635284455792, -0.22204382228953712, -2.1661869856417915, 0.4808419505934123, -0.7746103877346662, -1.1947524268025473, -0.33234093875518633, 1.706972723265248, 0.6586234714702252, 4.869034808848085], [-1.8121782842671075, -1.4703421339357252, -2.3173570434144497, -1.534723429369688, 4.436839846933122, 0.5890278054263667, -1.0529398531550604, 2.117850957883714, -0.4056342624576095, -1.6198011022960497], [-0.2610011358590665, 1.0358452124447934, -1.1146449792867266, -1.7624843114254256, -0.2818376119064574, -0.9394300825475423, 5.446957952672488, -2.532687685928786, -0.510001102406272, 0.32842163977368255], [0.6027283117862955, 0.9484634348993962, 0.35339425728253004, -0.8106689192085597, -1.3291801207595193, -0.3632916085739777, -1.913411020149035, 3.971292977596738, -0.8440020519400242, 0.4042723030226085], [-0.7881994878653036, -0.48886439032310314, 1.1998112723841687, -2.780675307817515, -1.682270284379099, 0.37624333447787417, 3.296345851504526, 0.7664698771162541, 0.33884457745633156, -5.186045415411799], [-0.6990576000673208, -0.9598253283960774, -0.8996687375055461, 4.258969668732538, -0.19817963342095202, -0.9607834477928976, -1.449150045296329, -1.0533586238607613, -0.14667681961503076, -1.4791991410804544], [0.8098905736569549, 0.8184054409340547, -2.5474344601164507, -0.274785556515201, -0.8153210524246992, 5.338070251133481, -0.7932795272204276, -3.321372152988948, 2.0047409440263797, 0.1887436913007381], [0.15148719815004907, 0.5201469198398219, -2.4672828751272116, -0.961334314305077, 1.295878245171588, 6.174401247023986, -2.4554559790170374, 1.6553460004957594, 1.417125632593531, -4.219530935626539], [-1.260034562491997, -0.9283318793974487, -0.15444854679298037, -2.5555772786355213, 5.237332209727489, -0.00823451956304222, 0.376095189106219, -2.4854611232926547, 1.4718829951672907, 3.5249749274003848], [-0.6815674962538936, -1.4104067360313313, -0.5678147400671976, -1.9021113996911936, 5.4388860616514085, 0.6835493262628336, -1.411596202325878, 0.7971668106971703, -0.3493226660341735, -0.11168504758555464], [-1.1983838006977874, -0.2417184787259893, 0.20020301050066425, 0.3516410442183855, -1.6738991905310716, -1.9971518199079932, 4.9218819452053495, -1.7365614256754256, -1.8180257917059692, 0.6652881674086384], [-0.6339342745296288, -1.8905858430522362, 0.1966676729599628, -0.9164885793622959, 0.6497791716701811, -3.029950964791414, 0.7152676074237367, 2.1236529569486615, -1.0448712242694418, 4.676888808716281], [-0.5688934661107865, 4.017889206814413, -0.49067645377855085, 0.7619269341682124, 0.16001009364309482, 0.4440694967115886, -1.267577301356114, -1.479626596179106, -0.11768422210030882, -1.287991465860749], [-0.3183647926439712, 5.3281159527664395, -1.0085091506239348, -2.413004902830455, -0.04037078293724505, 0.7724218316052822, 0.3832795762495895, -0.39249077436277746, -0.9222177232604011, -3.6176969730043993], [-0.8248846036299715, 1.0717462254738064, -2.4904384550754917, 6.35120518045196, 0.6549184375990325, -3.5611953848974363, -1.0251060976343087, -1.7330075864114074, 0.4708389478977244, -2.218694951836878], [-0.42479089642276513, 5.036734713901681, -1.1031818216296667, -1.4718097513210289, -1.0224389891531551, 0.8416755790373012, -0.033355492991655744, 0.8312048525693227, -2.452398787026519, -0.8075178561716223], [0.06518123097883688, 3.3890948221178157, 1.144828812129616, 0.6313080615593543, -1.7243389425156561, -1.8776753395308823, -0.7749167982669993, 1.0116108319980106, -1.6533697707164805, -0.4628067122977333], [3.580447431897704, 1.0432646288383096, -0.8206693440122779, 0.5096040854598785, -1.0585885558931292, 0.5773404435212621, -1.136631654876782, -1.9935259894234503, -0.8918395008279352, -0.7049021225468004], [-0.046249799624705545, -0.3598553089088383, -0.42014161358983193, -0.3884421779836611, 0.27358299849536927, 3.9283074116869203, -1.7245298449195738, -0.8751776241302678, 2.3589187502485807, -4.111138863464502], [-0.07773366785069058, 3.31320243083605, -0.6943595509470605, -0.9107760313493272, -1.53667699383037, 2.6316967237993936, -0.8415353552357574, -0.5585064158206416, -0.7712614877868313, -3.0210586216415285], [0.19740177802616143, 0.1836761288143154, -1.3101904598542748, 1.2588853831087046, 1.8888065158532568, 0.39509444600950694, 0.31442618583211757, -0.4704598846623951, -0.8557544713061522, -0.11391919559385788], [-0.3294041681178652, -0.630901325103214, -0.5957684233703715, -1.952544544293268, 5.930548583893051, -0.3932081004895016, -0.9448439883744102, -1.6986916586835497, 0.17148215672805067, 2.9055569972519857], [-0.021109228594142992, -0.22338566435235735, -1.251250720751897, 0.05626443707155149, -0.5597537780156474, -2.079689086700804, 4.963315636050323, -0.2757964764708989, 0.5753193644384682, -3.461640686057031], [-1.3617529704114388, -0.10294425541271429, -0.5439717849102249, 0.7687476780082738, -1.6423211553732875, -0.88791589780961, 4.72585274372788, -1.8635154156514542, -0.3979666598158405, -1.0701478606563066], [-0.7568162111249963, -0.8588871282284481, -0.7848064765828056, 0.16521006875389022, -1.4282572508578806, -0.011238026713269234, 5.368840986029349, -1.630842301420154, -0.2637326099008567, -2.296811748013271], [3.8857503295558127, -0.008582355052235147, 0.7388457182380321, 0.08493774259791909, -1.6256547622172057, -0.8400084060431388, -0.0913235080827337, 0.7083513280584967, -0.5938892834429603, -2.126831974218627], [-0.24466975701028915, 3.480911098040284, -0.27361935859936537, 1.2582278778566096, -1.3170094425731378, -0.6383773433967335, -0.8364730521086312, -0.48264429617193905, -0.11470319328331935, 0.30003205217024354], [-1.1551881875617898, -2.3196574596212693, 4.1518739794213575, -0.9608864397074269, 0.4040516434469197, -0.020598427897817295, -1.8265755991616008, -2.8655121545067423, -0.4004940894444413, -3.556725496936826], [3.292673619928107, -1.0668170495752323, -0.7367433093703126, -1.4414700408369787, -0.9948024370965038, -1.567465418309236, -0.456394358081045, 2.274890245714074, -0.1735597444802488, -0.18903486811977865], [-0.6501959653089235, 0.2328772601088892, -0.1380942206392729, -0.09539218864169685, -1.2151790160028249, -0.49722848372250117, -1.2309752019117735, -2.139511702144135, 4.370992371125262, 5.3302772367385565], [-1.8995790431392352, 1.3588129659158739, 2.396243765037273, 0.5347956412888721, 1.4530500765140069, 2.1541367706752608, 0.42219817421410544, 0.8934546341366523, -1.3500915911140967, -3.2955784763018166], [-2.198632108649739, -1.7812637438025187, 4.813933484843658, -1.915449151194899, 0.6746718799428668, -4.0009419247082745, 0.39225976297816834, -1.7858641904683972, 1.1137525730850624, -3.0492624890349704], [-0.15114364680755532, 2.7432556269434256, 1.4510748644215246, -1.3163397493565467, -1.862353800246451, 2.4846241605064168, -0.4185016152754568, 0.2545510951334027, -2.10679748342561, -0.4018269689614149], [-0.5368980145136062, 4.201552352133633, -0.4110753532450414, -1.8183687175931935, 0.18148536762696033, 2.018085142395179, -1.9393581956344832, 0.5767413493485152, -1.2588342353467539, -2.333318057674824], [-0.9668287628339423, -0.4637928254859025, -0.6133983048825531, 3.327983326554201, 1.4367708263146124, 4.673391254006427, -0.6589848163583241, -2.323079499821603, -0.7144719207891057, 0.6837267019317643], [0.5572186549916955, 0.6673828579727542, 0.2419740763764633, -0.8586718149385115, -2.7274734474085025, 1.3653825874688956, -1.4806068879706178, 6.023094962537256, -1.8952137005725505, 0.36973867950007344], [-0.08780753673162467, -0.9802246340953612, 0.5410829115471046, -0.38287159828588035, 0.005725079104316855, -2.2177087926725942, 0.4404863358284059, -1.665805529384496, 0.607848532984769, 7.746307239541005], [-1.240628969658817, 0.5162827568871632, 0.26801839877714717, 0.1208561827831966, 1.5661334615271096, 5.2494128298509075, -2.2516887778407, -1.9886144007668831, 1.5337789487655296, -2.2279018767637186], [-1.6542369855501091, 2.2619584674234052, -0.458134443783496, 5.399885698784321, -2.8652725684477676, 1.1639384289213464, -0.16813753991262192, -1.1522347183666344, 0.7287880031840408, -4.774080536118898], [3.59777381040554, 1.1441911549239023, -2.8502629977015643, -0.08917451625081751, -0.7196725553849319, -1.3876355965710743, -0.7608227264277034, -0.5745914735784371, 0.39735998417422613, -1.3938049469813016], [0.33985375740909074, -1.1741558747274703, 3.0265573731774555, 2.6173965665449366, -1.8218507850844148, -4.346913658349064, 1.141172897790236, -4.39577515369541, -0.9343453453473232, -1.0828878279584866], [4.253605322505097, 0.6761110862469346, -0.847432263184428, 0.42283767608651435, -2.0253488441985033, -1.1583469687091947, 0.07959357848474369, 0.4570284645864422, -0.4795680073053439, 0.5092681430430641], [1.3052487358538936, 0.21515438049659363, -0.4300584102004046, -1.005378978732207, 0.47759160386175514, -0.3397128390016342, 3.49796528907835, -0.5518941085437801, -0.7150967568559465, -1.2191228462340216], [-0.28297876422500357, -3.699670659921369, 6.373855628584444, -1.4791591350354458, -1.1577188677208359, 0.22278906467052595, -0.7495837425682108, -2.783864207295677, -1.371227358736828, -4.756850866391195], [-0.7568338415659681, -0.20124256268134944, -0.5613695586044396, -0.9093188381746988, -0.4990150920097074, -0.8046907538627255, -0.6408891950668378, 0.09352533801756246, -0.6410875533954432, 6.94136589328348], [3.8410929719759648, 0.22409749843192062, -0.6107334630939598, -0.46445909065528906, -0.9652725690896782, 1.4834473703350242, -2.0311984482792607, -0.2450709770209485, -1.627898213689464, 1.3196666338806984], [-0.9035983494595583, -0.9630662116720428, -1.14126836789784, 0.46810674295030275, -0.0548183061965295, 1.0965963774046459, -1.7750652885935005, 5.81641138679862, -0.16936965279813831, -3.5425245580883917], [-1.60855048670821, -1.0530636419932555, 1.6205184363288638, -0.506026735271816, -0.86951111919479, -0.7268192627896504, 4.590896147901698, -1.3346059257014966, -0.7355674012730908, 0.3426707765750243], [0.2818109729773375, -1.4564388511994035, -0.5779855631847566, -1.633954714733672, 1.069895460144913, 0.30329842387196937, 0.17442071849120122, 0.8628659612804377, -2.362364053710552, 3.8672484781856253], [0.36983253611003875, -1.353676510154059, 0.3450195482688494, -0.020315897062848087, -2.23651340117305, -1.308846430687702, -0.5046795222882077, 2.2086461493214706, -0.4573049146131951, 4.487406525417272], [0.07464705898837298, 3.516705615337618, -0.7835104907347121, -1.593637753010789, -0.4932881468234491, 0.6105043764429281, 0.5521814830258851, -1.6742105224609811, -0.31079044660469113, -0.5474019721161465], [-1.8671807003735388, 1.7484196663900984, 5.164874921397363, -0.9771068605624488, -0.28480383539569853, -0.722409932206383, -0.16342051125464874, -2.3587243450442124, -1.4741536874621068, -2.6891134881710475], [0.48000695100434854, -1.6752332253835243, 0.04498457786791554, -1.9151199476838694, -0.17894197304816561, -2.407228746938184, 0.04068866644347269, -1.9254398548850213, -0.21642600002119172, 6.383558148129897], [0.9928941890808187, -1.0084533799483504, -1.9384842162558054, 2.373269710577091, -0.5238994270745181, 1.960318925766006, -2.2475502647938623, 0.33375893524729716, 1.2199738755801948, -2.166303956218787], [-0.8398683904257833, -1.4512095958783764, 0.7295907914590272, 0.25222574738699066, 4.0393934962246085, -2.5216860161277563, -0.7383105165268036, -0.21090489587251504, -2.2877397987225563, 2.293595053513772], [-0.11376938148776516, 1.0497626719246675, -0.15138857481681, -0.2737310487868001, -2.1141839307076373, -0.39983674038873973, -1.086427483503321, 5.379212839908128, -1.1843196508192677, 0.11972659479942482], [-1.5602231949409409, -0.6006026457845322, 0.5581267446844168, 2.6209394967396284, 0.12707030327147883, -0.26826385629871474, 1.6197565795858229, -1.2476540366891298, -2.5018508043551355, 7.43132032012672], [0.9030596234814011, -0.4395487765842565, -0.0028351810133098176, -0.6704529423163428, 0.192115971855908, -0.6662974341593374, 3.8695842294091913, -0.7190951702917627, -0.40666061194142733, -2.809611490890066], [3.4041467659678752, -1.482297429189629, 0.16077021538541603, -2.545796040427385, -0.8864683361130767, 1.1924290181092658, -0.27314021133296507, -2.29469036196968, 0.9394025433357974, 0.7581067695871093], [-1.0390212842222057, -1.942412474901839, -0.5264049151381314, -0.21471248286064037, -0.2147950377893677, -3.0054276965524984, 0.674364945647087, 1.2486613365645935, -0.5368397535697271, 5.335483869759209], [0.6691876338426188, 1.5649146506960119, 0.1291207648549808, 0.09216599073114606, 1.6331152534102618, -2.186155474601957, -0.6404091158736989, -2.5589617860626452, -0.253150027612149, 6.448407281016722], [0.08888829629034684, 0.42316375918195104, -3.0285844817212197, 1.540395946183815, -1.3814173769812421, -3.030649764669835, -0.8371935370831416, -0.6999457881065844, 4.838843830547434, 1.9772824311932218], [0.15417253569197564, 0.8733735409318157, 0.9885030393093082, -2.9647144413925166, -1.4500096966631397, -1.5959325128919655, -1.2398271573151096, 3.437405242013802, 1.3178082495661643, 0.14014529010217647], [-0.021745704752274442, -0.0616292569089798, 0.55298561375412, 0.1168045936733817, -1.089009439612985, -0.3949594490217727, -1.981048714222586, 4.844242559091526, -0.8657944100926498, 2.000659666124964], [-1.2342172865686014, -2.625906792893396, -0.19816906455633765, -0.8307853534098353, -1.9994579187647783, -1.6208985158416933, 1.4566465240859756, 1.8852088460002703, -0.9021769170480882, 6.903571282244814], [-0.19755835136780592, -0.8889289279804844, -1.933059071721552, -0.26599236468079157, -1.2988009094928672, 0.23516144184215726, -0.7162547779948734, -0.6007949824424718, 4.075645793811452, 1.0576218502575543], [-0.28001619129690436, 1.1695272948294373, -0.29315009701587, -2.2344576752950998, -0.8994921790330159, 1.371187987727318, 3.156119236218697, -3.2125404766214105, 1.427953767703011, -4.445992250913016], [-1.3716126755260736, -1.9418835278759272, 0.12492398907073543, -0.6193207443070508, -1.276524204319656, -1.1548567505641856, 0.7221222664823022, 1.9329169806433617, -0.8812773153071594, 5.905658484235564], [-0.26965440130517204, -0.6326609974345713, -1.6521158308698733, -0.1952159037586203, 1.0706911634040823, 7.110940614869453, -1.666723593990223, -0.9793560825890202, -1.7623091999378069, -1.318255343201818], [0.5503631100531718, -1.6983138351090594, 3.9797203019502483, -0.5336798696099515, -2.6641731123510706, 0.19249074382301945, 1.096290203440451, 0.24466864802686317, 0.6414704808952174, -7.3211093825072355], [-1.917982280957569, -0.5025385970971996, 3.8408356304879216, -1.2466040434764278, -2.507432525778741, 0.25216035685362836, 0.14811434687725344, -2.9742101813267015, -0.6121489804308315, 4.328428758165716], [0.14784145760904988, -1.4814971061862883, 2.4479309788748242, 0.45733531346604517, -4.250886194463925, -1.3488556023741456, 1.5246786669869066, -0.6018091148204499, 0.6410426569597392, -5.646805473224678], [-0.6211086493468017, -1.1285861850795351, -0.5502066026539482, 2.5991805268281745, 0.09403262633408238, -1.9845971147440373, -0.521777714772002, -1.8056403082712018, 2.7056119794192384, -4.773136800397129], [-0.2507862584086409, -2.243637940364381, -0.6145509257008663, 0.498744077415868, -0.885269945632043, -2.354424907239966, 0.023037952454841415, 2.9446485388576664, -0.8573819973328674, 4.6512913187704985], [0.04461885764397988, 2.6700808301574215, 0.6039692675221686, 0.7860848526054951, 2.0698290446928533, -3.9452406788226337, -1.747492501650062, -5.380512596389343, 3.736144441851076, -0.6002061485777809], [-1.824120423636517, 0.6521500868334573, -1.206262440306062, -1.1048601257714485, -0.3034945373232354, -4.437050616023241, 1.010765996879265, 0.018744279460547464, 1.991114249433409, 5.562156760683501], [1.0278964368664933, -1.2193115134736525, 0.8050692367203243, -0.8384837421977052, -1.676681855598287, 0.7464058304187744, 0.5159673295536104, -2.461054080639042, 2.960379581587605, -0.8495050873091059], [-0.03272705827535982, -0.6654122068680103, -1.0288081209869262, 1.502571870324702, -2.00538963378247, -1.7287219305963746, 5.015160275303086, -1.3596500360806334, -1.7316276061921512, 0.07315061102537523], [-0.558206043684641, -1.25582423502807, 0.5206188522488022, -0.12489732398192932, 6.204958205889172, 0.11264035430195973, -1.2463525040163514, 1.4116224257825085, -1.397315722923867, 0.1991359822684846], [-0.7820520322451083, -0.13189494943362923, -1.793872657154876, -0.40946036434641875, 5.82691503978938, 0.9435866322565136, -0.26384352934453825, -0.25595129376108194, -1.013737633197049, 0.9941005827080449], [1.9731879090405733, -1.9808319314811547, -0.1388222429848378, -2.442396649502384, 3.941331817552096, 2.0525098080611275, -1.309001750900858, -0.034472812019462395, -0.8253447524355599, -0.7856417643054838], [-1.2433020933106116, -0.8384724768112698, -2.2925953080901493, -0.7335208738465717, 4.633492072433935, 0.2956752864496295, 0.5126013282606521, 1.3342574798613511, -0.013635374690532553, 0.5704394725635513], [0.607071547643774, -1.0996718488063468, 2.299839236150537, 1.32845681882865, -1.3591375888094448, -0.20315976701794658, 0.46347201605123356, 0.9740997773309079, -1.459201665539827, -1.8790276539593402], [-0.9614788003669351, -0.151938405444195, -0.6115915161058616, -1.0785627082558293, 4.65661215755368, -0.9063574358980437, -0.4534141604878936, 0.7904670736459372, -0.7280980465679275, 2.3878508099386693], [-0.5847529166974792, -0.5069991814475201, -1.7255973162823355, 1.751291689629398, 1.7690721691062326, 0.2492898635056866, 3.776577017610397, -1.597590565787164, -0.6441742896027964, -3.780363756962408], [3.4016906545110057, -0.40056869446234966, -0.5530970670976578, -0.27869008510262927, -0.7798244184525291, -0.8961867427632668, -0.3502534592189144, -1.8838175468834386, 0.807618893443473, 1.7530493298160341], [0.8729304346395717, -1.6338497140543187, 0.4277293544123255, -0.11082337267931264, -1.460646448721322, 0.405943716717847, -1.831351383003037, 6.022101769269586, -1.9336300078860855, -2.186868444141332], [3.369088195244863, 0.38603296209924953, -0.8558501630445055, 0.30533772766293854, 0.6249625240502708, -1.9854954637136812, -0.04958455351290425, -0.4026828077056688, -2.1005378543060296, 2.4880057777367894], [-1.0722143027193374, 0.15474771577171298, -0.5672676219829054, 0.18980608342233818, 1.3863471757832913, -1.913892269870036, -0.8712564439018247, 1.9778643578361814, 3.161150150632637, -5.421449272152865], [-0.504518086700903, 0.6881164376245832, -0.8363976990994038, 0.578174535144645, -2.931191248011819, 2.300528913563647, -0.8002047006204447, -0.015555126114063844, 4.695598805996288, -0.7697885788229974], [-1.0075382020672619, 1.9438077324497591, 0.7345971822973545, 2.7959614738646112, -0.36872674720063936, -2.471328762561102, 0.25777627137775494, -2.0422063212609887, -0.908381309682297, -1.678218992584369], [3.927663676973132, 0.24374571380962107, -0.8311432958126526, -0.4763103409185936, -0.8385749586567908, -1.0279067945288696, -0.6673653772160666, -1.3486961385207386, -0.3515039544478853, 0.43369642935765285], [0.9418944780462156, -0.7752427953910492, -1.8015652695031028, 0.9154479507929816, -1.501068840272001, 4.48699725407033, -1.7250570035118444, -3.434288108365505, 4.993201198279597, 2.7971011584049474], [-0.318873007765924, -0.7653535945011667, -0.6110345324178671, -1.6594830272884817, -2.227582135799536, 1.3689882147555732, -0.6268589165283287, -0.5232738208783254, 4.561174078561493, 2.049732478585539], [-1.0340348435230449, 0.5487383458906461, 1.613378786244177, 4.340955551905815, 1.3328012152018083, -2.7547831221310677, 0.5630167115479021, -3.995385158334319, -0.9677094613384818, 4.637855162188922], [-0.4908831869713106, 0.5922401173442617, -0.6468755506052668, 0.45185995699832926, -1.3059228656609376, -1.4318371661530125, 5.576654192426728, -1.6232604395928956, -1.9415238565212773, -1.5403041880160284], [0.35609781746967184, -0.7875902820547079, 0.1393547868062882, -0.3168403843005838, -3.210168981203287, 1.1002729361947376, -0.18312802949094342, -0.475466165333696, 5.777029902674364, -2.9593216281292625], [-1.2407886417058394, 0.09877090026553392, -1.4550496213098576, 1.0631679903141658, -0.9224945762500258, -0.2584677890352327, 4.882153142301899, -1.513461182356113, -1.5872118167634959, -0.4929529599169502], [-0.3451628924350537, 0.3590430862034564, 0.2869863990683621, -0.4454194749460343, 1.6305051368704107, -1.533728595612014, 3.9547349637219913, 0.4801723944979064, -1.2016654666190036, 0.35145101345596874], [-0.3655018295004223, -0.9891082243467684, -0.23691515230823734, 0.24672247790947033, -1.0933022157208097, -0.2325684695324064, -1.1796633411832131, -1.7662206326050236, 5.500535524882107, -0.6885995035883774], [-0.1033408343003086, 0.8488254628141059, -1.0869854093975535, -2.531818725665991, 1.0457296902385735, 5.363681358063791, 0.4223093254396839, -2.4657281959085, 0.8575880493791141, -2.3264083684874826], [0.11360250403677608, -0.04153776886678706, -0.42319766961303884, 0.14771620397903185, 0.619782443028766, 8.271881168100906, -2.077179057495281, -1.0921557530959647, 0.6371771183434302, -2.249267632539838], [-1.280274156264677, 3.0624279603902806, 1.5327883051847604, -1.4493335763715245, -0.038643680570809025, 2.814741366753071, -0.4781645486432822, 1.0065120279103419, -1.5878718135438847, -1.9481364845495102], [-0.8003838490787754, 3.764398032193154, -0.4054418223313393, -0.9765434937443105, -0.34483265115432893, 1.9511896323452302, -0.4121191424222497, -0.9006178326961773, -0.19112019752987752, -2.9159905695854325], [-0.19818739593564505, -1.2587899540557423, 0.3726488386493436, 1.0545641445986351, -1.8214067552994835, 1.1537006909919252, 0.5433353491475352, -0.708717206428294, 2.1312718108097166, 0.1668990291653465], [0.4764643286126653, 0.028529176420396984, 1.531710394717197, -0.00455262987718541, -2.504069321382989, 0.04163925866424156, -1.8777917028118096, 4.70274129616609, -1.9702205396844779, 0.5152402001464793], [-1.0717505832909024, -1.2406066974541319, -1.7932062154221104, -0.6331817982303662, 0.6156977826109831, 1.8502798791755133, 0.9137053031370281, -1.6725345874377515, 5.49476024749444, -3.4835997558113734], [-0.5715310090283197, -0.22847051695205156, -1.77661318569213, 3.5917291848158763, 0.2591523919024403, -1.7425862921945328, -1.877604110133178, -1.9986217230302574, 0.7124019571474882, -1.3385357900442103], [-0.10202086316159686, -0.011890162355611578, -0.7079310543825468, 1.861116072858097, 0.633552389945855, -4.194861868182112, 1.801061979508461, -2.349212262240941, 0.29569693266890085, 0.4134032128151244], [-0.7864081456343508, -0.6881538513555816, -1.7757537580526102, -0.1645266640628037, 2.221844570273581, -1.4644033516669257, -1.027351240258489, -0.8035037095243172, 5.821518778015272, 2.0511317641435696], [-2.2785328819867967, -0.41968262243022236, -1.1049225215221905, -0.17538484201159377, -1.091906012808319, -1.3622026734404429, 0.732054365177945, 0.07854604063588866, 1.0474823882674769, 7.997430873792061], [0.48330273773437205, 0.9345165967929618, -2.609289288957967, -1.8448289345025937, 1.9411945336185203, 6.6693061955714015, -1.2477864067259863, -3.5685845555213342, 0.13299594213966137, 0.8108674513496741], [3.172404062190619, 0.6211048858800093, 0.4605631303093338, -0.7581346168245204, -1.3425540772747764, 0.6653504563718434, 0.18078414080461735, 2.139282634219228, -1.667136142080244, 0.2718726099242783], [4.42946225256011, -1.001326231721798, -0.6347388127361617, -1.6003089554764123, -1.75331314577892, 1.6165277950263208, -0.328840843826701, 0.9169876008864226, 0.21650234965574944, 0.7966018000309036], [2.6105218890047475, 1.1663365721371899, -0.13948263476280953, -1.2314173842741258, -0.28574506818369494, 1.662991206444123, 0.5108148588858152, -0.23994728064927862, -0.25505478266540815, -2.4191330063971876], [-0.5670428752075662, -0.3589142945921393, -1.376292578670291, 3.360217122092859, -0.736889568978039, -0.26366808688082044, -0.6463522643922273, -1.8914688010383296, 1.2455954489129475, 0.5650432109402193], [-0.21975300898600758, -0.7371720063741876, 1.3850186111734357, 2.349682869789404, 0.02787734243864559, -2.2919225223341155, -0.09974797348585901, -0.6464306120756815, 0.3213238216274168, -2.0756178992535337], [0.4548292530644673, -0.7790048181574685, -0.9702341859965133, -0.46015836805292354, -0.9778494223268999, -0.3018229556787675, 5.138671862181746, -3.6178005789328567, -2.131365474700589, 0.2507265450666796], [-1.3724079328611656, -1.7295420991437918, -0.025924357026793188, 1.9226009618928808, -0.15264014439040752, -2.5198466859758133, 3.8916936012838637, 0.523557447758531, 0.4003228377312926, -5.7173854526099035], [1.0342187945997376, -1.069124314321322, 1.5415832010199795, -0.7086624039508198, -2.393037594238158, -2.744769230174168, -1.140862537078618, 5.702088173593239, -1.3886694303373315, 1.098728186632135], [-2.2812494718292875, 0.41826061329084463, -1.9558272924034728, 0.4022543461042615, -3.131027708856054, 0.5612867723594093, -0.29632292739105315, -0.7059219379538142, 4.333615478555735, 3.9306586927888363], [-0.3075813277635806, -1.1271210813414236, -0.05647833545158565, 3.6056442819842385, -0.6451331082677007, -2.830359655158997, -0.927621324712578, -1.7033172673849142, 1.7903631901339956, -0.6772147643774786], [0.13360684117607036, -0.3325108697632171, 1.0354428133107634, 0.31893349519542635, -1.0254821245084909, 3.4601918463939874, -3.487536105753403, 5.563962416158859, -0.9383890157834763, -3.175721810290468], [-0.30906856031294594, 4.634926878932758, -0.5662552609231116, -1.2291792825396703, -0.7871355646512823, -0.17426160556962156, -0.004120386303278156, 0.6976855970582054, -1.0232512425211941, -4.165528732113579], [-1.8760963805482849, -0.4955223353934026, -2.6153828741716847, 0.29494717458286224, 4.128878378093815, 0.09646503002767681, 0.643746156821023, 2.090521085780691, 1.3960571598789413, -3.349859941305124], [-1.5513962535442931, -0.7080573399451122, -0.9121101733947405, 4.723323712798585, 0.7622254938857713, -1.450804804377407, -1.616391560030027, -2.0694676652083417, 0.13157189255986523, -1.6602212659579374], [0.4988146159014728, -0.28007277225513727, -1.7943566713084746, -0.06827175101714666, 0.49892294182244046, 5.569521162786009, -0.7444843155061549, -0.6046553761066367, 0.7023187681417864, -2.1760229557811774], [-0.8314765382811707, -0.8888357536492351, -0.8883924761740044, 0.5500813346221234, -1.141440940561142, -1.2888320403468911, -0.4467262710908797, 1.9020145248173952, -0.044887736182456006, 7.735599415363184], [-0.5242717755449049, 0.26131170611225496, -0.4495411294758114, 1.4140847394337412, 2.4878390185361887, -0.13747729781812756, 0.20650138529955164, -1.232697306927304, -1.1471143454068176, 2.7887385277408776], [0.16361236392891243, 0.5227082790592661, -0.8840817276102213, -1.5900904437777632, 2.626165611910589, 7.171763094138779, -2.7489917108542654, -1.1640486743758829, 1.8453825198138787, -2.4411144871587465], [-0.85064150197635, -0.1890934356439007, 6.999958623287741, 2.204228578560685, 0.7048583322912201, 1.6076231682875575, -1.4875680799620477, -5.168313543341349, -5.081247425383105, -0.8494002321130703], [-1.1369869386271472, 3.743921265624886, 0.8682398930788722, -1.334138016469931, 0.38352816162586123, 0.1756891439993451, 0.6828677994988184, 1.2635531967935805, -1.077652879804753, -2.2778849259443956], [-0.3461138043012433, 2.947836149886821, -0.23417355762326109, 1.2179456340398966, -2.3825092066544737, -0.7381756451567845, -0.9890975876066879, 1.5158281023596132, 0.04597430651925016, 0.8079522577709515], [-0.44310798562583087, 1.7003057764694254, -3.01949828089721, -0.09638204881000645, 4.033488643549435, 3.658000739989121, -2.035358701467047, -1.98614624819399, -0.2565094343721097, 2.073197645130696], [-0.8572315233891786, -0.33311588881482357, -3.672110440646039, 0.4614450977774358, 3.528230412109064, -0.7814906102546268, 1.1514037147007734, 3.398307718590724, 0.13198042667372845, 1.1068049139311218], [3.2786989122707535, -0.4899714784014759, -1.1460121153138834, -1.059912653121791, 0.39884698248262973, -0.14496703200395578, -0.5859019613628225, -1.6946545077820698, 0.8497506558999368, -0.9298854796372038], [0.4574066237968943, -0.8304917924174686, -2.158986317965753, 1.2033633998182012, 1.0823687334680439, -1.5543158005249502, -1.6470807083094463, -1.0348122591786857, 1.5304099415942627, 2.4957983905772476], [0.8790348244143791, -1.6376953955031364, -0.08883722870860533, -1.9159884220252184, 0.13041140745623903, 1.2922005993369332, -2.353057532027747, 5.253725334677686, -1.922908503335536, -1.2739550612631554], [0.3809655318803893, 3.833607641265824, -0.3127005359899968, -1.4422788563072426, 0.6876063133669419, -0.9413602779948321, -0.5765679264355017, -0.1786101157702995, -1.4489041211846223, -2.222325757393418], [-0.4743692143852334, 1.6388350265738094, 4.928771300784867, -2.3802067304893955, -0.45032363690267063, -2.406009397107563, 0.12621430380701448, 0.38285972591464823, -0.48715738627968386, -4.060147344613901], [-0.5165306474148483, -1.394263955568886, -2.530206483500257, -1.376236066490795, 0.35418083335029404, 5.8393162048807925, 0.9443031584672047, -2.3771308784402945, 1.2098408530129965, -3.0073258998763555], [-0.1613597416133875, 0.47346618679054664, 0.9695827708903888, 0.17001792689287898, -2.5489551132395603, 0.31877855287008394, -1.6585863698888583, 4.993941629849484, -1.572032550875339, 0.6739313611009319], [-2.4409325800183064, 1.40293318599939, -2.271295718703451, 1.1093424794314062, 0.05246243727000821, 0.02650984685409874, -0.9400590307961536, -1.7712355336561725, 3.100660886140611, 1.274940139332351], [-1.9266980297695302, -0.5695896965738012, -1.798980103881889, -0.6746225017159889, 6.0163930527326315, 0.6854532585477346, 0.4374711882165956, -1.373490142886109, -2.03500518351935, 1.6540164312686274], [3.438140894157513, -0.9863892694134153, 1.578939601899056, -2.1410957462608566, -3.5074662326998522, -0.7572754301871549, -0.4025442341960459, -2.709177576044815, 1.0640112147081364, 2.800865908472862], [-1.073279381097099, -1.7561112504476433, 1.6608743597883815, 2.0380557883990953, -3.33241024986751, 2.7908158096635103, -1.128983562191988, -2.3820949178009787, 0.6869693271409836, -1.6188208693670427], [0.36948470205796213, 0.5943762411151006, -1.0615504609814401, -0.2798397926955585, 0.5295777135207989, -2.1443413446185478, 5.373764228552332, -0.32833366995815894, -0.4476025266926914, -2.289331808778167], [-0.5114598833385231, 3.7119828900500726, -0.0389081287126849, -0.9865319250292164, 0.1564216918590855, 0.889056131290408, -1.1329850596609632, 0.10327475488045712, -1.9769854514756946, -1.6573594051757468], [-0.0064877381552692626, 0.3721560433198816, -0.4152978142662198, -1.9708872225646146, -0.9905027864826144, 0.1739854081169101, -1.9368532389806976, 2.078200314561727, 0.2998984110404619, 1.349081259347118], [1.1360783987533365, -0.7315204977073055, -0.642232545163409, -0.8630242750273691, -1.5138757578394375, -3.4843661684496663, -1.4396753149585755, 6.801705749239964, -0.8659710139204073, -1.4868250497637434], [-0.2821923549293728, 0.33123669473834294, -0.9091606977216998, 0.21288837362148882, -2.4742755333078854, 5.921972752094591, -1.8645439302448354, -0.026033468408666494, 2.251523112795277, -1.3578205176696545], [-0.0038518848328976674, -0.12224260808776655, -1.0874441972852822, -0.8295145748490063, -2.2259783250972234, 0.017551535801147544, 4.530089051549935, -2.935102881386452, -1.2197179081620382, -1.5472019849864318], [-1.4521412488215564, -0.8818114422973135, 1.0117597867967478, 2.7583176699431484, -2.8916314380947337, 0.832583489484199, 0.1740846717117117, 2.6394154295378502, 0.8848261871488825, -0.9584588137404983], [4.1006820087281906, 0.4478321380634802, -0.9162721153891757, 0.24715453344896265, -1.147956494360285, 0.009832337744221098, -1.2054409353254711, -1.7507825580860414, -0.16307901390798352, 0.9775155152835255], [-0.49474678158231544, 3.7557508127495853, -0.554838713217134, 0.12650033585744502, 0.2539579491198385, -0.20604083521509953, -0.8678602066181149, 0.3910955057952106, -0.7064860091074558, -1.2234382998373308], [0.1936055831535537, 1.7107020641261832, 0.3560098884766878, 0.2758122777069869, -2.181399454872164, 0.33159215896346317, -1.2823193709271585, 0.5551935694826176, 1.8252021938633667, -2.740579487012667], [0.3544335550534746, -1.191058064610392, -1.0048947982281278, 0.2094636272102699, 4.601516209643028, -0.9038163811189879, -1.3339662762031819, -2.5283946300780986, 0.9590094121123962, -1.1298344000705765], [-1.7150695660634405, -0.41625420056107076, 5.396025925024542, 0.6724072469464593, 0.42282764850366306, -1.255646563339302, -2.124696460298238, -0.6987492825174169, -0.4151055300111133, -0.9867445221740063], [0.2760557057358346, 1.764552751362559, -0.1796235033177782, 0.8159817422509956, 3.949338422132268, -0.27664085027712737, -1.8226378437874151, -2.5710049296045763, 2.807393436658451, 1.5918025340761233], [-1.583796192765948, -1.5013422806102374, 0.09745005564931697, 3.553731547093623, -1.9798209337950432, -0.7184233661674515, 0.6051252376211691, -1.0590695562403845, -2.386685697417477, -0.2841942064910903], [-0.868975176698929, -1.76738994861674, 1.1399600434631942, -0.921567086040344, 0.7940011645165015, 0.626922338573217, 2.454990976452932, -2.0336346679598014, 0.861934813493312, -3.8081502658243354], [-2.2070372025357536, -1.1116650570343438, -1.0265137496819459, -0.5061942251676841, 6.210304057874891, 1.9484373477586088, -1.1639202669324509, 0.49762133764583805, -0.46962042924719194, -2.45179778910465], [-0.5070157534658546, 0.594063962028732, 0.23477431041878005, -0.6040193861627643, 0.029919401044698368, -0.4667109317744944, -2.123016479266374, 2.4795846668165265, -1.4430241251037121, 0.3947826861472796], [-0.7234775097543036, -0.9290988061085048, -1.6742726450226522, -0.7635814368269074, 0.11229839329890368, 7.834942458621187, 0.2588572093739584, -2.2505637624164376, -2.376800366221297, 0.09316228649535852], [0.21561748174596396, -0.00464121492405184, 1.0040501227535001, -0.13117604318878495, -2.8614000263634862, 0.025717174837518453, -1.8233537567092526, 6.955986095477481, -0.5473248639649029, -2.8339011520953745], [-0.7579374714428682, 0.29062556949364415, 1.3339340490964346, 0.015352206672019975, -1.518538166199192, -1.0246941736979784, 4.722263308349827, -0.6632496565549113, -3.1791139145581604, 2.0524870546689424], [0.18478636599740117, -1.5121223140779703, 0.23045535166478737, -0.21671573868456484, 1.0750872545553758, 1.357935496369211, 0.9001417408207115, -2.9061592506595613, -0.4022633466216883, 2.8503270465883324], [0.9223258392219593, -0.23967546523348088, -2.68352563212167, -1.0302648489000246, 0.9875327556683953, -0.3278388582984926, -2.942646646145803, 4.738678885844296, -2.021174607815456, 1.358828605606858], [-1.889694752196239, 0.14629881461730543, 5.65886603797101, -1.1793902608307514, 0.4878072329444221, 2.12993873670197, 1.0410076368842818, 2.153797978040078, -4.017542498673083, 2.1873095032608907], [0.5327046554232088, -0.9314639242840018, 1.0676255224083107, -0.39720710078405785, -1.5124177957199416, 0.6782126284807117, -0.19163730209299468, -0.38073231427826704, 4.3351206968684615, -1.6009601578194683], [-1.284422813943884, -0.913415820767537, -0.7903804952248752, -0.45787969410777896, 2.4752040404046562, -0.9048570358094292, 0.20667608363052148, 2.209643793297329, 0.47992969858554335, 0.9722645824369907], [-0.8054783924599374, -0.49434369640039266, -1.968204357724324, 1.2374004016788671, -1.6380178112929624, -0.8998879790806775, 0.1911463208569042, 0.8714709830801781, -0.46144297113690635, 6.278838371483946], [-1.686342086656244, 0.3769728596994937, -1.2353752394964717, 0.714137859917344, 0.32232968928833916, 2.6601161149371837, -0.5712460241077646, -4.530813569851964, 5.742810251442156, -2.244704644246444], [2.472004883839862, 0.16166966840545882, -0.0011922868551503818, -1.0259552084098638, -1.5913023133138786, -1.0839338861399423, -0.18028143438960065, -0.43175308609485397, 0.564386217866655, -0.019170694521092102], [0.44143223721239266, 1.0251862664981037, 1.5109157739142631, -0.09015184271603438, -1.8571891247048136, -0.04318158069217537, -0.28438674791022134, 5.426692040979965, -5.665764201642997, -3.3737031456229283], [0.5124063974069681, 2.2532527091935655, -0.7348107438474543, -1.2043767250325041, 1.026150541445538, 0.5372094637842555, -0.5871790053866905, -0.47239163182834787, 2.6943197680236035, -2.9852161146880887], [0.31619259771400077, 4.501602384660147, -0.6711145202682314, -0.6397949551911404, 0.9852960229447576, -1.6195500230130522, -0.13857872598964305, 0.19708147928454167, -0.6972527803580824, -0.6222922378356839], [-1.9975393937603239, 1.4523659355186778, 2.4056856145317136, 0.17642905211465942, -0.9517267670118641, 1.2838427206302074, -1.3610724378449317, 0.4522168088105847, -0.7683068233783219, -5.3507663587455125], [-0.58042934342427, -1.8898218359068877, 0.1007483133744953, 3.4591612415715884, -1.8536756797201588, 0.2520065858713547, -0.06290057994590514, 1.7410516997158956, -0.22281756459347424, 0.3584972051263331], [0.30168241316985167, -0.27601302061643995, -0.8419626731935779, 2.494006394753887, -2.9229459964118893, -0.4251665167209917, -1.725924708676891, 0.8284081667538681, 0.8000250712934482, -1.2655839113628913], [-1.96734942633078, -0.19484120529754112, -0.7968349240505646, 1.311543407521801, -0.5212940751002937, 6.339205896252888, -0.4477458459921584, -1.659157781902877, -0.27054959078699503, 0.07260410377188986], [-0.9490420098331827, 2.9732964702728104, -2.1297852493818787, -0.9002211885684792, 1.4711143231035502, -3.7376081772963397, 0.13895249440591972, -2.725970474595936, 1.7652461935121537, -1.9871117503316071], [0.1630802295406406, 0.3291842974745529, 0.4165178733240502, -1.177250794660135, -1.8266164581879805, -0.20171720878936528, 5.107571909598504, -1.4932155045517117, -2.028317156278925, -0.46882292736346365], [-0.4412476714644167, 0.796066230205069, -2.7714457390010927, -0.45545214526720956, 0.8385288739490979, 2.730573897490964, -0.3153966625931697, -1.8370307337692815, -1.264918726963625, 2.5297382659782808], [2.8253189980449958, -0.5532305358959317, -3.203265089852655, -0.6623941779140847, 0.8345053782423411, -2.0387489398450773, 0.30186139809147683, -0.8045413008395963, 2.258147222027513, 1.118264905838931], [-0.09655836040775334, -0.33077718818684154, -0.3146290741271114, 0.23513789273148689, -2.0586408934813054, -0.15052126313198544, 3.5879931908189553, -0.8501838034472913, 0.10083860780756404, -0.5011575358236491], [-0.1889535051591673, -0.7888025136218514, -0.48148316733053576, 2.2965915480923744, 0.15903961020234636, 0.08158815042452472, -1.4744894126514532, 1.2731385764085728, 0.774726653553377, -0.7047298012599099], [-0.29270739684558755, -0.01307272427337236, -0.1622587008928762, -0.14567534359181278, -1.6386475617098366, 0.6420853156554452, -1.4964357017231116, 3.5773295971460293, -1.2026760302992472, 5.7535550012821375], [-1.100333852644634, 0.3711486786820295, 0.36641056518379217, 2.8828564210365495, 0.74380249964639, 0.04861285909527169, -2.6246943488498324, -3.3242350586225653, -0.07319993817024928, 0.9225542541458557], [1.48892556206519, 0.3528878612530757, 0.7887992319317298, -1.0971436986809149, 1.4749301355528663, -4.349505541291361, -0.07589831447522233, -1.0478177573966359, 3.982852175361616, -2.8366308922952945], [-0.34117559458418567, -0.3449605211680282, 3.4835998872687615, 1.7653115996234605, -2.4392778220485694, -6.993373920810005, 0.9333849014329236, -1.9461318330814583, 1.7640055585416048, -5.508892733244037], [0.020768652608559424, 0.2778066031732176, -0.6144484916580752, -0.31884705176985184, 3.5756033110257817, -3.615557284053775, -0.5746703233888616, -1.9121542266744598, 1.3093328411973888, 2.24852932949087], [3.8866810721554743, 0.9136241113906922, -1.1663162574696269, -0.570575745622659, -1.2966775603043759, 0.9585858035306809, -0.47238853453863316, -1.3407260529238108, -1.3441321556279293, 0.8697357223552586], [3.780077562757653, -1.16649452486531, -0.07613146210170951, -0.4438522175361461, -1.1489708826225744, 1.9352587286789462, -1.5354218124002963, -0.40923034901166666, -1.324570699574668, 0.6469029678222724], [1.1073517474646302, -1.6614608855902029, -1.0345978519675496, -0.11445016262085206, -0.29638809330811355, -1.9553625834875, -0.0961016048749026, 1.6133575759851575, 0.5570889159547683, 4.304781876695649], [0.07797856112303148, 3.101770507361727, 0.8770982344273398, -0.680122651297369, -2.4793333498615926, 0.40003882179761585, -2.1688626115802947, -0.5317038123218507, 0.94220076993155, -3.154073329476855], [0.08140957353633693, -0.6807335815025981, 2.747562529456668, 0.14389152758833745, -0.359392475486918, -1.8077232100874951, -1.66470209359909, -2.3546295974928095, 0.523934472098602, 1.1353422680272676], [-1.6725213475625749, 0.3368814829739142, 3.921854997772528, -1.158121334760121, 0.8613682761307213, 0.12289697881558181, -0.5925073641367866, 2.5937506342322605, -2.742715525562766, 0.34477217329612575], [-1.074827497009757, -0.9253977778822251, 1.724323801585431, -1.3607313142670128, -0.05836054991979278, -1.004411696191883, 0.6502069011568903, -0.04591327580090443, -0.8765908106103, 6.039086163814739], [-0.46933706478531567, -1.1714110728167286, -1.5404964809749249, 4.490806563960524, -2.4159448074679686, -0.7604362442758141, 0.2847441659308898, -1.656306753989429, -2.083604029002159, 0.8502923068040502], [0.034336208004465796, -0.21929596567254095, -0.06646301031365642, -0.06516922871979447, -0.8316573836272971, -2.3507226882115644, -0.4104147708763368, -1.8945701227750988, 1.0819148130120824, 8.246765226164452], [-0.9790307659965092, -0.3880010879121176, -1.643518076056659, 0.8043019405910725, 8.32263003407616, -3.6187367405103683, -0.2923987262303309, -1.4554566141647483, -0.49106166613796853, -1.0022193557804249], [0.22842683593828306, 0.6167986799901652, -1.660840166068016, 0.8086307407760915, 1.343966352684233, -0.8249688705188563, 4.168096838062008, -0.3302774074479622, -1.0510334757850084, -5.848002400395539], [-0.22184730133613684, 0.9643983152748945, -0.10420946702167289, -0.8817926516539538, 0.2520956586089662, 7.714766534557004, -1.1152778217682084, -3.971510836475633, -1.121691245066677, -1.540538245982705], [0.013789022686924723, 1.3870285224551493, -0.39920245054043635, -0.11307770656770644, -3.417041321044672, 1.576211658483507, 0.8938829463739035, 1.3678145816003338, -0.8362380612641382, -2.766512190595524], [1.5817444678337784, 0.7501956561120835, 1.5665927755500408, -2.1126177959022074, 1.4372502557804463, 0.5627969642256692, 3.2240329289036733, -1.000922110812565, -1.0707961968103183, -2.0658031521083906], [-0.7005934813075134, 0.7534165292272192, -1.399235808704136, -1.4116177467944824, -1.9280164027490172, 0.06783704726070505, 4.560577777060322, -1.4780231806662132, -0.22727459051613963, -2.214058475111595], [0.08916748441994493, -0.14749240062492253, -0.19677235603888232, 0.05732737876714289, -0.9694274359482988, -2.4953148460289984, -1.5959606423345485, 6.006350809275435, 0.8070321100168927, -2.098496910917026], [-1.4031353247898555, 0.12309148088987021, 0.2679859505570139, -0.8388753758475374, 0.7220894728044938, -2.6468263681468787, 5.066703760260861, -2.5364570271677396, 0.39954179004318924, -2.9990646003341057], [0.6381755858890081, -1.399882213472556, -0.5392880453148706, -0.8012542494815684, -0.666999537070116, 0.8332439109147698, -1.1098859135569161, -1.2599542020491592, 4.5362111454664715, -0.15821138534656298], [-1.7667414795905056, -1.1465605028405288, 6.374042583186562, -1.7002161173043973, -0.36246438094873934, -3.1440950609621074, -0.9864295063044657, -0.5198159278280494, 0.2909855265983583, -4.13013924568717], [-1.1209163027996922, -1.4023581487124837, -0.43043068786901806, -0.6492948704295749, -0.22473340267086128, 1.6741574775843988, -0.4554645284283223, 2.1270774170548608, 0.06064754109711745, 5.414280844938422], [-0.6521010100021658, -1.7660465010161608, 2.4108162519726033, 2.530669625778928, 0.4733166845048381, -5.294684350403444, 0.33969889422240995, -2.8111236530042207, -0.9415750178116613, -0.8828208945964158], [3.6278240238475052, 0.36645625393488934, 0.6796767585227204, -0.15047331988792134, -2.111064904980271, -1.0756043679495548, -0.0710566064431486, -1.7824369373799063, -1.0946560438993314, 1.7389300129792464], [-0.6152584838475232, -1.2735636402666133, -0.7981115247703084, -1.5589857284164035, -0.15189835647453487, 0.19880783715674877, 4.094114434213571, -0.7274890536177976, -0.7996596421304227, -2.4958384623490257], [0.5047719469854224, 1.0705465105769219, -0.832761795913149, -2.2721037921747937, -0.522989743371089, 1.1545702938997622, -2.1624840358208473, 3.482767895769857, 0.6351708274114081, -1.210283144872574], [-1.1570536060595957, -2.131800980575159, 3.0087593447822707, 0.2301365926612149, -1.7668304826387375, -1.6962303434792396, -0.6624677836264974, -1.2167220942723043, 1.0283909733912573, -7.464183147146051], [-0.16891465952635665, -0.07589662634999972, 0.5397857490420144, -2.2684624796119564, 0.4446798913926995, -0.10456711163889687, -0.9675151520173848, -1.2377740883286645, 2.9615034391617727, 2.8632429266621995], [-0.5900484382551596, 0.775955249819496, -1.2280736330597044, -1.451696176274409, -2.271149349428042, 0.9977905124924922, 4.281413572510119, -3.6395049632106193, 0.8285225543263207, -2.4560094359006834], [0.07870166169683213, -1.1876755234234246, -1.0170641386479156, -0.7916208357135606, -1.3179904867208674, -1.6414981018113017, -0.5230787416641856, 0.2967922029641117, -1.4324330583347855, 4.875049106717926], [1.1033446259574777, -0.5763364042257929, 0.32835952000980684, -1.397689986931177, 0.8331908702353079, -0.059216024500615916, -0.02619668945896314, 0.31555316965055713, 2.0077340081072, 1.2601238144415419], [-0.2695677886570071, 0.11487582934035911, 0.605475870609322, -1.1455601004180282, -0.8556539639238459, 0.383232916250249, -1.978482161781626, 1.978397807629751, -0.4827711695488892, 2.600302972636855], [-0.34291262424703595, 0.48111722728705963, -1.6038750342543886, -1.9819468163877347, -1.7416038632672812, 1.9038505424086356, 2.6480954664968746, -1.665750993117348, 1.014301999883031, -3.8930372849325323], [3.348973678939179, -0.25800814409404005, 0.3696260935634117, -0.26276551030014184, -1.155725964706603, 0.5066087891484997, -0.28980230908800975, -0.649265961640368, -1.520407036310972, -0.5459605841680362], [-1.2173058609230198, 0.6983571025934885, 0.0604887122234532, 2.4571334680242134, -3.787998776789962, 1.1091349274571791, 0.019952136798394804, 1.4036192183947938, -2.346893414269265, 7.250775280658737], [-0.0045465564482563, 2.884519981994777, 0.7668545185691689, -0.44456601188486033, -1.2773235529644718, -0.212069444880143, -0.3916712097429915, -0.1690902991383234, 1.1182247543466444, -2.598483630149688], [0.07512302196985399, 4.070163078316755, -0.11808782704898668, -1.1003203543851925, -1.304407245917833, 0.1508730324421308, -0.15661773206636065, -0.123323051602791, -0.5042887424399902, -1.0478664130369406], [-1.4249768673031438, -0.14641723812729723, -1.3854615454667063, -1.3173033743888494, 5.904489398503184, -0.5916686809360316, -0.2115621576165756, 0.6562547634185756, 2.5814787303496955, -1.0822987901835872], [-0.48128920943669007, 1.5033516984586786, -0.9756009048368438, 1.8162165303475084, -2.1487127543138858, -4.629754041614827, -0.3023990293710068, -0.5333469805356046, -0.0028804425254995714, 7.14074423783155], [-0.7491735001313233, -0.04913820797310908, -0.953478679020006, 1.0588937507089229, -0.2923667887853658, 5.502974512524143, 0.022665289187883353, -2.4666838315425137, -0.6889526437327989, 3.694255154370368], [-0.8279573870986141, -0.8149663524898245, -1.0411908624154824, -0.6216589410307707, -2.0164906994530134, 1.1293114553965595, 1.6981893017118481, -2.1533972227764115, 4.127116169025438, -0.2914645301454337], [0.25007031431362825, 3.9964784922569088, -0.976444433058054, -0.6997290657938728, 0.49874650431352285, -0.7217662661362114, 0.19420030430212654, 0.16643828521317072, 1.005904381957615, -3.1276395596477595], [1.6478732082602379, -0.2110302765554639, 0.2107410745786834, -1.1325394092459953, -4.252390659362301, 2.6335143389019664, 0.9259368847095267, -0.9995484819696632, -0.4159973167895532, 1.7399098512392421], [1.0122944237270637, 0.3326284071055139, 1.3930965422477963, -1.3321366146639808, 0.05486716849579576, -0.5677745981124381, 3.8684294227143683, -1.042099896074503, -0.9261192368572344, -2.9728370932361394], [-1.334650207403941, 0.5241348496278326, 1.2287306130506839, -1.672395796792016, 0.4532154804765969, 2.23354874147394, 6.62562093602644, -2.448709613870399, -3.4385798351898096, -4.2542344944579416], [-0.7179424482260315, 0.7091933403633537, 0.23798219751805894, -0.037290271388686236, -1.89409736903165, 0.4084070267245119, -0.6591707334309262, 6.304203351459266, -0.19077168434866643, -1.6094905841010871], [-1.0096846222815337, -1.0201546816919214, 0.8852945310818661, -0.8227796942238506, -2.272588368541453, 0.30231348239342815, -0.27478800607491416, -0.6296033322044696, 2.2335113824180994, 0.6333077012381874], [0.11246502036843786, 0.07728601081127517, 0.3676377530912571, 4.933063701452236, -2.7759307985973063, 1.2555561441488723, -0.9383243751905757, 0.15277520925660437, -1.376379895754033, 3.3443043066894615], [-0.7085174171779962, -2.104786384767011, -1.571284983872519, -0.9029096814264407, 6.226817540835435, -0.9155136671105328, -0.5888544327680938, 0.934270202841399, 0.5056802767820558, -0.28314544618205684], [-2.230583149544472, -1.649757118096954, 8.451656495812992, -0.43873043658794864, 1.6519498306132254, -2.8433458894940404, 0.09238894005311327, -5.119883889690218, -0.26857111303150916, -0.1522420124361621], [-0.3658834106545026, -0.6344021498626597, -2.5366149199284456, 3.018669852948113, -1.7896323490371389, -0.49690620977138433, -1.070946694914961, 0.3986268275884792, 0.4351747204229943, -2.8491416757438417], [0.20343224938290305, -0.8028678985301634, -0.843891098801953, -1.0332684487268649, -1.2631990560584985, -0.8502817459481771, -1.6079274039021092, 1.135842233633935, 0.14053741057705516, 2.707546065635408], [3.8889482632315144, 1.7992299968968175, 0.8282735923306035, 0.6129440787176266, -1.3475747233454678, -1.7329023562696566, -0.5464689828404088, -1.357621012114369, -3.3858529839934546, 0.3180816848917827], [2.8696300955777203, 0.022925294228952287, -0.7648733193888952, -0.05573644525732835, -1.605038464681427, -1.5021598165232732, 0.6144678593522204, -0.12926244063152348, -0.4712349779679985, -0.1443278133604391], [-0.23158502750506083, -1.0099950380227867, -0.5604495467221842, 0.1575880761226578, 1.41036914344161, -1.9086470221175427, -1.4229798076026223, 0.6311314340326619, -0.10601861950788427, 1.9834739991562556], [0.718924807339862, -0.30199053500366885, 1.2618852708382906, -0.6458898083817655, -1.8259294051769812, 6.511778849243265, -0.6164704995591324, -0.41182624250932376, 0.33147086839135564, -4.288146129461508], [1.5119860937546479, -0.3799454375265978, 0.42882761864432517, 0.6597324978837897, -3.3909673626266343, 2.928533831875935, -0.6652784344328015, -3.19901564579655, 0.28810330854486665, 3.73004449070012], [-0.04772639407587165, 3.1030282511420886, -0.14957015566358578, -1.8791090532181727, -0.8100801089090464, -0.11550796536517716, 3.6979618186067866, -2.087546963133016, 0.6017056069516855, -4.622873906445887], [1.0037313612424574, -1.4973617117445415, 1.347643375563543, -0.22649757763738165, 5.045528202713372, -2.6873286973107513, -1.6820124316444334, -1.7496392557472573, -1.5754714847998887, 1.9702816320728944], [-0.6636906456278033, -1.3001526803761385, -2.0970760702593267, -0.5441207270597628, -0.3591748065318924, -2.246116962952269, -1.3466849671799181, 4.5909101323564805, -0.2109997419350194, 0.21294780886582565], [-1.3564050266887047, -0.9092624732336542, -0.02429985985742289, -1.6560983082379703, 4.160648214466651, 1.2469177820684685, 1.639046125858945, -0.9660347631702826, 0.7869132714188876, 0.8022829750238332], [-0.0742143659847665, -1.4695913180327147, 3.9290648966134865, 0.6867909077016909, -2.1912443476356334, 1.1244197927827528, -0.8521105614190612, 1.2678053485974643, -0.3222123512825058, -3.7512817241436744], [0.028228182788310185, 3.7722592081343427, 0.34151512284593366, -1.1056825203811187, -0.836316080779719, -0.6764426939245398, 0.2609094599909674, -1.3697939966985002, -2.0276970284587437, 0.9615230228025777], [-0.6114765922943355, -0.2617824006085926, -0.5513702379805004, -2.6413217888254215, -0.9199901719038728, 2.6323705690382417, -1.8937960779990763, 0.5891445659452135, 1.0463295206420478, 3.3494335302919116], [0.9053767049544268, -2.440952317063063, 0.853848481473352, 2.4687990811295104, -1.5769318584597762, 1.5969739116223152, -3.1701996341373233, 3.6900061676647025, 0.5793376619460218, -4.76003156179077], [-0.2342882239989521, -0.6687008457140231, -1.8116295074503146, -0.8063745654799888, 1.934831891150922, -3.345548443932447, -0.5757527269724498, 0.3880055934142981, 0.19160999954752733, 4.740022880624917], [0.8940111932696787, 0.6574918079590659, -3.2825281749705124, 1.233058545660847, 2.0692483518873264, -1.1618117361689286, -1.6389227664767847, 1.0772003112606343, -0.8344469344013357, 0.8139575585451544], [0.4465887065828181, -1.7316456616052027, 1.3100158096044163, 3.48819810251004, -2.981230680242822, 1.8514924090979934, -1.29084969174256, 0.5072490162882728, -0.3336221269030115, 2.7111951130759375], [-0.5196320810272308, 3.6870460012596977, -0.19864132187750982, -1.1516401334825508, 0.8206686571253599, -0.9477506045375217, -1.8000658288395994, 1.5834866243836725, -0.752222605720295, -1.7326241505313664], [0.4820513723786162, -1.1684724157052542, 1.2103635659830672, -1.1788385908235073, -0.12749473533221511, 0.585585288763613, -0.3377492228037764, 0.2962209488128593, 3.6612477533504517, -3.267645948422856], [-1.7207897776914247, -0.14725038778724442, -0.3360603606642658, 2.499336391078318, -0.6982564914973832, -1.3327697253778479, -0.4407963472647869, 4.643868497489075, -1.4848167654299889, 0.0728887084271177], [-0.1486139517669116, 3.708928512680001, 0.5100602993419512, -0.42115225560320924, -1.5528811828111238, 0.05096999139407665, -0.3122723862691579, -0.6450814760358499, -0.217486696698024, 0.38319798617792333], [-1.8745990317096806, -2.443046337502653, 1.6847855731645747, 2.0108836476470935, 2.0895671811189196, -0.14245716275136022, 1.5149640263365634, -0.6504999617518799, 1.5698927530409643, -0.8233805262321057], [-3.005985512129831, 2.2009432213014364, 4.606054076330745, -0.2971831064873375, -3.350470526963352, -0.2611089557791004, 1.7801340365278886, -3.198746556113541, -1.3320556720080055, 1.89521525457861], [-0.12068152628904139, 1.2070324863046658, -0.9763420771252291, -1.124772173118381, -0.17955954402975882, -0.5404684556503097, -1.2161545704768133, -0.34493367171660916, 0.6946124155863256, 2.241094475790006], [-0.6354927724436559, -1.074667007664108, -1.3790722417364345, -0.7253716944794346, -0.9450530413191607, -0.8373815998937978, -0.2202587840810617, 0.8405432084753932, -1.0212321794878798, 5.382791456595813], [0.503272132274496, -0.7298488841772299, -1.447868321976002, -0.48008261835351673, 0.09859715401622432, -0.9076849893891561, -0.34985068948605336, -1.4318643279701901, -0.5253824207658093, 4.117716192728463], [-0.3701721095733239, 0.2995776643126564, 0.07849555312521961, -0.6812862163305895, -2.299348134882953, 0.8232730601665994, 4.194621487182955, -1.513884410435072, -0.5049571882571785, -0.5019656908765396], [-0.16103070283750842, -0.5429579039805654, 4.039706398988401, 1.1621501266585195, -1.2639632406705386, -2.634816982918129, -0.8037199512605833, 0.18428159561114876, -1.6484344485920857, -2.696069518391248], [-0.5675254123062325, -0.2566824346950882, -0.3015353631761202, -1.2985732171483997, -0.9054178607832741, 0.3471204339224323, -1.399738010465842, 3.723167596467448, -0.0638210245812767, 0.8130165269946188], [-1.4088915637274657, -1.565417661263179, 6.001933670579078, -1.3463752999691097, 0.1806097578284649, -3.8142820837313964, -0.5278272641415336, 0.011361314790637511, 1.7105329382644492, -3.490065887470344], [0.3715612209182897, -0.7338304418221471, -0.5267624231605066, -1.2070297583036815, -3.407130159318953, 5.269722201004324, 1.0353791562535026, -1.8343783245078793, 0.12009472597457904, -0.610614414731838], [3.324956058041843, -0.6872540679128292, -0.28521171444553806, -1.0987872477133513, 1.322841523657324, 1.3885858566597413, -0.505384854123095, -0.5137422475370126, 1.2324415801588349, -0.03850970270367382], [-1.3748234052392527, 0.552253927788315, 1.1109366493826998, -1.9632986251369429, -0.44169529902796667, -0.9269225206918339, 5.006438715091231, -1.366267718362852, -3.3212060153936678, 3.5573551112066415], [-1.3438244987496293, -0.4510411980433316, -0.44337164596952716, 0.15865847662860277, -1.7600625435267983, -3.0521692221974988, -0.6008736631082257, 6.819083311634893, -0.44211410510005367, -6.490296012443045], [0.4869560988394175, -1.3795521419880987, 2.526819063379163, 1.2294323674157004, -0.8541550154504418, 3.621467854713339, -0.6899802609946748, -2.267023821610427, -0.15472109906383258, 0.5530261459102341], [-1.2677641033956064, -0.24733719721052339, -0.12594111367504546, -0.5988291761165305, -0.6732320115108801, -2.2595070995758215, 0.6121820080802003, -2.389187819481495, 0.7209935321953114, 9.58839275550305], [0.35016106128561697, -0.39455281238657625, 0.6382977330579731, -1.0725877464408629, -0.09152305686322304, 5.893899190345776, -1.384961400310741, -3.448156564666151, 0.708225812657775, 0.48669904938553543], [-0.5641897843005221, -0.11301942295716905, 0.7092992236821747, 1.2527054056270504, 0.16311442781530783, -0.44401940459225564, -0.48175385749024224, -2.34727615546658, 0.9073325821391258, 5.345901069407065], [3.1588387879461464, -1.00123063400223, 0.8981117560869905, 1.1402969774619311, -1.4698945936183065, -5.631539148346297, 0.9086257842149528, -1.4000364768887437, 3.633677245571307, -2.343405919173749], [1.1213643239393467, -0.6642763539800354, 0.8235279552223221, 0.8711339033502146, -0.835054585618547, -0.1172580053799317, -0.3825725039522352, -1.0170023750254513, 2.461495413660667, -1.8191276972158112], [-0.4187981156458518, -0.05587350894964427, -0.16380167948205832, -1.6483290326518587, -0.1790056939532123, 5.237790344506766, -0.5230060355407831, -1.1759594461428287, 0.5861449604956475, -1.9180171276448306], [0.08834140312727568, -0.9007065721456473, 1.041251087805164, -0.6552927335633831, 1.1439149073298924, 0.9363293871329743, -1.6427864372529868, -1.2523789523583622, 3.2333978676524047, -0.786946220383063], [-0.41322189899999606, 0.4012603243019135, -0.9171328759377823, -0.6337276167671364, 6.746864333134987, -3.635704708084601, -0.7386110693073651, -1.5132501537993934, -1.183480212204652, -0.9893459751162061], [-0.0016831063457685147, -0.0607484504284852, -0.5202816928540825, -1.5421303366541976, 0.20425664154706613, 2.3149864972260707, -1.004644096344351, -0.08410241110761607, -1.703767416603288, 4.432505581239708], [3.5921075931257698, 0.05563708490622066, -0.8905712500685548, 0.9592141925043101, -2.143808440618688, 0.27837366249153517, -0.610979415254457, 0.13805783751444622, 0.037481355242706016, -0.13460906422238095], [-0.0527913135541333, 0.7863276524235776, -2.628994126219254, -0.9483539216581414, 1.5370603090593797, 7.949288349612932, -2.0028252610917696, -0.2207849048567927, 1.537350839148735, -4.182689046753733], [0.5242319121963268, -0.7908628756950862, -0.4797463225041681, 4.363111746361698, -3.8185901431443723, -1.3844034289237692, -0.6278713473941959, -1.012621710363863, 0.27117882861337517, 0.6940164270492364], [0.09908163854995977, -0.6125164451498746, 3.17421868800619, 0.5900148291839862, -2.452189637983258, -1.0210607979005983, -0.3988434451454128, 1.4637078068680123, 0.1779262675031279, -4.422249874594334], [-0.3614784746834996, -1.3119777911443098, -0.8004586182857261, -1.7664853154257778, 3.1076760597432376, -0.6823616962898746, -0.9178599165260359, -0.9107372558109894, 0.07558842107031061, 3.5706169836875215], [1.3957036226203252, -2.3359235875700533, 0.8525321334144227, -0.9621613903600887, 0.29154937708490314, 0.01965817000949288, 0.6207041523050236, -1.1097485311979738, 3.5669750448713367, 1.1242565412052503], [-0.31755336499181475, -0.7679644512724408, -1.2813599067981751, -1.4812082441393568, -0.7154772814231771, 0.7740625599023612, -0.23270684418221999, 2.77741596564147, -0.8311784691489108, 1.5627447965958], [-0.8429866279548206, -2.5269747600126222, -2.9922408266915173, -0.8453401033686865, 4.488498597795305, -2.4462179715691597, 1.9265258097700169, 1.539984994928143, 0.09888632108021245, 1.1769528635028372], [-0.29085799211540264, 4.629287993548761, -0.34290313603088385, -1.2801562690669592, -1.4066958747980465, -0.06955880542259751, 0.10437305997859236, -1.8935217357202523, -0.22650824061005181, -2.685833997623422], [-1.4638428592208839, -0.5541639238542958, -2.2348559633595486, 0.6112954173301797, 1.7851106945596937, 6.118516444848956, -0.7605423708393557, -0.8470402466759097, 0.1227412085298849, -1.4321299524593294], [-1.0429506831838036, 0.7241994428779419, -2.5888959330761847, 1.0681752043084924, 7.840323447722745, -1.1160044402223335, -2.0585358220261702, -1.415034750034156, 0.07196196603405003, -1.6847548595521147], [1.640214018205363, 0.7008927558723059, -0.4196562538998725, 0.5215714042276072, 1.0777747446224648, -2.045756269087617, 4.082122625480183, 0.051314585127930634, -0.7971165264347533, -1.9845521789671308], [0.6235887006093084, -1.2655458631504553, -0.7432408377098436, 3.1164799239812537, -2.713306873446769, 1.3647412827458103, 0.998027736649127, -1.0631517651130367, -1.9613066771343814, 3.752505071373926], [1.0593351382870355, 0.13865487776718655, 1.5148300717372438, -2.2120015824717036, -0.8213930668369276, 1.3421049840845072, -2.245307543811725, 2.404050207584432, -3.8949049873493804, 2.0757078670497493], [-1.3427884328507753, -0.2503556802798379, 0.15412475999720643, 0.9498685174025734, -0.6592675200886884, -1.0404479616612425, -0.9092253721499712, 3.4303021001564815, -0.6204310601919603, 2.4614383748572712], [1.6428875686392503, -0.26570482236408144, -0.9746902940369762, 0.7586881838705088, 2.384880596021493, -2.0735611480749094, -2.74389608869914, 0.2633861716294834, 0.8208720216177006, 1.987455890438742], [-0.6174631422376673, 0.8095138373648447, -0.5699846186103217, -0.11361608393482658, -1.1150503221590515, -0.740193201046291, 4.6147371680832325, -1.5281323605511483, -0.5516518905687652, -1.2327896477710336], [-0.11492980893075133, -0.5738894911643753, 0.28695379390121867, 0.2011298876826837, -1.5850728485108458, -0.39941913514779404, 3.786949673054564, -2.0044592381478075, 0.15336821991038763, -1.4334293956373236], [-2.718804331940912, 2.1419574946422673, 3.4039901896102265, 0.25170343132041473, -0.333419235598748, -1.3624190649808847, 0.048804792058505964, -1.0749712956162143, 0.5024253374706986, -0.7272678525064453], [-0.30007637981301016, -1.7824561756051707, 5.964112132496874, -0.5435683525411439, -2.1564655230227183, -2.2300572694300334, 0.08136640726029509, 0.4299973656845091, -2.2750516080235244, -1.7037382788723665], [0.4590684321546419, 2.239006656383338, 0.5490345007322595, 0.7003964746403848, -2.6453531055770085, 0.9808787820142011, -0.7143129233397107, -0.9887879769359532, 2.6278133844768288, -3.3069150933738567], [-0.4141521818725624, 0.2542370787915458, -1.1766285629225908, 1.5362029593350612, -1.2983818769966866, -2.115769823113082, 3.4002383478792924, -0.7341127819990696, 0.09255033037091964, -0.15260260638437728], [-1.2878779949915689, 0.7678147411238575, -1.183119001688611, -0.3566219857311115, 0.08232954058353759, 5.5761014521507395, 0.46432924245601515, -0.838634437788917, -0.06157356159920435, -1.5156980985182575], [-0.9225037414497534, -0.93356014895171, -1.564459764128216, -1.3860670227099112, 2.4016388032206577, -1.44711748923834, 1.1259721368989226, 2.766832210812744, 1.289522508446083, 0.3787899809888984], [0.6898378470285529, -0.370628304201273, -2.0661147780581968, 0.4780917259668285, -1.4582374281671076, 4.7890829762893965, -0.19893223479085886, -0.15347289335431213, -1.2554860383142927, -1.617531072193418], [0.37583706781956994, -0.1303824231841766, -0.4155050588363307, 3.9683935767481535, -1.5504185355890039, 1.6580094326139712, -0.7978883436456046, 0.9086624858262855, -1.3389349424422008, -1.1065962500811848], [3.105487110010109, -0.128149545071095, 0.7980640223222104, -1.1810402180220558, -0.7457378865019493, -1.034640240934781, -1.4689433696120753, -1.944492763928082, 0.13752519856255663, 2.7254409919793705], [-1.065141432941405, -1.1934912948054657, -1.2987693489922434, -0.9468876138507354, -0.03707282840027437, 2.7922702772917303, 0.8739839319007006, -0.011262967160887705, 2.096035575360089, -1.572987577134134], [0.7097469911470617, -0.07191440233623991, -0.8622244044204108, -1.3155521906344756, -2.3178976896498726, 8.023187907022791, 0.32235457057294115, -1.307346123439959, 0.2231028950613143, -1.6778286358694428], [0.23421710381799232, 0.043753490934116734, 1.8216801662897821, -0.22047872719827644, -0.7558884104817378, 0.7200216168688196, -0.8880664785984624, 1.535080417308695, 2.176025126796805, 0.019154360910223156], [2.684767220841933, 0.3482071296932252, -0.8583282589202064, 1.1660989725743454, -2.4671284311662784, -0.9950428506996394, 0.12468425547241546, -4.7912832811298784, -0.10563884085679165, 5.434806623934977]]\n"
          ]
        }
      ]
    },
    {
      "cell_type": "code",
      "source": [
        "learnt=np.asarray(learnt)"
      ],
      "metadata": {
        "id": "hyqLF-4KTEW7"
      },
      "execution_count": null,
      "outputs": []
    },
    {
      "cell_type": "code",
      "source": [
        "input = keras.Input(shape=(10,))\n",
        "x = layers.Dense(10, activation='softmax')(input)\n",
        "\n",
        "log = keras.Model(input, x)\n",
        "log.compile(optimizer='adam', loss='categorical_crossentropy',metrics=['accuracy'])"
      ],
      "metadata": {
        "id": "11zCB_aITMTN"
      },
      "execution_count": null,
      "outputs": []
    },
    {
      "cell_type": "code",
      "source": [
        "from tensorflow.keras.utils import to_categorical"
      ],
      "metadata": {
        "id": "uPT_rr4LUNK2"
      },
      "execution_count": null,
      "outputs": []
    },
    {
      "cell_type": "code",
      "source": [
        "ytrain_n=to_categorical(ytrain)"
      ],
      "metadata": {
        "id": "MLjOTjVBUYjf"
      },
      "execution_count": null,
      "outputs": []
    },
    {
      "cell_type": "code",
      "source": [
        "print(ytrain_n.shape)"
      ],
      "metadata": {
        "colab": {
          "base_uri": "https://localhost:8080/"
        },
        "id": "jPareuheUboW",
        "outputId": "f548417c-1ae0-4cfe-fc00-f337e1fa120a"
      },
      "execution_count": null,
      "outputs": [
        {
          "output_type": "stream",
          "name": "stdout",
          "text": [
            "(1000, 10)\n"
          ]
        }
      ]
    },
    {
      "cell_type": "code",
      "source": [
        "print(learnt.shape)"
      ],
      "metadata": {
        "colab": {
          "base_uri": "https://localhost:8080/"
        },
        "id": "doylzZx3Uvyd",
        "outputId": "5e54f692-e0f7-4d85-e934-65ce33eb91d5"
      },
      "execution_count": null,
      "outputs": [
        {
          "output_type": "stream",
          "name": "stdout",
          "text": [
            "(1000, 10)\n"
          ]
        }
      ]
    },
    {
      "cell_type": "code",
      "source": [
        "log.fit(learnt, ytrain_n,epochs=200, validation_split=0.1)\n"
      ],
      "metadata": {
        "colab": {
          "base_uri": "https://localhost:8080/"
        },
        "id": "kQnZNFSTTsMb",
        "outputId": "fb621db5-51d1-4559-e7a7-a75e96cabb88"
      },
      "execution_count": null,
      "outputs": [
        {
          "output_type": "stream",
          "name": "stdout",
          "text": [
            "Epoch 1/200\n",
            "29/29 [==============================] - 1s 10ms/step - loss: 3.3656 - accuracy: 0.1244 - val_loss: 3.1154 - val_accuracy: 0.1300\n",
            "Epoch 2/200\n",
            "29/29 [==============================] - 0s 4ms/step - loss: 3.1333 - accuracy: 0.1444 - val_loss: 2.8810 - val_accuracy: 0.1200\n",
            "Epoch 3/200\n",
            "29/29 [==============================] - 0s 4ms/step - loss: 2.9139 - accuracy: 0.1689 - val_loss: 2.6625 - val_accuracy: 0.1900\n",
            "Epoch 4/200\n",
            "29/29 [==============================] - 0s 4ms/step - loss: 2.7104 - accuracy: 0.1944 - val_loss: 2.4607 - val_accuracy: 0.2200\n",
            "Epoch 5/200\n",
            "29/29 [==============================] - 0s 4ms/step - loss: 2.5202 - accuracy: 0.2256 - val_loss: 2.2749 - val_accuracy: 0.2700\n",
            "Epoch 6/200\n",
            "29/29 [==============================] - 0s 5ms/step - loss: 2.3418 - accuracy: 0.2633 - val_loss: 2.1025 - val_accuracy: 0.3000\n",
            "Epoch 7/200\n",
            "29/29 [==============================] - 0s 4ms/step - loss: 2.1790 - accuracy: 0.2989 - val_loss: 1.9428 - val_accuracy: 0.3200\n",
            "Epoch 8/200\n",
            "29/29 [==============================] - 0s 4ms/step - loss: 2.0265 - accuracy: 0.3400 - val_loss: 1.7998 - val_accuracy: 0.4000\n",
            "Epoch 9/200\n",
            "29/29 [==============================] - 0s 4ms/step - loss: 1.8893 - accuracy: 0.3700 - val_loss: 1.6728 - val_accuracy: 0.4200\n",
            "Epoch 10/200\n",
            "29/29 [==============================] - 0s 4ms/step - loss: 1.7630 - accuracy: 0.4111 - val_loss: 1.5575 - val_accuracy: 0.4700\n",
            "Epoch 11/200\n",
            "29/29 [==============================] - 0s 4ms/step - loss: 1.6447 - accuracy: 0.4533 - val_loss: 1.4533 - val_accuracy: 0.5200\n",
            "Epoch 12/200\n",
            "29/29 [==============================] - 0s 4ms/step - loss: 1.5369 - accuracy: 0.4900 - val_loss: 1.3585 - val_accuracy: 0.5700\n",
            "Epoch 13/200\n",
            "29/29 [==============================] - 0s 5ms/step - loss: 1.4408 - accuracy: 0.5367 - val_loss: 1.2740 - val_accuracy: 0.6100\n",
            "Epoch 14/200\n",
            "29/29 [==============================] - 0s 5ms/step - loss: 1.3525 - accuracy: 0.5767 - val_loss: 1.1983 - val_accuracy: 0.6500\n",
            "Epoch 15/200\n",
            "29/29 [==============================] - 0s 5ms/step - loss: 1.2740 - accuracy: 0.6133 - val_loss: 1.1307 - val_accuracy: 0.6700\n",
            "Epoch 16/200\n",
            "29/29 [==============================] - 0s 5ms/step - loss: 1.2015 - accuracy: 0.6478 - val_loss: 1.0685 - val_accuracy: 0.7200\n",
            "Epoch 17/200\n",
            "29/29 [==============================] - 0s 6ms/step - loss: 1.1369 - accuracy: 0.6778 - val_loss: 1.0132 - val_accuracy: 0.7300\n",
            "Epoch 18/200\n",
            "29/29 [==============================] - 0s 4ms/step - loss: 1.0772 - accuracy: 0.7044 - val_loss: 0.9632 - val_accuracy: 0.7600\n",
            "Epoch 19/200\n",
            "29/29 [==============================] - 0s 4ms/step - loss: 1.0235 - accuracy: 0.7367 - val_loss: 0.9180 - val_accuracy: 0.8100\n",
            "Epoch 20/200\n",
            "29/29 [==============================] - 0s 4ms/step - loss: 0.9751 - accuracy: 0.7556 - val_loss: 0.8773 - val_accuracy: 0.8100\n",
            "Epoch 21/200\n",
            "29/29 [==============================] - 0s 4ms/step - loss: 0.9316 - accuracy: 0.7767 - val_loss: 0.8408 - val_accuracy: 0.8200\n",
            "Epoch 22/200\n",
            "29/29 [==============================] - 0s 4ms/step - loss: 0.8917 - accuracy: 0.7933 - val_loss: 0.8076 - val_accuracy: 0.8500\n",
            "Epoch 23/200\n",
            "29/29 [==============================] - 0s 4ms/step - loss: 0.8559 - accuracy: 0.8122 - val_loss: 0.7778 - val_accuracy: 0.8500\n",
            "Epoch 24/200\n",
            "29/29 [==============================] - 0s 4ms/step - loss: 0.8239 - accuracy: 0.8178 - val_loss: 0.7513 - val_accuracy: 0.8500\n",
            "Epoch 25/200\n",
            "29/29 [==============================] - 0s 4ms/step - loss: 0.7950 - accuracy: 0.8233 - val_loss: 0.7274 - val_accuracy: 0.8600\n",
            "Epoch 26/200\n",
            "29/29 [==============================] - 0s 4ms/step - loss: 0.7680 - accuracy: 0.8267 - val_loss: 0.7050 - val_accuracy: 0.8600\n",
            "Epoch 27/200\n",
            "29/29 [==============================] - 0s 4ms/step - loss: 0.7439 - accuracy: 0.8289 - val_loss: 0.6836 - val_accuracy: 0.8800\n",
            "Epoch 28/200\n",
            "29/29 [==============================] - 0s 5ms/step - loss: 0.7215 - accuracy: 0.8322 - val_loss: 0.6654 - val_accuracy: 0.8900\n",
            "Epoch 29/200\n",
            "29/29 [==============================] - 0s 5ms/step - loss: 0.7009 - accuracy: 0.8367 - val_loss: 0.6485 - val_accuracy: 0.8800\n",
            "Epoch 30/200\n",
            "29/29 [==============================] - 0s 5ms/step - loss: 0.6823 - accuracy: 0.8400 - val_loss: 0.6327 - val_accuracy: 0.8900\n",
            "Epoch 31/200\n",
            "29/29 [==============================] - 0s 5ms/step - loss: 0.6646 - accuracy: 0.8467 - val_loss: 0.6179 - val_accuracy: 0.9000\n",
            "Epoch 32/200\n",
            "29/29 [==============================] - 0s 4ms/step - loss: 0.6483 - accuracy: 0.8500 - val_loss: 0.6050 - val_accuracy: 0.9100\n",
            "Epoch 33/200\n",
            "29/29 [==============================] - 0s 4ms/step - loss: 0.6330 - accuracy: 0.8567 - val_loss: 0.5921 - val_accuracy: 0.9100\n",
            "Epoch 34/200\n",
            "29/29 [==============================] - 0s 5ms/step - loss: 0.6197 - accuracy: 0.8600 - val_loss: 0.5804 - val_accuracy: 0.9100\n",
            "Epoch 35/200\n",
            "29/29 [==============================] - 0s 5ms/step - loss: 0.6066 - accuracy: 0.8611 - val_loss: 0.5693 - val_accuracy: 0.9100\n",
            "Epoch 36/200\n",
            "29/29 [==============================] - 0s 5ms/step - loss: 0.5946 - accuracy: 0.8656 - val_loss: 0.5591 - val_accuracy: 0.9100\n",
            "Epoch 37/200\n",
            "29/29 [==============================] - 0s 4ms/step - loss: 0.5834 - accuracy: 0.8700 - val_loss: 0.5493 - val_accuracy: 0.9100\n",
            "Epoch 38/200\n",
            "29/29 [==============================] - 0s 5ms/step - loss: 0.5726 - accuracy: 0.8700 - val_loss: 0.5398 - val_accuracy: 0.9000\n",
            "Epoch 39/200\n",
            "29/29 [==============================] - 0s 4ms/step - loss: 0.5626 - accuracy: 0.8744 - val_loss: 0.5316 - val_accuracy: 0.9000\n",
            "Epoch 40/200\n",
            "29/29 [==============================] - 0s 4ms/step - loss: 0.5534 - accuracy: 0.8778 - val_loss: 0.5231 - val_accuracy: 0.9000\n",
            "Epoch 41/200\n",
            "29/29 [==============================] - 0s 4ms/step - loss: 0.5449 - accuracy: 0.8767 - val_loss: 0.5160 - val_accuracy: 0.9000\n",
            "Epoch 42/200\n",
            "29/29 [==============================] - 0s 5ms/step - loss: 0.5369 - accuracy: 0.8756 - val_loss: 0.5093 - val_accuracy: 0.9000\n",
            "Epoch 43/200\n",
            "29/29 [==============================] - 0s 5ms/step - loss: 0.5292 - accuracy: 0.8789 - val_loss: 0.5022 - val_accuracy: 0.9000\n",
            "Epoch 44/200\n",
            "29/29 [==============================] - 0s 5ms/step - loss: 0.5220 - accuracy: 0.8833 - val_loss: 0.4965 - val_accuracy: 0.9000\n",
            "Epoch 45/200\n",
            "29/29 [==============================] - 0s 4ms/step - loss: 0.5148 - accuracy: 0.8833 - val_loss: 0.4904 - val_accuracy: 0.9000\n",
            "Epoch 46/200\n",
            "29/29 [==============================] - 0s 4ms/step - loss: 0.5081 - accuracy: 0.8833 - val_loss: 0.4847 - val_accuracy: 0.9000\n",
            "Epoch 47/200\n",
            "29/29 [==============================] - 0s 5ms/step - loss: 0.5018 - accuracy: 0.8856 - val_loss: 0.4793 - val_accuracy: 0.9000\n",
            "Epoch 48/200\n",
            "29/29 [==============================] - 0s 5ms/step - loss: 0.4958 - accuracy: 0.8856 - val_loss: 0.4747 - val_accuracy: 0.9000\n",
            "Epoch 49/200\n",
            "29/29 [==============================] - 0s 4ms/step - loss: 0.4902 - accuracy: 0.8867 - val_loss: 0.4693 - val_accuracy: 0.9000\n",
            "Epoch 50/200\n",
            "29/29 [==============================] - 0s 5ms/step - loss: 0.4847 - accuracy: 0.8856 - val_loss: 0.4656 - val_accuracy: 0.9000\n",
            "Epoch 51/200\n",
            "29/29 [==============================] - 0s 4ms/step - loss: 0.4796 - accuracy: 0.8856 - val_loss: 0.4616 - val_accuracy: 0.9000\n",
            "Epoch 52/200\n",
            "29/29 [==============================] - 0s 4ms/step - loss: 0.4748 - accuracy: 0.8878 - val_loss: 0.4570 - val_accuracy: 0.9000\n",
            "Epoch 53/200\n",
            "29/29 [==============================] - 0s 4ms/step - loss: 0.4701 - accuracy: 0.8878 - val_loss: 0.4532 - val_accuracy: 0.9000\n",
            "Epoch 54/200\n",
            "29/29 [==============================] - 0s 4ms/step - loss: 0.4658 - accuracy: 0.8878 - val_loss: 0.4483 - val_accuracy: 0.9000\n",
            "Epoch 55/200\n",
            "29/29 [==============================] - 0s 4ms/step - loss: 0.4615 - accuracy: 0.8878 - val_loss: 0.4451 - val_accuracy: 0.9000\n",
            "Epoch 56/200\n",
            "29/29 [==============================] - 0s 4ms/step - loss: 0.4575 - accuracy: 0.8867 - val_loss: 0.4413 - val_accuracy: 0.9000\n",
            "Epoch 57/200\n",
            "29/29 [==============================] - 0s 5ms/step - loss: 0.4538 - accuracy: 0.8878 - val_loss: 0.4380 - val_accuracy: 0.9000\n",
            "Epoch 58/200\n",
            "29/29 [==============================] - 0s 4ms/step - loss: 0.4501 - accuracy: 0.8867 - val_loss: 0.4340 - val_accuracy: 0.9000\n",
            "Epoch 59/200\n",
            "29/29 [==============================] - 0s 4ms/step - loss: 0.4466 - accuracy: 0.8889 - val_loss: 0.4301 - val_accuracy: 0.9000\n",
            "Epoch 60/200\n",
            "29/29 [==============================] - 0s 4ms/step - loss: 0.4431 - accuracy: 0.8889 - val_loss: 0.4274 - val_accuracy: 0.8900\n",
            "Epoch 61/200\n",
            "29/29 [==============================] - 0s 4ms/step - loss: 0.4404 - accuracy: 0.8911 - val_loss: 0.4249 - val_accuracy: 0.8900\n",
            "Epoch 62/200\n",
            "29/29 [==============================] - 0s 4ms/step - loss: 0.4367 - accuracy: 0.8889 - val_loss: 0.4207 - val_accuracy: 0.8900\n",
            "Epoch 63/200\n",
            "29/29 [==============================] - 0s 5ms/step - loss: 0.4335 - accuracy: 0.8900 - val_loss: 0.4182 - val_accuracy: 0.8900\n",
            "Epoch 64/200\n",
            "29/29 [==============================] - 0s 5ms/step - loss: 0.4306 - accuracy: 0.8911 - val_loss: 0.4163 - val_accuracy: 0.8900\n",
            "Epoch 65/200\n",
            "29/29 [==============================] - 0s 4ms/step - loss: 0.4277 - accuracy: 0.8911 - val_loss: 0.4129 - val_accuracy: 0.8900\n",
            "Epoch 66/200\n",
            "29/29 [==============================] - 0s 4ms/step - loss: 0.4248 - accuracy: 0.8900 - val_loss: 0.4110 - val_accuracy: 0.8900\n",
            "Epoch 67/200\n",
            "29/29 [==============================] - 0s 5ms/step - loss: 0.4222 - accuracy: 0.8889 - val_loss: 0.4088 - val_accuracy: 0.8900\n",
            "Epoch 68/200\n",
            "29/29 [==============================] - 0s 4ms/step - loss: 0.4197 - accuracy: 0.8900 - val_loss: 0.4071 - val_accuracy: 0.8900\n",
            "Epoch 69/200\n",
            "29/29 [==============================] - 0s 5ms/step - loss: 0.4171 - accuracy: 0.8900 - val_loss: 0.4046 - val_accuracy: 0.8900\n",
            "Epoch 70/200\n",
            "29/29 [==============================] - 0s 5ms/step - loss: 0.4147 - accuracy: 0.8900 - val_loss: 0.4024 - val_accuracy: 0.8900\n",
            "Epoch 71/200\n",
            "29/29 [==============================] - 0s 4ms/step - loss: 0.4124 - accuracy: 0.8900 - val_loss: 0.4020 - val_accuracy: 0.8900\n",
            "Epoch 72/200\n",
            "29/29 [==============================] - 0s 5ms/step - loss: 0.4104 - accuracy: 0.8911 - val_loss: 0.4002 - val_accuracy: 0.8900\n",
            "Epoch 73/200\n",
            "29/29 [==============================] - 0s 5ms/step - loss: 0.4080 - accuracy: 0.8922 - val_loss: 0.3983 - val_accuracy: 0.8900\n",
            "Epoch 74/200\n",
            "29/29 [==============================] - 0s 4ms/step - loss: 0.4060 - accuracy: 0.8922 - val_loss: 0.3963 - val_accuracy: 0.8900\n",
            "Epoch 75/200\n",
            "29/29 [==============================] - 0s 4ms/step - loss: 0.4038 - accuracy: 0.8933 - val_loss: 0.3933 - val_accuracy: 0.8900\n",
            "Epoch 76/200\n",
            "29/29 [==============================] - 0s 4ms/step - loss: 0.4019 - accuracy: 0.8944 - val_loss: 0.3908 - val_accuracy: 0.8900\n",
            "Epoch 77/200\n",
            "29/29 [==============================] - 0s 5ms/step - loss: 0.3999 - accuracy: 0.8944 - val_loss: 0.3887 - val_accuracy: 0.8800\n",
            "Epoch 78/200\n",
            "29/29 [==============================] - 0s 4ms/step - loss: 0.3980 - accuracy: 0.8956 - val_loss: 0.3872 - val_accuracy: 0.8800\n",
            "Epoch 79/200\n",
            "29/29 [==============================] - 0s 5ms/step - loss: 0.3962 - accuracy: 0.8956 - val_loss: 0.3853 - val_accuracy: 0.8800\n",
            "Epoch 80/200\n",
            "29/29 [==============================] - 0s 4ms/step - loss: 0.3946 - accuracy: 0.8956 - val_loss: 0.3837 - val_accuracy: 0.8800\n",
            "Epoch 81/200\n",
            "29/29 [==============================] - 0s 5ms/step - loss: 0.3927 - accuracy: 0.8967 - val_loss: 0.3814 - val_accuracy: 0.8800\n",
            "Epoch 82/200\n",
            "29/29 [==============================] - 0s 5ms/step - loss: 0.3910 - accuracy: 0.8956 - val_loss: 0.3798 - val_accuracy: 0.8800\n",
            "Epoch 83/200\n",
            "29/29 [==============================] - 0s 4ms/step - loss: 0.3895 - accuracy: 0.8956 - val_loss: 0.3789 - val_accuracy: 0.8800\n",
            "Epoch 84/200\n",
            "29/29 [==============================] - 0s 5ms/step - loss: 0.3879 - accuracy: 0.8956 - val_loss: 0.3775 - val_accuracy: 0.8800\n",
            "Epoch 85/200\n",
            "29/29 [==============================] - 0s 4ms/step - loss: 0.3863 - accuracy: 0.8967 - val_loss: 0.3763 - val_accuracy: 0.8800\n",
            "Epoch 86/200\n",
            "29/29 [==============================] - 0s 5ms/step - loss: 0.3848 - accuracy: 0.8978 - val_loss: 0.3764 - val_accuracy: 0.8800\n",
            "Epoch 87/200\n",
            "29/29 [==============================] - 0s 4ms/step - loss: 0.3834 - accuracy: 0.8978 - val_loss: 0.3744 - val_accuracy: 0.8800\n",
            "Epoch 88/200\n",
            "29/29 [==============================] - 0s 4ms/step - loss: 0.3820 - accuracy: 0.8989 - val_loss: 0.3732 - val_accuracy: 0.8800\n",
            "Epoch 89/200\n",
            "29/29 [==============================] - 0s 4ms/step - loss: 0.3804 - accuracy: 0.8989 - val_loss: 0.3716 - val_accuracy: 0.8900\n",
            "Epoch 90/200\n",
            "29/29 [==============================] - 0s 4ms/step - loss: 0.3791 - accuracy: 0.9000 - val_loss: 0.3699 - val_accuracy: 0.8900\n",
            "Epoch 91/200\n",
            "29/29 [==============================] - 0s 4ms/step - loss: 0.3782 - accuracy: 0.9000 - val_loss: 0.3679 - val_accuracy: 0.8900\n",
            "Epoch 92/200\n",
            "29/29 [==============================] - 0s 5ms/step - loss: 0.3767 - accuracy: 0.9011 - val_loss: 0.3667 - val_accuracy: 0.8900\n",
            "Epoch 93/200\n",
            "29/29 [==============================] - 0s 5ms/step - loss: 0.3754 - accuracy: 0.9011 - val_loss: 0.3655 - val_accuracy: 0.8900\n",
            "Epoch 94/200\n",
            "29/29 [==============================] - 0s 4ms/step - loss: 0.3743 - accuracy: 0.9011 - val_loss: 0.3628 - val_accuracy: 0.8900\n",
            "Epoch 95/200\n",
            "29/29 [==============================] - 0s 4ms/step - loss: 0.3733 - accuracy: 0.9011 - val_loss: 0.3622 - val_accuracy: 0.8900\n",
            "Epoch 96/200\n",
            "29/29 [==============================] - 0s 5ms/step - loss: 0.3722 - accuracy: 0.9022 - val_loss: 0.3608 - val_accuracy: 0.8900\n",
            "Epoch 97/200\n",
            "29/29 [==============================] - 0s 4ms/step - loss: 0.3710 - accuracy: 0.9022 - val_loss: 0.3600 - val_accuracy: 0.8900\n",
            "Epoch 98/200\n",
            "29/29 [==============================] - 0s 4ms/step - loss: 0.3698 - accuracy: 0.9022 - val_loss: 0.3592 - val_accuracy: 0.8900\n",
            "Epoch 99/200\n",
            "29/29 [==============================] - 0s 4ms/step - loss: 0.3687 - accuracy: 0.9022 - val_loss: 0.3579 - val_accuracy: 0.8900\n",
            "Epoch 100/200\n",
            "29/29 [==============================] - 0s 4ms/step - loss: 0.3676 - accuracy: 0.9022 - val_loss: 0.3570 - val_accuracy: 0.8900\n",
            "Epoch 101/200\n",
            "29/29 [==============================] - 0s 5ms/step - loss: 0.3667 - accuracy: 0.9022 - val_loss: 0.3557 - val_accuracy: 0.8900\n",
            "Epoch 102/200\n",
            "29/29 [==============================] - 0s 5ms/step - loss: 0.3655 - accuracy: 0.9022 - val_loss: 0.3550 - val_accuracy: 0.8900\n",
            "Epoch 103/200\n",
            "29/29 [==============================] - 0s 5ms/step - loss: 0.3647 - accuracy: 0.9022 - val_loss: 0.3545 - val_accuracy: 0.8900\n",
            "Epoch 104/200\n",
            "29/29 [==============================] - 0s 4ms/step - loss: 0.3637 - accuracy: 0.9022 - val_loss: 0.3527 - val_accuracy: 0.8900\n",
            "Epoch 105/200\n",
            "29/29 [==============================] - 0s 4ms/step - loss: 0.3627 - accuracy: 0.9022 - val_loss: 0.3518 - val_accuracy: 0.8900\n",
            "Epoch 106/200\n",
            "29/29 [==============================] - 0s 5ms/step - loss: 0.3619 - accuracy: 0.9022 - val_loss: 0.3507 - val_accuracy: 0.8900\n",
            "Epoch 107/200\n",
            "29/29 [==============================] - 0s 4ms/step - loss: 0.3610 - accuracy: 0.9022 - val_loss: 0.3504 - val_accuracy: 0.8900\n",
            "Epoch 108/200\n",
            "29/29 [==============================] - 0s 5ms/step - loss: 0.3600 - accuracy: 0.9033 - val_loss: 0.3489 - val_accuracy: 0.8900\n",
            "Epoch 109/200\n",
            "29/29 [==============================] - 0s 5ms/step - loss: 0.3591 - accuracy: 0.9044 - val_loss: 0.3481 - val_accuracy: 0.8900\n",
            "Epoch 110/200\n",
            "29/29 [==============================] - 0s 4ms/step - loss: 0.3584 - accuracy: 0.9033 - val_loss: 0.3473 - val_accuracy: 0.8900\n",
            "Epoch 111/200\n",
            "29/29 [==============================] - 0s 5ms/step - loss: 0.3576 - accuracy: 0.9033 - val_loss: 0.3466 - val_accuracy: 0.8900\n",
            "Epoch 112/200\n",
            "29/29 [==============================] - 0s 5ms/step - loss: 0.3568 - accuracy: 0.9044 - val_loss: 0.3455 - val_accuracy: 0.8900\n",
            "Epoch 113/200\n",
            "29/29 [==============================] - 0s 5ms/step - loss: 0.3559 - accuracy: 0.9044 - val_loss: 0.3443 - val_accuracy: 0.8900\n",
            "Epoch 114/200\n",
            "29/29 [==============================] - 0s 4ms/step - loss: 0.3553 - accuracy: 0.9033 - val_loss: 0.3436 - val_accuracy: 0.8900\n",
            "Epoch 115/200\n",
            "29/29 [==============================] - 0s 5ms/step - loss: 0.3545 - accuracy: 0.9033 - val_loss: 0.3421 - val_accuracy: 0.8900\n",
            "Epoch 116/200\n",
            "29/29 [==============================] - 0s 5ms/step - loss: 0.3543 - accuracy: 0.9044 - val_loss: 0.3417 - val_accuracy: 0.8900\n",
            "Epoch 117/200\n",
            "29/29 [==============================] - 0s 5ms/step - loss: 0.3531 - accuracy: 0.9033 - val_loss: 0.3409 - val_accuracy: 0.8900\n",
            "Epoch 118/200\n",
            "29/29 [==============================] - 0s 4ms/step - loss: 0.3524 - accuracy: 0.9033 - val_loss: 0.3405 - val_accuracy: 0.8900\n",
            "Epoch 119/200\n",
            "29/29 [==============================] - 0s 5ms/step - loss: 0.3516 - accuracy: 0.9044 - val_loss: 0.3397 - val_accuracy: 0.8900\n",
            "Epoch 120/200\n",
            "29/29 [==============================] - 0s 4ms/step - loss: 0.3513 - accuracy: 0.9044 - val_loss: 0.3382 - val_accuracy: 0.8900\n",
            "Epoch 121/200\n",
            "29/29 [==============================] - 0s 4ms/step - loss: 0.3504 - accuracy: 0.9033 - val_loss: 0.3368 - val_accuracy: 0.8900\n",
            "Epoch 122/200\n",
            "29/29 [==============================] - 0s 5ms/step - loss: 0.3498 - accuracy: 0.9044 - val_loss: 0.3369 - val_accuracy: 0.8900\n",
            "Epoch 123/200\n",
            "29/29 [==============================] - 0s 5ms/step - loss: 0.3490 - accuracy: 0.9056 - val_loss: 0.3363 - val_accuracy: 0.8900\n",
            "Epoch 124/200\n",
            "29/29 [==============================] - 0s 4ms/step - loss: 0.3485 - accuracy: 0.9044 - val_loss: 0.3353 - val_accuracy: 0.8900\n",
            "Epoch 125/200\n",
            "29/29 [==============================] - 0s 4ms/step - loss: 0.3477 - accuracy: 0.9056 - val_loss: 0.3344 - val_accuracy: 0.8900\n",
            "Epoch 126/200\n",
            "29/29 [==============================] - 0s 5ms/step - loss: 0.3472 - accuracy: 0.9056 - val_loss: 0.3340 - val_accuracy: 0.8900\n",
            "Epoch 127/200\n",
            "29/29 [==============================] - 0s 4ms/step - loss: 0.3465 - accuracy: 0.9056 - val_loss: 0.3337 - val_accuracy: 0.8900\n",
            "Epoch 128/200\n",
            "29/29 [==============================] - 0s 4ms/step - loss: 0.3461 - accuracy: 0.9056 - val_loss: 0.3333 - val_accuracy: 0.8900\n",
            "Epoch 129/200\n",
            "29/29 [==============================] - 0s 5ms/step - loss: 0.3454 - accuracy: 0.9056 - val_loss: 0.3329 - val_accuracy: 0.8900\n",
            "Epoch 130/200\n",
            "29/29 [==============================] - 0s 5ms/step - loss: 0.3448 - accuracy: 0.9056 - val_loss: 0.3313 - val_accuracy: 0.8900\n",
            "Epoch 131/200\n",
            "29/29 [==============================] - 0s 4ms/step - loss: 0.3444 - accuracy: 0.9056 - val_loss: 0.3311 - val_accuracy: 0.8900\n",
            "Epoch 132/200\n",
            "29/29 [==============================] - 0s 4ms/step - loss: 0.3437 - accuracy: 0.9044 - val_loss: 0.3309 - val_accuracy: 0.8900\n",
            "Epoch 133/200\n",
            "29/29 [==============================] - 0s 4ms/step - loss: 0.3432 - accuracy: 0.9044 - val_loss: 0.3305 - val_accuracy: 0.8900\n",
            "Epoch 134/200\n",
            "29/29 [==============================] - 0s 4ms/step - loss: 0.3426 - accuracy: 0.9067 - val_loss: 0.3299 - val_accuracy: 0.8900\n",
            "Epoch 135/200\n",
            "29/29 [==============================] - 0s 5ms/step - loss: 0.3421 - accuracy: 0.9056 - val_loss: 0.3291 - val_accuracy: 0.8900\n",
            "Epoch 136/200\n",
            "29/29 [==============================] - 0s 5ms/step - loss: 0.3416 - accuracy: 0.9056 - val_loss: 0.3291 - val_accuracy: 0.8900\n",
            "Epoch 137/200\n",
            "29/29 [==============================] - 0s 4ms/step - loss: 0.3411 - accuracy: 0.9056 - val_loss: 0.3281 - val_accuracy: 0.8900\n",
            "Epoch 138/200\n",
            "29/29 [==============================] - 0s 4ms/step - loss: 0.3406 - accuracy: 0.9056 - val_loss: 0.3274 - val_accuracy: 0.8900\n",
            "Epoch 139/200\n",
            "29/29 [==============================] - 0s 4ms/step - loss: 0.3402 - accuracy: 0.9056 - val_loss: 0.3274 - val_accuracy: 0.8900\n",
            "Epoch 140/200\n",
            "29/29 [==============================] - 0s 5ms/step - loss: 0.3395 - accuracy: 0.9033 - val_loss: 0.3277 - val_accuracy: 0.8900\n",
            "Epoch 141/200\n",
            "29/29 [==============================] - 0s 5ms/step - loss: 0.3391 - accuracy: 0.9033 - val_loss: 0.3270 - val_accuracy: 0.8900\n",
            "Epoch 142/200\n",
            "29/29 [==============================] - 0s 4ms/step - loss: 0.3387 - accuracy: 0.9033 - val_loss: 0.3264 - val_accuracy: 0.8900\n",
            "Epoch 143/200\n",
            "29/29 [==============================] - 0s 4ms/step - loss: 0.3384 - accuracy: 0.9033 - val_loss: 0.3264 - val_accuracy: 0.8900\n",
            "Epoch 144/200\n",
            "29/29 [==============================] - 0s 5ms/step - loss: 0.3381 - accuracy: 0.9033 - val_loss: 0.3261 - val_accuracy: 0.8900\n",
            "Epoch 145/200\n",
            "29/29 [==============================] - 0s 4ms/step - loss: 0.3375 - accuracy: 0.9033 - val_loss: 0.3254 - val_accuracy: 0.8900\n",
            "Epoch 146/200\n",
            "29/29 [==============================] - 0s 4ms/step - loss: 0.3369 - accuracy: 0.9044 - val_loss: 0.3246 - val_accuracy: 0.8900\n",
            "Epoch 147/200\n",
            "29/29 [==============================] - 0s 4ms/step - loss: 0.3365 - accuracy: 0.9056 - val_loss: 0.3243 - val_accuracy: 0.8900\n",
            "Epoch 148/200\n",
            "29/29 [==============================] - 0s 5ms/step - loss: 0.3362 - accuracy: 0.9078 - val_loss: 0.3236 - val_accuracy: 0.8900\n",
            "Epoch 149/200\n",
            "29/29 [==============================] - 0s 5ms/step - loss: 0.3358 - accuracy: 0.9067 - val_loss: 0.3232 - val_accuracy: 0.8900\n",
            "Epoch 150/200\n",
            "29/29 [==============================] - 0s 5ms/step - loss: 0.3354 - accuracy: 0.9067 - val_loss: 0.3227 - val_accuracy: 0.8900\n",
            "Epoch 151/200\n",
            "29/29 [==============================] - 0s 5ms/step - loss: 0.3349 - accuracy: 0.9067 - val_loss: 0.3225 - val_accuracy: 0.8900\n",
            "Epoch 152/200\n",
            "29/29 [==============================] - 0s 5ms/step - loss: 0.3345 - accuracy: 0.9067 - val_loss: 0.3221 - val_accuracy: 0.8900\n",
            "Epoch 153/200\n",
            "29/29 [==============================] - 0s 5ms/step - loss: 0.3344 - accuracy: 0.9056 - val_loss: 0.3211 - val_accuracy: 0.8900\n",
            "Epoch 154/200\n",
            "29/29 [==============================] - 0s 4ms/step - loss: 0.3339 - accuracy: 0.9067 - val_loss: 0.3212 - val_accuracy: 0.8900\n",
            "Epoch 155/200\n",
            "29/29 [==============================] - 0s 4ms/step - loss: 0.3335 - accuracy: 0.9056 - val_loss: 0.3205 - val_accuracy: 0.8900\n",
            "Epoch 156/200\n",
            "29/29 [==============================] - 0s 5ms/step - loss: 0.3332 - accuracy: 0.9044 - val_loss: 0.3196 - val_accuracy: 0.8900\n",
            "Epoch 157/200\n",
            "29/29 [==============================] - 0s 4ms/step - loss: 0.3328 - accuracy: 0.9044 - val_loss: 0.3199 - val_accuracy: 0.8900\n",
            "Epoch 158/200\n",
            "29/29 [==============================] - 0s 5ms/step - loss: 0.3324 - accuracy: 0.9056 - val_loss: 0.3188 - val_accuracy: 0.8900\n",
            "Epoch 159/200\n",
            "29/29 [==============================] - 0s 5ms/step - loss: 0.3322 - accuracy: 0.9067 - val_loss: 0.3183 - val_accuracy: 0.8900\n",
            "Epoch 160/200\n",
            "29/29 [==============================] - 0s 4ms/step - loss: 0.3319 - accuracy: 0.9078 - val_loss: 0.3173 - val_accuracy: 0.8900\n",
            "Epoch 161/200\n",
            "29/29 [==============================] - 0s 4ms/step - loss: 0.3315 - accuracy: 0.9078 - val_loss: 0.3176 - val_accuracy: 0.8900\n",
            "Epoch 162/200\n",
            "29/29 [==============================] - 0s 5ms/step - loss: 0.3311 - accuracy: 0.9056 - val_loss: 0.3175 - val_accuracy: 0.8900\n",
            "Epoch 163/200\n",
            "29/29 [==============================] - 0s 5ms/step - loss: 0.3309 - accuracy: 0.9056 - val_loss: 0.3177 - val_accuracy: 0.8900\n",
            "Epoch 164/200\n",
            "29/29 [==============================] - 0s 4ms/step - loss: 0.3305 - accuracy: 0.9056 - val_loss: 0.3133 - val_accuracy: 0.8900\n",
            "Epoch 165/200\n",
            "29/29 [==============================] - 0s 6ms/step - loss: 0.3307 - accuracy: 0.9067 - val_loss: 0.3132 - val_accuracy: 0.8900\n",
            "Epoch 166/200\n",
            "29/29 [==============================] - 0s 4ms/step - loss: 0.3302 - accuracy: 0.9067 - val_loss: 0.3134 - val_accuracy: 0.8900\n",
            "Epoch 167/200\n",
            "29/29 [==============================] - 0s 4ms/step - loss: 0.3301 - accuracy: 0.9056 - val_loss: 0.3127 - val_accuracy: 0.8900\n",
            "Epoch 168/200\n",
            "29/29 [==============================] - 0s 5ms/step - loss: 0.3295 - accuracy: 0.9044 - val_loss: 0.3133 - val_accuracy: 0.8900\n",
            "Epoch 169/200\n",
            "29/29 [==============================] - 0s 4ms/step - loss: 0.3292 - accuracy: 0.9056 - val_loss: 0.3127 - val_accuracy: 0.8900\n",
            "Epoch 170/200\n",
            "29/29 [==============================] - 0s 4ms/step - loss: 0.3289 - accuracy: 0.9056 - val_loss: 0.3122 - val_accuracy: 0.8900\n",
            "Epoch 171/200\n",
            "29/29 [==============================] - 0s 4ms/step - loss: 0.3285 - accuracy: 0.9056 - val_loss: 0.3124 - val_accuracy: 0.8900\n",
            "Epoch 172/200\n",
            "29/29 [==============================] - 0s 5ms/step - loss: 0.3282 - accuracy: 0.9044 - val_loss: 0.3123 - val_accuracy: 0.8900\n",
            "Epoch 173/200\n",
            "29/29 [==============================] - 0s 4ms/step - loss: 0.3280 - accuracy: 0.9056 - val_loss: 0.3127 - val_accuracy: 0.8900\n",
            "Epoch 174/200\n",
            "29/29 [==============================] - 0s 4ms/step - loss: 0.3278 - accuracy: 0.9044 - val_loss: 0.3124 - val_accuracy: 0.8900\n",
            "Epoch 175/200\n",
            "29/29 [==============================] - 0s 5ms/step - loss: 0.3273 - accuracy: 0.9056 - val_loss: 0.3122 - val_accuracy: 0.8900\n",
            "Epoch 176/200\n",
            "29/29 [==============================] - 0s 4ms/step - loss: 0.3271 - accuracy: 0.9056 - val_loss: 0.3113 - val_accuracy: 0.8900\n",
            "Epoch 177/200\n",
            "29/29 [==============================] - 0s 5ms/step - loss: 0.3269 - accuracy: 0.9056 - val_loss: 0.3123 - val_accuracy: 0.8900\n",
            "Epoch 178/200\n",
            "29/29 [==============================] - 0s 4ms/step - loss: 0.3268 - accuracy: 0.9056 - val_loss: 0.3134 - val_accuracy: 0.8900\n",
            "Epoch 179/200\n",
            "29/29 [==============================] - 0s 5ms/step - loss: 0.3266 - accuracy: 0.9056 - val_loss: 0.3128 - val_accuracy: 0.8900\n",
            "Epoch 180/200\n",
            "29/29 [==============================] - 0s 5ms/step - loss: 0.3262 - accuracy: 0.9067 - val_loss: 0.3121 - val_accuracy: 0.8900\n",
            "Epoch 181/200\n",
            "29/29 [==============================] - 0s 4ms/step - loss: 0.3257 - accuracy: 0.9067 - val_loss: 0.3118 - val_accuracy: 0.8900\n",
            "Epoch 182/200\n",
            "29/29 [==============================] - 0s 4ms/step - loss: 0.3256 - accuracy: 0.9056 - val_loss: 0.3119 - val_accuracy: 0.8900\n",
            "Epoch 183/200\n",
            "29/29 [==============================] - 0s 5ms/step - loss: 0.3252 - accuracy: 0.9056 - val_loss: 0.3112 - val_accuracy: 0.8900\n",
            "Epoch 184/200\n",
            "29/29 [==============================] - 0s 5ms/step - loss: 0.3250 - accuracy: 0.9056 - val_loss: 0.3112 - val_accuracy: 0.8900\n",
            "Epoch 185/200\n",
            "29/29 [==============================] - 0s 5ms/step - loss: 0.3248 - accuracy: 0.9056 - val_loss: 0.3113 - val_accuracy: 0.8900\n",
            "Epoch 186/200\n",
            "29/29 [==============================] - 0s 5ms/step - loss: 0.3247 - accuracy: 0.9056 - val_loss: 0.3103 - val_accuracy: 0.8900\n",
            "Epoch 187/200\n",
            "29/29 [==============================] - 0s 4ms/step - loss: 0.3244 - accuracy: 0.9067 - val_loss: 0.3112 - val_accuracy: 0.8900\n",
            "Epoch 188/200\n",
            "29/29 [==============================] - 0s 4ms/step - loss: 0.3242 - accuracy: 0.9044 - val_loss: 0.3107 - val_accuracy: 0.8900\n",
            "Epoch 189/200\n",
            "29/29 [==============================] - 0s 4ms/step - loss: 0.3239 - accuracy: 0.9056 - val_loss: 0.3101 - val_accuracy: 0.8900\n",
            "Epoch 190/200\n",
            "29/29 [==============================] - 0s 4ms/step - loss: 0.3238 - accuracy: 0.9056 - val_loss: 0.3101 - val_accuracy: 0.8900\n",
            "Epoch 191/200\n",
            "29/29 [==============================] - 0s 4ms/step - loss: 0.3238 - accuracy: 0.9056 - val_loss: 0.3102 - val_accuracy: 0.8900\n",
            "Epoch 192/200\n",
            "29/29 [==============================] - 0s 5ms/step - loss: 0.3234 - accuracy: 0.9033 - val_loss: 0.3102 - val_accuracy: 0.8900\n",
            "Epoch 193/200\n",
            "29/29 [==============================] - 0s 5ms/step - loss: 0.3233 - accuracy: 0.9044 - val_loss: 0.3097 - val_accuracy: 0.8900\n",
            "Epoch 194/200\n",
            "29/29 [==============================] - 0s 5ms/step - loss: 0.3232 - accuracy: 0.9033 - val_loss: 0.3089 - val_accuracy: 0.8900\n",
            "Epoch 195/200\n",
            "29/29 [==============================] - 0s 4ms/step - loss: 0.3231 - accuracy: 0.9033 - val_loss: 0.3083 - val_accuracy: 0.8900\n",
            "Epoch 196/200\n",
            "29/29 [==============================] - 0s 5ms/step - loss: 0.3226 - accuracy: 0.9033 - val_loss: 0.3074 - val_accuracy: 0.8900\n",
            "Epoch 197/200\n",
            "29/29 [==============================] - 0s 4ms/step - loss: 0.3224 - accuracy: 0.9044 - val_loss: 0.3070 - val_accuracy: 0.8900\n",
            "Epoch 198/200\n",
            "29/29 [==============================] - 0s 5ms/step - loss: 0.3222 - accuracy: 0.9044 - val_loss: 0.3073 - val_accuracy: 0.8900\n",
            "Epoch 199/200\n",
            "29/29 [==============================] - 0s 5ms/step - loss: 0.3221 - accuracy: 0.9044 - val_loss: 0.3070 - val_accuracy: 0.8900\n",
            "Epoch 200/200\n",
            "29/29 [==============================] - 0s 5ms/step - loss: 0.3218 - accuracy: 0.9033 - val_loss: 0.3070 - val_accuracy: 0.8900\n"
          ]
        },
        {
          "output_type": "execute_result",
          "data": {
            "text/plain": [
              "<keras.callbacks.History at 0x7f4e74997310>"
            ]
          },
          "metadata": {},
          "execution_count": 427
        }
      ]
    },
    {
      "cell_type": "code",
      "source": [
        ""
      ],
      "metadata": {
        "id": "zYpLhv4oTkXi"
      },
      "execution_count": null,
      "outputs": []
    },
    {
      "cell_type": "code",
      "source": [
        "y_pred=[]\n",
        "for i in range(0,len(learnt)):\n",
        "  max=learnt[i][0]\n",
        "  max_ind=0\n",
        "  for j in range(1,10):\n",
        "    if(learnt[i][j]>max):\n",
        "      max=learnt[i][j]\n",
        "      max_ind = j\n",
        "  y_pred=y_pred+[max_ind]"
      ],
      "metadata": {
        "id": "hwXiEWA-RYdp"
      },
      "execution_count": null,
      "outputs": []
    },
    {
      "cell_type": "code",
      "source": [
        "c=0\n",
        "for i in range(0,len(y_pred)):\n",
        "  if(y_pred[i]==ytrain[i]):\n",
        "    c=c+1\n",
        "print(c/len(y_pred))"
      ],
      "metadata": {
        "colab": {
          "base_uri": "https://localhost:8080/"
        },
        "id": "3JDSjqPZR9Ji",
        "outputId": "a91ed574-eeb9-4b30-c5b3-9a07c9c5d2c3"
      },
      "execution_count": null,
      "outputs": [
        {
          "output_type": "stream",
          "name": "stdout",
          "text": [
            "0.853\n"
          ]
        }
      ]
    },
    {
      "cell_type": "code",
      "source": [
        ""
      ],
      "metadata": {
        "id": "EUkego9aSOyI"
      },
      "execution_count": null,
      "outputs": []
    },
    {
      "cell_type": "code",
      "source": [
        "print(np.sum(np.multiply(Xtrain[0],All_weights[5][0])))"
      ],
      "metadata": {
        "colab": {
          "base_uri": "https://localhost:8080/"
        },
        "id": "oPSH0mukQNyg",
        "outputId": "c855fe06-4a45-48e6-ed1d-57a1771b084a"
      },
      "execution_count": null,
      "outputs": [
        {
          "output_type": "stream",
          "name": "stdout",
          "text": [
            "7.5026258795369625\n"
          ]
        }
      ]
    },
    {
      "cell_type": "code",
      "source": [
        "print(Xtrain.shape)"
      ],
      "metadata": {
        "colab": {
          "base_uri": "https://localhost:8080/"
        },
        "id": "zJXRYEbSbkA-",
        "outputId": "e606a30c-9875-4729-da55-b1e215d0af22"
      },
      "execution_count": null,
      "outputs": [
        {
          "output_type": "stream",
          "name": "stdout",
          "text": [
            "(1000, 128, 1)\n"
          ]
        }
      ]
    },
    {
      "cell_type": "code",
      "source": [
        "scaler = StandardScaler()\n",
        "Xtrain = scaler.fit_transform(Xtrain.reshape(Xtrain.shape[0],Xtrain.shape[1]*Xtrain.shape[2]*Xtrain.shape[3])).reshape(Xtrain.shape)\n"
      ],
      "metadata": {
        "id": "Nvvb0NMbcWXD"
      },
      "execution_count": null,
      "outputs": []
    },
    {
      "cell_type": "code",
      "execution_count": null,
      "metadata": {
        "colab": {
          "base_uri": "https://localhost:8080/"
        },
        "id": "5zhFOr0Z6P7W",
        "outputId": "0350b729-6db4-435a-fa6f-8ba006b0fb05"
      },
      "outputs": [
        {
          "output_type": "stream",
          "name": "stdout",
          "text": [
            "(1958, 4, 4, 8)\n"
          ]
        }
      ],
      "source": [
        "print(Xtrain.shape)"
      ]
    },
    {
      "cell_type": "code",
      "source": [
        "Xtrain=Xtrain.reshape(Xtrain.shape[0],Xtrain.shape[1]*Xtrain.shape[2]*Xtrain.shape[3],1)"
      ],
      "metadata": {
        "id": "w9Ddg1Syc1Qd"
      },
      "execution_count": null,
      "outputs": []
    },
    {
      "cell_type": "code",
      "source": [
        "print(Xtrain.shape)"
      ],
      "metadata": {
        "colab": {
          "base_uri": "https://localhost:8080/"
        },
        "id": "Ev0YFoAic5ma",
        "outputId": "5fe1328a-f827-4bfa-9cf1-0d560196ff8a"
      },
      "execution_count": null,
      "outputs": [
        {
          "output_type": "stream",
          "name": "stdout",
          "text": [
            "(1958, 128, 1)\n"
          ]
        }
      ]
    },
    {
      "cell_type": "code",
      "source": [
        "arr=[]"
      ],
      "metadata": {
        "id": "gwcZb2UBEKLM"
      },
      "execution_count": null,
      "outputs": []
    },
    {
      "cell_type": "code",
      "source": [
        "print(ytrain)"
      ],
      "metadata": {
        "colab": {
          "base_uri": "https://localhost:8080/"
        },
        "id": "nLlg4-scH8G8",
        "outputId": "8bcbb08f-308e-4022-88f1-5a3f312bd08a"
      },
      "execution_count": null,
      "outputs": [
        {
          "output_type": "stream",
          "name": "stdout",
          "text": [
            "[[ 1]\n",
            " [-1]\n",
            " [ 1]\n",
            " ...\n",
            " [ 1]\n",
            " [ 1]\n",
            " [-1]]\n"
          ]
        }
      ]
    },
    {
      "cell_type": "code",
      "execution_count": null,
      "metadata": {
        "colab": {
          "base_uri": "https://localhost:8080/",
          "height": 1000
        },
        "id": "3OP3V3jW6Q_D",
        "outputId": "e86bdf03-40f7-4254-9a94-0823e4935fdb"
      },
      "outputs": [
        {
          "output_type": "stream",
          "name": "stdout",
          "text": [
            "Start\n",
            "Imbalance at height 0\n",
            "980\n",
            "978\n",
            "Recursion Done\n",
            "0\n",
            "[[0.]] [[0.]]\n",
            "[[-3.88323780e-01]\n",
            " [ 8.08790962e-01]\n",
            " [-3.10324526e-01]\n",
            " [-5.64315746e-01]\n",
            " [-8.73335881e-01]\n",
            " [ 3.98702855e-01]\n",
            " [ 8.85915635e-01]\n",
            " [ 2.08931729e-01]\n",
            " [-2.51198456e+00]\n",
            " [ 1.01047661e+00]\n",
            " [-9.10476706e-01]\n",
            " [ 9.64559557e-01]\n",
            " [-6.32201657e-01]\n",
            " [-6.78774792e-02]\n",
            " [-1.31900686e-01]\n",
            " [ 6.93912695e-03]\n",
            " [-7.94115955e-01]\n",
            " [-1.06160571e+00]\n",
            " [-5.10678032e-01]\n",
            " [ 9.51336364e-01]\n",
            " [ 2.30060523e-01]\n",
            " [ 7.97425492e-01]\n",
            " [ 1.43090809e-01]\n",
            " [-2.65282574e-01]\n",
            " [-1.13702083e+00]\n",
            " [ 1.84203250e+00]\n",
            " [-2.81429447e-01]\n",
            " [-1.84029985e-01]\n",
            " [ 7.74511327e-01]\n",
            " [-6.44271525e-01]\n",
            " [-3.99281431e-01]\n",
            " [-4.25811426e-01]\n",
            " [-9.72360906e-01]\n",
            " [ 3.94663538e-01]\n",
            " [ 6.61642221e-01]\n",
            " [-1.35668600e+00]\n",
            " [ 2.63119530e-01]\n",
            " [ 7.07963417e-01]\n",
            " [ 6.15276761e-01]\n",
            " [ 3.81957334e-01]\n",
            " [-6.95020392e-01]\n",
            " [ 6.24249938e-01]\n",
            " [-6.98113124e-01]\n",
            " [ 1.49108012e-01]\n",
            " [-1.20289647e+00]\n",
            " [ 4.51294413e-01]\n",
            " [ 1.21822359e+00]\n",
            " [ 3.24002201e-01]\n",
            " [-1.64511185e+00]\n",
            " [ 1.70975292e-01]\n",
            " [-8.52104976e-01]\n",
            " [ 7.13023083e-02]\n",
            " [-1.12730640e+00]\n",
            " [ 3.08161375e-01]\n",
            " [ 1.30594545e-01]\n",
            " [-4.10692036e-02]\n",
            " [ 2.50627349e+00]\n",
            " [-2.74262310e-01]\n",
            " [ 8.94238246e-01]\n",
            " [ 9.77858898e-01]\n",
            " [-5.48436786e-01]\n",
            " [-1.16509083e+00]\n",
            " [ 3.25051579e-02]\n",
            " [-1.20172868e-02]\n",
            " [ 7.15881244e-01]\n",
            " [-1.71630108e+00]\n",
            " [ 1.32497562e-01]\n",
            " [-6.04603620e-02]\n",
            " [ 1.62139984e+00]\n",
            " [ 2.24489166e-03]\n",
            " [ 8.10367653e-01]\n",
            " [-1.05678225e+00]\n",
            " [-8.24829003e-01]\n",
            " [-2.15282042e-01]\n",
            " [-1.04392257e+00]\n",
            " [ 2.90704298e-01]\n",
            " [ 1.52763880e-01]\n",
            " [-8.88603349e-02]\n",
            " [-3.21323757e-01]\n",
            " [ 1.87257397e-01]\n",
            " [ 2.55964661e-01]\n",
            " [ 5.80734461e-01]\n",
            " [ 1.17099029e+00]\n",
            " [ 7.84227343e-01]\n",
            " [-7.47295589e-01]\n",
            " [ 5.61366839e-01]\n",
            " [ 1.43739476e+00]\n",
            " [ 8.77462665e-02]\n",
            " [ 1.86336868e-01]\n",
            " [ 3.87403104e-01]\n",
            " [-1.38922939e+00]\n",
            " [-1.78821927e-01]\n",
            " [-1.98526474e-01]\n",
            " [ 3.55287374e-01]\n",
            " [-4.08726330e-02]\n",
            " [-5.40498652e-01]\n",
            " [-6.73772238e-01]\n",
            " [-8.58870924e-01]\n",
            " [ 1.65945809e+00]\n",
            " [ 1.86445662e-01]\n",
            " [ 4.63853807e-01]\n",
            " [ 7.83200844e-01]\n",
            " [ 4.09053760e-01]\n",
            " [ 2.42948632e-02]\n",
            " [-7.27925557e-01]\n",
            " [ 1.10413788e+00]\n",
            " [-1.72366726e+00]\n",
            " [-4.26794801e-01]\n",
            " [-6.34641622e-01]\n",
            " [-2.72741739e-01]\n",
            " [-3.42974933e-01]\n",
            " [ 4.60094925e-01]\n",
            " [ 1.23185896e+00]\n",
            " [ 1.79369892e-01]\n",
            " [ 1.06278939e+00]\n",
            " [-1.75696060e+00]\n",
            " [-3.38001342e-01]\n",
            " [-6.71802942e-03]\n",
            " [-1.37686694e+00]\n",
            " [-3.25557627e-02]\n",
            " [-1.16460365e+00]\n",
            " [ 4.34007521e-01]\n",
            " [ 8.79597093e-01]\n",
            " [ 3.51926603e-01]\n",
            " [ 1.74322486e-01]\n",
            " [-7.43642032e-01]\n",
            " [-9.20640147e-02]\n",
            " [ 8.45191419e-01]]\n"
          ]
        },
        {
          "output_type": "display_data",
          "data": {
            "image/png": "[encoded data removed]",
            "text/plain": [
              "<Figure size 432x288 with 1 Axes>"
            ]
          },
          "metadata": {
            "needs_background": "light"
          }
        },
        {
          "output_type": "stream",
          "name": "stdout",
          "text": [
            "End\n",
            "Train accuracy:\n",
            "0.9979570990806946\n"
          ]
        }
      ],
      "source": [
        "model,arr = train(Xtrain,ytrain,arr,0,1000,'L1','L1')"
      ]
    },
    {
      "cell_type": "code",
      "source": [
        "\n",
        "print(arr[0].shape)"
      ],
      "metadata": {
        "colab": {
          "base_uri": "https://localhost:8080/"
        },
        "id": "4mbI64WVEHIw",
        "outputId": "56f5c709-7554-43ac-919d-6162a9470523"
      },
      "execution_count": null,
      "outputs": [
        {
          "output_type": "stream",
          "name": "stdout",
          "text": [
            "(128, 1)\n"
          ]
        }
      ]
    },
    {
      "cell_type": "code",
      "execution_count": null,
      "metadata": {
        "id": "TBb1Oslo6SOI",
        "colab": {
          "base_uri": "https://localhost:8080/"
        },
        "outputId": "b6e36a47-040a-4dd4-be6f-528ed1354448"
      },
      "outputs": [
        {
          "output_type": "stream",
          "name": "stderr",
          "text": [
            "/usr/local/lib/python3.7/dist-packages/ipykernel_launcher.py:79: DeprecationWarning: np.asscalar(a) is deprecated since NumPy v1.16, use a.item() instead\n",
            "/usr/local/lib/python3.7/dist-packages/ipykernel_launcher.py:69: DeprecationWarning: np.asscalar(a) is deprecated since NumPy v1.16, use a.item() instead\n",
            "/usr/local/lib/python3.7/dist-packages/ipykernel_launcher.py:70: DeprecationWarning: np.asscalar(a) is deprecated since NumPy v1.16, use a.item() instead\n"
          ]
        },
        {
          "output_type": "stream",
          "name": "stdout",
          "text": [
            "(10000, 1)\n",
            "0.9961\n"
          ]
        }
      ],
      "source": [
        "y=model.forward(Xtrain)\n",
        "print(y.shape)\n",
        "print(accuracy(y,ytrain))"
      ]
    },
    {
      "cell_type": "code",
      "execution_count": null,
      "metadata": {
        "id": "SBWiSIC76UVM"
      },
      "outputs": [],
      "source": [
        "\n",
        "XALL_test = x_train[20000:40000]\n",
        "yALL_test = y_train.reshape(-1,1)[20000:40000].astype(np.int8)\n",
        "y0_test = (yALL_test == 3)\n",
        "y2_test = (yALL_test == 8)\n",
        "ytot_test = y0_test + y2_test\n",
        "Xtest = XALL_test[ytot_test.reshape(-1)]\n",
        "ytest = (yALL_test[ytot_test.reshape(-1)] -5.5)/2.5"
      ]
    },
    {
      "cell_type": "code",
      "source": [
        "XALL_test = x_train[20000:40000]\n",
        "yALL= y_train.reshape(-1,1)[20000:40000].astype(np.int8)\n",
        "y1 = (yALL == 1)\n",
        "y2 = (yALL == 2)\n",
        "y3 = (yALL == 3)\n",
        "y4 = (yALL == 4)\n",
        "y5 = (yALL == 5)\n",
        "y6 = (yALL == 6)\n",
        "y7 = (yALL == 7)\n",
        "y8 = (yALL == 8)\n",
        "y9 = (yALL == 9)\n",
        "ytot_test = y3+  y8\n",
        "Xtest = XALL_test[ytot_test.reshape(-1)]\n",
        "ytest = yALL[ytot_test.reshape(-1)]\n",
        "for i in range(0,len(ytest)):\n",
        "    if(ytest[i]==3):\n",
        "        ytest[i]=1\n",
        "    else:\n",
        "        ytest[i]=-1"
      ],
      "metadata": {
        "id": "3NA0acYTiPsr"
      },
      "execution_count": null,
      "outputs": []
    },
    {
      "cell_type": "code",
      "source": [
        "Xtest  = encoder.predict(Xtest)"
      ],
      "metadata": {
        "id": "S0uuTmGid2-e"
      },
      "execution_count": null,
      "outputs": []
    },
    {
      "cell_type": "code",
      "execution_count": null,
      "metadata": {
        "id": "voLX7yhw6VkM"
      },
      "outputs": [],
      "source": [
        "Xtest = scaler.transform(Xtest.reshape(Xtest.shape[0],Xtest.shape[1]*Xtest.shape[2]*Xtest.shape[3])).reshape(Xtest.shape)\n"
      ]
    },
    {
      "cell_type": "code",
      "source": [
        "print(Xtest.shape)"
      ],
      "metadata": {
        "colab": {
          "base_uri": "https://localhost:8080/"
        },
        "id": "apH2npileSP3",
        "outputId": "49fe2f35-9dc1-494b-aca6-eb9a04ca23ab"
      },
      "execution_count": null,
      "outputs": [
        {
          "output_type": "stream",
          "name": "stdout",
          "text": [
            "(3943, 4, 4, 8)\n"
          ]
        }
      ]
    },
    {
      "cell_type": "code",
      "source": [
        "Xtest=Xtest.reshape(Xtest.shape[0],Xtest.shape[1]*Xtest.shape[2]*Xtest.shape[3],1)"
      ],
      "metadata": {
        "id": "HTFp-uYTeYjW"
      },
      "execution_count": null,
      "outputs": []
    },
    {
      "cell_type": "code",
      "execution_count": null,
      "metadata": {
        "id": "x9AK3KZQ6Wq5",
        "colab": {
          "base_uri": "https://localhost:8080/"
        },
        "outputId": "b597c181-a527-4968-d40d-7364a3ab911e"
      },
      "outputs": [
        {
          "output_type": "stream",
          "name": "stdout",
          "text": [
            "(3943, 1)\n",
            "0.9860512300278975\n"
          ]
        },
        {
          "output_type": "stream",
          "name": "stderr",
          "text": [
            "/usr/local/lib/python3.7/dist-packages/ipykernel_launcher.py:69: DeprecationWarning: np.asscalar(a) is deprecated since NumPy v1.16, use a.item() instead\n",
            "/usr/local/lib/python3.7/dist-packages/ipykernel_launcher.py:70: DeprecationWarning: np.asscalar(a) is deprecated since NumPy v1.16, use a.item() instead\n"
          ]
        }
      ],
      "source": [
        "y=model.forward(Xtest)\n",
        "print(y.shape)\n",
        "print(accuracy(y,ytest))"
      ]
    },
    {
      "cell_type": "code",
      "source": [
        ""
      ],
      "metadata": {
        "id": "kX4R_wbBbI4V"
      },
      "execution_count": null,
      "outputs": []
    },
    {
      "cell_type": "code",
      "source": [
        "############### MNIST CODE ENDS HERE###########################"
      ],
      "metadata": {
        "id": "Z9xRTXzX1EZt"
      },
      "execution_count": null,
      "outputs": []
    },
    {
      "cell_type": "code",
      "execution_count": null,
      "metadata": {
        "id": "qOIHNIF-6X--"
      },
      "outputs": [],
      "source": [
        "a=np.asarray([1,-2,3,4])"
      ]
    },
    {
      "cell_type": "code",
      "source": [
        "print(np.maximum(a,0))"
      ],
      "metadata": {
        "colab": {
          "base_uri": "https://localhost:8080/"
        },
        "id": "wjmFCVb4e53a",
        "outputId": "b8a41693-f5ac-48b7-a551-75db2d1053fc"
      },
      "execution_count": null,
      "outputs": [
        {
          "output_type": "stream",
          "name": "stdout",
          "text": [
            "[1 0 3 4]\n"
          ]
        }
      ]
    },
    {
      "cell_type": "code",
      "source": [
        "transform = transforms.Compose([transforms.ToTensor(),])"
      ],
      "metadata": {
        "id": "iIfaemKye8mS"
      },
      "execution_count": null,
      "outputs": []
    },
    {
      "cell_type": "code",
      "source": [
        "train_dataset = torchvision.datasets.CIFAR10(root = '. / data', train = True, download = True,transform=transform) #Training data set\n"
      ],
      "metadata": {
        "colab": {
          "base_uri": "https://localhost:8080/",
          "height": 84,
          "referenced_widgets": [
            "ee1b1639e167483d81d7cd849aae00dc",
            "3f928765bc1b4204a85e786a889b32cf",
            "128f858024354f8fbba9f94b9d05c331",
            "d1b5b204cc7341acab06f7b8eed83858",
            "56eb2354420940bb99dada90293492fa",
            "9ddf603c4b63450987cbcceacd6952f1",
            "bc2545a1b610410eb116e1f8f432f288",
            "8d8be81f008c4c0bbd3c180c6c63335b",
            "1904026abd334287b98f302a7f261633",
            "3dd479601dbb48a0bdf17f144c8ba1eb",
            "89e4081939f5458b92fad30029c5ef46"
          ]
        },
        "id": "sfxleK3nmn68",
        "outputId": "1bb7168b-b674-4bf0-f3ef-a3f4562527f9"
      },
      "execution_count": null,
      "outputs": [
        {
          "output_type": "stream",
          "name": "stdout",
          "text": [
            "Downloading https://www.cs.toronto.edu/~kriz/cifar-10-python.tar.gz to . / data/cifar-10-python.tar.gz\n"
          ]
        },
        {
          "output_type": "display_data",
          "data": {
            "application/vnd.jupyter.widget-view+json": {
              "model_id": "ee1b1639e167483d81d7cd849aae00dc",
              "version_minor": 0,
              "version_major": 2
            },
            "text/plain": [
              "  0%|          | 0/170498071 [00:00<?, ?it/s]"
            ]
          },
          "metadata": {}
        },
        {
          "output_type": "stream",
          "name": "stdout",
          "text": [
            "Extracting . / data/cifar-10-python.tar.gz to . / data\n"
          ]
        }
      ]
    },
    {
      "cell_type": "code",
      "source": [
        "train_loader = DataLoader(train_dataset, batch_size=len(train_dataset))"
      ],
      "metadata": {
        "id": "TMqzbDrzmwSC"
      },
      "execution_count": null,
      "outputs": []
    },
    {
      "cell_type": "code",
      "source": [
        "train_dataset_array = next(iter(train_loader))[0].numpy().transpose((0,2,3,1))\n",
        "train_labels = next(iter(train_loader))[1].numpy().reshape((-1,1))"
      ],
      "metadata": {
        "id": "ns_f-O5Pmyqv"
      },
      "execution_count": null,
      "outputs": []
    },
    {
      "cell_type": "code",
      "source": [
        "print(train_dataset_array.shape)\n",
        "print(train_labels.shape)"
      ],
      "metadata": {
        "colab": {
          "base_uri": "https://localhost:8080/"
        },
        "id": "AiEo4H6bmz_Q",
        "outputId": "8797b7a8-d696-42a9-e091-ebb6c21c5d1d"
      },
      "execution_count": null,
      "outputs": [
        {
          "output_type": "stream",
          "name": "stdout",
          "text": [
            "(50000, 32, 32, 3)\n",
            "(50000, 1)\n"
          ]
        }
      ]
    },
    {
      "cell_type": "code",
      "source": [
        "XALL = train_dataset_array\n",
        "yALL  = train_labels"
      ],
      "metadata": {
        "id": "-nHyVti9m08v"
      },
      "execution_count": null,
      "outputs": []
    },
    {
      "cell_type": "code",
      "source": [
        "y0 = (yALL == 3)\n",
        "y2 = (yALL == 8)\n",
        "ytot = y0 + y2\n",
        "Xtrain = XALL[ytot.reshape(-1)]\n",
        "ytrain = (yALL[ytot.reshape(-1)] -5.5)/2.5"
      ],
      "metadata": {
        "id": "G9ctrfj5m25W"
      },
      "execution_count": null,
      "outputs": []
    },
    {
      "cell_type": "code",
      "source": [
        "Xtrain\n",
        "plt.imshow(Xtrain[0], interpolation='nearest')\n",
        "plt.show()\n",
        "plt.imshow(Xtrain[2], interpolation='nearest')\n",
        "plt.show()\n",
        "plt.imshow(Xtrain[3], interpolation='nearest')\n",
        "plt.show()"
      ],
      "metadata": {
        "colab": {
          "base_uri": "https://localhost:8080/",
          "height": 764
        },
        "id": "0BeMTP_Jm34n",
        "outputId": "4ce920b7-0e76-4889-da31-0aabf9b24046"
      },
      "execution_count": null,
      "outputs": [
        {
          "output_type": "display_data",
          "data": {
            "image/png": "[encoded data removed]",
            "text/plain": [
              "<Figure size 432x288 with 1 Axes>"
            ]
          },
          "metadata": {
            "needs_background": "light"
          }
        },
        {
          "output_type": "display_data",
          "data": {
            "image/png": "[encoded data removed]",
            "text/plain": [
              "<Figure size 432x288 with 1 Axes>"
            ]
          },
          "metadata": {
            "needs_background": "light"
          }
        },
        {
          "output_type": "display_data",
          "data": {
            "image/png": "[encoded data removed]",
            "text/plain": [
              "<Figure size 432x288 with 1 Axes>"
            ]
          },
          "metadata": {
            "needs_background": "light"
          }
        }
      ]
    },
    {
      "cell_type": "code",
      "source": [
        "def redoer(image, shape = (32,32), interpolation = cv2.INTER_CUBIC):\n",
        "    assert(len(shape)==2)\n",
        "    new_shape = (shape[1],shape[0])\n",
        "    shape=new_shape\n",
        "    reimage = cv2.resize(image, shape, interpolation=interpolation)\n",
        "    if len(reimage.shape)==3:\n",
        "        reimage = np.squeeze(np.sum(reimage,axis = 2))\n",
        "        reimage = reimage.reshape((reimage.shape[0],reimage.shape[1]))\n",
        "    return reimage"
      ],
      "metadata": {
        "id": "QMs3vgFOm5gj"
      },
      "execution_count": null,
      "outputs": []
    },
    {
      "cell_type": "code",
      "source": [
        "Xtrain_resized = np.array(list(map(redoer,Xtrain)))"
      ],
      "metadata": {
        "id": "_jmVAWqHm8DE"
      },
      "execution_count": null,
      "outputs": []
    },
    {
      "cell_type": "code",
      "source": [
        "plt.imshow(Xtrain_resized[3], interpolation='nearest')\n",
        "plt.show()"
      ],
      "metadata": {
        "colab": {
          "base_uri": "https://localhost:8080/",
          "height": 266
        },
        "id": "axyDkJ9fm9yA",
        "outputId": "eb79212f-3c63-4842-9ec9-c1fba52aa781"
      },
      "execution_count": null,
      "outputs": [
        {
          "output_type": "display_data",
          "data": {
            "image/png": "[encoded data removed]",
            "text/plain": [
              "<Figure size 432x288 with 1 Axes>"
            ]
          },
          "metadata": {
            "needs_background": "light"
          }
        }
      ]
    },
    {
      "cell_type": "code",
      "source": [
        "scaler = StandardScaler()\n",
        "Xtrain_resized = scaler.fit_transform(Xtrain_resized.reshape(Xtrain_resized.shape[0],Xtrain_resized.shape[1]*Xtrain_resized.shape[2])).reshape(Xtrain_resized.shape)"
      ],
      "metadata": {
        "id": "14sfVTUkplwz"
      },
      "execution_count": null,
      "outputs": []
    },
    {
      "cell_type": "code",
      "source": [
        "model = train(Xtrain_resized[0:1000],ytrain[0:1000],2,0.1,'L1','L1')"
      ],
      "metadata": {
        "colab": {
          "base_uri": "https://localhost:8080/",
          "height": 920
        },
        "id": "xUqL1OCNm-9f",
        "outputId": "dbb3463d-119b-41d3-cbf3-43ab49daf364"
      },
      "execution_count": null,
      "outputs": [
        {
          "output_type": "stream",
          "name": "stdout",
          "text": [
            "Start\n",
            "Imbalance at height 0\n",
            "517\n",
            "483\n",
            "Recursion Done\n",
            "0\n"
          ]
        },
        {
          "output_type": "display_data",
          "data": {
            "image/png": "[encoded data removed]",
            "text/plain": [
              "<Figure size 432x288 with 1 Axes>"
            ]
          },
          "metadata": {
            "needs_background": "light"
          }
        },
        {
          "output_type": "display_data",
          "data": {
            "image/png": "[encoded data removed]",
            "text/plain": [
              "<Figure size 432x288 with 1 Axes>"
            ]
          },
          "metadata": {
            "needs_background": "light"
          }
        },
        {
          "output_type": "display_data",
          "data": {
            "image/png": "[encoded data removed]",
            "text/plain": [
              "<Figure size 432x288 with 1 Axes>"
            ]
          },
          "metadata": {
            "needs_background": "light"
          }
        },
        {
          "output_type": "stream",
          "name": "stdout",
          "text": [
            "End\n",
            "Train accuracy:\n",
            "1.0\n"
          ]
        }
      ]
    },
    {
      "cell_type": "code",
      "source": [
        ""
      ],
      "metadata": {
        "id": "OOYDl9uqnIfK"
      },
      "execution_count": null,
      "outputs": []
    }
  ],
  "metadata": {
    "colab": {
      "name": "AutoencoderMNIST.ipynb",
      "provenance": [],
      "collapsed_sections": []
    },
    "kernelspec": {
      "display_name": "Python 3",
      "name": "python3"
    },
    "language_info": {
      "name": "python"
    },
    "widgets": {
      "application/vnd.jupyter.widget-state+json": {
        "ee1b1639e167483d81d7cd849aae00dc": {
          "model_module": "@jupyter-widgets/controls",
          "model_name": "HBoxModel",
          "model_module_version": "1.5.0",
          "state": {
            "_view_name": "HBoxView",
            "_dom_classes": [],
            "_model_name": "HBoxModel",
            "_view_module": "@jupyter-widgets/controls",
            "_model_module_version": "1.5.0",
            "_view_count": null,
            "_view_module_version": "1.5.0",
            "box_style": "",
            "layout": "IPY_MODEL_3f928765bc1b4204a85e786a889b32cf",
            "_model_module": "@jupyter-widgets/controls",
            "children": [
              "IPY_MODEL_128f858024354f8fbba9f94b9d05c331",
              "IPY_MODEL_d1b5b204cc7341acab06f7b8eed83858",
              "IPY_MODEL_56eb2354420940bb99dada90293492fa"
            ]
          }
        },
        "3f928765bc1b4204a85e786a889b32cf": {
          "model_module": "@jupyter-widgets/base",
          "model_name": "LayoutModel",
          "model_module_version": "1.2.0",
          "state": {
            "_view_name": "LayoutView",
            "grid_template_rows": null,
            "right": null,
            "justify_content": null,
            "_view_module": "@jupyter-widgets/base",
            "overflow": null,
            "_model_module_version": "1.2.0",
            "_view_count": null,
            "flex_flow": null,
            "width": null,
            "min_width": null,
            "border": null,
            "align_items": null,
            "bottom": null,
            "_model_module": "@jupyter-widgets/base",
            "top": null,
            "grid_column": null,
            "overflow_y": null,
            "overflow_x": null,
            "grid_auto_flow": null,
            "grid_area": null,
            "grid_template_columns": null,
            "flex": null,
            "_model_name": "LayoutModel",
            "justify_items": null,
            "grid_row": null,
            "max_height": null,
            "align_content": null,
            "visibility": null,
            "align_self": null,
            "height": null,
            "min_height": null,
            "padding": null,
            "grid_auto_rows": null,
            "grid_gap": null,
            "max_width": null,
            "order": null,
            "_view_module_version": "1.2.0",
            "grid_template_areas": null,
            "object_position": null,
            "object_fit": null,
            "grid_auto_columns": null,
            "margin": null,
            "display": null,
            "left": null
          }
        },
        "128f858024354f8fbba9f94b9d05c331": {
          "model_module": "@jupyter-widgets/controls",
          "model_name": "HTMLModel",
          "model_module_version": "1.5.0",
          "state": {
            "_view_name": "HTMLView",
            "style": "IPY_MODEL_9ddf603c4b63450987cbcceacd6952f1",
            "_dom_classes": [],
            "description": "",
            "_model_name": "HTMLModel",
            "placeholder": "​",
            "_view_module": "@jupyter-widgets/controls",
            "_model_module_version": "1.5.0",
            "value": "",
            "_view_count": null,
            "_view_module_version": "1.5.0",
            "description_tooltip": null,
            "_model_module": "@jupyter-widgets/controls",
            "layout": "IPY_MODEL_bc2545a1b610410eb116e1f8f432f288"
          }
        },
        "d1b5b204cc7341acab06f7b8eed83858": {
          "model_module": "@jupyter-widgets/controls",
          "model_name": "FloatProgressModel",
          "model_module_version": "1.5.0",
          "state": {
            "_view_name": "ProgressView",
            "style": "IPY_MODEL_8d8be81f008c4c0bbd3c180c6c63335b",
            "_dom_classes": [],
            "description": "",
            "_model_name": "FloatProgressModel",
            "bar_style": "success",
            "max": 170498071,
            "_view_module": "@jupyter-widgets/controls",
            "_model_module_version": "1.5.0",
            "value": 170498071,
            "_view_count": null,
            "_view_module_version": "1.5.0",
            "orientation": "horizontal",
            "min": 0,
            "description_tooltip": null,
            "_model_module": "@jupyter-widgets/controls",
            "layout": "IPY_MODEL_1904026abd334287b98f302a7f261633"
          }
        },
        "56eb2354420940bb99dada90293492fa": {
          "model_module": "@jupyter-widgets/controls",
          "model_name": "HTMLModel",
          "model_module_version": "1.5.0",
          "state": {
            "_view_name": "HTMLView",
            "style": "IPY_MODEL_3dd479601dbb48a0bdf17f144c8ba1eb",
            "_dom_classes": [],
            "description": "",
            "_model_name": "HTMLModel",
            "placeholder": "​",
            "_view_module": "@jupyter-widgets/controls",
            "_model_module_version": "1.5.0",
            "value": " 170499072/? [00:03&lt;00:00, 45950625.74it/s]",
            "_view_count": null,
            "_view_module_version": "1.5.0",
            "description_tooltip": null,
            "_model_module": "@jupyter-widgets/controls",
            "layout": "IPY_MODEL_89e4081939f5458b92fad30029c5ef46"
          }
        },
        "9ddf603c4b63450987cbcceacd6952f1": {
          "model_module": "@jupyter-widgets/controls",
          "model_name": "DescriptionStyleModel",
          "model_module_version": "1.5.0",
          "state": {
            "_view_name": "StyleView",
            "_model_name": "DescriptionStyleModel",
            "description_width": "",
            "_view_module": "@jupyter-widgets/base",
            "_model_module_version": "1.5.0",
            "_view_count": null,
            "_view_module_version": "1.2.0",
            "_model_module": "@jupyter-widgets/controls"
          }
        },
        "bc2545a1b610410eb116e1f8f432f288": {
          "model_module": "@jupyter-widgets/base",
          "model_name": "LayoutModel",
          "model_module_version": "1.2.0",
          "state": {
            "_view_name": "LayoutView",
            "grid_template_rows": null,
            "right": null,
            "justify_content": null,
            "_view_module": "@jupyter-widgets/base",
            "overflow": null,
            "_model_module_version": "1.2.0",
            "_view_count": null,
            "flex_flow": null,
            "width": null,
            "min_width": null,
            "border": null,
            "align_items": null,
            "bottom": null,
            "_model_module": "@jupyter-widgets/base",
            "top": null,
            "grid_column": null,
            "overflow_y": null,
            "overflow_x": null,
            "grid_auto_flow": null,
            "grid_area": null,
            "grid_template_columns": null,
            "flex": null,
            "_model_name": "LayoutModel",
            "justify_items": null,
            "grid_row": null,
            "max_height": null,
            "align_content": null,
            "visibility": null,
            "align_self": null,
            "height": null,
            "min_height": null,
            "padding": null,
            "grid_auto_rows": null,
            "grid_gap": null,
            "max_width": null,
            "order": null,
            "_view_module_version": "1.2.0",
            "grid_template_areas": null,
            "object_position": null,
            "object_fit": null,
            "grid_auto_columns": null,
            "margin": null,
            "display": null,
            "left": null
          }
        },
        "8d8be81f008c4c0bbd3c180c6c63335b": {
          "model_module": "@jupyter-widgets/controls",
          "model_name": "ProgressStyleModel",
          "model_module_version": "1.5.0",
          "state": {
            "_view_name": "StyleView",
            "_model_name": "ProgressStyleModel",
            "description_width": "",
            "_view_module": "@jupyter-widgets/base",
            "_model_module_version": "1.5.0",
            "_view_count": null,
            "_view_module_version": "1.2.0",
            "bar_color": null,
            "_model_module": "@jupyter-widgets/controls"
          }
        },
        "1904026abd334287b98f302a7f261633": {
          "model_module": "@jupyter-widgets/base",
          "model_name": "LayoutModel",
          "model_module_version": "1.2.0",
          "state": {
            "_view_name": "LayoutView",
            "grid_template_rows": null,
            "right": null,
            "justify_content": null,
            "_view_module": "@jupyter-widgets/base",
            "overflow": null,
            "_model_module_version": "1.2.0",
            "_view_count": null,
            "flex_flow": null,
            "width": null,
            "min_width": null,
            "border": null,
            "align_items": null,
            "bottom": null,
            "_model_module": "@jupyter-widgets/base",
            "top": null,
            "grid_column": null,
            "overflow_y": null,
            "overflow_x": null,
            "grid_auto_flow": null,
            "grid_area": null,
            "grid_template_columns": null,
            "flex": null,
            "_model_name": "LayoutModel",
            "justify_items": null,
            "grid_row": null,
            "max_height": null,
            "align_content": null,
            "visibility": null,
            "align_self": null,
            "height": null,
            "min_height": null,
            "padding": null,
            "grid_auto_rows": null,
            "grid_gap": null,
            "max_width": null,
            "order": null,
            "_view_module_version": "1.2.0",
            "grid_template_areas": null,
            "object_position": null,
            "object_fit": null,
            "grid_auto_columns": null,
            "margin": null,
            "display": null,
            "left": null
          }
        },
        "3dd479601dbb48a0bdf17f144c8ba1eb": {
          "model_module": "@jupyter-widgets/controls",
          "model_name": "DescriptionStyleModel",
          "model_module_version": "1.5.0",
          "state": {
            "_view_name": "StyleView",
            "_model_name": "DescriptionStyleModel",
            "description_width": "",
            "_view_module": "@jupyter-widgets/base",
            "_model_module_version": "1.5.0",
            "_view_count": null,
            "_view_module_version": "1.2.0",
            "_model_module": "@jupyter-widgets/controls"
          }
        },
        "89e4081939f5458b92fad30029c5ef46": {
          "model_module": "@jupyter-widgets/base",
          "model_name": "LayoutModel",
          "model_module_version": "1.2.0",
          "state": {
            "_view_name": "LayoutView",
            "grid_template_rows": null,
            "right": null,
            "justify_content": null,
            "_view_module": "@jupyter-widgets/base",
            "overflow": null,
            "_model_module_version": "1.2.0",
            "_view_count": null,
            "flex_flow": null,
            "width": null,
            "min_width": null,
            "border": null,
            "align_items": null,
            "bottom": null,
            "_model_module": "@jupyter-widgets/base",
            "top": null,
            "grid_column": null,
            "overflow_y": null,
            "overflow_x": null,
            "grid_auto_flow": null,
            "grid_area": null,
            "grid_template_columns": null,
            "flex": null,
            "_model_name": "LayoutModel",
            "justify_items": null,
            "grid_row": null,
            "max_height": null,
            "align_content": null,
            "visibility": null,
            "align_self": null,
            "height": null,
            "min_height": null,
            "padding": null,
            "grid_auto_rows": null,
            "grid_gap": null,
            "max_width": null,
            "order": null,
            "_view_module_version": "1.2.0",
            "grid_template_areas": null,
            "object_position": null,
            "object_fit": null,
            "grid_auto_columns": null,
            "margin": null,
            "display": null,
            "left": null
          }
        }
      }
    },
    "accelerator": "GPU"
  },
  "nbformat": 4,
  "nbformat_minor": 0
}